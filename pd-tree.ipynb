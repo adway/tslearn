{
 "cells": [
  {
   "cell_type": "code",
   "execution_count": 168,
   "id": "6afa73a4",
   "metadata": {},
   "outputs": [],
   "source": [
    "import msprime\n",
    "from IPython.display import SVG, display\n",
    "import networkx as nx\n",
    "import jax\n",
    "import jax.numpy as nmp\n",
    "from jax.nn import log_softmax\n",
    "import equinox as eqx\n",
    "import itertools as it\n",
    "import optax\n",
    "import tskit\n",
    "import numpy as np\n",
    "from collections import defaultdict"
   ]
  },
  {
   "cell_type": "code",
   "execution_count": 169,
   "id": "2d86e3a0",
   "metadata": {},
   "outputs": [],
   "source": [
    "ts = msprime.sim_ancestry(\n",
    "        samples=4,\n",
    "        recombination_rate=1e-8,\n",
    "        sequence_length=20_000,\n",
    "        population_size=8_000)\n",
    "mts = msprime.sim_mutations(ts, rate = 1e-8)\n",
    "sparse_genotype = mts.genotype_matrix().T\n",
    "breakpoints = list(mts.breakpoints())\n",
    "mutation_sites = [site.position for site in mts.sites()]"
   ]
  },
  {
   "cell_type": "code",
   "execution_count": 170,
   "id": "454b0ebd",
   "metadata": {},
   "outputs": [
    {
     "data": {
      "text/plain": [
       "[(15, 23),\n",
       " (20, 23),\n",
       " (6, 15),\n",
       " (7, 15),\n",
       " (10, 20),\n",
       " (12, 20),\n",
       " (2, 10),\n",
       " (9, 10),\n",
       " (3, 9),\n",
       " (8, 9),\n",
       " (0, 8),\n",
       " (5, 8),\n",
       " (1, 12),\n",
       " (4, 12)]"
      ]
     },
     "execution_count": 170,
     "metadata": {},
     "output_type": "execute_result"
    }
   ],
   "source": [
    "tree = ts.at_index(0)\n",
    "dod = tree.as_dict_of_dicts()\n",
    "tree_graph = nx.Graph(dod)\n",
    "edge_pairs = list(tree_graph.edges)\n",
    "edge_pairs_backwards = [t[::-1] for t in edge_pairs]\n",
    "senders, receivers = zip(*edge_pairs_backwards)\n",
    "senders = nmp.array(senders)\n",
    "receivers = nmp.array(receivers)\n",
    "N = max(list(tree_graph.nodes)) + 1\n",
    "edge_pairs_backwards"
   ]
  },
  {
   "cell_type": "code",
   "execution_count": 171,
   "id": "326223ee",
   "metadata": {},
   "outputs": [],
   "source": [
    "A = nmp.zeros((N, N))\n",
    "A = A.at[senders, receivers].set(1)\n",
    "A = A.at[receivers, senders].set(1)"
   ]
  },
  {
   "cell_type": "code",
   "execution_count": 172,
   "id": "bac56fa6",
   "metadata": {},
   "outputs": [
    {
     "data": {
      "text/plain": [
       "Array([23, 23, 15, 15, 20, 20, 10, 10,  9,  9,  8,  8, 12, 12], dtype=int32)"
      ]
     },
     "execution_count": 172,
     "metadata": {},
     "output_type": "execute_result"
    }
   ],
   "source": [
    "edges = nmp.array(edge_pairs_backwards, dtype=nmp.int32)\n",
    "edges[:, 1]"
   ]
  },
  {
   "cell_type": "code",
   "execution_count": 173,
   "id": "cd25f77e",
   "metadata": {},
   "outputs": [
    {
     "data": {
      "image/svg+xml": [
       "<svg xmlns=\"http://www.w3.org/2000/svg\" xmlns:ev=\"http://www.w3.org/2001/xml-events\" xmlns:xlink=\"http://www.w3.org/1999/xlink\" baseProfile=\"full\" height=\"200\" version=\"1.1\" width=\"2800\"><defs><style type=\"text/css\"><![CDATA[.background path {fill: #808080; fill-opacity: 0}.background path:nth-child(odd) {fill-opacity: .1}.x-regions rect {fill: yellow; stroke: black; opacity: 0.5}.axes {font-size: 14px}.x-axis .tick .lab {font-weight: bold; dominant-baseline: hanging}.axes, .tree {font-size: 14px; text-anchor: middle}.axes line, .edge {stroke: black; fill: none}.axes .ax-skip {stroke-dasharray: 4}.y-axis .grid {stroke: #FAFAFA}.node > .sym {fill: black; stroke: none}.site > .sym {stroke: black}.mut text {fill: red; font-style: italic}.mut.extra text {fill: hotpink}.mut line {fill: none; stroke: none}.mut .sym {fill: none; stroke: red}.mut.extra .sym {stroke: hotpink}.node .mut .sym {stroke-width: 1.5px}.tree text, .tree-sequence text {dominant-baseline: central}.plotbox .lab.lft {text-anchor: end}.plotbox .lab.rgt {text-anchor: start}.polytomy line {stroke: black; stroke-dasharray: 1px, 1px}.polytomy text {paint-order:stroke;stroke-width:0.3em;stroke:white}]]></style></defs><g class=\"tree-sequence\"><g class=\"background\"><path d=\"M20,0 l197.143,0 l0,138.2 l162.899,25 l0,5 l-360.042,0 l0,-5 l0,-25 l0,-138.2z\"/><path d=\"M217.143,0 l197.143,0 l0,138.2 l422.26,25 l0,5 l-456.504,0 l0,-5 l-162.899,-25 l0,-138.2z\"/><path d=\"M414.286,0 l197.143,0 l0,138.2 l237.399,25 l0,5 l-12.282,0 l0,-5 l-422.26,-25 l0,-138.2z\"/><path d=\"M611.429,0 l197.143,0 l0,138.2 l151.071,25 l0,5 l-110.814,0 l0,-5 l-237.399,-25 l0,-138.2z\"/><path d=\"M808.571,0 l197.143,0 l0,138.2 l42.2477,25 l0,5 l-88.32,0 l0,-5 l-151.071,-25 l0,-138.2z\"/><path d=\"M1005.71,0 l197.143,0 l0,138.2 l7.66886,25 l0,5 l-162.564,0 l0,-5 l-42.25,-25 l0,-138.2z\"/><path d=\"M1202.86,0 l197.143,0 l0,138.2 l-146.28,25 l0,5 l-43.194,0 l0,-5 l-7.67,-25 l0,-138.2z\"/><path d=\"M1400,0 l197.143,0 l0,138.2 l-297.331,25 l0,5 l-46.092,0 l0,-5 l146.28,-25 l0,-138.2z\"/><path d=\"M1597.14,0 l197.143,0 l0,138.2 l-470.876,25 l0,5 l-23.598,0 l0,-5 l297.33,-25 l0,-138.2z\"/><path d=\"M1794.29,0 l197.143,0 l0,138.2 l-475.923,25 l0,5 l-192.096,0 l0,-5 l470.88,-25 l0,-138.2z\"/><path d=\"M1991.43,0 l197.143,0 l0,138.2 l126.783,25 l0,5 l-799.848,0 l0,-5 l475.92,-25 l0,-138.2z\"/><path d=\"M2188.57,0 l197.143,0 l0,138.2 l200.396,25 l0,5 l-270.756,0 l0,-5 l-126.78,-25 l0,-138.2z\"/><path d=\"M2385.71,0 l197.143,0 l0,138.2 l6.97886,25 l0,5 l-3.726,0 l0,-5 l-200.4,-25 l0,-138.2z\"/><path d=\"M2582.86,0 l197.143,0 l0,138.2 l4.54747e-13,25 l0,5 l-190.164,0 l0,-5 l-6.98,-25 l0,-138.2z\"/></g><g class=\"axes\"><g class=\"x-axis\"><g class=\"title\" transform=\"translate(1400 200)\"><text class=\"lab\" text-anchor=\"middle\" transform=\"translate(0 -11)\">Genome position</text></g><line class=\"ax-line\" x1=\"20\" x2=\"2780\" y1=\"163.2\" y2=\"163.2\"/><g class=\"ticks\"><g class=\"tick\" transform=\"translate(20 163.2)\"><line x1=\"0\" x2=\"0\" y1=\"0\" y2=\"5\"/><g transform=\"translate(0 6)\"><text class=\"lab\">0</text></g></g><g class=\"tick\" transform=\"translate(380.042 163.2)\"><line x1=\"0\" x2=\"0\" y1=\"0\" y2=\"5\"/><g transform=\"translate(0 6)\"><text class=\"lab\">2609</text></g></g><g class=\"tick\" transform=\"translate(836.546 163.2)\"><line x1=\"0\" x2=\"0\" y1=\"0\" y2=\"5\"/><g transform=\"translate(0 6)\"><text class=\"lab\">5917</text></g></g><g class=\"tick\" transform=\"translate(848.828 163.2)\"><line x1=\"0\" x2=\"0\" y1=\"0\" y2=\"5\"/><g transform=\"translate(0 6)\"><text class=\"lab\">6006</text></g></g><g class=\"tick\" transform=\"translate(959.642 163.2)\"><line x1=\"0\" x2=\"0\" y1=\"0\" y2=\"5\"/><g transform=\"translate(0 6)\"><text class=\"lab\">6809</text></g></g><g class=\"tick\" transform=\"translate(1047.96 163.2)\"><line x1=\"0\" x2=\"0\" y1=\"0\" y2=\"5\"/><g transform=\"translate(0 6)\"><text class=\"lab\">7449</text></g></g><g class=\"tick\" transform=\"translate(1210.53 163.2)\"><line x1=\"0\" x2=\"0\" y1=\"0\" y2=\"5\"/><g transform=\"translate(0 6)\"><text class=\"lab\">8627</text></g></g><g class=\"tick\" transform=\"translate(1253.72 163.2)\"><line x1=\"0\" x2=\"0\" y1=\"0\" y2=\"5\"/><g transform=\"translate(0 6)\"><text class=\"lab\">8940</text></g></g><g class=\"tick\" transform=\"translate(1299.81 163.2)\"><line x1=\"0\" x2=\"0\" y1=\"0\" y2=\"5\"/><g transform=\"translate(0 6)\"><text class=\"lab\">9274</text></g></g><g class=\"tick\" transform=\"translate(1323.41 163.2)\"><line x1=\"0\" x2=\"0\" y1=\"0\" y2=\"5\"/><g transform=\"translate(0 6)\"><text class=\"lab\">9445</text></g></g><g class=\"tick\" transform=\"translate(1515.51 163.2)\"><line x1=\"0\" x2=\"0\" y1=\"0\" y2=\"5\"/><g transform=\"translate(0 6)\"><text class=\"lab\">10837</text></g></g><g class=\"tick\" transform=\"translate(2315.35 163.2)\"><line x1=\"0\" x2=\"0\" y1=\"0\" y2=\"5\"/><g transform=\"translate(0 6)\"><text class=\"lab\">16633</text></g></g><g class=\"tick\" transform=\"translate(2586.11 163.2)\"><line x1=\"0\" x2=\"0\" y1=\"0\" y2=\"5\"/><g transform=\"translate(0 6)\"><text class=\"lab\">18595</text></g></g><g class=\"tick\" transform=\"translate(2589.84 163.2)\"><line x1=\"0\" x2=\"0\" y1=\"0\" y2=\"5\"/><g transform=\"translate(0 6)\"><text class=\"lab\">18622</text></g></g><g class=\"tick\" transform=\"translate(2780 163.2)\"><line x1=\"0\" x2=\"0\" y1=\"0\" y2=\"5\"/><g transform=\"translate(0 6)\"><text class=\"lab\">20000</text></g></g></g><g class=\"site s0\" transform=\"translate(26.9 163.2)\"><line class=\"sym\" x1=\"0\" x2=\"0\" y1=\"0\" y2=\"-10\"/><g class=\"mut m0\"><polyline class=\"sym\" points=\"2.5,-6.5 0,-1.5 -2.5,-6.5\"/></g></g><g class=\"site s1\" transform=\"translate(122.672 163.2)\"><line class=\"sym\" x1=\"0\" x2=\"0\" y1=\"0\" y2=\"-10\"/><g class=\"mut m1\"><polyline class=\"sym\" points=\"2.5,-6.5 0,-1.5 -2.5,-6.5\"/></g></g><g class=\"site s2\" transform=\"translate(200.09 163.2)\"><line class=\"sym\" x1=\"0\" x2=\"0\" y1=\"0\" y2=\"-10\"/><g class=\"mut m2\"><polyline class=\"sym\" points=\"2.5,-6.5 0,-1.5 -2.5,-6.5\"/></g></g><g class=\"site s3\" transform=\"translate(329.948 163.2)\"><line class=\"sym\" x1=\"0\" x2=\"0\" y1=\"0\" y2=\"-10\"/><g class=\"mut m3\"><polyline class=\"sym\" points=\"2.5,-6.5 0,-1.5 -2.5,-6.5\"/></g></g><g class=\"site s4\" transform=\"translate(489.89 163.2)\"><line class=\"sym\" x1=\"0\" x2=\"0\" y1=\"0\" y2=\"-10\"/><g class=\"mut m4\"><polyline class=\"sym\" points=\"2.5,-6.5 0,-1.5 -2.5,-6.5\"/></g></g><g class=\"site s5\" transform=\"translate(995.66 163.2)\"><line class=\"sym\" x1=\"0\" x2=\"0\" y1=\"0\" y2=\"-10\"/><g class=\"mut m5\"><polyline class=\"sym\" points=\"2.5,-6.5 0,-1.5 -2.5,-6.5\"/></g></g><g class=\"site s6\" transform=\"translate(1239.78 163.2)\"><line class=\"sym\" x1=\"0\" x2=\"0\" y1=\"0\" y2=\"-10\"/><g class=\"mut m6\"><polyline class=\"sym\" points=\"2.5,-6.5 0,-1.5 -2.5,-6.5\"/></g></g><g class=\"site s7\" transform=\"translate(1333.21 163.2)\"><line class=\"sym\" x1=\"0\" x2=\"0\" y1=\"0\" y2=\"-10\"/><g class=\"mut m7\"><polyline class=\"sym\" points=\"2.5,-6.5 0,-1.5 -2.5,-6.5\"/></g></g><g class=\"site s8\" transform=\"translate(1363.57 163.2)\"><line class=\"sym\" x1=\"0\" x2=\"0\" y1=\"0\" y2=\"-10\"/><g class=\"mut m8\"><polyline class=\"sym\" points=\"2.5,-6.5 0,-1.5 -2.5,-6.5\"/></g></g><g class=\"site s9\" transform=\"translate(2188.26 163.2)\"><line class=\"sym\" x1=\"0\" x2=\"0\" y1=\"0\" y2=\"-10\"/><g class=\"mut m9\"><polyline class=\"sym\" points=\"2.5,-6.5 0,-1.5 -2.5,-6.5\"/></g></g><g class=\"site s10\" transform=\"translate(2645.86 163.2)\"><line class=\"sym\" x1=\"0\" x2=\"0\" y1=\"0\" y2=\"-10\"/><g class=\"mut m10\"><polyline class=\"sym\" points=\"2.5,-6.5 0,-1.5 -2.5,-6.5\"/></g></g><g class=\"site s11\" transform=\"translate(2718.31 163.2)\"><line class=\"sym\" x1=\"0\" x2=\"0\" y1=\"0\" y2=\"-10\"/><g class=\"mut m11\"><polyline class=\"sym\" points=\"2.5,-6.5 0,-1.5 -2.5,-6.5\"/></g></g><g class=\"site s12\" transform=\"translate(2726.73 163.2)\"><line class=\"sym\" x1=\"0\" x2=\"0\" y1=\"0\" y2=\"-10\"/><g class=\"mut m12\"><polyline class=\"sym\" points=\"2.5,-6.5 0,-1.5 -2.5,-6.5\"/></g></g></g></g><g class=\"plotbox trees\"><g class=\"tree t0\" transform=\"translate(20 0)\"><g class=\"plotbox\"><g class=\"c2 node n23 p0 root\" transform=\"translate(126.194 71.9537)\"><g class=\"a23 c2 m0 m2 m3 node n15 p0 s0 s2 s3\" transform=\"translate(31.3058 42.703)\"><g class=\"a15 i3 leaf node n6 p0 sample\" transform=\"translate(-9.82143 6.74328)\"><path class=\"edge\" d=\"M 0 0 V -6.74328 H 9.82143\"/><rect class=\"sym\" height=\"6\" width=\"6\" x=\"-3\" y=\"-3\"/><text class=\"lab\" transform=\"translate(0 11)\">6</text></g><g class=\"a15 i3 leaf node n7 p0 sample\" transform=\"translate(9.82143 6.74328)\"><path class=\"edge\" d=\"M 0 0 V -6.74328 H -9.82143\"/><rect class=\"sym\" height=\"6\" width=\"6\" x=\"-3\" y=\"-3\"/><text class=\"lab\" transform=\"translate(0 11)\">7</text></g><path class=\"edge\" d=\"M 0 0 V -42.703 H -31.3058\"/><g class=\"mut m3 s3\" transform=\"translate(0 -36.3861)\"><line x1=\"0\" x2=\"0\" y1=\"0\" y2=\"36.3861\"/><path class=\"sym\" d=\"M -3,-3 l 6,6 M -3,3 l 6,-6\"/><text class=\"lab rgt\" transform=\"translate(5 0)\">3</text></g><g class=\"mut m2 s2\" transform=\"translate(0 -14.0996)\"><line x1=\"0\" x2=\"0\" y1=\"0\" y2=\"14.0996\"/><path class=\"sym\" d=\"M -3,-3 l 6,6 M -3,3 l 6,-6\"/><text class=\"lab rgt\" transform=\"translate(5 0)\">2</text></g><g class=\"mut m0 s0\" transform=\"translate(0 -3.84699)\"><line x1=\"0\" x2=\"0\" y1=\"0\" y2=\"3.84699\"/><path class=\"sym\" d=\"M -3,-3 l 6,6 M -3,3 l 6,-6\"/><text class=\"lab rgt\" transform=\"translate(5 0)\">0</text></g><circle class=\"sym\" cx=\"0\" cy=\"0\" r=\"3\"/><text class=\"lab rgt\" transform=\"translate(3 -7)\">15</text></g><g class=\"a23 c2 node n20 p0\" transform=\"translate(-31.3058 28.0175)\"><g class=\"a20 c2 m1 node n10 p0 s1\" transform=\"translate(-23.3259 19.2241)\"><g class=\"a10 i1 leaf node n2 p0 sample\" transform=\"translate(17.1875 2.20479)\"><path class=\"edge\" d=\"M 0 0 V -2.20479 H -17.1875\"/><rect class=\"sym\" height=\"6\" width=\"6\" x=\"-3\" y=\"-3\"/><text class=\"lab\" transform=\"translate(0 11)\">2</text></g><g class=\"a10 c2 node n9 p0\" transform=\"translate(-17.1875 0.355914)\"><g class=\"a9 i1 leaf node n3 p0 sample\" transform=\"translate(14.7321 1.84887)\"><path class=\"edge\" d=\"M 0 0 V -1.84887 H -14.7321\"/><rect class=\"sym\" height=\"6\" width=\"6\" x=\"-3\" y=\"-3\"/><text class=\"lab\" transform=\"translate(0 11)\">3</text></g><g class=\"a9 c2 node n8 p0\" transform=\"translate(-14.7321 0.149946)\"><g class=\"a8 i0 leaf node n0 p0 sample\" transform=\"translate(-9.82143 1.69893)\"><path class=\"edge\" d=\"M 0 0 V -1.69893 H 9.82143\"/><rect class=\"sym\" height=\"6\" width=\"6\" x=\"-3\" y=\"-3\"/><text class=\"lab\" transform=\"translate(0 11)\">0</text></g><g class=\"a8 i2 leaf node n5 p0 sample\" transform=\"translate(9.82143 1.69893)\"><path class=\"edge\" d=\"M 0 0 V -1.69893 H -9.82143\"/><rect class=\"sym\" height=\"6\" width=\"6\" x=\"-3\" y=\"-3\"/><text class=\"lab\" transform=\"translate(0 11)\">5</text></g><path class=\"edge\" d=\"M 0 0 V -0.149946 H 14.7321\"/><circle class=\"sym\" cx=\"0\" cy=\"0\" r=\"3\"/><text class=\"lab lft\" transform=\"translate(-3 -7)\">8</text></g><path class=\"edge\" d=\"M 0 0 V -0.355914 H 17.1875\"/><circle class=\"sym\" cx=\"0\" cy=\"0\" r=\"3\"/><text class=\"lab lft\" transform=\"translate(-3 -7)\">9</text></g><path class=\"edge\" d=\"M 0 0 V -19.2241 H 23.3259\"/><g class=\"mut m1 s1\" transform=\"translate(0 -11.2516)\"><line x1=\"0\" x2=\"0\" y1=\"0\" y2=\"11.2516\"/><path class=\"sym\" d=\"M -3,-3 l 6,6 M -3,3 l 6,-6\"/><text class=\"lab lft\" transform=\"translate(-5 0)\">1</text></g><circle class=\"sym\" cx=\"0\" cy=\"0\" r=\"3\"/><text class=\"lab lft\" transform=\"translate(-3 -7)\">10</text></g><g class=\"a20 c2 node n12 p0\" transform=\"translate(23.3259 17.0237)\"><g class=\"a12 i0 leaf node n1 p0 sample\" transform=\"translate(-9.82143 4.40518)\"><path class=\"edge\" d=\"M 0 0 V -4.40518 H 9.82143\"/><rect class=\"sym\" height=\"6\" width=\"6\" x=\"-3\" y=\"-3\"/><text class=\"lab\" transform=\"translate(0 11)\">1</text></g><g class=\"a12 i2 leaf node n4 p0 sample\" transform=\"translate(9.82143 4.40518)\"><path class=\"edge\" d=\"M 0 0 V -4.40518 H -9.82143\"/><rect class=\"sym\" height=\"6\" width=\"6\" x=\"-3\" y=\"-3\"/><text class=\"lab\" transform=\"translate(0 11)\">4</text></g><path class=\"edge\" d=\"M 0 0 V -17.0237 H -23.3259\"/><circle class=\"sym\" cx=\"0\" cy=\"0\" r=\"3\"/><text class=\"lab rgt\" transform=\"translate(3 -7)\">12</text></g><path class=\"edge\" d=\"M 0 0 V -28.0175 H 31.3058\"/><circle class=\"sym\" cx=\"0\" cy=\"0\" r=\"3\"/><text class=\"lab lft\" transform=\"translate(-3 -7)\">20</text></g><circle class=\"sym\" cx=\"0\" cy=\"0\" r=\"3\"/><text class=\"lab\" transform=\"translate(0 -11)\">23</text></g></g></g><g class=\"tree t1\" transform=\"translate(217.143 0)\"><g class=\"plotbox\"><g class=\"c2 node n23 p0 root\" transform=\"translate(126.194 71.9537)\"><g class=\"a23 c2 node n12 p0\" transform=\"translate(31.3058 45.0411)\"><g class=\"a12 i0 leaf node n1 p0 sample\" transform=\"translate(-9.82143 4.40518)\"><path class=\"edge\" d=\"M 0 0 V -4.40518 H 9.82143\"/><rect class=\"sym\" height=\"6\" width=\"6\" x=\"-3\" y=\"-3\"/><text class=\"lab\" transform=\"translate(0 11)\">1</text></g><g class=\"a12 i2 leaf node n4 p0 sample\" transform=\"translate(9.82143 4.40518)\"><path class=\"edge\" d=\"M 0 0 V -4.40518 H -9.82143\"/><rect class=\"sym\" height=\"6\" width=\"6\" x=\"-3\" y=\"-3\"/><text class=\"lab\" transform=\"translate(0 11)\">4</text></g><path class=\"edge\" d=\"M 0 0 V -45.0411 H -31.3058\"/><circle class=\"sym\" cx=\"0\" cy=\"0\" r=\"3\"/><text class=\"lab rgt\" transform=\"translate(3 -7)\">12</text></g><g class=\"a23 c2 m4 node n19 p0 s4\" transform=\"translate(-31.3058 28.9124)\"><g class=\"a19 c2 node n10 p0\" transform=\"translate(-23.3259 18.3291)\"><g class=\"a10 i1 leaf node n2 p0 sample\" transform=\"translate(17.1875 2.20479)\"><path class=\"edge\" d=\"M 0 0 V -2.20479 H -17.1875\"/><rect class=\"sym\" height=\"6\" width=\"6\" x=\"-3\" y=\"-3\"/><text class=\"lab\" transform=\"translate(0 11)\">2</text></g><g class=\"a10 c2 node n9 p0\" transform=\"translate(-17.1875 0.355914)\"><g class=\"a9 i1 leaf node n3 p0 sample\" transform=\"translate(14.7321 1.84887)\"><path class=\"edge\" d=\"M 0 0 V -1.84887 H -14.7321\"/><rect class=\"sym\" height=\"6\" width=\"6\" x=\"-3\" y=\"-3\"/><text class=\"lab\" transform=\"translate(0 11)\">3</text></g><g class=\"a9 c2 node n8 p0\" transform=\"translate(-14.7321 0.149946)\"><g class=\"a8 i0 leaf node n0 p0 sample\" transform=\"translate(-9.82143 1.69893)\"><path class=\"edge\" d=\"M 0 0 V -1.69893 H 9.82143\"/><rect class=\"sym\" height=\"6\" width=\"6\" x=\"-3\" y=\"-3\"/><text class=\"lab\" transform=\"translate(0 11)\">0</text></g><g class=\"a8 i2 leaf node n5 p0 sample\" transform=\"translate(9.82143 1.69893)\"><path class=\"edge\" d=\"M 0 0 V -1.69893 H -9.82143\"/><rect class=\"sym\" height=\"6\" width=\"6\" x=\"-3\" y=\"-3\"/><text class=\"lab\" transform=\"translate(0 11)\">5</text></g><path class=\"edge\" d=\"M 0 0 V -0.149946 H 14.7321\"/><circle class=\"sym\" cx=\"0\" cy=\"0\" r=\"3\"/><text class=\"lab lft\" transform=\"translate(-3 -7)\">8</text></g><path class=\"edge\" d=\"M 0 0 V -0.355914 H 17.1875\"/><circle class=\"sym\" cx=\"0\" cy=\"0\" r=\"3\"/><text class=\"lab lft\" transform=\"translate(-3 -7)\">9</text></g><path class=\"edge\" d=\"M 0 0 V -18.3291 H 23.3259\"/><circle class=\"sym\" cx=\"0\" cy=\"0\" r=\"3\"/><text class=\"lab lft\" transform=\"translate(-3 -7)\">10</text></g><g class=\"a19 c2 node n15 p0\" transform=\"translate(23.3259 13.7906)\"><g class=\"a15 i3 leaf node n6 p0 sample\" transform=\"translate(-9.82143 6.74328)\"><path class=\"edge\" d=\"M 0 0 V -6.74328 H 9.82143\"/><rect class=\"sym\" height=\"6\" width=\"6\" x=\"-3\" y=\"-3\"/><text class=\"lab\" transform=\"translate(0 11)\">6</text></g><g class=\"a15 i3 leaf node n7 p0 sample\" transform=\"translate(9.82143 6.74328)\"><path class=\"edge\" d=\"M 0 0 V -6.74328 H -9.82143\"/><rect class=\"sym\" height=\"6\" width=\"6\" x=\"-3\" y=\"-3\"/><text class=\"lab\" transform=\"translate(0 11)\">7</text></g><path class=\"edge\" d=\"M 0 0 V -13.7906 H -23.3259\"/><circle class=\"sym\" cx=\"0\" cy=\"0\" r=\"3\"/><text class=\"lab rgt\" transform=\"translate(3 -7)\">15</text></g><path class=\"edge\" d=\"M 0 0 V -28.9124 H 31.3058\"/><g class=\"mut m4 s4\" transform=\"translate(0 -28.8845)\"><line x1=\"0\" x2=\"0\" y1=\"0\" y2=\"28.8845\"/><path class=\"sym\" d=\"M -3,-3 l 6,6 M -3,3 l 6,-6\"/><text class=\"lab lft\" transform=\"translate(-5 0)\">4</text></g><circle class=\"sym\" cx=\"0\" cy=\"0\" r=\"3\"/><text class=\"lab lft\" transform=\"translate(-3 -7)\">19</text></g><circle class=\"sym\" cx=\"0\" cy=\"0\" r=\"3\"/><text class=\"lab\" transform=\"translate(0 -11)\">23</text></g></g></g><g class=\"tree t2\" transform=\"translate(414.286 0)\"><g class=\"plotbox\"><g class=\"c2 node n23 p0 root\" transform=\"translate(126.194 71.9537)\"><g class=\"a23 c2 node n12 p0\" transform=\"translate(31.3058 45.0411)\"><g class=\"a12 i0 leaf node n1 p0 sample\" transform=\"translate(-9.82143 4.40518)\"><path class=\"edge\" d=\"M 0 0 V -4.40518 H 9.82143\"/><rect class=\"sym\" height=\"6\" width=\"6\" x=\"-3\" y=\"-3\"/><text class=\"lab\" transform=\"translate(0 11)\">1</text></g><g class=\"a12 i2 leaf node n4 p0 sample\" transform=\"translate(9.82143 4.40518)\"><path class=\"edge\" d=\"M 0 0 V -4.40518 H -9.82143\"/><rect class=\"sym\" height=\"6\" width=\"6\" x=\"-3\" y=\"-3\"/><text class=\"lab\" transform=\"translate(0 11)\">4</text></g><path class=\"edge\" d=\"M 0 0 V -45.0411 H -31.3058\"/><circle class=\"sym\" cx=\"0\" cy=\"0\" r=\"3\"/><text class=\"lab rgt\" transform=\"translate(3 -7)\">12</text></g><g class=\"a23 c2 node n21 p0\" transform=\"translate(-31.3058 26.9564)\"><g class=\"a21 c2 node n10 p0\" transform=\"translate(-23.3259 20.2851)\"><g class=\"a10 i1 leaf node n2 p0 sample\" transform=\"translate(17.1875 2.20479)\"><path class=\"edge\" d=\"M 0 0 V -2.20479 H -17.1875\"/><rect class=\"sym\" height=\"6\" width=\"6\" x=\"-3\" y=\"-3\"/><text class=\"lab\" transform=\"translate(0 11)\">2</text></g><g class=\"a10 c2 node n9 p0\" transform=\"translate(-17.1875 0.355914)\"><g class=\"a9 i1 leaf node n3 p0 sample\" transform=\"translate(14.7321 1.84887)\"><path class=\"edge\" d=\"M 0 0 V -1.84887 H -14.7321\"/><rect class=\"sym\" height=\"6\" width=\"6\" x=\"-3\" y=\"-3\"/><text class=\"lab\" transform=\"translate(0 11)\">3</text></g><g class=\"a9 c2 node n8 p0\" transform=\"translate(-14.7321 0.149946)\"><g class=\"a8 i0 leaf node n0 p0 sample\" transform=\"translate(-9.82143 1.69893)\"><path class=\"edge\" d=\"M 0 0 V -1.69893 H 9.82143\"/><rect class=\"sym\" height=\"6\" width=\"6\" x=\"-3\" y=\"-3\"/><text class=\"lab\" transform=\"translate(0 11)\">0</text></g><g class=\"a8 i2 leaf node n5 p0 sample\" transform=\"translate(9.82143 1.69893)\"><path class=\"edge\" d=\"M 0 0 V -1.69893 H -9.82143\"/><rect class=\"sym\" height=\"6\" width=\"6\" x=\"-3\" y=\"-3\"/><text class=\"lab\" transform=\"translate(0 11)\">5</text></g><path class=\"edge\" d=\"M 0 0 V -0.149946 H 14.7321\"/><circle class=\"sym\" cx=\"0\" cy=\"0\" r=\"3\"/><text class=\"lab lft\" transform=\"translate(-3 -7)\">8</text></g><path class=\"edge\" d=\"M 0 0 V -0.355914 H 17.1875\"/><circle class=\"sym\" cx=\"0\" cy=\"0\" r=\"3\"/><text class=\"lab lft\" transform=\"translate(-3 -7)\">9</text></g><path class=\"edge\" d=\"M 0 0 V -20.2851 H 23.3259\"/><circle class=\"sym\" cx=\"0\" cy=\"0\" r=\"3\"/><text class=\"lab lft\" transform=\"translate(-3 -7)\">10</text></g><g class=\"a21 c2 node n15 p0\" transform=\"translate(23.3259 15.7467)\"><g class=\"a15 i3 leaf node n6 p0 sample\" transform=\"translate(-9.82143 6.74328)\"><path class=\"edge\" d=\"M 0 0 V -6.74328 H 9.82143\"/><rect class=\"sym\" height=\"6\" width=\"6\" x=\"-3\" y=\"-3\"/><text class=\"lab\" transform=\"translate(0 11)\">6</text></g><g class=\"a15 i3 leaf node n7 p0 sample\" transform=\"translate(9.82143 6.74328)\"><path class=\"edge\" d=\"M 0 0 V -6.74328 H -9.82143\"/><rect class=\"sym\" height=\"6\" width=\"6\" x=\"-3\" y=\"-3\"/><text class=\"lab\" transform=\"translate(0 11)\">7</text></g><path class=\"edge\" d=\"M 0 0 V -15.7467 H -23.3259\"/><circle class=\"sym\" cx=\"0\" cy=\"0\" r=\"3\"/><text class=\"lab rgt\" transform=\"translate(3 -7)\">15</text></g><path class=\"edge\" d=\"M 0 0 V -26.9564 H 31.3058\"/><circle class=\"sym\" cx=\"0\" cy=\"0\" r=\"3\"/><text class=\"lab lft\" transform=\"translate(-3 -7)\">21</text></g><circle class=\"sym\" cx=\"0\" cy=\"0\" r=\"3\"/><text class=\"lab\" transform=\"translate(0 -11)\">23</text></g></g></g><g class=\"tree t3\" transform=\"translate(611.429 0)\"><g class=\"plotbox\"><g class=\"c2 node n25 p0 root\" transform=\"translate(126.194 26.8)\"><g class=\"a25 c2 node n12 p0\" transform=\"translate(31.3058 90.1948)\"><g class=\"a12 i0 leaf node n1 p0 sample\" transform=\"translate(-9.82143 4.40518)\"><path class=\"edge\" d=\"M 0 0 V -4.40518 H 9.82143\"/><rect class=\"sym\" height=\"6\" width=\"6\" x=\"-3\" y=\"-3\"/><text class=\"lab\" transform=\"translate(0 11)\">1</text></g><g class=\"a12 i2 leaf node n4 p0 sample\" transform=\"translate(9.82143 4.40518)\"><path class=\"edge\" d=\"M 0 0 V -4.40518 H -9.82143\"/><rect class=\"sym\" height=\"6\" width=\"6\" x=\"-3\" y=\"-3\"/><text class=\"lab\" transform=\"translate(0 11)\">4</text></g><path class=\"edge\" d=\"M 0 0 V -90.1948 H -31.3058\"/><circle class=\"sym\" cx=\"0\" cy=\"0\" r=\"3\"/><text class=\"lab rgt\" transform=\"translate(3 -7)\">12</text></g><g class=\"a25 c2 node n21 p0\" transform=\"translate(-31.3058 72.1101)\"><g class=\"a21 c2 node n10 p0\" transform=\"translate(-23.3259 20.2851)\"><g class=\"a10 i1 leaf node n2 p0 sample\" transform=\"translate(17.1875 2.20479)\"><path class=\"edge\" d=\"M 0 0 V -2.20479 H -17.1875\"/><rect class=\"sym\" height=\"6\" width=\"6\" x=\"-3\" y=\"-3\"/><text class=\"lab\" transform=\"translate(0 11)\">2</text></g><g class=\"a10 c2 node n9 p0\" transform=\"translate(-17.1875 0.355914)\"><g class=\"a9 i1 leaf node n3 p0 sample\" transform=\"translate(14.7321 1.84887)\"><path class=\"edge\" d=\"M 0 0 V -1.84887 H -14.7321\"/><rect class=\"sym\" height=\"6\" width=\"6\" x=\"-3\" y=\"-3\"/><text class=\"lab\" transform=\"translate(0 11)\">3</text></g><g class=\"a9 c2 node n8 p0\" transform=\"translate(-14.7321 0.149946)\"><g class=\"a8 i0 leaf node n0 p0 sample\" transform=\"translate(-9.82143 1.69893)\"><path class=\"edge\" d=\"M 0 0 V -1.69893 H 9.82143\"/><rect class=\"sym\" height=\"6\" width=\"6\" x=\"-3\" y=\"-3\"/><text class=\"lab\" transform=\"translate(0 11)\">0</text></g><g class=\"a8 i2 leaf node n5 p0 sample\" transform=\"translate(9.82143 1.69893)\"><path class=\"edge\" d=\"M 0 0 V -1.69893 H -9.82143\"/><rect class=\"sym\" height=\"6\" width=\"6\" x=\"-3\" y=\"-3\"/><text class=\"lab\" transform=\"translate(0 11)\">5</text></g><path class=\"edge\" d=\"M 0 0 V -0.149946 H 14.7321\"/><circle class=\"sym\" cx=\"0\" cy=\"0\" r=\"3\"/><text class=\"lab lft\" transform=\"translate(-3 -7)\">8</text></g><path class=\"edge\" d=\"M 0 0 V -0.355914 H 17.1875\"/><circle class=\"sym\" cx=\"0\" cy=\"0\" r=\"3\"/><text class=\"lab lft\" transform=\"translate(-3 -7)\">9</text></g><path class=\"edge\" d=\"M 0 0 V -20.2851 H 23.3259\"/><circle class=\"sym\" cx=\"0\" cy=\"0\" r=\"3\"/><text class=\"lab lft\" transform=\"translate(-3 -7)\">10</text></g><g class=\"a21 c2 node n15 p0\" transform=\"translate(23.3259 15.7467)\"><g class=\"a15 i3 leaf node n6 p0 sample\" transform=\"translate(-9.82143 6.74328)\"><path class=\"edge\" d=\"M 0 0 V -6.74328 H 9.82143\"/><rect class=\"sym\" height=\"6\" width=\"6\" x=\"-3\" y=\"-3\"/><text class=\"lab\" transform=\"translate(0 11)\">6</text></g><g class=\"a15 i3 leaf node n7 p0 sample\" transform=\"translate(9.82143 6.74328)\"><path class=\"edge\" d=\"M 0 0 V -6.74328 H -9.82143\"/><rect class=\"sym\" height=\"6\" width=\"6\" x=\"-3\" y=\"-3\"/><text class=\"lab\" transform=\"translate(0 11)\">7</text></g><path class=\"edge\" d=\"M 0 0 V -15.7467 H -23.3259\"/><circle class=\"sym\" cx=\"0\" cy=\"0\" r=\"3\"/><text class=\"lab rgt\" transform=\"translate(3 -7)\">15</text></g><path class=\"edge\" d=\"M 0 0 V -72.1101 H 31.3058\"/><circle class=\"sym\" cx=\"0\" cy=\"0\" r=\"3\"/><text class=\"lab lft\" transform=\"translate(-3 -7)\">21</text></g><circle class=\"sym\" cx=\"0\" cy=\"0\" r=\"3\"/><text class=\"lab\" transform=\"translate(0 -11)\">25</text></g></g></g><g class=\"tree t4\" transform=\"translate(808.571 0)\"><g class=\"plotbox\"><g class=\"c2 node n25 p0 root\" transform=\"translate(133.253 26.8)\"><g class=\"a25 c2 node n12 p0\" transform=\"translate(24.2467 90.1948)\"><g class=\"a12 i0 leaf node n1 p0 sample\" transform=\"translate(-9.82143 4.40518)\"><path class=\"edge\" d=\"M 0 0 V -4.40518 H 9.82143\"/><rect class=\"sym\" height=\"6\" width=\"6\" x=\"-3\" y=\"-3\"/><text class=\"lab\" transform=\"translate(0 11)\">1</text></g><g class=\"a12 i2 leaf node n4 p0 sample\" transform=\"translate(9.82143 4.40518)\"><path class=\"edge\" d=\"M 0 0 V -4.40518 H -9.82143\"/><rect class=\"sym\" height=\"6\" width=\"6\" x=\"-3\" y=\"-3\"/><text class=\"lab\" transform=\"translate(0 11)\">4</text></g><path class=\"edge\" d=\"M 0 0 V -90.1948 H -24.2467\"/><circle class=\"sym\" cx=\"0\" cy=\"0\" r=\"3\"/><text class=\"lab rgt\" transform=\"translate(3 -7)\">12</text></g><g class=\"a25 c2 m5 node n21 p0 s5\" transform=\"translate(-24.2467 72.1101)\"><g class=\"a21 i3 leaf node n6 p0 sample\" transform=\"translate(19.029 22.4899)\"><path class=\"edge\" d=\"M 0 0 V -22.4899 H -19.029\"/><rect class=\"sym\" height=\"6\" width=\"6\" x=\"-3\" y=\"-3\"/><text class=\"lab\" transform=\"translate(0 11)\">6</text></g><g class=\"a21 c2 node n13 p0\" transform=\"translate(-19.029 17.3591)\"><g class=\"a13 i3 leaf node n7 p0 sample\" transform=\"translate(18.4152 5.13087)\"><path class=\"edge\" d=\"M 0 0 V -5.13087 H -18.4152\"/><rect class=\"sym\" height=\"6\" width=\"6\" x=\"-3\" y=\"-3\"/><text class=\"lab\" transform=\"translate(0 11)\">7</text></g><g class=\"a13 c2 node n10 p0\" transform=\"translate(-18.4152 2.92608)\"><g class=\"a10 i1 leaf node n2 p0 sample\" transform=\"translate(17.1875 2.20479)\"><path class=\"edge\" d=\"M 0 0 V -2.20479 H -17.1875\"/><rect class=\"sym\" height=\"6\" width=\"6\" x=\"-3\" y=\"-3\"/><text class=\"lab\" transform=\"translate(0 11)\">2</text></g><g class=\"a10 c2 node n9 p0\" transform=\"translate(-17.1875 0.355914)\"><g class=\"a9 i1 leaf node n3 p0 sample\" transform=\"translate(14.7321 1.84887)\"><path class=\"edge\" d=\"M 0 0 V -1.84887 H -14.7321\"/><rect class=\"sym\" height=\"6\" width=\"6\" x=\"-3\" y=\"-3\"/><text class=\"lab\" transform=\"translate(0 11)\">3</text></g><g class=\"a9 c2 node n8 p0\" transform=\"translate(-14.7321 0.149946)\"><g class=\"a8 i0 leaf node n0 p0 sample\" transform=\"translate(-9.82143 1.69893)\"><path class=\"edge\" d=\"M 0 0 V -1.69893 H 9.82143\"/><rect class=\"sym\" height=\"6\" width=\"6\" x=\"-3\" y=\"-3\"/><text class=\"lab\" transform=\"translate(0 11)\">0</text></g><g class=\"a8 i2 leaf node n5 p0 sample\" transform=\"translate(9.82143 1.69893)\"><path class=\"edge\" d=\"M 0 0 V -1.69893 H -9.82143\"/><rect class=\"sym\" height=\"6\" width=\"6\" x=\"-3\" y=\"-3\"/><text class=\"lab\" transform=\"translate(0 11)\">5</text></g><path class=\"edge\" d=\"M 0 0 V -0.149946 H 14.7321\"/><circle class=\"sym\" cx=\"0\" cy=\"0\" r=\"3\"/><text class=\"lab lft\" transform=\"translate(-3 -7)\">8</text></g><path class=\"edge\" d=\"M 0 0 V -0.355914 H 17.1875\"/><circle class=\"sym\" cx=\"0\" cy=\"0\" r=\"3\"/><text class=\"lab lft\" transform=\"translate(-3 -7)\">9</text></g><path class=\"edge\" d=\"M 0 0 V -2.92608 H 18.4152\"/><circle class=\"sym\" cx=\"0\" cy=\"0\" r=\"3\"/><text class=\"lab lft\" transform=\"translate(-3 -7)\">10</text></g><path class=\"edge\" d=\"M 0 0 V -17.3591 H 19.029\"/><circle class=\"sym\" cx=\"0\" cy=\"0\" r=\"3\"/><text class=\"lab lft\" transform=\"translate(-3 -7)\">13</text></g><path class=\"edge\" d=\"M 0 0 V -72.1101 H 24.2467\"/><g class=\"mut m5 s5\" transform=\"translate(0 -14.0983)\"><line x1=\"0\" x2=\"0\" y1=\"0\" y2=\"14.0983\"/><path class=\"sym\" d=\"M -3,-3 l 6,6 M -3,3 l 6,-6\"/><text class=\"lab lft\" transform=\"translate(-5 0)\">5</text></g><circle class=\"sym\" cx=\"0\" cy=\"0\" r=\"3\"/><text class=\"lab lft\" transform=\"translate(-3 -7)\">21</text></g><circle class=\"sym\" cx=\"0\" cy=\"0\" r=\"3\"/><text class=\"lab\" transform=\"translate(0 -11)\">25</text></g></g></g><g class=\"tree t5\" transform=\"translate(1005.71 0)\"><g class=\"plotbox\"><g class=\"c2 node n24 p0 root\" transform=\"translate(133.253 52.4675)\"><g class=\"a24 c2 node n12 p0\" transform=\"translate(24.2467 64.5273)\"><g class=\"a12 i0 leaf node n1 p0 sample\" transform=\"translate(-9.82143 4.40518)\"><path class=\"edge\" d=\"M 0 0 V -4.40518 H 9.82143\"/><rect class=\"sym\" height=\"6\" width=\"6\" x=\"-3\" y=\"-3\"/><text class=\"lab\" transform=\"translate(0 11)\">1</text></g><g class=\"a12 i2 leaf node n4 p0 sample\" transform=\"translate(9.82143 4.40518)\"><path class=\"edge\" d=\"M 0 0 V -4.40518 H -9.82143\"/><rect class=\"sym\" height=\"6\" width=\"6\" x=\"-3\" y=\"-3\"/><text class=\"lab\" transform=\"translate(0 11)\">4</text></g><path class=\"edge\" d=\"M 0 0 V -64.5273 H -24.2467\"/><circle class=\"sym\" cx=\"0\" cy=\"0\" r=\"3\"/><text class=\"lab rgt\" transform=\"translate(3 -7)\">12</text></g><g class=\"a24 c2 node n21 p0\" transform=\"translate(-24.2467 46.4425)\"><g class=\"a21 i3 leaf node n6 p0 sample\" transform=\"translate(19.029 22.4899)\"><path class=\"edge\" d=\"M 0 0 V -22.4899 H -19.029\"/><rect class=\"sym\" height=\"6\" width=\"6\" x=\"-3\" y=\"-3\"/><text class=\"lab\" transform=\"translate(0 11)\">6</text></g><g class=\"a21 c2 node n13 p0\" transform=\"translate(-19.029 17.3591)\"><g class=\"a13 i3 leaf node n7 p0 sample\" transform=\"translate(18.4152 5.13087)\"><path class=\"edge\" d=\"M 0 0 V -5.13087 H -18.4152\"/><rect class=\"sym\" height=\"6\" width=\"6\" x=\"-3\" y=\"-3\"/><text class=\"lab\" transform=\"translate(0 11)\">7</text></g><g class=\"a13 c2 node n10 p0\" transform=\"translate(-18.4152 2.92608)\"><g class=\"a10 i1 leaf node n2 p0 sample\" transform=\"translate(17.1875 2.20479)\"><path class=\"edge\" d=\"M 0 0 V -2.20479 H -17.1875\"/><rect class=\"sym\" height=\"6\" width=\"6\" x=\"-3\" y=\"-3\"/><text class=\"lab\" transform=\"translate(0 11)\">2</text></g><g class=\"a10 c2 node n9 p0\" transform=\"translate(-17.1875 0.355914)\"><g class=\"a9 i1 leaf node n3 p0 sample\" transform=\"translate(14.7321 1.84887)\"><path class=\"edge\" d=\"M 0 0 V -1.84887 H -14.7321\"/><rect class=\"sym\" height=\"6\" width=\"6\" x=\"-3\" y=\"-3\"/><text class=\"lab\" transform=\"translate(0 11)\">3</text></g><g class=\"a9 c2 node n8 p0\" transform=\"translate(-14.7321 0.149946)\"><g class=\"a8 i0 leaf node n0 p0 sample\" transform=\"translate(-9.82143 1.69893)\"><path class=\"edge\" d=\"M 0 0 V -1.69893 H 9.82143\"/><rect class=\"sym\" height=\"6\" width=\"6\" x=\"-3\" y=\"-3\"/><text class=\"lab\" transform=\"translate(0 11)\">0</text></g><g class=\"a8 i2 leaf node n5 p0 sample\" transform=\"translate(9.82143 1.69893)\"><path class=\"edge\" d=\"M 0 0 V -1.69893 H -9.82143\"/><rect class=\"sym\" height=\"6\" width=\"6\" x=\"-3\" y=\"-3\"/><text class=\"lab\" transform=\"translate(0 11)\">5</text></g><path class=\"edge\" d=\"M 0 0 V -0.149946 H 14.7321\"/><circle class=\"sym\" cx=\"0\" cy=\"0\" r=\"3\"/><text class=\"lab lft\" transform=\"translate(-3 -7)\">8</text></g><path class=\"edge\" d=\"M 0 0 V -0.355914 H 17.1875\"/><circle class=\"sym\" cx=\"0\" cy=\"0\" r=\"3\"/><text class=\"lab lft\" transform=\"translate(-3 -7)\">9</text></g><path class=\"edge\" d=\"M 0 0 V -2.92608 H 18.4152\"/><circle class=\"sym\" cx=\"0\" cy=\"0\" r=\"3\"/><text class=\"lab lft\" transform=\"translate(-3 -7)\">10</text></g><path class=\"edge\" d=\"M 0 0 V -17.3591 H 19.029\"/><circle class=\"sym\" cx=\"0\" cy=\"0\" r=\"3\"/><text class=\"lab lft\" transform=\"translate(-3 -7)\">13</text></g><path class=\"edge\" d=\"M 0 0 V -46.4425 H 24.2467\"/><circle class=\"sym\" cx=\"0\" cy=\"0\" r=\"3\"/><text class=\"lab lft\" transform=\"translate(-3 -7)\">21</text></g><circle class=\"sym\" cx=\"0\" cy=\"0\" r=\"3\"/><text class=\"lab\" transform=\"translate(0 -11)\">24</text></g></g></g><g class=\"tree t6\" transform=\"translate(1202.86 0)\"><g class=\"plotbox\"><g class=\"c2 node n24 p0 root\" transform=\"translate(95.5022 52.4675)\"><g class=\"a24 c2 node n21 p0\" transform=\"translate(50.9487 46.4425)\"><g class=\"a21 i3 leaf m6 node n6 p0 s6 sample\" transform=\"translate(20.8705 22.4899)\"><path class=\"edge\" d=\"M 0 0 V -22.4899 H -20.8705\"/><g class=\"mut m6 s6\" transform=\"translate(0 -2.10093)\"><line x1=\"0\" x2=\"0\" y1=\"0\" y2=\"2.10093\"/><path class=\"sym\" d=\"M -3,-3 l 6,6 M -3,3 l 6,-6\"/><text class=\"lab rgt\" transform=\"translate(5 0)\">6</text></g><rect class=\"sym\" height=\"6\" width=\"6\" x=\"-3\" y=\"-3\"/><text class=\"lab\" transform=\"translate(0 11)\">6</text></g><g class=\"a21 c2 node n13 p0\" transform=\"translate(-20.8705 17.3591)\"><g class=\"a13 i3 leaf node n7 p0 sample\" transform=\"translate(22.0982 5.13087)\"><path class=\"edge\" d=\"M 0 0 V -5.13087 H -22.0982\"/><rect class=\"sym\" height=\"6\" width=\"6\" x=\"-3\" y=\"-3\"/><text class=\"lab\" transform=\"translate(0 11)\">7</text></g><g class=\"a13 c2 node n10 p0\" transform=\"translate(-22.0982 2.92608)\"><g class=\"a10 i1 leaf node n2 p0 sample\" transform=\"translate(-14.7321 2.20479)\"><path class=\"edge\" d=\"M 0 0 V -2.20479 H 14.7321\"/><rect class=\"sym\" height=\"6\" width=\"6\" x=\"-3\" y=\"-3\"/><text class=\"lab\" transform=\"translate(0 11)\">2</text></g><g class=\"a10 c2 node n9 p0\" transform=\"translate(14.7321 0.355914)\"><g class=\"a9 i1 leaf node n3 p0 sample\" transform=\"translate(-9.82143 1.84887)\"><path class=\"edge\" d=\"M 0 0 V -1.84887 H 9.82143\"/><rect class=\"sym\" height=\"6\" width=\"6\" x=\"-3\" y=\"-3\"/><text class=\"lab\" transform=\"translate(0 11)\">3</text></g><g class=\"a9 i2 leaf node n5 p0 sample\" transform=\"translate(9.82143 1.84887)\"><path class=\"edge\" d=\"M 0 0 V -1.84887 H -9.82143\"/><rect class=\"sym\" height=\"6\" width=\"6\" x=\"-3\" y=\"-3\"/><text class=\"lab\" transform=\"translate(0 11)\">5</text></g><path class=\"edge\" d=\"M 0 0 V -0.355914 H -14.7321\"/><circle class=\"sym\" cx=\"0\" cy=\"0\" r=\"3\"/><text class=\"lab rgt\" transform=\"translate(3 -7)\">9</text></g><path class=\"edge\" d=\"M 0 0 V -2.92608 H 22.0982\"/><circle class=\"sym\" cx=\"0\" cy=\"0\" r=\"3\"/><text class=\"lab lft\" transform=\"translate(-3 -7)\">10</text></g><path class=\"edge\" d=\"M 0 0 V -17.3591 H 20.8705\"/><circle class=\"sym\" cx=\"0\" cy=\"0\" r=\"3\"/><text class=\"lab lft\" transform=\"translate(-3 -7)\">13</text></g><path class=\"edge\" d=\"M 0 0 V -46.4425 H -50.9487\"/><circle class=\"sym\" cx=\"0\" cy=\"0\" r=\"3\"/><text class=\"lab rgt\" transform=\"translate(3 -7)\">21</text></g><g class=\"a24 c2 node n14 p0\" transform=\"translate(-50.9487 63.0916)\"><g class=\"a14 i0 leaf node n0 p0 sample\" transform=\"translate(-14.7321 5.84081)\"><path class=\"edge\" d=\"M 0 0 V -5.84081 H 14.7321\"/><rect class=\"sym\" height=\"6\" width=\"6\" x=\"-3\" y=\"-3\"/><text class=\"lab\" transform=\"translate(0 11)\">0</text></g><g class=\"a14 c2 node n12 p0\" transform=\"translate(14.7321 1.43562)\"><g class=\"a12 i0 leaf node n1 p0 sample\" transform=\"translate(-9.82143 4.40518)\"><path class=\"edge\" d=\"M 0 0 V -4.40518 H 9.82143\"/><rect class=\"sym\" height=\"6\" width=\"6\" x=\"-3\" y=\"-3\"/><text class=\"lab\" transform=\"translate(0 11)\">1</text></g><g class=\"a12 i2 leaf node n4 p0 sample\" transform=\"translate(9.82143 4.40518)\"><path class=\"edge\" d=\"M 0 0 V -4.40518 H -9.82143\"/><rect class=\"sym\" height=\"6\" width=\"6\" x=\"-3\" y=\"-3\"/><text class=\"lab\" transform=\"translate(0 11)\">4</text></g><path class=\"edge\" d=\"M 0 0 V -1.43562 H -14.7321\"/><circle class=\"sym\" cx=\"0\" cy=\"0\" r=\"3\"/><text class=\"lab rgt\" transform=\"translate(3 -7)\">12</text></g><path class=\"edge\" d=\"M 0 0 V -63.0916 H 50.9487\"/><circle class=\"sym\" cx=\"0\" cy=\"0\" r=\"3\"/><text class=\"lab lft\" transform=\"translate(-3 -7)\">14</text></g><circle class=\"sym\" cx=\"0\" cy=\"0\" r=\"3\"/><text class=\"lab\" transform=\"translate(0 -11)\">24</text></g></g></g><g class=\"tree t7\" transform=\"translate(1400 0)\"><g class=\"plotbox\"><g class=\"c2 node n21 p0 root\" transform=\"translate(105.938 98.9101)\"><g class=\"a21 c2 node n13 p0\" transform=\"translate(39.2857 17.3591)\"><g class=\"a13 i3 leaf node n7 p0 sample\" transform=\"translate(22.0982 5.13087)\"><path class=\"edge\" d=\"M 0 0 V -5.13087 H -22.0982\"/><rect class=\"sym\" height=\"6\" width=\"6\" x=\"-3\" y=\"-3\"/><text class=\"lab\" transform=\"translate(0 11)\">7</text></g><g class=\"a13 c2 node n10 p0\" transform=\"translate(-22.0982 2.92608)\"><g class=\"a10 i1 leaf node n2 p0 sample\" transform=\"translate(-14.7321 2.20479)\"><path class=\"edge\" d=\"M 0 0 V -2.20479 H 14.7321\"/><rect class=\"sym\" height=\"6\" width=\"6\" x=\"-3\" y=\"-3\"/><text class=\"lab\" transform=\"translate(0 11)\">2</text></g><g class=\"a10 c2 node n9 p0\" transform=\"translate(14.7321 0.355914)\"><g class=\"a9 i1 leaf node n3 p0 sample\" transform=\"translate(-9.82143 1.84887)\"><path class=\"edge\" d=\"M 0 0 V -1.84887 H 9.82143\"/><rect class=\"sym\" height=\"6\" width=\"6\" x=\"-3\" y=\"-3\"/><text class=\"lab\" transform=\"translate(0 11)\">3</text></g><g class=\"a9 i2 leaf node n5 p0 sample\" transform=\"translate(9.82143 1.84887)\"><path class=\"edge\" d=\"M 0 0 V -1.84887 H -9.82143\"/><rect class=\"sym\" height=\"6\" width=\"6\" x=\"-3\" y=\"-3\"/><text class=\"lab\" transform=\"translate(0 11)\">5</text></g><path class=\"edge\" d=\"M 0 0 V -0.355914 H -14.7321\"/><circle class=\"sym\" cx=\"0\" cy=\"0\" r=\"3\"/><text class=\"lab rgt\" transform=\"translate(3 -7)\">9</text></g><path class=\"edge\" d=\"M 0 0 V -2.92608 H 22.0982\"/><circle class=\"sym\" cx=\"0\" cy=\"0\" r=\"3\"/><text class=\"lab lft\" transform=\"translate(-3 -7)\">10</text></g><path class=\"edge\" d=\"M 0 0 V -17.3591 H -39.2857\"/><circle class=\"sym\" cx=\"0\" cy=\"0\" r=\"3\"/><text class=\"lab rgt\" transform=\"translate(3 -7)\">13</text></g><g class=\"a21 c2 node n19 p0\" transform=\"translate(-39.2857 1.95603)\"><g class=\"a19 i3 leaf node n6 p0 sample\" transform=\"translate(22.0982 20.5339)\"><path class=\"edge\" d=\"M 0 0 V -20.5339 H -22.0982\"/><rect class=\"sym\" height=\"6\" width=\"6\" x=\"-3\" y=\"-3\"/><text class=\"lab\" transform=\"translate(0 11)\">6</text></g><g class=\"a19 c2 node n14 p0\" transform=\"translate(-22.0982 14.6931)\"><g class=\"a14 i0 leaf node n0 p0 sample\" transform=\"translate(-14.7321 5.84081)\"><path class=\"edge\" d=\"M 0 0 V -5.84081 H 14.7321\"/><rect class=\"sym\" height=\"6\" width=\"6\" x=\"-3\" y=\"-3\"/><text class=\"lab\" transform=\"translate(0 11)\">0</text></g><g class=\"a14 c2 node n12 p0\" transform=\"translate(14.7321 1.43562)\"><g class=\"a12 i0 leaf node n1 p0 sample\" transform=\"translate(-9.82143 4.40518)\"><path class=\"edge\" d=\"M 0 0 V -4.40518 H 9.82143\"/><rect class=\"sym\" height=\"6\" width=\"6\" x=\"-3\" y=\"-3\"/><text class=\"lab\" transform=\"translate(0 11)\">1</text></g><g class=\"a12 i2 leaf node n4 p0 sample\" transform=\"translate(9.82143 4.40518)\"><path class=\"edge\" d=\"M 0 0 V -4.40518 H -9.82143\"/><rect class=\"sym\" height=\"6\" width=\"6\" x=\"-3\" y=\"-3\"/><text class=\"lab\" transform=\"translate(0 11)\">4</text></g><path class=\"edge\" d=\"M 0 0 V -1.43562 H -14.7321\"/><circle class=\"sym\" cx=\"0\" cy=\"0\" r=\"3\"/><text class=\"lab rgt\" transform=\"translate(3 -7)\">12</text></g><path class=\"edge\" d=\"M 0 0 V -14.6931 H 22.0982\"/><circle class=\"sym\" cx=\"0\" cy=\"0\" r=\"3\"/><text class=\"lab lft\" transform=\"translate(-3 -7)\">14</text></g><path class=\"edge\" d=\"M 0 0 V -1.95603 H 39.2857\"/><circle class=\"sym\" cx=\"0\" cy=\"0\" r=\"3\"/><text class=\"lab lft\" transform=\"translate(-3 -7)\">19</text></g><circle class=\"sym\" cx=\"0\" cy=\"0\" r=\"3\"/><text class=\"lab\" transform=\"translate(0 -11)\">21</text></g></g></g><g class=\"tree t8\" transform=\"translate(1597.14 0)\"><g class=\"plotbox\"><g class=\"c2 node n21 p0 root\" transform=\"translate(116.373 98.9101)\"><g class=\"a21 c2 node n13 p0\" transform=\"translate(36.2165 17.3591)\"><g class=\"a13 i3 leaf node n7 p0 sample\" transform=\"translate(14.7321 5.13087)\"><path class=\"edge\" d=\"M 0 0 V -5.13087 H -14.7321\"/><rect class=\"sym\" height=\"6\" width=\"6\" x=\"-3\" y=\"-3\"/><text class=\"lab\" transform=\"translate(0 11)\">7</text></g><g class=\"a13 c2 node n9 p0\" transform=\"translate(-14.7321 3.28199)\"><g class=\"a9 i1 leaf node n3 p0 sample\" transform=\"translate(-9.82143 1.84887)\"><path class=\"edge\" d=\"M 0 0 V -1.84887 H 9.82143\"/><rect class=\"sym\" height=\"6\" width=\"6\" x=\"-3\" y=\"-3\"/><text class=\"lab\" transform=\"translate(0 11)\">3</text></g><g class=\"a9 i2 leaf node n5 p0 sample\" transform=\"translate(9.82143 1.84887)\"><path class=\"edge\" d=\"M 0 0 V -1.84887 H -9.82143\"/><rect class=\"sym\" height=\"6\" width=\"6\" x=\"-3\" y=\"-3\"/><text class=\"lab\" transform=\"translate(0 11)\">5</text></g><path class=\"edge\" d=\"M 0 0 V -3.28199 H 14.7321\"/><circle class=\"sym\" cx=\"0\" cy=\"0\" r=\"3\"/><text class=\"lab lft\" transform=\"translate(-3 -7)\">9</text></g><path class=\"edge\" d=\"M 0 0 V -17.3591 H -36.2165\"/><circle class=\"sym\" cx=\"0\" cy=\"0\" r=\"3\"/><text class=\"lab rgt\" transform=\"translate(3 -7)\">13</text></g><g class=\"a21 c2 node n19 p0\" transform=\"translate(-36.2165 1.95603)\"><g class=\"a19 i3 leaf node n6 p0 sample\" transform=\"translate(28.2366 20.5339)\"><path class=\"edge\" d=\"M 0 0 V -20.5339 H -28.2366\"/><rect class=\"sym\" height=\"6\" width=\"6\" x=\"-3\" y=\"-3\"/><text class=\"lab\" transform=\"translate(0 11)\">6</text></g><g class=\"a19 c2 node n14 p0\" transform=\"translate(-28.2366 14.6931)\"><g class=\"a14 i0 leaf node n0 p0 sample\" transform=\"translate(-22.0982 5.84081)\"><path class=\"edge\" d=\"M 0 0 V -5.84081 H 22.0982\"/><rect class=\"sym\" height=\"6\" width=\"6\" x=\"-3\" y=\"-3\"/><text class=\"lab\" transform=\"translate(0 11)\">0</text></g><g class=\"a14 c2 node n12 p0\" transform=\"translate(22.0982 1.43562)\"><g class=\"a12 i2 leaf node n4 p0 sample\" transform=\"translate(14.7321 4.40518)\"><path class=\"edge\" d=\"M 0 0 V -4.40518 H -14.7321\"/><rect class=\"sym\" height=\"6\" width=\"6\" x=\"-3\" y=\"-3\"/><text class=\"lab\" transform=\"translate(0 11)\">4</text></g><g class=\"a12 c2 node n11 p0\" transform=\"translate(-14.7321 1.2204)\"><g class=\"a11 i0 leaf node n1 p0 sample\" transform=\"translate(-9.82143 3.18479)\"><path class=\"edge\" d=\"M 0 0 V -3.18479 H 9.82143\"/><rect class=\"sym\" height=\"6\" width=\"6\" x=\"-3\" y=\"-3\"/><text class=\"lab\" transform=\"translate(0 11)\">1</text></g><g class=\"a11 i1 leaf node n2 p0 sample\" transform=\"translate(9.82143 3.18479)\"><path class=\"edge\" d=\"M 0 0 V -3.18479 H -9.82143\"/><rect class=\"sym\" height=\"6\" width=\"6\" x=\"-3\" y=\"-3\"/><text class=\"lab\" transform=\"translate(0 11)\">2</text></g><path class=\"edge\" d=\"M 0 0 V -1.2204 H 14.7321\"/><circle class=\"sym\" cx=\"0\" cy=\"0\" r=\"3\"/><text class=\"lab lft\" transform=\"translate(-3 -7)\">11</text></g><path class=\"edge\" d=\"M 0 0 V -1.43562 H -22.0982\"/><circle class=\"sym\" cx=\"0\" cy=\"0\" r=\"3\"/><text class=\"lab rgt\" transform=\"translate(3 -7)\">12</text></g><path class=\"edge\" d=\"M 0 0 V -14.6931 H 28.2366\"/><circle class=\"sym\" cx=\"0\" cy=\"0\" r=\"3\"/><text class=\"lab lft\" transform=\"translate(-3 -7)\">14</text></g><path class=\"edge\" d=\"M 0 0 V -1.95603 H 36.2165\"/><circle class=\"sym\" cx=\"0\" cy=\"0\" r=\"3\"/><text class=\"lab lft\" transform=\"translate(-3 -7)\">19</text></g><circle class=\"sym\" cx=\"0\" cy=\"0\" r=\"3\"/><text class=\"lab\" transform=\"translate(0 -11)\">21</text></g></g></g><g class=\"tree t9\" transform=\"translate(1794.29 0)\"><g class=\"plotbox\"><g class=\"c2 node n19 p0 root\" transform=\"translate(129.877 100.866)\"><g class=\"a19 i3 leaf m7 node n6 p0 s7 sample\" transform=\"translate(37.4442 20.5339)\"><path class=\"edge\" d=\"M 0 0 V -20.5339 H -37.4442\"/><g class=\"mut m7 s7\" transform=\"translate(0 -15.1679)\"><line x1=\"0\" x2=\"0\" y1=\"0\" y2=\"15.1679\"/><path class=\"sym\" d=\"M -3,-3 l 6,6 M -3,3 l 6,-6\"/><text class=\"lab rgt\" transform=\"translate(5 0)\">7</text></g><rect class=\"sym\" height=\"6\" width=\"6\" x=\"-3\" y=\"-3\"/><text class=\"lab\" transform=\"translate(0 11)\">6</text></g><g class=\"a19 c2 node n17 p0\" transform=\"translate(-37.4442 0.854669)\"><g class=\"a17 c2 node n13 p0\" transform=\"translate(40.5134 14.5484)\"><g class=\"a13 i3 leaf node n7 p0 sample\" transform=\"translate(14.7321 5.13087)\"><path class=\"edge\" d=\"M 0 0 V -5.13087 H -14.7321\"/><rect class=\"sym\" height=\"6\" width=\"6\" x=\"-3\" y=\"-3\"/><text class=\"lab\" transform=\"translate(0 11)\">7</text></g><g class=\"a13 c2 node n9 p0\" transform=\"translate(-14.7321 3.28199)\"><g class=\"a9 i1 leaf node n3 p0 sample\" transform=\"translate(-9.82143 1.84887)\"><path class=\"edge\" d=\"M 0 0 V -1.84887 H 9.82143\"/><rect class=\"sym\" height=\"6\" width=\"6\" x=\"-3\" y=\"-3\"/><text class=\"lab\" transform=\"translate(0 11)\">3</text></g><g class=\"a9 i2 leaf node n5 p0 sample\" transform=\"translate(9.82143 1.84887)\"><path class=\"edge\" d=\"M 0 0 V -1.84887 H -9.82143\"/><rect class=\"sym\" height=\"6\" width=\"6\" x=\"-3\" y=\"-3\"/><text class=\"lab\" transform=\"translate(0 11)\">5</text></g><path class=\"edge\" d=\"M 0 0 V -3.28199 H 14.7321\"/><circle class=\"sym\" cx=\"0\" cy=\"0\" r=\"3\"/><text class=\"lab lft\" transform=\"translate(-3 -7)\">9</text></g><path class=\"edge\" d=\"M 0 0 V -14.5484 H -40.5134\"/><circle class=\"sym\" cx=\"0\" cy=\"0\" r=\"3\"/><text class=\"lab rgt\" transform=\"translate(3 -7)\">13</text></g><g class=\"a17 c2 m8 node n14 p0 s8\" transform=\"translate(-40.5134 13.8384)\"><g class=\"a14 i0 leaf node n0 p0 sample\" transform=\"translate(-22.0982 5.84081)\"><path class=\"edge\" d=\"M 0 0 V -5.84081 H 22.0982\"/><rect class=\"sym\" height=\"6\" width=\"6\" x=\"-3\" y=\"-3\"/><text class=\"lab\" transform=\"translate(0 11)\">0</text></g><g class=\"a14 c2 node n12 p0\" transform=\"translate(22.0982 1.43562)\"><g class=\"a12 i2 leaf node n4 p0 sample\" transform=\"translate(14.7321 4.40518)\"><path class=\"edge\" d=\"M 0 0 V -4.40518 H -14.7321\"/><rect class=\"sym\" height=\"6\" width=\"6\" x=\"-3\" y=\"-3\"/><text class=\"lab\" transform=\"translate(0 11)\">4</text></g><g class=\"a12 c2 node n11 p0\" transform=\"translate(-14.7321 1.2204)\"><g class=\"a11 i0 leaf node n1 p0 sample\" transform=\"translate(-9.82143 3.18479)\"><path class=\"edge\" d=\"M 0 0 V -3.18479 H 9.82143\"/><rect class=\"sym\" height=\"6\" width=\"6\" x=\"-3\" y=\"-3\"/><text class=\"lab\" transform=\"translate(0 11)\">1</text></g><g class=\"a11 i1 leaf node n2 p0 sample\" transform=\"translate(9.82143 3.18479)\"><path class=\"edge\" d=\"M 0 0 V -3.18479 H -9.82143\"/><rect class=\"sym\" height=\"6\" width=\"6\" x=\"-3\" y=\"-3\"/><text class=\"lab\" transform=\"translate(0 11)\">2</text></g><path class=\"edge\" d=\"M 0 0 V -1.2204 H 14.7321\"/><circle class=\"sym\" cx=\"0\" cy=\"0\" r=\"3\"/><text class=\"lab lft\" transform=\"translate(-3 -7)\">11</text></g><path class=\"edge\" d=\"M 0 0 V -1.43562 H -22.0982\"/><circle class=\"sym\" cx=\"0\" cy=\"0\" r=\"3\"/><text class=\"lab rgt\" transform=\"translate(3 -7)\">12</text></g><path class=\"edge\" d=\"M 0 0 V -13.8384 H 40.5134\"/><g class=\"mut m8 s8\" transform=\"translate(0 -7.96771)\"><line x1=\"0\" x2=\"0\" y1=\"0\" y2=\"7.96771\"/><path class=\"sym\" d=\"M -3,-3 l 6,6 M -3,3 l 6,-6\"/><text class=\"lab lft\" transform=\"translate(-5 0)\">8</text></g><circle class=\"sym\" cx=\"0\" cy=\"0\" r=\"3\"/><text class=\"lab lft\" transform=\"translate(-3 -7)\">14</text></g><path class=\"edge\" d=\"M 0 0 V -0.854669 H 37.4442\"/><circle class=\"sym\" cx=\"0\" cy=\"0\" r=\"3\"/><text class=\"lab lft\" transform=\"translate(-3 -7)\">17</text></g><circle class=\"sym\" cx=\"0\" cy=\"0\" r=\"3\"/><text class=\"lab\" transform=\"translate(0 -11)\">19</text></g></g></g><g class=\"tree t10\" transform=\"translate(1991.43 0)\"><g class=\"plotbox\"><g class=\"c2 node n17 p0 root\" transform=\"translate(101.027 101.721)\"><g class=\"a17 c2 m9 node n14 p0 s9\" transform=\"translate(-49.1071 13.8384)\"><g class=\"a14 i0 leaf node n0 p0 sample\" transform=\"translate(-22.0982 5.84081)\"><path class=\"edge\" d=\"M 0 0 V -5.84081 H 22.0982\"/><rect class=\"sym\" height=\"6\" width=\"6\" x=\"-3\" y=\"-3\"/><text class=\"lab\" transform=\"translate(0 11)\">0</text></g><g class=\"a14 c2 node n12 p0\" transform=\"translate(22.0982 1.43562)\"><g class=\"a12 i2 leaf node n4 p0 sample\" transform=\"translate(14.7321 4.40518)\"><path class=\"edge\" d=\"M 0 0 V -4.40518 H -14.7321\"/><rect class=\"sym\" height=\"6\" width=\"6\" x=\"-3\" y=\"-3\"/><text class=\"lab\" transform=\"translate(0 11)\">4</text></g><g class=\"a12 c2 node n11 p0\" transform=\"translate(-14.7321 1.2204)\"><g class=\"a11 i0 leaf node n1 p0 sample\" transform=\"translate(-9.82143 3.18479)\"><path class=\"edge\" d=\"M 0 0 V -3.18479 H 9.82143\"/><rect class=\"sym\" height=\"6\" width=\"6\" x=\"-3\" y=\"-3\"/><text class=\"lab\" transform=\"translate(0 11)\">1</text></g><g class=\"a11 i1 leaf node n2 p0 sample\" transform=\"translate(9.82143 3.18479)\"><path class=\"edge\" d=\"M 0 0 V -3.18479 H -9.82143\"/><rect class=\"sym\" height=\"6\" width=\"6\" x=\"-3\" y=\"-3\"/><text class=\"lab\" transform=\"translate(0 11)\">2</text></g><path class=\"edge\" d=\"M 0 0 V -1.2204 H 14.7321\"/><circle class=\"sym\" cx=\"0\" cy=\"0\" r=\"3\"/><text class=\"lab lft\" transform=\"translate(-3 -7)\">11</text></g><path class=\"edge\" d=\"M 0 0 V -1.43562 H -22.0982\"/><circle class=\"sym\" cx=\"0\" cy=\"0\" r=\"3\"/><text class=\"lab rgt\" transform=\"translate(3 -7)\">12</text></g><path class=\"edge\" d=\"M 0 0 V -13.8384 H 49.1071\"/><g class=\"mut m9 s9\" transform=\"translate(0 -7.69241)\"><line x1=\"0\" x2=\"0\" y1=\"0\" y2=\"7.69241\"/><path class=\"sym\" d=\"M -3,-3 l 6,6 M -3,3 l 6,-6\"/><text class=\"lab lft\" transform=\"translate(-5 0)\">9</text></g><circle class=\"sym\" cx=\"0\" cy=\"0\" r=\"3\"/><text class=\"lab lft\" transform=\"translate(-3 -7)\">14</text></g><g class=\"a17 c2 node n16 p0\" transform=\"translate(49.1071 0.269168)\"><g class=\"a16 i3 leaf node n6 p0 sample\" transform=\"translate(17.1875 19.4101)\"><path class=\"edge\" d=\"M 0 0 V -19.4101 H -17.1875\"/><rect class=\"sym\" height=\"6\" width=\"6\" x=\"-3\" y=\"-3\"/><text class=\"lab\" transform=\"translate(0 11)\">6</text></g><g class=\"a16 c2 node n13 p0\" transform=\"translate(-17.1875 14.2792)\"><g class=\"a13 i3 leaf node n7 p0 sample\" transform=\"translate(14.7321 5.13087)\"><path class=\"edge\" d=\"M 0 0 V -5.13087 H -14.7321\"/><rect class=\"sym\" height=\"6\" width=\"6\" x=\"-3\" y=\"-3\"/><text class=\"lab\" transform=\"translate(0 11)\">7</text></g><g class=\"a13 c2 node n9 p0\" transform=\"translate(-14.7321 3.28199)\"><g class=\"a9 i1 leaf node n3 p0 sample\" transform=\"translate(-9.82143 1.84887)\"><path class=\"edge\" d=\"M 0 0 V -1.84887 H 9.82143\"/><rect class=\"sym\" height=\"6\" width=\"6\" x=\"-3\" y=\"-3\"/><text class=\"lab\" transform=\"translate(0 11)\">3</text></g><g class=\"a9 i2 leaf node n5 p0 sample\" transform=\"translate(9.82143 1.84887)\"><path class=\"edge\" d=\"M 0 0 V -1.84887 H -9.82143\"/><rect class=\"sym\" height=\"6\" width=\"6\" x=\"-3\" y=\"-3\"/><text class=\"lab\" transform=\"translate(0 11)\">5</text></g><path class=\"edge\" d=\"M 0 0 V -3.28199 H 14.7321\"/><circle class=\"sym\" cx=\"0\" cy=\"0\" r=\"3\"/><text class=\"lab lft\" transform=\"translate(-3 -7)\">9</text></g><path class=\"edge\" d=\"M 0 0 V -14.2792 H 17.1875\"/><circle class=\"sym\" cx=\"0\" cy=\"0\" r=\"3\"/><text class=\"lab lft\" transform=\"translate(-3 -7)\">13</text></g><path class=\"edge\" d=\"M 0 0 V -0.269168 H -49.1071\"/><circle class=\"sym\" cx=\"0\" cy=\"0\" r=\"3\"/><text class=\"lab rgt\" transform=\"translate(3 -7)\">16</text></g><circle class=\"sym\" cx=\"0\" cy=\"0\" r=\"3\"/><text class=\"lab\" transform=\"translate(0 -11)\">17</text></g></g></g><g class=\"tree t11\" transform=\"translate(2188.57 0)\"><g class=\"plotbox\"><g class=\"c2 node n19 p0 root\" transform=\"translate(101.027 100.866)\"><g class=\"a19 c2 node n14 p0\" transform=\"translate(-49.1071 14.6931)\"><g class=\"a14 i0 leaf node n0 p0 sample\" transform=\"translate(-22.0982 5.84081)\"><path class=\"edge\" d=\"M 0 0 V -5.84081 H 22.0982\"/><rect class=\"sym\" height=\"6\" width=\"6\" x=\"-3\" y=\"-3\"/><text class=\"lab\" transform=\"translate(0 11)\">0</text></g><g class=\"a14 c2 node n12 p0\" transform=\"translate(22.0982 1.43562)\"><g class=\"a12 i2 leaf node n4 p0 sample\" transform=\"translate(14.7321 4.40518)\"><path class=\"edge\" d=\"M 0 0 V -4.40518 H -14.7321\"/><rect class=\"sym\" height=\"6\" width=\"6\" x=\"-3\" y=\"-3\"/><text class=\"lab\" transform=\"translate(0 11)\">4</text></g><g class=\"a12 c2 node n11 p0\" transform=\"translate(-14.7321 1.2204)\"><g class=\"a11 i0 leaf node n1 p0 sample\" transform=\"translate(-9.82143 3.18479)\"><path class=\"edge\" d=\"M 0 0 V -3.18479 H 9.82143\"/><rect class=\"sym\" height=\"6\" width=\"6\" x=\"-3\" y=\"-3\"/><text class=\"lab\" transform=\"translate(0 11)\">1</text></g><g class=\"a11 i1 leaf node n2 p0 sample\" transform=\"translate(9.82143 3.18479)\"><path class=\"edge\" d=\"M 0 0 V -3.18479 H -9.82143\"/><rect class=\"sym\" height=\"6\" width=\"6\" x=\"-3\" y=\"-3\"/><text class=\"lab\" transform=\"translate(0 11)\">2</text></g><path class=\"edge\" d=\"M 0 0 V -1.2204 H 14.7321\"/><circle class=\"sym\" cx=\"0\" cy=\"0\" r=\"3\"/><text class=\"lab lft\" transform=\"translate(-3 -7)\">11</text></g><path class=\"edge\" d=\"M 0 0 V -1.43562 H -22.0982\"/><circle class=\"sym\" cx=\"0\" cy=\"0\" r=\"3\"/><text class=\"lab rgt\" transform=\"translate(3 -7)\">12</text></g><path class=\"edge\" d=\"M 0 0 V -14.6931 H 49.1071\"/><circle class=\"sym\" cx=\"0\" cy=\"0\" r=\"3\"/><text class=\"lab lft\" transform=\"translate(-3 -7)\">14</text></g><g class=\"a19 c2 node n16 p0\" transform=\"translate(49.1071 1.12384)\"><g class=\"a16 i3 leaf node n6 p0 sample\" transform=\"translate(17.1875 19.4101)\"><path class=\"edge\" d=\"M 0 0 V -19.4101 H -17.1875\"/><rect class=\"sym\" height=\"6\" width=\"6\" x=\"-3\" y=\"-3\"/><text class=\"lab\" transform=\"translate(0 11)\">6</text></g><g class=\"a16 c2 node n13 p0\" transform=\"translate(-17.1875 14.2792)\"><g class=\"a13 i3 leaf node n7 p0 sample\" transform=\"translate(14.7321 5.13087)\"><path class=\"edge\" d=\"M 0 0 V -5.13087 H -14.7321\"/><rect class=\"sym\" height=\"6\" width=\"6\" x=\"-3\" y=\"-3\"/><text class=\"lab\" transform=\"translate(0 11)\">7</text></g><g class=\"a13 c2 node n9 p0\" transform=\"translate(-14.7321 3.28199)\"><g class=\"a9 i1 leaf node n3 p0 sample\" transform=\"translate(-9.82143 1.84887)\"><path class=\"edge\" d=\"M 0 0 V -1.84887 H 9.82143\"/><rect class=\"sym\" height=\"6\" width=\"6\" x=\"-3\" y=\"-3\"/><text class=\"lab\" transform=\"translate(0 11)\">3</text></g><g class=\"a9 i2 leaf node n5 p0 sample\" transform=\"translate(9.82143 1.84887)\"><path class=\"edge\" d=\"M 0 0 V -1.84887 H -9.82143\"/><rect class=\"sym\" height=\"6\" width=\"6\" x=\"-3\" y=\"-3\"/><text class=\"lab\" transform=\"translate(0 11)\">5</text></g><path class=\"edge\" d=\"M 0 0 V -3.28199 H 14.7321\"/><circle class=\"sym\" cx=\"0\" cy=\"0\" r=\"3\"/><text class=\"lab lft\" transform=\"translate(-3 -7)\">9</text></g><path class=\"edge\" d=\"M 0 0 V -14.2792 H 17.1875\"/><circle class=\"sym\" cx=\"0\" cy=\"0\" r=\"3\"/><text class=\"lab lft\" transform=\"translate(-3 -7)\">13</text></g><path class=\"edge\" d=\"M 0 0 V -1.12384 H -49.1071\"/><circle class=\"sym\" cx=\"0\" cy=\"0\" r=\"3\"/><text class=\"lab rgt\" transform=\"translate(3 -7)\">16</text></g><circle class=\"sym\" cx=\"0\" cy=\"0\" r=\"3\"/><text class=\"lab\" transform=\"translate(0 -11)\">19</text></g></g></g><g class=\"tree t12\" transform=\"translate(2385.71 0)\"><g class=\"plotbox\"><g class=\"c2 node n22 p0 root\" transform=\"translate(116.373 85.1432)\"><g class=\"a22 c2 node n13 p0\" transform=\"translate(36.2165 31.1259)\"><g class=\"a13 i3 leaf node n7 p0 sample\" transform=\"translate(14.7321 5.13087)\"><path class=\"edge\" d=\"M 0 0 V -5.13087 H -14.7321\"/><rect class=\"sym\" height=\"6\" width=\"6\" x=\"-3\" y=\"-3\"/><text class=\"lab\" transform=\"translate(0 11)\">7</text></g><g class=\"a13 c2 node n9 p0\" transform=\"translate(-14.7321 3.28199)\"><g class=\"a9 i1 leaf node n3 p0 sample\" transform=\"translate(-9.82143 1.84887)\"><path class=\"edge\" d=\"M 0 0 V -1.84887 H 9.82143\"/><rect class=\"sym\" height=\"6\" width=\"6\" x=\"-3\" y=\"-3\"/><text class=\"lab\" transform=\"translate(0 11)\">3</text></g><g class=\"a9 i2 leaf node n5 p0 sample\" transform=\"translate(9.82143 1.84887)\"><path class=\"edge\" d=\"M 0 0 V -1.84887 H -9.82143\"/><rect class=\"sym\" height=\"6\" width=\"6\" x=\"-3\" y=\"-3\"/><text class=\"lab\" transform=\"translate(0 11)\">5</text></g><path class=\"edge\" d=\"M 0 0 V -3.28199 H 14.7321\"/><circle class=\"sym\" cx=\"0\" cy=\"0\" r=\"3\"/><text class=\"lab lft\" transform=\"translate(-3 -7)\">9</text></g><path class=\"edge\" d=\"M 0 0 V -31.1259 H -36.2165\"/><circle class=\"sym\" cx=\"0\" cy=\"0\" r=\"3\"/><text class=\"lab rgt\" transform=\"translate(3 -7)\">13</text></g><g class=\"a22 c2 node n19 p0\" transform=\"translate(-36.2165 15.7229)\"><g class=\"a19 c2 node n14 p0\" transform=\"translate(-28.2366 14.6931)\"><g class=\"a14 i0 leaf node n0 p0 sample\" transform=\"translate(-22.0982 5.84081)\"><path class=\"edge\" d=\"M 0 0 V -5.84081 H 22.0982\"/><rect class=\"sym\" height=\"6\" width=\"6\" x=\"-3\" y=\"-3\"/><text class=\"lab\" transform=\"translate(0 11)\">0</text></g><g class=\"a14 c2 node n12 p0\" transform=\"translate(22.0982 1.43562)\"><g class=\"a12 i2 leaf node n4 p0 sample\" transform=\"translate(14.7321 4.40518)\"><path class=\"edge\" d=\"M 0 0 V -4.40518 H -14.7321\"/><rect class=\"sym\" height=\"6\" width=\"6\" x=\"-3\" y=\"-3\"/><text class=\"lab\" transform=\"translate(0 11)\">4</text></g><g class=\"a12 c2 node n11 p0\" transform=\"translate(-14.7321 1.2204)\"><g class=\"a11 i0 leaf node n1 p0 sample\" transform=\"translate(-9.82143 3.18479)\"><path class=\"edge\" d=\"M 0 0 V -3.18479 H 9.82143\"/><rect class=\"sym\" height=\"6\" width=\"6\" x=\"-3\" y=\"-3\"/><text class=\"lab\" transform=\"translate(0 11)\">1</text></g><g class=\"a11 i1 leaf node n2 p0 sample\" transform=\"translate(9.82143 3.18479)\"><path class=\"edge\" d=\"M 0 0 V -3.18479 H -9.82143\"/><rect class=\"sym\" height=\"6\" width=\"6\" x=\"-3\" y=\"-3\"/><text class=\"lab\" transform=\"translate(0 11)\">2</text></g><path class=\"edge\" d=\"M 0 0 V -1.2204 H 14.7321\"/><circle class=\"sym\" cx=\"0\" cy=\"0\" r=\"3\"/><text class=\"lab lft\" transform=\"translate(-3 -7)\">11</text></g><path class=\"edge\" d=\"M 0 0 V -1.43562 H -22.0982\"/><circle class=\"sym\" cx=\"0\" cy=\"0\" r=\"3\"/><text class=\"lab rgt\" transform=\"translate(3 -7)\">12</text></g><path class=\"edge\" d=\"M 0 0 V -14.6931 H 28.2366\"/><circle class=\"sym\" cx=\"0\" cy=\"0\" r=\"3\"/><text class=\"lab lft\" transform=\"translate(-3 -7)\">14</text></g><g class=\"a19 i3 leaf node n6 p0 sample\" transform=\"translate(28.2366 20.5339)\"><path class=\"edge\" d=\"M 0 0 V -20.5339 H -28.2366\"/><rect class=\"sym\" height=\"6\" width=\"6\" x=\"-3\" y=\"-3\"/><text class=\"lab\" transform=\"translate(0 11)\">6</text></g><path class=\"edge\" d=\"M 0 0 V -15.7229 H 36.2165\"/><circle class=\"sym\" cx=\"0\" cy=\"0\" r=\"3\"/><text class=\"lab lft\" transform=\"translate(-3 -7)\">19</text></g><circle class=\"sym\" cx=\"0\" cy=\"0\" r=\"3\"/><text class=\"lab\" transform=\"translate(0 -11)\">22</text></g></g></g><g class=\"tree t13\" transform=\"translate(2582.86 0)\"><g class=\"plotbox\"><g class=\"c2 node n19 p0 root\" transform=\"translate(129.877 100.866)\"><g class=\"a19 i3 leaf node n6 p0 sample\" transform=\"translate(37.4442 20.5339)\"><path class=\"edge\" d=\"M 0 0 V -20.5339 H -37.4442\"/><rect class=\"sym\" height=\"6\" width=\"6\" x=\"-3\" y=\"-3\"/><text class=\"lab\" transform=\"translate(0 11)\">6</text></g><g class=\"a19 c2 node n18 p0\" transform=\"translate(-37.4442 0.457146)\"><g class=\"a18 c2 m11 m12 node n13 p0 s11 s12\" transform=\"translate(40.5134 14.9459)\"><g class=\"a13 i3 leaf node n7 p0 sample\" transform=\"translate(14.7321 5.13087)\"><path class=\"edge\" d=\"M 0 0 V -5.13087 H -14.7321\"/><rect class=\"sym\" height=\"6\" width=\"6\" x=\"-3\" y=\"-3\"/><text class=\"lab\" transform=\"translate(0 11)\">7</text></g><g class=\"a13 c2 node n9 p0\" transform=\"translate(-14.7321 3.28199)\"><g class=\"a9 i1 leaf node n3 p0 sample\" transform=\"translate(-9.82143 1.84887)\"><path class=\"edge\" d=\"M 0 0 V -1.84887 H 9.82143\"/><rect class=\"sym\" height=\"6\" width=\"6\" x=\"-3\" y=\"-3\"/><text class=\"lab\" transform=\"translate(0 11)\">3</text></g><g class=\"a9 i2 leaf node n5 p0 sample\" transform=\"translate(9.82143 1.84887)\"><path class=\"edge\" d=\"M 0 0 V -1.84887 H -9.82143\"/><rect class=\"sym\" height=\"6\" width=\"6\" x=\"-3\" y=\"-3\"/><text class=\"lab\" transform=\"translate(0 11)\">5</text></g><path class=\"edge\" d=\"M 0 0 V -3.28199 H 14.7321\"/><circle class=\"sym\" cx=\"0\" cy=\"0\" r=\"3\"/><text class=\"lab lft\" transform=\"translate(-3 -7)\">9</text></g><path class=\"edge\" d=\"M 0 0 V -14.9459 H -40.5134\"/><g class=\"mut m11 s11\" transform=\"translate(0 -2.23521)\"><line x1=\"0\" x2=\"0\" y1=\"0\" y2=\"2.23521\"/><path class=\"sym\" d=\"M -3,-3 l 6,6 M -3,3 l 6,-6\"/><text class=\"lab rgt\" transform=\"translate(5 0)\">11</text></g><g class=\"mut m12 s12\" transform=\"translate(0 -1.32614)\"><line x1=\"0\" x2=\"0\" y1=\"0\" y2=\"1.32614\"/><path class=\"sym\" d=\"M -3,-3 l 6,6 M -3,3 l 6,-6\"/><text class=\"lab rgt\" transform=\"translate(5 0)\">12</text></g><circle class=\"sym\" cx=\"0\" cy=\"0\" r=\"3\"/><text class=\"lab rgt\" transform=\"translate(3 -7)\">13</text></g><g class=\"a18 c2 m10 node n14 p0 s10\" transform=\"translate(-40.5134 14.236)\"><g class=\"a14 i0 leaf node n0 p0 sample\" transform=\"translate(-22.0982 5.84081)\"><path class=\"edge\" d=\"M 0 0 V -5.84081 H 22.0982\"/><rect class=\"sym\" height=\"6\" width=\"6\" x=\"-3\" y=\"-3\"/><text class=\"lab\" transform=\"translate(0 11)\">0</text></g><g class=\"a14 c2 node n12 p0\" transform=\"translate(22.0982 1.43562)\"><g class=\"a12 i2 leaf node n4 p0 sample\" transform=\"translate(14.7321 4.40518)\"><path class=\"edge\" d=\"M 0 0 V -4.40518 H -14.7321\"/><rect class=\"sym\" height=\"6\" width=\"6\" x=\"-3\" y=\"-3\"/><text class=\"lab\" transform=\"translate(0 11)\">4</text></g><g class=\"a12 c2 node n11 p0\" transform=\"translate(-14.7321 1.2204)\"><g class=\"a11 i0 leaf node n1 p0 sample\" transform=\"translate(-9.82143 3.18479)\"><path class=\"edge\" d=\"M 0 0 V -3.18479 H 9.82143\"/><rect class=\"sym\" height=\"6\" width=\"6\" x=\"-3\" y=\"-3\"/><text class=\"lab\" transform=\"translate(0 11)\">1</text></g><g class=\"a11 i1 leaf node n2 p0 sample\" transform=\"translate(9.82143 3.18479)\"><path class=\"edge\" d=\"M 0 0 V -3.18479 H -9.82143\"/><rect class=\"sym\" height=\"6\" width=\"6\" x=\"-3\" y=\"-3\"/><text class=\"lab\" transform=\"translate(0 11)\">2</text></g><path class=\"edge\" d=\"M 0 0 V -1.2204 H 14.7321\"/><circle class=\"sym\" cx=\"0\" cy=\"0\" r=\"3\"/><text class=\"lab lft\" transform=\"translate(-3 -7)\">11</text></g><path class=\"edge\" d=\"M 0 0 V -1.43562 H -22.0982\"/><circle class=\"sym\" cx=\"0\" cy=\"0\" r=\"3\"/><text class=\"lab rgt\" transform=\"translate(3 -7)\">12</text></g><path class=\"edge\" d=\"M 0 0 V -14.236 H 40.5134\"/><g class=\"mut m10 s10\" transform=\"translate(0 -7.51279)\"><line x1=\"0\" x2=\"0\" y1=\"0\" y2=\"7.51279\"/><path class=\"sym\" d=\"M -3,-3 l 6,6 M -3,3 l 6,-6\"/><text class=\"lab lft\" transform=\"translate(-5 0)\">10</text></g><circle class=\"sym\" cx=\"0\" cy=\"0\" r=\"3\"/><text class=\"lab lft\" transform=\"translate(-3 -7)\">14</text></g><path class=\"edge\" d=\"M 0 0 V -0.457146 H 37.4442\"/><circle class=\"sym\" cx=\"0\" cy=\"0\" r=\"3\"/><text class=\"lab lft\" transform=\"translate(-3 -7)\">18</text></g><circle class=\"sym\" cx=\"0\" cy=\"0\" r=\"3\"/><text class=\"lab\" transform=\"translate(0 -11)\">19</text></g></g></g></g></g></svg>"
      ],
      "text/plain": [
       "<IPython.core.display.SVG object>"
      ]
     },
     "execution_count": 173,
     "metadata": {},
     "output_type": "execute_result"
    }
   ],
   "source": [
    "SVG(mts.draw_svg())"
   ]
  },
  {
   "cell_type": "code",
   "execution_count": 174,
   "id": "e4f06c3b",
   "metadata": {},
   "outputs": [
    {
     "name": "stdout",
     "output_type": "stream",
     "text": [
      "(10, 15, 0.3229425875943593, False)\n",
      "(10, 15, 1.1418373085420104, False)\n",
      "(12, 21, 2.6750652382948554, False)\n",
      "(7, 10, 0.14424737858244438, False)\n",
      "(12, 21, 0.6440504962317776, False)\n",
      "(0, 12, 0.02224834373754282, False)\n",
      "(6, 14, 0.2328850259100464, False)\n",
      "(1, 2, 1.4444858292195695, False)\n",
      "(13, 14, 0.9418319547503387, False)\n",
      "(6, 13, 0.981498414585012, False)\n",
      "(14, 16, 4.175225554436863, False)\n",
      "(13, 19, 9364.83242405758, True)\n",
      "(13, 14, 0.9688870327785037, False)\n"
     ]
    }
   ],
   "source": [
    "def diff_spr(t1, t2):\n",
    "    assert t1.num_samples() == t2.num_samples()\n",
    "    nodes = set(range(t1.num_samples()))\n",
    "    while nodes:\n",
    "        x = nodes.pop()\n",
    "        p1, p2 = [t.get_parent(x) for t in [t1, t2]]\n",
    "        if p1 != p2:\n",
    "            return x\n",
    "        if p1 != -1:\n",
    "            nodes.add(p1)\n",
    "            \n",
    "def find_spr(t1, t2):\n",
    "    start0 = diff_spr(t1, t2)\n",
    "    deleted = t1.parent(start0)\n",
    "    start1, = t1.siblings(start0)\n",
    "    # the recombination could have occured either on (start0, deleted) or (start1, deleted)\n",
    "    # to settle this, in t2, one of them will have the same grandparent and the other wont\n",
    "    gp = t1.parent(deleted)\n",
    "    gp0 = t2.parent(start0)\n",
    "    gp1 = t2.parent(start1)\n",
    "    start = start1 if gp0 == gp else start0\n",
    "    end, = t2.siblings(start)\n",
    "    if t1.parent(end) == tskit.NULL:\n",
    "        x = t2.time(t2.parent(end)) - t2.time(end)\n",
    "        root = True\n",
    "    else:\n",
    "        t0 = t1.time(t1.parent(end)) - t1.time(end)\n",
    "        t1 = t2.time(t2.parent(end)) - t2.time(end)\n",
    "        x = t1 / t0\n",
    "        root = False\n",
    "    return start, end, x, root\n",
    "\n",
    "for t1, t2 in it.pairwise(ts.aslist()):\n",
    "  print(find_spr(t1, t2))"
   ]
  },
  {
   "cell_type": "markdown",
   "id": "e13b18de",
   "metadata": {},
   "source": [
    "Make genotype matrix with a 100-site sliding window, except for when there is a recombination event within 100 sites (and then only take those sites of interest.)"
   ]
  },
  {
   "cell_type": "code",
   "execution_count": 175,
   "id": "5b50ee29",
   "metadata": {},
   "outputs": [],
   "source": [
    "# take a matrix of just the kept columns and expand with zeroes everywhere else for a fixed range of the full matrix.\n",
    "def restore_and_slice(X, start, end, kept_cols):\n",
    "  n = X.shape[0]\n",
    "  n_cols = int(end - start)\n",
    "\n",
    "  full_sub = nmp.zeros((n, n_cols))\n",
    "\n",
    "  for idx, col in enumerate(kept_cols):\n",
    "    if start <= col < end:\n",
    "      full_sub[:, col-start] = X[:, idx]\n",
    "\n",
    "  return full_sub\n",
    "\n",
    "# do this for the genotype matrix\n",
    "def make_genotype_windows(G, tree_num, breakpoints, mutation_sites):\n",
    "  start_site = breakpoints[tree_num+1]\n",
    "  end_site = breakpoints[tree_num + 2]\n",
    "\n",
    "  start_genotype = start_site\n",
    "  if end_site < (start_site + 100):\n",
    "    end_genotype = end_site\n",
    "  else:\n",
    "    end_genotype = start_site + 100\n",
    "  \n",
    "  G_sub = restore_and_slice(X=G, start = start_genotype, end = end_genotype, kept_cols=mutation_sites)\n",
    "  \n",
    "  return G_sub\n"
   ]
  },
  {
   "cell_type": "code",
   "execution_count": 176,
   "id": "4b9c1b26",
   "metadata": {},
   "outputs": [
    {
     "data": {
      "text/plain": [
       "(8, 100)"
      ]
     },
     "execution_count": 176,
     "metadata": {},
     "output_type": "execute_result"
    }
   ],
   "source": [
    "genotypes = make_genotype_windows(G = sparse_genotype, tree_num=0, breakpoints=breakpoints, mutation_sites=mutation_sites)\n",
    "genotypes.shape"
   ]
  },
  {
   "cell_type": "code",
   "execution_count": 177,
   "id": "b4edfca1",
   "metadata": {},
   "outputs": [
    {
     "data": {
      "text/plain": [
       "Array([[0., 0., 0., 0., 0., 0., 0., 0., 0., 0., 0., 0., 0., 0., 0., 0.,\n",
       "        0., 0., 0., 0., 0., 0., 0., 0., 0., 0., 0., 0., 0., 0., 0., 0.,\n",
       "        0., 0., 0., 0., 0., 0., 0., 0., 0., 0., 0., 0., 0., 0., 0., 0.,\n",
       "        0., 0., 0., 0., 0., 0., 0., 0., 0., 0., 0., 0., 0., 0., 0., 0.,\n",
       "        0., 0., 0., 0., 0., 0., 0., 0., 0., 0., 0., 0., 0., 0., 0., 0.,\n",
       "        0., 0., 0., 0., 0., 0., 0., 0., 0., 0., 0., 0., 0., 0., 0., 0.,\n",
       "        0., 0., 0., 0.],\n",
       "       [0., 0., 0., 0., 0., 0., 0., 0., 0., 0., 0., 0., 0., 0., 0., 0.,\n",
       "        0., 0., 0., 0., 0., 0., 0., 0., 0., 0., 0., 0., 0., 0., 0., 0.,\n",
       "        0., 0., 0., 0., 0., 0., 0., 0., 0., 0., 0., 0., 0., 0., 0., 0.,\n",
       "        0., 0., 0., 0., 0., 0., 0., 0., 0., 0., 0., 0., 0., 0., 0., 0.,\n",
       "        0., 0., 0., 0., 0., 0., 0., 0., 0., 0., 0., 0., 0., 0., 0., 0.,\n",
       "        0., 0., 0., 0., 0., 0., 0., 0., 0., 0., 0., 0., 0., 0., 0., 0.,\n",
       "        0., 0., 0., 0.],\n",
       "       [0., 0., 0., 0., 0., 0., 0., 0., 0., 0., 0., 0., 0., 0., 0., 0.,\n",
       "        0., 0., 0., 0., 0., 0., 0., 0., 0., 0., 0., 0., 0., 0., 0., 0.,\n",
       "        0., 0., 0., 0., 0., 0., 0., 0., 0., 0., 0., 0., 0., 0., 0., 0.,\n",
       "        0., 0., 0., 0., 0., 0., 0., 0., 0., 0., 0., 0., 0., 0., 0., 0.,\n",
       "        0., 0., 0., 0., 0., 0., 0., 0., 0., 0., 0., 0., 0., 0., 0., 0.,\n",
       "        0., 0., 0., 0., 0., 0., 0., 0., 0., 0., 0., 0., 0., 0., 0., 0.,\n",
       "        0., 0., 0., 0.],\n",
       "       [0., 0., 0., 0., 0., 0., 0., 0., 0., 0., 0., 0., 0., 0., 0., 0.,\n",
       "        0., 0., 0., 0., 0., 0., 0., 0., 0., 0., 0., 0., 0., 0., 0., 0.,\n",
       "        0., 0., 0., 0., 0., 0., 0., 0., 0., 0., 0., 0., 0., 0., 0., 0.,\n",
       "        0., 0., 0., 0., 0., 0., 0., 0., 0., 0., 0., 0., 0., 0., 0., 0.,\n",
       "        0., 0., 0., 0., 0., 0., 0., 0., 0., 0., 0., 0., 0., 0., 0., 0.,\n",
       "        0., 0., 0., 0., 0., 0., 0., 0., 0., 0., 0., 0., 0., 0., 0., 0.,\n",
       "        0., 0., 0., 0.],\n",
       "       [0., 0., 0., 0., 0., 0., 0., 0., 0., 0., 0., 0., 0., 0., 0., 0.,\n",
       "        0., 0., 0., 0., 0., 0., 0., 0., 0., 0., 0., 0., 0., 0., 0., 0.,\n",
       "        0., 0., 0., 0., 0., 0., 0., 0., 0., 0., 0., 0., 0., 0., 0., 0.,\n",
       "        0., 0., 0., 0., 0., 0., 0., 0., 0., 0., 0., 0., 0., 0., 0., 0.,\n",
       "        0., 0., 0., 0., 0., 0., 0., 0., 0., 0., 0., 0., 0., 0., 0., 0.,\n",
       "        0., 0., 0., 0., 0., 0., 0., 0., 0., 0., 0., 0., 0., 0., 0., 0.,\n",
       "        0., 0., 0., 0.],\n",
       "       [0., 0., 0., 0., 0., 0., 0., 0., 0., 0., 0., 0., 0., 0., 0., 0.,\n",
       "        0., 0., 0., 0., 0., 0., 0., 0., 0., 0., 0., 0., 0., 0., 0., 0.,\n",
       "        0., 0., 0., 0., 0., 0., 0., 0., 0., 0., 0., 0., 0., 0., 0., 0.,\n",
       "        0., 0., 0., 0., 0., 0., 0., 0., 0., 0., 0., 0., 0., 0., 0., 0.,\n",
       "        0., 0., 0., 0., 0., 0., 0., 0., 0., 0., 0., 0., 0., 0., 0., 0.,\n",
       "        0., 0., 0., 0., 0., 0., 0., 0., 0., 0., 0., 0., 0., 0., 0., 0.,\n",
       "        0., 0., 0., 0.],\n",
       "       [0., 0., 0., 0., 0., 0., 0., 0., 0., 0., 0., 0., 0., 0., 0., 0.,\n",
       "        0., 0., 0., 0., 0., 0., 0., 0., 0., 0., 0., 0., 0., 0., 0., 0.,\n",
       "        0., 0., 0., 0., 0., 0., 0., 0., 0., 0., 0., 0., 0., 0., 0., 0.,\n",
       "        0., 0., 0., 0., 0., 0., 0., 0., 0., 0., 0., 0., 0., 0., 0., 0.,\n",
       "        0., 0., 0., 0., 0., 0., 0., 0., 0., 0., 0., 0., 0., 0., 0., 0.,\n",
       "        0., 0., 0., 0., 0., 0., 0., 0., 0., 0., 0., 0., 0., 0., 0., 0.,\n",
       "        0., 0., 0., 0.],\n",
       "       [0., 0., 0., 0., 0., 0., 0., 0., 0., 0., 0., 0., 0., 0., 0., 0.,\n",
       "        0., 0., 0., 0., 0., 0., 0., 0., 0., 0., 0., 0., 0., 0., 0., 0.,\n",
       "        0., 0., 0., 0., 0., 0., 0., 0., 0., 0., 0., 0., 0., 0., 0., 0.,\n",
       "        0., 0., 0., 0., 0., 0., 0., 0., 0., 0., 0., 0., 0., 0., 0., 0.,\n",
       "        0., 0., 0., 0., 0., 0., 0., 0., 0., 0., 0., 0., 0., 0., 0., 0.,\n",
       "        0., 0., 0., 0., 0., 0., 0., 0., 0., 0., 0., 0., 0., 0., 0., 0.,\n",
       "        0., 0., 0., 0.]], dtype=float32)"
      ]
     },
     "execution_count": 177,
     "metadata": {},
     "output_type": "execute_result"
    }
   ],
   "source": [
    "genotypes"
   ]
  },
  {
   "cell_type": "code",
   "execution_count": 178,
   "id": "4daff30b",
   "metadata": {},
   "outputs": [],
   "source": [
    "class InitMLP:\n",
    "  def __init__(self, input_dim, hidden_dim, num_hidden, output_dim, key):\n",
    "    self.params = []\n",
    "    keys = jax.random.split(key, num_hidden + 1)\n",
    "\n",
    "    last_dim = input_dim\n",
    "    for i, k in enumerate(keys[: -1]):\n",
    "      W = jax.random.normal(k, (last_dim, hidden_dim)) / nmp.sqrt(last_dim)\n",
    "      b = jax.random.normal(k, hidden_dim) / nmp.sqrt(num_hidden)\n",
    "      self.params.append((W, b))\n",
    "      last_dim = hidden_dim\n",
    "    \n",
    "    W = jax.random.normal(keys[-1], (output_dim, last_dim)) / nmp.sqrt(output_dim)\n",
    "    b = jax.random.normal(keys[-1], output_dim)\n",
    "    self.params.append((W, b))\n",
    "  \n",
    "  def __call__(self, X):\n",
    "    h = X\n",
    "    for (W, b) in self.params[:-1]:\n",
    "      h = jax.nn.relu(h @ W + b)\n",
    "    W, b = self.params[-1]\n",
    "    return h @ W + b"
   ]
  },
  {
   "cell_type": "code",
   "execution_count": 179,
   "id": "0413a2ff",
   "metadata": {},
   "outputs": [],
   "source": [
    "key = jax.random.PRNGKey(1985)\n",
    "init_embedder = InitMLP(input_dim=100, hidden_dim=64, num_hidden=2, output_dim=64, key=key)\n"
   ]
  },
  {
   "cell_type": "code",
   "execution_count": 180,
   "id": "c75202bc",
   "metadata": {},
   "outputs": [
    {
     "data": {
      "text/plain": [
       "Array([[ 1.269521  , -0.7666042 , -0.11165268, -0.4375462 , -1.0406069 ,\n",
       "         0.84053797,  0.38978666, -1.3509793 ,  0.13618854, -1.1217561 ,\n",
       "        -0.42725176,  1.4763846 , -0.63571167,  0.01121454,  0.4267992 ,\n",
       "         0.73650795, -3.3260624 , -0.38266772, -1.369092  , -1.2791185 ,\n",
       "        -1.2535621 , -0.8992981 ,  0.4529702 , -0.97431636, -0.12345454,\n",
       "        -1.2945707 ,  2.5142713 ,  1.551631  ,  0.4743452 , -2.2104807 ,\n",
       "        -1.1619041 , -0.63516545,  1.088431  , -1.3457389 , -0.23364544,\n",
       "         2.1910763 ,  0.4504829 ,  4.115324  , -3.1442354 , -0.57707906,\n",
       "         0.3503601 , -0.66564953,  0.6040066 ,  1.7679443 ,  1.0190634 ,\n",
       "         0.3295908 , -0.15766335, -1.7723582 , -0.14468327, -0.6874583 ,\n",
       "        -0.09622662, -1.9166849 , -2.5416467 , -1.0736724 , -0.10105717,\n",
       "         1.6583202 ,  0.12741612, -0.6082331 ,  0.758513  , -0.5860486 ,\n",
       "         2.9077842 ,  0.5428597 ,  0.3896222 , -1.8905423 ],\n",
       "       [ 1.269521  , -0.7666042 , -0.11165268, -0.4375462 , -1.0406069 ,\n",
       "         0.84053797,  0.38978666, -1.3509793 ,  0.13618854, -1.1217561 ,\n",
       "        -0.42725176,  1.4763846 , -0.63571167,  0.01121454,  0.4267992 ,\n",
       "         0.73650795, -3.3260624 , -0.38266772, -1.369092  , -1.2791185 ,\n",
       "        -1.2535621 , -0.8992981 ,  0.4529702 , -0.97431636, -0.12345454,\n",
       "        -1.2945707 ,  2.5142713 ,  1.551631  ,  0.4743452 , -2.2104807 ,\n",
       "        -1.1619041 , -0.63516545,  1.088431  , -1.3457389 , -0.23364544,\n",
       "         2.1910763 ,  0.4504829 ,  4.115324  , -3.1442354 , -0.57707906,\n",
       "         0.3503601 , -0.66564953,  0.6040066 ,  1.7679443 ,  1.0190634 ,\n",
       "         0.3295908 , -0.15766335, -1.7723582 , -0.14468327, -0.6874583 ,\n",
       "        -0.09622662, -1.9166849 , -2.5416467 , -1.0736724 , -0.10105717,\n",
       "         1.6583202 ,  0.12741612, -0.6082331 ,  0.758513  , -0.5860486 ,\n",
       "         2.9077842 ,  0.5428597 ,  0.3896222 , -1.8905423 ],\n",
       "       [ 1.269521  , -0.7666042 , -0.11165268, -0.4375462 , -1.0406069 ,\n",
       "         0.84053797,  0.38978666, -1.3509793 ,  0.13618854, -1.1217561 ,\n",
       "        -0.42725176,  1.4763846 , -0.63571167,  0.01121454,  0.4267992 ,\n",
       "         0.73650795, -3.3260624 , -0.38266772, -1.369092  , -1.2791185 ,\n",
       "        -1.2535621 , -0.8992981 ,  0.4529702 , -0.97431636, -0.12345454,\n",
       "        -1.2945707 ,  2.5142713 ,  1.551631  ,  0.4743452 , -2.2104807 ,\n",
       "        -1.1619041 , -0.63516545,  1.088431  , -1.3457389 , -0.23364544,\n",
       "         2.1910763 ,  0.4504829 ,  4.115324  , -3.1442354 , -0.57707906,\n",
       "         0.3503601 , -0.66564953,  0.6040066 ,  1.7679443 ,  1.0190634 ,\n",
       "         0.3295908 , -0.15766335, -1.7723582 , -0.14468327, -0.6874583 ,\n",
       "        -0.09622662, -1.9166849 , -2.5416467 , -1.0736724 , -0.10105717,\n",
       "         1.6583202 ,  0.12741612, -0.6082331 ,  0.758513  , -0.5860486 ,\n",
       "         2.9077842 ,  0.5428597 ,  0.3896222 , -1.8905423 ],\n",
       "       [ 1.269521  , -0.7666042 , -0.11165268, -0.4375462 , -1.0406069 ,\n",
       "         0.84053797,  0.38978666, -1.3509793 ,  0.13618854, -1.1217561 ,\n",
       "        -0.42725176,  1.4763846 , -0.63571167,  0.01121454,  0.4267992 ,\n",
       "         0.73650795, -3.3260624 , -0.38266772, -1.369092  , -1.2791185 ,\n",
       "        -1.2535621 , -0.8992981 ,  0.4529702 , -0.97431636, -0.12345454,\n",
       "        -1.2945707 ,  2.5142713 ,  1.551631  ,  0.4743452 , -2.2104807 ,\n",
       "        -1.1619041 , -0.63516545,  1.088431  , -1.3457389 , -0.23364544,\n",
       "         2.1910763 ,  0.4504829 ,  4.115324  , -3.1442354 , -0.57707906,\n",
       "         0.3503601 , -0.66564953,  0.6040066 ,  1.7679443 ,  1.0190634 ,\n",
       "         0.3295908 , -0.15766335, -1.7723582 , -0.14468327, -0.6874583 ,\n",
       "        -0.09622662, -1.9166849 , -2.5416467 , -1.0736724 , -0.10105717,\n",
       "         1.6583202 ,  0.12741612, -0.6082331 ,  0.758513  , -0.5860486 ,\n",
       "         2.9077842 ,  0.5428597 ,  0.3896222 , -1.8905423 ],\n",
       "       [ 1.269521  , -0.7666042 , -0.11165268, -0.4375462 , -1.0406069 ,\n",
       "         0.84053797,  0.38978666, -1.3509793 ,  0.13618854, -1.1217561 ,\n",
       "        -0.42725176,  1.4763846 , -0.63571167,  0.01121454,  0.4267992 ,\n",
       "         0.73650795, -3.3260624 , -0.38266772, -1.369092  , -1.2791185 ,\n",
       "        -1.2535621 , -0.8992981 ,  0.4529702 , -0.97431636, -0.12345454,\n",
       "        -1.2945707 ,  2.5142713 ,  1.551631  ,  0.4743452 , -2.2104807 ,\n",
       "        -1.1619041 , -0.63516545,  1.088431  , -1.3457389 , -0.23364544,\n",
       "         2.1910763 ,  0.4504829 ,  4.115324  , -3.1442354 , -0.57707906,\n",
       "         0.3503601 , -0.66564953,  0.6040066 ,  1.7679443 ,  1.0190634 ,\n",
       "         0.3295908 , -0.15766335, -1.7723582 , -0.14468327, -0.6874583 ,\n",
       "        -0.09622662, -1.9166849 , -2.5416467 , -1.0736724 , -0.10105717,\n",
       "         1.6583202 ,  0.12741612, -0.6082331 ,  0.758513  , -0.5860486 ,\n",
       "         2.9077842 ,  0.5428597 ,  0.3896222 , -1.8905423 ],\n",
       "       [ 1.269521  , -0.7666042 , -0.11165268, -0.4375462 , -1.0406069 ,\n",
       "         0.84053797,  0.38978666, -1.3509793 ,  0.13618854, -1.1217561 ,\n",
       "        -0.42725176,  1.4763846 , -0.63571167,  0.01121454,  0.4267992 ,\n",
       "         0.73650795, -3.3260624 , -0.38266772, -1.369092  , -1.2791185 ,\n",
       "        -1.2535621 , -0.8992981 ,  0.4529702 , -0.97431636, -0.12345454,\n",
       "        -1.2945707 ,  2.5142713 ,  1.551631  ,  0.4743452 , -2.2104807 ,\n",
       "        -1.1619041 , -0.63516545,  1.088431  , -1.3457389 , -0.23364544,\n",
       "         2.1910763 ,  0.4504829 ,  4.115324  , -3.1442354 , -0.57707906,\n",
       "         0.3503601 , -0.66564953,  0.6040066 ,  1.7679443 ,  1.0190634 ,\n",
       "         0.3295908 , -0.15766335, -1.7723582 , -0.14468327, -0.6874583 ,\n",
       "        -0.09622662, -1.9166849 , -2.5416467 , -1.0736724 , -0.10105717,\n",
       "         1.6583202 ,  0.12741612, -0.6082331 ,  0.758513  , -0.5860486 ,\n",
       "         2.9077842 ,  0.5428597 ,  0.3896222 , -1.8905423 ],\n",
       "       [ 1.269521  , -0.7666042 , -0.11165268, -0.4375462 , -1.0406069 ,\n",
       "         0.84053797,  0.38978666, -1.3509793 ,  0.13618854, -1.1217561 ,\n",
       "        -0.42725176,  1.4763846 , -0.63571167,  0.01121454,  0.4267992 ,\n",
       "         0.73650795, -3.3260624 , -0.38266772, -1.369092  , -1.2791185 ,\n",
       "        -1.2535621 , -0.8992981 ,  0.4529702 , -0.97431636, -0.12345454,\n",
       "        -1.2945707 ,  2.5142713 ,  1.551631  ,  0.4743452 , -2.2104807 ,\n",
       "        -1.1619041 , -0.63516545,  1.088431  , -1.3457389 , -0.23364544,\n",
       "         2.1910763 ,  0.4504829 ,  4.115324  , -3.1442354 , -0.57707906,\n",
       "         0.3503601 , -0.66564953,  0.6040066 ,  1.7679443 ,  1.0190634 ,\n",
       "         0.3295908 , -0.15766335, -1.7723582 , -0.14468327, -0.6874583 ,\n",
       "        -0.09622662, -1.9166849 , -2.5416467 , -1.0736724 , -0.10105717,\n",
       "         1.6583202 ,  0.12741612, -0.6082331 ,  0.758513  , -0.5860486 ,\n",
       "         2.9077842 ,  0.5428597 ,  0.3896222 , -1.8905423 ],\n",
       "       [ 1.269521  , -0.7666042 , -0.11165268, -0.4375462 , -1.0406069 ,\n",
       "         0.84053797,  0.38978666, -1.3509793 ,  0.13618854, -1.1217561 ,\n",
       "        -0.42725176,  1.4763846 , -0.63571167,  0.01121454,  0.4267992 ,\n",
       "         0.73650795, -3.3260624 , -0.38266772, -1.369092  , -1.2791185 ,\n",
       "        -1.2535621 , -0.8992981 ,  0.4529702 , -0.97431636, -0.12345454,\n",
       "        -1.2945707 ,  2.5142713 ,  1.551631  ,  0.4743452 , -2.2104807 ,\n",
       "        -1.1619041 , -0.63516545,  1.088431  , -1.3457389 , -0.23364544,\n",
       "         2.1910763 ,  0.4504829 ,  4.115324  , -3.1442354 , -0.57707906,\n",
       "         0.3503601 , -0.66564953,  0.6040066 ,  1.7679443 ,  1.0190634 ,\n",
       "         0.3295908 , -0.15766335, -1.7723582 , -0.14468327, -0.6874583 ,\n",
       "        -0.09622662, -1.9166849 , -2.5416467 , -1.0736724 , -0.10105717,\n",
       "         1.6583202 ,  0.12741612, -0.6082331 ,  0.758513  , -0.5860486 ,\n",
       "         2.9077842 ,  0.5428597 ,  0.3896222 , -1.8905423 ]],      dtype=float32)"
      ]
     },
     "execution_count": 180,
     "metadata": {},
     "output_type": "execute_result"
    }
   ],
   "source": [
    "init_embeds = init_embedder(X = genotypes)\n",
    "init_embeds"
   ]
  },
  {
   "cell_type": "markdown",
   "id": "07950b41",
   "metadata": {},
   "source": [
    "Initialize full embeddings matrix for all nodes."
   ]
  },
  {
   "cell_type": "code",
   "execution_count": 181,
   "id": "682853a7",
   "metadata": {},
   "outputs": [
    {
     "data": {
      "text/plain": [
       "Array([[ 1.269521  , -0.7666042 , -0.11165268, ...,  0.5428597 ,\n",
       "         0.3896222 , -1.8905423 ],\n",
       "       [ 1.269521  , -0.7666042 , -0.11165268, ...,  0.5428597 ,\n",
       "         0.3896222 , -1.8905423 ],\n",
       "       [ 1.269521  , -0.7666042 , -0.11165268, ...,  0.5428597 ,\n",
       "         0.3896222 , -1.8905423 ],\n",
       "       ...,\n",
       "       [ 0.        ,  0.        ,  0.        , ...,  0.        ,\n",
       "         0.        ,  0.        ],\n",
       "       [ 0.        ,  0.        ,  0.        , ...,  0.        ,\n",
       "         0.        ,  0.        ],\n",
       "       [ 0.        ,  0.        ,  0.        , ...,  0.        ,\n",
       "         0.        ,  0.        ]], dtype=float32)"
      ]
     },
     "execution_count": 181,
     "metadata": {},
     "output_type": "execute_result"
    }
   ],
   "source": [
    "embeddings = nmp.zeros((N, 64))\n",
    "for i in range(init_embeds.shape[0]):\n",
    "  embeddings = embeddings.at[i].set(init_embeds[i])\n",
    "embeddings"
   ]
  },
  {
   "cell_type": "code",
   "execution_count": 182,
   "id": "00747644",
   "metadata": {},
   "outputs": [
    {
     "data": {
      "text/plain": [
       "Array([ 1.269521  , -0.7666042 , -0.11165268, -0.4375462 , -1.0406069 ,\n",
       "        0.84053797,  0.38978666, -1.3509793 ,  0.13618854, -1.1217561 ,\n",
       "       -0.42725176,  1.4763846 , -0.63571167,  0.01121454,  0.4267992 ,\n",
       "        0.73650795, -3.3260624 , -0.38266772, -1.369092  , -1.2791185 ,\n",
       "       -1.2535621 , -0.8992981 ,  0.4529702 , -0.97431636, -0.12345454,\n",
       "       -1.2945707 ,  2.5142713 ,  1.551631  ,  0.4743452 , -2.2104807 ,\n",
       "       -1.1619041 , -0.63516545,  1.088431  , -1.3457389 , -0.23364544,\n",
       "        2.1910763 ,  0.4504829 ,  4.115324  , -3.1442354 , -0.57707906,\n",
       "        0.3503601 , -0.66564953,  0.6040066 ,  1.7679443 ,  1.0190634 ,\n",
       "        0.3295908 , -0.15766335, -1.7723582 , -0.14468327, -0.6874583 ,\n",
       "       -0.09622662, -1.9166849 , -2.5416467 , -1.0736724 , -0.10105717,\n",
       "        1.6583202 ,  0.12741612, -0.6082331 ,  0.758513  , -0.5860486 ,\n",
       "        2.9077842 ,  0.5428597 ,  0.3896222 , -1.8905423 ], dtype=float32)"
      ]
     },
     "execution_count": 182,
     "metadata": {},
     "output_type": "execute_result"
    }
   ],
   "source": [
    "embeddings[4]"
   ]
  },
  {
   "cell_type": "code",
   "execution_count": 183,
   "id": "fcbaf1bc",
   "metadata": {},
   "outputs": [],
   "source": [
    "tree_post = list(tree.nodes(order = \"postorder\"))"
   ]
  },
  {
   "cell_type": "code",
   "execution_count": 184,
   "id": "9c3b5c5a",
   "metadata": {},
   "outputs": [],
   "source": [
    "for t in tree_post:\n",
    "  children = tree.children(u = t)\n",
    "  if children != ():\n",
    "    children_vectors = embeddings[nmp.array(children) - 1]\n",
    "    children_mean = nmp.mean(children_vectors, axis=0)\n",
    "    embeddings = embeddings.at[t - 1].set(children_mean)"
   ]
  },
  {
   "cell_type": "code",
   "execution_count": 185,
   "id": "1e7d261c",
   "metadata": {},
   "outputs": [],
   "source": [
    "# node_feats = jax.random.normal(key=key, shape = (28, 8))\n",
    "node_feats = embeddings"
   ]
  },
  {
   "cell_type": "code",
   "execution_count": 186,
   "id": "6b2ed508",
   "metadata": {},
   "outputs": [
    {
     "data": {
      "text/plain": [
       "Array([[ 1.269521  , -0.7666042 , -0.11165268, ...,  0.5428597 ,\n",
       "         0.3896222 , -1.8905423 ],\n",
       "       [ 1.269521  , -0.7666042 , -0.11165268, ...,  0.5428597 ,\n",
       "         0.3896222 , -1.8905423 ],\n",
       "       [ 1.269521  , -0.7666042 , -0.11165268, ...,  0.5428597 ,\n",
       "         0.3896222 , -1.8905423 ],\n",
       "       ...,\n",
       "       [ 0.        ,  0.        ,  0.        , ...,  0.        ,\n",
       "         0.        ,  0.        ],\n",
       "       [ 1.2298485 , -0.74264777, -0.10816354, ...,  0.5258953 ,\n",
       "         0.37744653, -1.8314629 ],\n",
       "       [ 0.        ,  0.        ,  0.        , ...,  0.        ,\n",
       "         0.        ,  0.        ]], dtype=float32)"
      ]
     },
     "execution_count": 186,
     "metadata": {},
     "output_type": "execute_result"
    }
   ],
   "source": [
    "node_feats"
   ]
  },
  {
   "cell_type": "code",
   "execution_count": 155,
   "id": "eea42590",
   "metadata": {},
   "outputs": [
    {
     "data": {
      "text/plain": [
       "Array([[16, 27],\n",
       "       [20, 27],\n",
       "       [ 8, 16],\n",
       "       [10, 16],\n",
       "       [ 3,  8],\n",
       "       [ 6,  8],\n",
       "       [ 7, 10],\n",
       "       [ 9, 10],\n",
       "       [ 1,  9],\n",
       "       [ 2,  9],\n",
       "       [ 5, 20],\n",
       "       [19, 20],\n",
       "       [ 0, 19],\n",
       "       [ 4, 19]], dtype=int32)"
      ]
     },
     "execution_count": 155,
     "metadata": {},
     "output_type": "execute_result"
    }
   ],
   "source": [
    "edges"
   ]
  },
  {
   "cell_type": "markdown",
   "id": "44b6a92a",
   "metadata": {},
   "source": [
    "Message passing ARG main code"
   ]
  },
  {
   "cell_type": "markdown",
   "id": "e1bb82c6",
   "metadata": {},
   "source": [
    "Define a single layer for a GCN."
   ]
  },
  {
   "cell_type": "code",
   "execution_count": 156,
   "id": "ece6ce4d",
   "metadata": {},
   "outputs": [],
   "source": [
    "class GCNLayer(eqx.Module):\n",
    "    w: nmp.ndarray\n",
    "    b: nmp.ndarray\n",
    "\n",
    "    def __init__(self, in_dim, out_dim, key):\n",
    "        wkey, bkey = jax.random.split(key)\n",
    "        self.w = jax.random.normal(wkey, (in_dim, out_dim))   \n",
    "        self.b = jax.random.normal(bkey, (out_dim,))\n",
    "\n",
    "    def __call__(self, X, A, eps=1e-8):\n",
    "       assert A.shape == (N, N), f\"A must be ({N},{N}), got {A.shape}\"\n",
    "\n",
    "       A_tilde = A + nmp.eye(N)\n",
    "\n",
    "       deg = A_tilde.sum(axis = 1)\n",
    "       deg_mat = nmp.diag(deg)\n",
    "       deg_mat_sqrt_inv = nmp.sqrt(nmp.linalg.inv(deg_mat))\n",
    "       total = deg_mat_sqrt_inv @ A_tilde @ deg_mat_sqrt_inv\n",
    "       H = total @ (X @ self.w + self.b)\n",
    "       return jax.nn.relu(H)"
   ]
  },
  {
   "cell_type": "markdown",
   "id": "ba9f1ed4",
   "metadata": {},
   "source": [
    "MLP testing (now deprecated to other files.)"
   ]
  },
  {
   "cell_type": "code",
   "execution_count": null,
   "id": "6906d87c",
   "metadata": {},
   "outputs": [],
   "source": [
    "class GCNLayer(eqx.Module):\n",
    "    mlp: eqx.nn.MLP\n",
    "\n",
    "    def __init__(self, in_dim, out_dim, key):\n",
    "        self.mlp = eqx.nn.MLP(in_size=in_dim, out_size=out_dim, width_size=16, depth=1, key=key)\n",
    "\n",
    "    def __call__(self, X, A, eps=1e-8):\n",
    "       assert A.shape == (N, N), f\"A must be ({N},{N}), got {A.shape}\"\n",
    "\n",
    "       A_tilde = A + nmp.eye(N)\n",
    "\n",
    "       deg = A_tilde.sum(axis = 1)\n",
    "       deg_mat = nmp.diag(deg)\n",
    "       deg_mat_sqrt_inv = nmp.sqrt(nmp.linalg.inv(deg_mat))\n",
    "       total = deg_mat_sqrt_inv @ A_tilde @ deg_mat_sqrt_inv\n",
    "       H = total @ (X @ self.w + self.b)\n",
    "       return jax.nn.relu(H)"
   ]
  },
  {
   "cell_type": "markdown",
   "id": "3bd27a8a",
   "metadata": {},
   "source": [
    "Describe all the layers from the single layer"
   ]
  },
  {
   "cell_type": "code",
   "execution_count": 157,
   "id": "0e6437ca",
   "metadata": {},
   "outputs": [],
   "source": [
    "class GCNEncoder(eqx.Module):\n",
    "  layers: list\n",
    "\n",
    "  def __init__(self, in_dim, hidden_dim, num_layers, key):\n",
    "    keys = jax.random.split(key, num_layers)\n",
    "    self.layers = [GCNLayer(in_dim, hidden_dim, keys[0])]\n",
    "    for k in keys[1:]:\n",
    "      self.layers.append(GCNLayer(hidden_dim, hidden_dim, k))\n",
    "  \n",
    "  def __call__(self, X, A):\n",
    "    for layer in self.layers:\n",
    "      X = layer(X = X, A = A)\n",
    "    \n",
    "    return X"
   ]
  },
  {
   "cell_type": "code",
   "execution_count": 166,
   "id": "d24afe7e",
   "metadata": {},
   "outputs": [],
   "source": [
    "def main(X, A, edges, true_idx, hidden_dim = 8, num_layers = 2, key = key, learning_rate=3e-3, steps = 200):\n",
    "\n",
    "  model = GCNEncoder(in_dim=X.shape[1], hidden_dim=hidden_dim, num_layers=num_layers, key=key)\n",
    "\n",
    "  @eqx.filter_value_and_grad\n",
    "  def compute_loss(model, X, A, edges, true_idx):\n",
    "    embeddings = model(X = X, A = A)\n",
    "\n",
    "    u = embeddings[edges[:, 0]]\n",
    "    v = embeddings[edges[:, 1]]\n",
    "\n",
    "    logits = nmp.sum(u * v, axis=1)\n",
    "    jax.debug.print(\"logits = {}\", logits)\n",
    "\n",
    "    norm_u = nmp.linalg.norm(u, axis=1)\n",
    "    norm_v = nmp.linalg.norm(v, axis = 1)\n",
    "\n",
    "    sims = logits / (norm_u * norm_v)\n",
    "    # jax.debug.print(\"sims= {}\", sims)\n",
    "\n",
    "    log_probs = log_softmax(sims)\n",
    "\n",
    "    loss = -log_probs[true_idx]\n",
    "\n",
    "    return loss\n",
    "  \n",
    "  @eqx.filter_jit\n",
    "  def make_step(model, X, A, edges, true_idx, opt_state):\n",
    "    loss, grads = compute_loss(model, X = X, A = A, edges = edges, true_idx = true_idx)\n",
    "    updates, opt_state = optim.update(grads, opt_state)\n",
    "    model = eqx.apply_updates(model, updates)\n",
    "    return loss, model, opt_state\n",
    "  \n",
    "  optim = optax.adam(learning_rate=learning_rate)\n",
    "  opt_state = optim.init(model)\n",
    "\n",
    "  for step in range(steps):\n",
    "    loss, model, opt_state = make_step(model=model, X=X, A = A, opt_state = opt_state, true_idx=true_idx, edges=edges)\n",
    "\n",
    "    loss = loss.item()\n",
    "    print(f\"step={step}, loss={loss}\")\n",
    "\n"
   ]
  },
  {
   "cell_type": "code",
   "execution_count": 167,
   "id": "c1ff6dc1",
   "metadata": {},
   "outputs": [
    {
     "ename": "TypeError",
     "evalue": "zeros_like requires ndarray or scalar arguments, got <class 'jax._src.custom_derivatives.custom_jvp'> at position 0.",
     "output_type": "error",
     "traceback": [
      "\u001b[31m---------------------------------------------------------------------------\u001b[39m",
      "\u001b[31mTypeError\u001b[39m                                 Traceback (most recent call last)",
      "\u001b[36mCell\u001b[39m\u001b[36m \u001b[39m\u001b[32mIn[167]\u001b[39m\u001b[32m, line 1\u001b[39m\n\u001b[32m----> \u001b[39m\u001b[32m1\u001b[39m main(X = node_feats, A = A, hidden_dim=\u001b[32m8\u001b[39m, edges = edges, num_layers=\u001b[32m3\u001b[39m, key = key, true_idx=\u001b[32m0\u001b[39m, steps=\u001b[32m10000\u001b[39m)\n",
      "\u001b[36mCell\u001b[39m\u001b[36m \u001b[39m\u001b[32mIn[166]\u001b[39m\u001b[32m, line 35\u001b[39m, in \u001b[36mmain\u001b[39m\u001b[34m(X, A, edges, true_idx, hidden_dim, num_layers, key, learning_rate, steps)\u001b[39m\n\u001b[32m     32\u001b[39m   \u001b[38;5;28;01mreturn\u001b[39;00m loss, model, opt_state\n\u001b[32m     34\u001b[39m optim = optax.adam(learning_rate=learning_rate)\n\u001b[32m---> \u001b[39m\u001b[32m35\u001b[39m opt_state = optim.init(model)\n\u001b[32m     37\u001b[39m \u001b[38;5;28;01mfor\u001b[39;00m step \u001b[38;5;129;01min\u001b[39;00m \u001b[38;5;28mrange\u001b[39m(steps):\n\u001b[32m     38\u001b[39m   loss, model, opt_state = make_step(model=model, X=X, A = A, opt_state = opt_state, true_idx=true_idx, edges=edges)\n",
      "\u001b[36mFile \u001b[39m\u001b[32m~/anaconda3/envs/arg-gnn/lib/python3.11/site-packages/optax/transforms/_combining.py:78\u001b[39m, in \u001b[36mchain.<locals>.init_fn\u001b[39m\u001b[34m(params)\u001b[39m\n\u001b[32m     77\u001b[39m \u001b[38;5;28;01mdef\u001b[39;00m\u001b[38;5;250m \u001b[39m\u001b[34minit_fn\u001b[39m(params):\n\u001b[32m---> \u001b[39m\u001b[32m78\u001b[39m   \u001b[38;5;28;01mreturn\u001b[39;00m \u001b[38;5;28mtuple\u001b[39m(fn(params) \u001b[38;5;28;01mfor\u001b[39;00m fn \u001b[38;5;129;01min\u001b[39;00m init_fns)\n",
      "\u001b[36mFile \u001b[39m\u001b[32m~/anaconda3/envs/arg-gnn/lib/python3.11/site-packages/optax/transforms/_combining.py:78\u001b[39m, in \u001b[36m<genexpr>\u001b[39m\u001b[34m(.0)\u001b[39m\n\u001b[32m     77\u001b[39m \u001b[38;5;28;01mdef\u001b[39;00m\u001b[38;5;250m \u001b[39m\u001b[34minit_fn\u001b[39m(params):\n\u001b[32m---> \u001b[39m\u001b[32m78\u001b[39m   \u001b[38;5;28;01mreturn\u001b[39;00m \u001b[38;5;28mtuple\u001b[39m(fn(params) \u001b[38;5;28;01mfor\u001b[39;00m fn \u001b[38;5;129;01min\u001b[39;00m init_fns)\n",
      "\u001b[36mFile \u001b[39m\u001b[32m~/anaconda3/envs/arg-gnn/lib/python3.11/site-packages/optax/_src/transform.py:277\u001b[39m, in \u001b[36mscale_by_adam.<locals>.init_fn\u001b[39m\u001b[34m(params)\u001b[39m\n\u001b[32m    276\u001b[39m \u001b[38;5;28;01mdef\u001b[39;00m\u001b[38;5;250m \u001b[39m\u001b[34minit_fn\u001b[39m(params):\n\u001b[32m--> \u001b[39m\u001b[32m277\u001b[39m   mu = optax.tree.zeros_like(params, dtype=mu_dtype)  \u001b[38;5;66;03m# First moment\u001b[39;00m\n\u001b[32m    278\u001b[39m   nu = optax.tree.zeros_like(params)  \u001b[38;5;66;03m# Second moment\u001b[39;00m\n\u001b[32m    279\u001b[39m   \u001b[38;5;28;01mreturn\u001b[39;00m ScaleByAdamState(count=jnp.zeros([], jnp.int32), mu=mu, nu=nu)\n",
      "\u001b[36mFile \u001b[39m\u001b[32m~/anaconda3/envs/arg-gnn/lib/python3.11/site-packages/optax/tree_utils/_tree_math.py:271\u001b[39m, in \u001b[36mtree_zeros_like\u001b[39m\u001b[34m(tree, dtype)\u001b[39m\n\u001b[32m    258\u001b[39m \u001b[38;5;28;01mdef\u001b[39;00m\u001b[38;5;250m \u001b[39m\u001b[34mtree_zeros_like\u001b[39m(\n\u001b[32m    259\u001b[39m     tree: Any,\n\u001b[32m    260\u001b[39m     dtype: Optional[jax.typing.DTypeLike] = \u001b[38;5;28;01mNone\u001b[39;00m,\n\u001b[32m    261\u001b[39m ) -> Any:\n\u001b[32m    262\u001b[39m \u001b[38;5;250m  \u001b[39m\u001b[33;03m\"\"\"Creates an all-zeros tree with the same structure.\u001b[39;00m\n\u001b[32m    263\u001b[39m \n\u001b[32m    264\u001b[39m \u001b[33;03m  Args:\u001b[39;00m\n\u001b[32m   (...)\u001b[39m\u001b[32m    269\u001b[39m \u001b[33;03m    an all-zeros tree with the same structure as ``tree``.\u001b[39;00m\n\u001b[32m    270\u001b[39m \u001b[33;03m  \"\"\"\u001b[39;00m\n\u001b[32m--> \u001b[39m\u001b[32m271\u001b[39m   \u001b[38;5;28;01mreturn\u001b[39;00m jax.tree.map(\u001b[38;5;28;01mlambda\u001b[39;00m x: jnp.zeros_like(x, dtype=dtype), tree)\n",
      "\u001b[36mFile \u001b[39m\u001b[32m~/anaconda3/envs/arg-gnn/lib/python3.11/site-packages/jax/_src/tree.py:155\u001b[39m, in \u001b[36mmap\u001b[39m\u001b[34m(f, tree, is_leaf, *rest)\u001b[39m\n\u001b[32m    115\u001b[39m \u001b[38;5;28;01mdef\u001b[39;00m\u001b[38;5;250m \u001b[39m\u001b[34mmap\u001b[39m(f: Callable[..., Any],\n\u001b[32m    116\u001b[39m         tree: Any,\n\u001b[32m    117\u001b[39m         *rest: Any,\n\u001b[32m    118\u001b[39m         is_leaf: Callable[[Any], \u001b[38;5;28mbool\u001b[39m] | \u001b[38;5;28;01mNone\u001b[39;00m = \u001b[38;5;28;01mNone\u001b[39;00m) -> Any:\n\u001b[32m    119\u001b[39m \u001b[38;5;250m  \u001b[39m\u001b[33;03m\"\"\"Maps a multi-input function over pytree args to produce a new pytree.\u001b[39;00m\n\u001b[32m    120\u001b[39m \n\u001b[32m    121\u001b[39m \u001b[33;03m  Args:\u001b[39;00m\n\u001b[32m   (...)\u001b[39m\u001b[32m    153\u001b[39m \u001b[33;03m    - :func:`jax.tree.reduce`\u001b[39;00m\n\u001b[32m    154\u001b[39m \u001b[33;03m  \"\"\"\u001b[39;00m\n\u001b[32m--> \u001b[39m\u001b[32m155\u001b[39m   \u001b[38;5;28;01mreturn\u001b[39;00m tree_util.tree_map(f, tree, *rest, is_leaf=is_leaf)\n",
      "\u001b[36mFile \u001b[39m\u001b[32m~/anaconda3/envs/arg-gnn/lib/python3.11/site-packages/jax/_src/tree_util.py:361\u001b[39m, in \u001b[36mtree_map\u001b[39m\u001b[34m(f, tree, is_leaf, *rest)\u001b[39m\n\u001b[32m    359\u001b[39m leaves, treedef = tree_flatten(tree, is_leaf)\n\u001b[32m    360\u001b[39m all_leaves = [leaves] + [treedef.flatten_up_to(r) \u001b[38;5;28;01mfor\u001b[39;00m r \u001b[38;5;129;01min\u001b[39;00m rest]\n\u001b[32m--> \u001b[39m\u001b[32m361\u001b[39m \u001b[38;5;28;01mreturn\u001b[39;00m treedef.unflatten(f(*xs) \u001b[38;5;28;01mfor\u001b[39;00m xs \u001b[38;5;129;01min\u001b[39;00m \u001b[38;5;28mzip\u001b[39m(*all_leaves))\n",
      "\u001b[36mFile \u001b[39m\u001b[32m~/anaconda3/envs/arg-gnn/lib/python3.11/site-packages/jax/_src/tree_util.py:361\u001b[39m, in \u001b[36m<genexpr>\u001b[39m\u001b[34m(.0)\u001b[39m\n\u001b[32m    359\u001b[39m leaves, treedef = tree_flatten(tree, is_leaf)\n\u001b[32m    360\u001b[39m all_leaves = [leaves] + [treedef.flatten_up_to(r) \u001b[38;5;28;01mfor\u001b[39;00m r \u001b[38;5;129;01min\u001b[39;00m rest]\n\u001b[32m--> \u001b[39m\u001b[32m361\u001b[39m \u001b[38;5;28;01mreturn\u001b[39;00m treedef.unflatten(f(*xs) \u001b[38;5;28;01mfor\u001b[39;00m xs \u001b[38;5;129;01min\u001b[39;00m \u001b[38;5;28mzip\u001b[39m(*all_leaves))\n",
      "\u001b[36mFile \u001b[39m\u001b[32m~/anaconda3/envs/arg-gnn/lib/python3.11/site-packages/optax/tree_utils/_tree_math.py:271\u001b[39m, in \u001b[36mtree_zeros_like.<locals>.<lambda>\u001b[39m\u001b[34m(x)\u001b[39m\n\u001b[32m    258\u001b[39m \u001b[38;5;28;01mdef\u001b[39;00m\u001b[38;5;250m \u001b[39m\u001b[34mtree_zeros_like\u001b[39m(\n\u001b[32m    259\u001b[39m     tree: Any,\n\u001b[32m    260\u001b[39m     dtype: Optional[jax.typing.DTypeLike] = \u001b[38;5;28;01mNone\u001b[39;00m,\n\u001b[32m    261\u001b[39m ) -> Any:\n\u001b[32m    262\u001b[39m \u001b[38;5;250m  \u001b[39m\u001b[33;03m\"\"\"Creates an all-zeros tree with the same structure.\u001b[39;00m\n\u001b[32m    263\u001b[39m \n\u001b[32m    264\u001b[39m \u001b[33;03m  Args:\u001b[39;00m\n\u001b[32m   (...)\u001b[39m\u001b[32m    269\u001b[39m \u001b[33;03m    an all-zeros tree with the same structure as ``tree``.\u001b[39;00m\n\u001b[32m    270\u001b[39m \u001b[33;03m  \"\"\"\u001b[39;00m\n\u001b[32m--> \u001b[39m\u001b[32m271\u001b[39m   \u001b[38;5;28;01mreturn\u001b[39;00m jax.tree.map(\u001b[38;5;28;01mlambda\u001b[39;00m x: jnp.zeros_like(x, dtype=dtype), tree)\n",
      "\u001b[36mFile \u001b[39m\u001b[32m~/anaconda3/envs/arg-gnn/lib/python3.11/site-packages/jax/_src/numpy/array_creation.py:286\u001b[39m, in \u001b[36mzeros_like\u001b[39m\u001b[34m(a, dtype, shape, device)\u001b[39m\n\u001b[32m    284\u001b[39m   \u001b[38;5;28;01mif\u001b[39;00m \u001b[38;5;28mhasattr\u001b[39m(a, \u001b[33m'\u001b[39m\u001b[33m__jax_array__\u001b[39m\u001b[33m'\u001b[39m):\n\u001b[32m    285\u001b[39m     a = a.__jax_array__()\n\u001b[32m--> \u001b[39m\u001b[32m286\u001b[39m   util.check_arraylike(\u001b[33m\"\u001b[39m\u001b[33mzeros_like\u001b[39m\u001b[33m\"\u001b[39m, a)\n\u001b[32m    287\u001b[39m dtypes.check_user_dtype_supported(dtype, \u001b[33m\"\u001b[39m\u001b[33mzeros_like\u001b[39m\u001b[33m\"\u001b[39m)\n\u001b[32m    288\u001b[39m \u001b[38;5;28;01mif\u001b[39;00m shape \u001b[38;5;129;01mis\u001b[39;00m \u001b[38;5;129;01mnot\u001b[39;00m \u001b[38;5;28;01mNone\u001b[39;00m:\n",
      "\u001b[36mFile \u001b[39m\u001b[32m~/anaconda3/envs/arg-gnn/lib/python3.11/site-packages/jax/_src/numpy/util.py:182\u001b[39m, in \u001b[36mcheck_arraylike\u001b[39m\u001b[34m(fun_name, emit_warning, stacklevel, *args)\u001b[39m\n\u001b[32m    179\u001b[39m   warnings.warn(msg + \u001b[33m\"\u001b[39m\u001b[33m In a future JAX release this will be an error.\u001b[39m\u001b[33m\"\u001b[39m,\n\u001b[32m    180\u001b[39m                 category=\u001b[38;5;167;01mDeprecationWarning\u001b[39;00m, stacklevel=stacklevel)\n\u001b[32m    181\u001b[39m \u001b[38;5;28;01melse\u001b[39;00m:\n\u001b[32m--> \u001b[39m\u001b[32m182\u001b[39m   \u001b[38;5;28;01mraise\u001b[39;00m \u001b[38;5;167;01mTypeError\u001b[39;00m(msg.format(fun_name, \u001b[38;5;28mtype\u001b[39m(arg), pos))\n",
      "\u001b[31mTypeError\u001b[39m: zeros_like requires ndarray or scalar arguments, got <class 'jax._src.custom_derivatives.custom_jvp'> at position 0."
     ]
    }
   ],
   "source": [
    "main(X = node_feats, A = A, hidden_dim=8, edges = edges, num_layers=3, key = key, true_idx=0, steps=10000)"
   ]
  }
 ],
 "metadata": {
  "kernelspec": {
   "display_name": "arg-gnn",
   "language": "python",
   "name": "python3"
  },
  "language_info": {
   "codemirror_mode": {
    "name": "ipython",
    "version": 3
   },
   "file_extension": ".py",
   "mimetype": "text/x-python",
   "name": "python",
   "nbconvert_exporter": "python",
   "pygments_lexer": "ipython3",
   "version": "3.11.11"
  }
 },
 "nbformat": 4,
 "nbformat_minor": 5
}
