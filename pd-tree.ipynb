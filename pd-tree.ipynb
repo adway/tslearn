{
 "cells": [
  {
   "cell_type": "code",
   "execution_count": 294,
   "id": "6afa73a4",
   "metadata": {},
   "outputs": [],
   "source": [
    "import msprime\n",
    "from IPython.display import SVG, display\n",
    "import networkx as nx\n",
    "import jax\n",
    "import jax.numpy as nmp\n",
    "from jax.nn import log_softmax\n",
    "import equinox as eqx\n",
    "import itertools as it\n",
    "import optax\n",
    "import tskit\n",
    "import numpy as np\n",
    "from collections import defaultdict"
   ]
  },
  {
   "cell_type": "code",
   "execution_count": 295,
   "id": "2d86e3a0",
   "metadata": {},
   "outputs": [],
   "source": [
    "ts = msprime.sim_ancestry(\n",
    "        samples=4,\n",
    "        recombination_rate=1e-8,\n",
    "        sequence_length=20_000,\n",
    "        population_size=8_000)\n",
    "mts = msprime.sim_mutations(ts, rate = 1e-8)\n",
    "sparse_genotype = mts.genotype_matrix().T\n",
    "breakpoints = list(mts.breakpoints())\n",
    "mutation_sites = [site.position for site in mts.sites()]"
   ]
  },
  {
   "cell_type": "code",
   "execution_count": 296,
   "id": "454b0ebd",
   "metadata": {},
   "outputs": [
    {
     "data": {
      "text/plain": [
       "Array([27, 27, 17, 17, 20, 20,  9,  9,  8,  8, 12, 12, 10, 10], dtype=int32)"
      ]
     },
     "execution_count": 296,
     "metadata": {},
     "output_type": "execute_result"
    }
   ],
   "source": [
    "tree = ts.at_index(0)\n",
    "dod = tree.as_dict_of_dicts()\n",
    "tree_graph = nx.Graph(dod)\n",
    "edge_pairs = list(tree_graph.edges)\n",
    "edge_pairs_backwards = [t[::-1] for t in edge_pairs]\n",
    "senders, receivers = zip(*edge_pairs_backwards)\n",
    "senders = nmp.array(senders)\n",
    "receivers = nmp.array(receivers)\n",
    "N = max(list(tree_graph.nodes)) + 1\n",
    "receivers\n",
    "receivers"
   ]
  },
  {
   "cell_type": "code",
   "execution_count": 297,
   "id": "326223ee",
   "metadata": {},
   "outputs": [],
   "source": [
    "A = nmp.zeros((N, N))\n",
    "A = A.at[senders, receivers].set(1)\n",
    "A = A.at[receivers, senders].set(1)"
   ]
  },
  {
   "cell_type": "code",
   "execution_count": 298,
   "id": "bac56fa6",
   "metadata": {},
   "outputs": [
    {
     "data": {
      "text/plain": [
       "Array([[17, 27],\n",
       "       [20, 27],\n",
       "       [ 5, 17],\n",
       "       [ 7, 17],\n",
       "       [ 9, 20],\n",
       "       [12, 20],\n",
       "       [ 6,  9],\n",
       "       [ 8,  9],\n",
       "       [ 0,  8],\n",
       "       [ 4,  8],\n",
       "       [ 1, 12],\n",
       "       [10, 12],\n",
       "       [ 2, 10],\n",
       "       [ 3, 10]], dtype=int32)"
      ]
     },
     "execution_count": 298,
     "metadata": {},
     "output_type": "execute_result"
    }
   ],
   "source": [
    "edges = nmp.array(edge_pairs_backwards, dtype=nmp.int32)\n",
    "edges"
   ]
  },
  {
   "cell_type": "code",
   "execution_count": 299,
   "id": "cd25f77e",
   "metadata": {},
   "outputs": [
    {
     "data": {
      "image/svg+xml": [
       "<svg xmlns=\"http://www.w3.org/2000/svg\" xmlns:ev=\"http://www.w3.org/2001/xml-events\" xmlns:xlink=\"http://www.w3.org/1999/xlink\" baseProfile=\"full\" height=\"200\" version=\"1.1\" width=\"5800\"><defs><style type=\"text/css\"><![CDATA[.background path {fill: #808080; fill-opacity: 0}.background path:nth-child(odd) {fill-opacity: .1}.x-regions rect {fill: yellow; stroke: black; opacity: 0.5}.axes {font-size: 14px}.x-axis .tick .lab {font-weight: bold; dominant-baseline: hanging}.axes, .tree {font-size: 14px; text-anchor: middle}.axes line, .edge {stroke: black; fill: none}.axes .ax-skip {stroke-dasharray: 4}.y-axis .grid {stroke: #FAFAFA}.node > .sym {fill: black; stroke: none}.site > .sym {stroke: black}.mut text {fill: red; font-style: italic}.mut.extra text {fill: hotpink}.mut line {fill: none; stroke: none}.mut .sym {fill: none; stroke: red}.mut.extra .sym {stroke: hotpink}.node .mut .sym {stroke-width: 1.5px}.tree text, .tree-sequence text {dominant-baseline: central}.plotbox .lab.lft {text-anchor: end}.plotbox .lab.rgt {text-anchor: start}.polytomy line {stroke: black; stroke-dasharray: 1px, 1px}.polytomy text {paint-order:stroke;stroke-width:0.3em;stroke:white}]]></style></defs><g class=\"tree-sequence\"><g class=\"background\"><path d=\"M20,0 l198.621,0 l0,138.2 l57.9873,25 l0,5 l-256.608,0 l0,-5 l0,-25 l0,-138.2z\"/><path d=\"M218.621,0 l198.621,0 l0,138.2 l428.743,25 l0,5 l-569.376,0 l0,-5 l-57.987,-25 l0,-138.2z\"/><path d=\"M417.241,0 l198.621,0 l0,138.2 l388.234,25 l0,5 l-158.112,0 l0,-5 l-428.743,-25 l0,-138.2z\"/><path d=\"M615.862,0 l198.621,0 l0,138.2 l229.357,25 l0,5 l-39.744,0 l0,-5 l-388.238,-25 l0,-138.2z\"/><path d=\"M814.483,0 l198.621,0 l0,138.2 l53.2006,25 l0,5 l-22.464,0 l0,-5 l-229.357,-25 l0,-138.2z\"/><path d=\"M1013.1,0 l198.621,0 l0,138.2 l98.2279,25 l0,5 l-243.648,0 l0,-5 l-53.2,-25 l0,-138.2z\"/><path d=\"M1211.72,0 l198.621,0 l0,138.2 l12.7912,25 l0,5 l-113.184,0 l0,-5 l-98.23,-25 l0,-138.2z\"/><path d=\"M1410.34,0 l198.621,0 l0,138.2 l-32.3255,25 l0,5 l-153.504,0 l0,-5 l-12.8,-25 l0,-138.2z\"/><path d=\"M1608.97,0 l198.621,0 l0,138.2 l-228.642,25 l0,5 l-2.304,0 l0,-5 l32.33,-25 l0,-138.2z\"/><path d=\"M1807.59,0 l198.621,0 l0,138.2 l-268.863,25 l0,5 l-158.4,0 l0,-5 l228.65,-25 l0,-138.2z\"/><path d=\"M2006.21,0 l198.621,0 l0,138.2 l-280.86,25 l0,5 l-186.624,0 l0,-5 l268.87,-25 l0,-138.2z\"/><path d=\"M2204.83,0 l198.621,0 l0,138.2 l-424.472,25 l0,5 l-55.008,0 l0,-5 l280.86,-25 l0,-138.2z\"/><path d=\"M2403.45,0 l198.621,0 l0,138.2 l-225.365,25 l0,5 l-397.728,0 l0,-5 l424.47,-25 l0,-138.2z\"/><path d=\"M2602.07,0 l198.621,0 l0,138.2 l-312.53,25 l0,5 l-111.456,0 l0,-5 l225.37,-25 l0,-138.2z\"/><path d=\"M2800.69,0 l198.621,0 l0,138.2 l-427.63,25 l0,5 l-83.52,0 l0,-5 l312.53,-25 l0,-138.2z\"/><path d=\"M2999.31,0 l198.621,0 l0,138.2 l-599.179,25 l0,5 l-27.072,0 l0,-5 l427.63,-25 l0,-138.2z\"/><path d=\"M3197.93,0 l198.621,0 l0,138.2 l-200.2,25 l0,5 l-597.6,0 l0,-5 l599.18,-25 l0,-138.2z\"/><path d=\"M3396.55,0 l198.621,0 l0,138.2 l-89.7964,25 l0,5 l-309.024,0 l0,-5 l200.2,-25 l0,-138.2z\"/><path d=\"M3595.17,0 l198.621,0 l0,138.2 l-84.5131,25 l0,5 l-203.904,0 l0,-5 l89.79,-25 l0,-138.2z\"/><path d=\"M3793.79,0 l198.621,0 l0,138.2 l-279.678,25 l0,5 l-3.456,0 l0,-5 l84.51,-25 l0,-138.2z\"/><path d=\"M3992.41,0 l198.621,0 l0,138.2 l-59.2585,25 l0,5 l-419.04,0 l0,-5 l279.67,-25 l0,-138.2z\"/><path d=\"M4191.03,0 l198.621,0 l0,138.2 l-84.2152,25 l0,5 l-173.664,0 l0,-5 l59.25,-25 l0,-138.2z\"/><path d=\"M4389.66,0 l198.621,0 l0,138.2 l84.9401,25 l0,5 l-367.776,0 l0,-5 l84.22,-25 l0,-138.2z\"/><path d=\"M4588.28,0 l198.621,0 l0,138.2 l-12.0166,25 l0,5 l-101.664,0 l0,-5 l-84.94,-25 l0,-138.2z\"/><path d=\"M4786.9,0 l198.621,0 l0,138.2 l32.1468,25 l0,5 l-242.784,0 l0,-5 l12.02,-25 l0,-138.2z\"/><path d=\"M4985.52,0 l198.621,0 l0,138.2 l-4.04193,25 l0,5 l-162.432,0 l0,-5 l-32.14,-25 l0,-138.2z\"/><path d=\"M5184.14,0 l198.621,0 l0,138.2 l-161.767,25 l0,5 l-40.896,0 l0,-5 l4.04,-25 l0,-138.2z\"/><path d=\"M5382.76,0 l198.621,0 l0,138.2 l-230.211,25 l0,5 l-130.176,0 l0,-5 l161.77,-25 l0,-138.2z\"/><path d=\"M5581.38,0 l198.621,0 l0,138.2 l0,25 l0,5 l-428.832,0 l0,-5 l230.21,-25 l0,-138.2z\"/></g><g class=\"axes\"><g class=\"x-axis\"><g class=\"title\" transform=\"translate(2900 200)\"><text class=\"lab\" text-anchor=\"middle\" transform=\"translate(0 -11)\">Genome position</text></g><line class=\"ax-line\" x1=\"20\" x2=\"5780\" y1=\"163.2\" y2=\"163.2\"/><g class=\"ticks\"><g class=\"tick\" transform=\"translate(20 163.2)\"><line x1=\"0\" x2=\"0\" y1=\"0\" y2=\"5\"/><g transform=\"translate(0 6)\"><text class=\"lab\">0</text></g></g><g class=\"tick\" transform=\"translate(276.608 163.2)\"><line x1=\"0\" x2=\"0\" y1=\"0\" y2=\"5\"/><g transform=\"translate(0 6)\"><text class=\"lab\">891</text></g></g><g class=\"tick\" transform=\"translate(845.984 163.2)\"><line x1=\"0\" x2=\"0\" y1=\"0\" y2=\"5\"/><g transform=\"translate(0 6)\"><text class=\"lab\">2868</text></g></g><g class=\"tick\" transform=\"translate(1004.1 163.2)\"><line x1=\"0\" x2=\"0\" y1=\"0\" y2=\"5\"/><g transform=\"translate(0 6)\"><text class=\"lab\">3417</text></g></g><g class=\"tick\" transform=\"translate(1043.84 163.2)\"><line x1=\"0\" x2=\"0\" y1=\"0\" y2=\"5\"/><g transform=\"translate(0 6)\"><text class=\"lab\">3555</text></g></g><g class=\"tick\" transform=\"translate(1066.3 163.2)\"><line x1=\"0\" x2=\"0\" y1=\"0\" y2=\"5\"/><g transform=\"translate(0 6)\"><text class=\"lab\">3633</text></g></g><g class=\"tick\" transform=\"translate(1309.95 163.2)\"><line x1=\"0\" x2=\"0\" y1=\"0\" y2=\"5\"/><g transform=\"translate(0 6)\"><text class=\"lab\">4479</text></g></g><g class=\"tick\" transform=\"translate(1423.14 163.2)\"><line x1=\"0\" x2=\"0\" y1=\"0\" y2=\"5\"/><g transform=\"translate(0 6)\"><text class=\"lab\">4872</text></g></g><g class=\"tick\" transform=\"translate(1576.64 163.2)\"><line x1=\"0\" x2=\"0\" y1=\"0\" y2=\"5\"/><g transform=\"translate(0 6)\"><text class=\"lab\">5405</text></g></g><g class=\"tick\" transform=\"translate(1578.94 163.2)\"><line x1=\"0\" x2=\"0\" y1=\"0\" y2=\"5\"/><g transform=\"translate(0 6)\"><text class=\"lab\">5413</text></g></g><g class=\"tick\" transform=\"translate(1737.34 163.2)\"><line x1=\"0\" x2=\"0\" y1=\"0\" y2=\"5\"/><g transform=\"translate(0 6)\"><text class=\"lab\">5963</text></g></g><g class=\"tick\" transform=\"translate(1923.97 163.2)\"><line x1=\"0\" x2=\"0\" y1=\"0\" y2=\"5\"/><g transform=\"translate(0 6)\"><text class=\"lab\">6611</text></g></g><g class=\"tick\" transform=\"translate(1978.98 163.2)\"><line x1=\"0\" x2=\"0\" y1=\"0\" y2=\"5\"/><g transform=\"translate(0 6)\"><text class=\"lab\">6802</text></g></g><g class=\"tick\" transform=\"translate(2376.7 163.2)\"><line x1=\"0\" x2=\"0\" y1=\"0\" y2=\"5\"/><g transform=\"translate(0 6)\"><text class=\"lab\">8183</text></g></g><g class=\"tick\" transform=\"translate(2488.16 163.2)\"><line x1=\"0\" x2=\"0\" y1=\"0\" y2=\"5\"/><g transform=\"translate(0 6)\"><text class=\"lab\">8570</text></g></g><g class=\"tick\" transform=\"translate(2571.68 163.2)\"><line x1=\"0\" x2=\"0\" y1=\"0\" y2=\"5\"/><g transform=\"translate(0 6)\"><text class=\"lab\">8860</text></g></g><g class=\"tick\" transform=\"translate(2598.75 163.2)\"><line x1=\"0\" x2=\"0\" y1=\"0\" y2=\"5\"/><g transform=\"translate(0 6)\"><text class=\"lab\">8954</text></g></g><g class=\"tick\" transform=\"translate(3196.35 163.2)\"><line x1=\"0\" x2=\"0\" y1=\"0\" y2=\"5\"/><g transform=\"translate(0 6)\"><text class=\"lab\">11029</text></g></g><g class=\"tick\" transform=\"translate(3505.38 163.2)\"><line x1=\"0\" x2=\"0\" y1=\"0\" y2=\"5\"/><g transform=\"translate(0 6)\"><text class=\"lab\">12102</text></g></g><g class=\"tick\" transform=\"translate(3709.28 163.2)\"><line x1=\"0\" x2=\"0\" y1=\"0\" y2=\"5\"/><g transform=\"translate(0 6)\"><text class=\"lab\">12810</text></g></g><g class=\"tick\" transform=\"translate(3712.74 163.2)\"><line x1=\"0\" x2=\"0\" y1=\"0\" y2=\"5\"/><g transform=\"translate(0 6)\"><text class=\"lab\">12822</text></g></g><g class=\"tick\" transform=\"translate(4131.78 163.2)\"><line x1=\"0\" x2=\"0\" y1=\"0\" y2=\"5\"/><g transform=\"translate(0 6)\"><text class=\"lab\">14277</text></g></g><g class=\"tick\" transform=\"translate(4305.44 163.2)\"><line x1=\"0\" x2=\"0\" y1=\"0\" y2=\"5\"/><g transform=\"translate(0 6)\"><text class=\"lab\">14880</text></g></g><g class=\"tick\" transform=\"translate(4673.22 163.2)\"><line x1=\"0\" x2=\"0\" y1=\"0\" y2=\"5\"/><g transform=\"translate(0 6)\"><text class=\"lab\">16157</text></g></g><g class=\"tick\" transform=\"translate(4774.88 163.2)\"><line x1=\"0\" x2=\"0\" y1=\"0\" y2=\"5\"/><g transform=\"translate(0 6)\"><text class=\"lab\">16510</text></g></g><g class=\"tick\" transform=\"translate(5017.66 163.2)\"><line x1=\"0\" x2=\"0\" y1=\"0\" y2=\"5\"/><g transform=\"translate(0 6)\"><text class=\"lab\">17353</text></g></g><g class=\"tick\" transform=\"translate(5180.1 163.2)\"><line x1=\"0\" x2=\"0\" y1=\"0\" y2=\"5\"/><g transform=\"translate(0 6)\"><text class=\"lab\">17917</text></g></g><g class=\"tick\" transform=\"translate(5220.99 163.2)\"><line x1=\"0\" x2=\"0\" y1=\"0\" y2=\"5\"/><g transform=\"translate(0 6)\"><text class=\"lab\">18059</text></g></g><g class=\"tick\" transform=\"translate(5351.17 163.2)\"><line x1=\"0\" x2=\"0\" y1=\"0\" y2=\"5\"/><g transform=\"translate(0 6)\"><text class=\"lab\">18511</text></g></g><g class=\"tick\" transform=\"translate(5780 163.2)\"><line x1=\"0\" x2=\"0\" y1=\"0\" y2=\"5\"/><g transform=\"translate(0 6)\"><text class=\"lab\">20000</text></g></g></g><g class=\"site s0\" transform=\"translate(204.032 163.2)\"><line class=\"sym\" x1=\"0\" x2=\"0\" y1=\"0\" y2=\"-10\"/><g class=\"mut m0\"><polyline class=\"sym\" points=\"2.5,-6.5 0,-1.5 -2.5,-6.5\"/></g></g><g class=\"site s1\" transform=\"translate(372.512 163.2)\"><line class=\"sym\" x1=\"0\" x2=\"0\" y1=\"0\" y2=\"-10\"/><g class=\"mut m1\"><polyline class=\"sym\" points=\"2.5,-6.5 0,-1.5 -2.5,-6.5\"/></g></g><g class=\"site s2\" transform=\"translate(507.296 163.2)\"><line class=\"sym\" x1=\"0\" x2=\"0\" y1=\"0\" y2=\"-10\"/><g class=\"mut m2\"><polyline class=\"sym\" points=\"2.5,-6.5 0,-1.5 -2.5,-6.5\"/></g></g><g class=\"site s3\" transform=\"translate(779.456 163.2)\"><line class=\"sym\" x1=\"0\" x2=\"0\" y1=\"0\" y2=\"-10\"/><g class=\"mut m3\"><polyline class=\"sym\" points=\"2.5,-6.5 0,-1.5 -2.5,-6.5\"/></g></g><g class=\"site s4\" transform=\"translate(1143.2 163.2)\"><line class=\"sym\" x1=\"0\" x2=\"0\" y1=\"0\" y2=\"-10\"/><g class=\"mut m4\"><polyline class=\"sym\" points=\"2.5,-6.5 0,-1.5 -2.5,-6.5\"/></g></g><g class=\"site s5\" transform=\"translate(1750.88 163.2)\"><line class=\"sym\" x1=\"0\" x2=\"0\" y1=\"0\" y2=\"-10\"/><g class=\"mut m5\"><polyline class=\"sym\" points=\"2.5,-6.5 0,-1.5 -2.5,-6.5\"/></g></g><g class=\"site s6\" transform=\"translate(2395.14 163.2)\"><line class=\"sym\" x1=\"0\" x2=\"0\" y1=\"0\" y2=\"-10\"/><g class=\"mut m6\"><polyline class=\"sym\" points=\"2.5,-6.5 0,-1.5 -2.5,-6.5\"/></g></g><g class=\"site s7\" transform=\"translate(2541.44 163.2)\"><line class=\"sym\" x1=\"0\" x2=\"0\" y1=\"0\" y2=\"-10\"/><g class=\"mut m7\"><polyline class=\"sym\" points=\"2.5,-6.5 0,-1.5 -2.5,-6.5\"/></g></g><g class=\"site s8\" transform=\"translate(3688.83 163.2)\"><line class=\"sym\" x1=\"0\" x2=\"0\" y1=\"0\" y2=\"-10\"/><g class=\"mut m8\"><polyline class=\"sym\" points=\"2.5,-6.5 0,-1.5 -2.5,-6.5\"/></g></g><g class=\"site s9\" transform=\"translate(4059.78 163.2)\"><line class=\"sym\" x1=\"0\" x2=\"0\" y1=\"0\" y2=\"-10\"/><g class=\"mut m9\"><polyline class=\"sym\" points=\"2.5,-6.5 0,-1.5 -2.5,-6.5\"/></g></g><g class=\"site s10\" transform=\"translate(4111.9 163.2)\"><line class=\"sym\" x1=\"0\" x2=\"0\" y1=\"0\" y2=\"-10\"/><g class=\"mut m10\"><polyline class=\"sym\" points=\"2.5,-6.5 0,-1.5 -2.5,-6.5\"/></g></g><g class=\"site s11\" transform=\"translate(4269.44 163.2)\"><line class=\"sym\" x1=\"0\" x2=\"0\" y1=\"0\" y2=\"-10\"/><g class=\"mut m11\"><polyline class=\"sym\" points=\"2.5,-6.5 0,-1.5 -2.5,-6.5\"/></g></g><g class=\"site s12\" transform=\"translate(4816.64 163.2)\"><line class=\"sym\" x1=\"0\" x2=\"0\" y1=\"0\" y2=\"-10\"/><g class=\"mut m12\"><polyline class=\"sym\" points=\"2.5,-6.5 0,-1.5 -2.5,-6.5\"/></g></g><g class=\"site s13\" transform=\"translate(5763.3 163.2)\"><line class=\"sym\" x1=\"0\" x2=\"0\" y1=\"0\" y2=\"-10\"/><g class=\"mut m13\"><polyline class=\"sym\" points=\"2.5,-6.5 0,-1.5 -2.5,-6.5\"/></g></g></g></g><g class=\"plotbox trees\"><g class=\"tree t0\" transform=\"translate(20 0)\"><g class=\"plotbox\"><g class=\"c2 node n27 p0 root\" transform=\"translate(119.138 40.2947)\"><g class=\"a27 c2 node n17 p0\" transform=\"translate(39.6552 67.2084)\"><g class=\"a17 i2 leaf node n5 p0 sample\" transform=\"translate(-9.91379 13.8969)\"><path class=\"edge\" d=\"M 0 0 V -13.8969 H 9.91379\"/><rect class=\"sym\" height=\"6\" width=\"6\" x=\"-3\" y=\"-3\"/><text class=\"lab\" transform=\"translate(0 11)\">5</text></g><g class=\"a17 i3 leaf m0 node n7 p0 s0 sample\" transform=\"translate(9.91379 13.8969)\"><path class=\"edge\" d=\"M 0 0 V -13.8969 H -9.91379\"/><g class=\"mut m0 s0\" transform=\"translate(0 -8.38538)\"><line x1=\"0\" x2=\"0\" y1=\"0\" y2=\"8.38538\"/><path class=\"sym\" d=\"M -3,-3 l 6,6 M -3,3 l 6,-6\"/><text class=\"lab rgt\" transform=\"translate(5 0)\">0</text></g><rect class=\"sym\" height=\"6\" width=\"6\" x=\"-3\" y=\"-3\"/><text class=\"lab\" transform=\"translate(0 11)\">7</text></g><path class=\"edge\" d=\"M 0 0 V -67.2084 H -39.6552\"/><circle class=\"sym\" cx=\"0\" cy=\"0\" r=\"3\"/><text class=\"lab rgt\" transform=\"translate(3 -7)\">17</text></g><g class=\"a27 c2 node n20 p0\" transform=\"translate(-39.6552 46.1058)\"><g class=\"a20 c2 node n9 p0\" transform=\"translate(-24.7845 34.7001)\"><g class=\"a9 i3 leaf node n6 p0 sample\" transform=\"translate(14.8707 0.299329)\"><path class=\"edge\" d=\"M 0 0 V -0.299329 H -14.8707\"/><rect class=\"sym\" height=\"6\" width=\"6\" x=\"-3\" y=\"-3\"/><text class=\"lab\" transform=\"translate(0 11)\">6</text></g><g class=\"a9 c2 node n8 p0\" transform=\"translate(-14.8707 0.145957)\"><g class=\"a8 i0 leaf node n0 p0 sample\" transform=\"translate(-9.91379 0.153372)\"><path class=\"edge\" d=\"M 0 0 V -0.153372 H 9.91379\"/><rect class=\"sym\" height=\"6\" width=\"6\" x=\"-3\" y=\"-3\"/><text class=\"lab\" transform=\"translate(0 11)\">0</text></g><g class=\"a8 i2 leaf node n4 p0 sample\" transform=\"translate(9.91379 0.153372)\"><path class=\"edge\" d=\"M 0 0 V -0.153372 H -9.91379\"/><rect class=\"sym\" height=\"6\" width=\"6\" x=\"-3\" y=\"-3\"/><text class=\"lab\" transform=\"translate(0 11)\">4</text></g><path class=\"edge\" d=\"M 0 0 V -0.145957 H 14.8707\"/><circle class=\"sym\" cx=\"0\" cy=\"0\" r=\"3\"/><text class=\"lab lft\" transform=\"translate(-3 -7)\">8</text></g><path class=\"edge\" d=\"M 0 0 V -34.7001 H 24.7845\"/><circle class=\"sym\" cx=\"0\" cy=\"0\" r=\"3\"/><text class=\"lab lft\" transform=\"translate(-3 -7)\">9</text></g><g class=\"a20 c2 node n12 p0\" transform=\"translate(24.7845 31.3711)\"><g class=\"a12 i0 leaf node n1 p0 sample\" transform=\"translate(-14.8707 3.6283)\"><path class=\"edge\" d=\"M 0 0 V -3.6283 H 14.8707\"/><rect class=\"sym\" height=\"6\" width=\"6\" x=\"-3\" y=\"-3\"/><text class=\"lab\" transform=\"translate(0 11)\">1</text></g><g class=\"a12 c2 node n10 p0\" transform=\"translate(14.8707 1.30452)\"><g class=\"a10 i1 leaf node n2 p0 sample\" transform=\"translate(-9.91379 2.32378)\"><path class=\"edge\" d=\"M 0 0 V -2.32378 H 9.91379\"/><rect class=\"sym\" height=\"6\" width=\"6\" x=\"-3\" y=\"-3\"/><text class=\"lab\" transform=\"translate(0 11)\">2</text></g><g class=\"a10 i1 leaf node n3 p0 sample\" transform=\"translate(9.91379 2.32378)\"><path class=\"edge\" d=\"M 0 0 V -2.32378 H -9.91379\"/><rect class=\"sym\" height=\"6\" width=\"6\" x=\"-3\" y=\"-3\"/><text class=\"lab\" transform=\"translate(0 11)\">3</text></g><path class=\"edge\" d=\"M 0 0 V -1.30452 H -14.8707\"/><circle class=\"sym\" cx=\"0\" cy=\"0\" r=\"3\"/><text class=\"lab rgt\" transform=\"translate(3 -7)\">10</text></g><path class=\"edge\" d=\"M 0 0 V -31.3711 H -24.7845\"/><circle class=\"sym\" cx=\"0\" cy=\"0\" r=\"3\"/><text class=\"lab rgt\" transform=\"translate(3 -7)\">12</text></g><path class=\"edge\" d=\"M 0 0 V -46.1058 H 39.6552\"/><circle class=\"sym\" cx=\"0\" cy=\"0\" r=\"3\"/><text class=\"lab lft\" transform=\"translate(-3 -7)\">20</text></g><circle class=\"sym\" cx=\"0\" cy=\"0\" r=\"3\"/><text class=\"lab\" transform=\"translate(0 -11)\">27</text></g></g></g><g class=\"tree t1\" transform=\"translate(218.621 0)\"><g class=\"plotbox\"><g class=\"c2 node n31 p0 root\" transform=\"translate(119.138 33.2987)\"><g class=\"a31 c2 node n17 p0\" transform=\"translate(39.6552 74.2044)\"><g class=\"a17 i2 leaf node n5 p0 sample\" transform=\"translate(-9.91379 13.8969)\"><path class=\"edge\" d=\"M 0 0 V -13.8969 H 9.91379\"/><rect class=\"sym\" height=\"6\" width=\"6\" x=\"-3\" y=\"-3\"/><text class=\"lab\" transform=\"translate(0 11)\">5</text></g><g class=\"a17 i3 leaf node n7 p0 sample\" transform=\"translate(9.91379 13.8969)\"><path class=\"edge\" d=\"M 0 0 V -13.8969 H -9.91379\"/><rect class=\"sym\" height=\"6\" width=\"6\" x=\"-3\" y=\"-3\"/><text class=\"lab\" transform=\"translate(0 11)\">7</text></g><path class=\"edge\" d=\"M 0 0 V -74.2044 H -39.6552\"/><circle class=\"sym\" cx=\"0\" cy=\"0\" r=\"3\"/><text class=\"lab rgt\" transform=\"translate(3 -7)\">17</text></g><g class=\"a31 c2 m2 node n20 p0 s2\" transform=\"translate(-39.6552 53.1019)\"><g class=\"a20 c2 m1 m3 node n9 p0 s1 s3\" transform=\"translate(-24.7845 34.7001)\"><g class=\"a9 i3 leaf node n6 p0 sample\" transform=\"translate(14.8707 0.299329)\"><path class=\"edge\" d=\"M 0 0 V -0.299329 H -14.8707\"/><rect class=\"sym\" height=\"6\" width=\"6\" x=\"-3\" y=\"-3\"/><text class=\"lab\" transform=\"translate(0 11)\">6</text></g><g class=\"a9 c2 node n8 p0\" transform=\"translate(-14.8707 0.145957)\"><g class=\"a8 i0 leaf node n0 p0 sample\" transform=\"translate(-9.91379 0.153372)\"><path class=\"edge\" d=\"M 0 0 V -0.153372 H 9.91379\"/><rect class=\"sym\" height=\"6\" width=\"6\" x=\"-3\" y=\"-3\"/><text class=\"lab\" transform=\"translate(0 11)\">0</text></g><g class=\"a8 i2 leaf node n4 p0 sample\" transform=\"translate(9.91379 0.153372)\"><path class=\"edge\" d=\"M 0 0 V -0.153372 H -9.91379\"/><rect class=\"sym\" height=\"6\" width=\"6\" x=\"-3\" y=\"-3\"/><text class=\"lab\" transform=\"translate(0 11)\">4</text></g><path class=\"edge\" d=\"M 0 0 V -0.145957 H 14.8707\"/><circle class=\"sym\" cx=\"0\" cy=\"0\" r=\"3\"/><text class=\"lab lft\" transform=\"translate(-3 -7)\">8</text></g><path class=\"edge\" d=\"M 0 0 V -34.7001 H 24.7845\"/><g class=\"mut m3 s3\" transform=\"translate(0 -34.6025)\"><line x1=\"0\" x2=\"0\" y1=\"0\" y2=\"34.6025\"/><path class=\"sym\" d=\"M -3,-3 l 6,6 M -3,3 l 6,-6\"/><text class=\"lab lft\" transform=\"translate(-5 0)\">3</text></g><g class=\"mut m1 s1\" transform=\"translate(0 -30.0303)\"><line x1=\"0\" x2=\"0\" y1=\"0\" y2=\"30.0303\"/><path class=\"sym\" d=\"M -3,-3 l 6,6 M -3,3 l 6,-6\"/><text class=\"lab lft\" transform=\"translate(-5 0)\">1</text></g><circle class=\"sym\" cx=\"0\" cy=\"0\" r=\"3\"/><text class=\"lab lft\" transform=\"translate(-3 -7)\">9</text></g><g class=\"a20 c2 node n12 p0\" transform=\"translate(24.7845 31.3711)\"><g class=\"a12 i0 leaf node n1 p0 sample\" transform=\"translate(-14.8707 3.6283)\"><path class=\"edge\" d=\"M 0 0 V -3.6283 H 14.8707\"/><rect class=\"sym\" height=\"6\" width=\"6\" x=\"-3\" y=\"-3\"/><text class=\"lab\" transform=\"translate(0 11)\">1</text></g><g class=\"a12 c2 node n10 p0\" transform=\"translate(14.8707 1.30452)\"><g class=\"a10 i1 leaf node n2 p0 sample\" transform=\"translate(-9.91379 2.32378)\"><path class=\"edge\" d=\"M 0 0 V -2.32378 H 9.91379\"/><rect class=\"sym\" height=\"6\" width=\"6\" x=\"-3\" y=\"-3\"/><text class=\"lab\" transform=\"translate(0 11)\">2</text></g><g class=\"a10 i1 leaf node n3 p0 sample\" transform=\"translate(9.91379 2.32378)\"><path class=\"edge\" d=\"M 0 0 V -2.32378 H -9.91379\"/><rect class=\"sym\" height=\"6\" width=\"6\" x=\"-3\" y=\"-3\"/><text class=\"lab\" transform=\"translate(0 11)\">3</text></g><path class=\"edge\" d=\"M 0 0 V -1.30452 H -14.8707\"/><circle class=\"sym\" cx=\"0\" cy=\"0\" r=\"3\"/><text class=\"lab rgt\" transform=\"translate(3 -7)\">10</text></g><path class=\"edge\" d=\"M 0 0 V -31.3711 H -24.7845\"/><circle class=\"sym\" cx=\"0\" cy=\"0\" r=\"3\"/><text class=\"lab rgt\" transform=\"translate(3 -7)\">12</text></g><path class=\"edge\" d=\"M 0 0 V -53.1019 H 39.6552\"/><g class=\"mut m2 s2\" transform=\"translate(0 -31.0686)\"><line x1=\"0\" x2=\"0\" y1=\"0\" y2=\"31.0686\"/><path class=\"sym\" d=\"M -3,-3 l 6,6 M -3,3 l 6,-6\"/><text class=\"lab lft\" transform=\"translate(-5 0)\">2</text></g><circle class=\"sym\" cx=\"0\" cy=\"0\" r=\"3\"/><text class=\"lab lft\" transform=\"translate(-3 -7)\">20</text></g><circle class=\"sym\" cx=\"0\" cy=\"0\" r=\"3\"/><text class=\"lab\" transform=\"translate(0 -11)\">31</text></g></g></g><g class=\"tree t2\" transform=\"translate(417.241 0)\"><g class=\"plotbox\"><g class=\"c2 node n32 p0 root\" transform=\"translate(119.138 26.8)\"><g class=\"a32 c2 node n17 p0\" transform=\"translate(39.6552 80.7031)\"><g class=\"a17 i2 leaf node n5 p0 sample\" transform=\"translate(-9.91379 13.8969)\"><path class=\"edge\" d=\"M 0 0 V -13.8969 H 9.91379\"/><rect class=\"sym\" height=\"6\" width=\"6\" x=\"-3\" y=\"-3\"/><text class=\"lab\" transform=\"translate(0 11)\">5</text></g><g class=\"a17 i3 leaf node n7 p0 sample\" transform=\"translate(9.91379 13.8969)\"><path class=\"edge\" d=\"M 0 0 V -13.8969 H -9.91379\"/><rect class=\"sym\" height=\"6\" width=\"6\" x=\"-3\" y=\"-3\"/><text class=\"lab\" transform=\"translate(0 11)\">7</text></g><path class=\"edge\" d=\"M 0 0 V -80.7031 H -39.6552\"/><circle class=\"sym\" cx=\"0\" cy=\"0\" r=\"3\"/><text class=\"lab rgt\" transform=\"translate(3 -7)\">17</text></g><g class=\"a32 c2 node n20 p0\" transform=\"translate(-39.6552 59.6006)\"><g class=\"a20 c2 node n9 p0\" transform=\"translate(-24.7845 34.7001)\"><g class=\"a9 i3 leaf node n6 p0 sample\" transform=\"translate(14.8707 0.299329)\"><path class=\"edge\" d=\"M 0 0 V -0.299329 H -14.8707\"/><rect class=\"sym\" height=\"6\" width=\"6\" x=\"-3\" y=\"-3\"/><text class=\"lab\" transform=\"translate(0 11)\">6</text></g><g class=\"a9 c2 node n8 p0\" transform=\"translate(-14.8707 0.145957)\"><g class=\"a8 i0 leaf node n0 p0 sample\" transform=\"translate(-9.91379 0.153372)\"><path class=\"edge\" d=\"M 0 0 V -0.153372 H 9.91379\"/><rect class=\"sym\" height=\"6\" width=\"6\" x=\"-3\" y=\"-3\"/><text class=\"lab\" transform=\"translate(0 11)\">0</text></g><g class=\"a8 i2 leaf node n4 p0 sample\" transform=\"translate(9.91379 0.153372)\"><path class=\"edge\" d=\"M 0 0 V -0.153372 H -9.91379\"/><rect class=\"sym\" height=\"6\" width=\"6\" x=\"-3\" y=\"-3\"/><text class=\"lab\" transform=\"translate(0 11)\">4</text></g><path class=\"edge\" d=\"M 0 0 V -0.145957 H 14.8707\"/><circle class=\"sym\" cx=\"0\" cy=\"0\" r=\"3\"/><text class=\"lab lft\" transform=\"translate(-3 -7)\">8</text></g><path class=\"edge\" d=\"M 0 0 V -34.7001 H 24.7845\"/><circle class=\"sym\" cx=\"0\" cy=\"0\" r=\"3\"/><text class=\"lab lft\" transform=\"translate(-3 -7)\">9</text></g><g class=\"a20 c2 node n12 p0\" transform=\"translate(24.7845 31.3711)\"><g class=\"a12 i0 leaf node n1 p0 sample\" transform=\"translate(-14.8707 3.6283)\"><path class=\"edge\" d=\"M 0 0 V -3.6283 H 14.8707\"/><rect class=\"sym\" height=\"6\" width=\"6\" x=\"-3\" y=\"-3\"/><text class=\"lab\" transform=\"translate(0 11)\">1</text></g><g class=\"a12 c2 node n10 p0\" transform=\"translate(14.8707 1.30452)\"><g class=\"a10 i1 leaf node n2 p0 sample\" transform=\"translate(-9.91379 2.32378)\"><path class=\"edge\" d=\"M 0 0 V -2.32378 H 9.91379\"/><rect class=\"sym\" height=\"6\" width=\"6\" x=\"-3\" y=\"-3\"/><text class=\"lab\" transform=\"translate(0 11)\">2</text></g><g class=\"a10 i1 leaf node n3 p0 sample\" transform=\"translate(9.91379 2.32378)\"><path class=\"edge\" d=\"M 0 0 V -2.32378 H -9.91379\"/><rect class=\"sym\" height=\"6\" width=\"6\" x=\"-3\" y=\"-3\"/><text class=\"lab\" transform=\"translate(0 11)\">3</text></g><path class=\"edge\" d=\"M 0 0 V -1.30452 H -14.8707\"/><circle class=\"sym\" cx=\"0\" cy=\"0\" r=\"3\"/><text class=\"lab rgt\" transform=\"translate(3 -7)\">10</text></g><path class=\"edge\" d=\"M 0 0 V -31.3711 H -24.7845\"/><circle class=\"sym\" cx=\"0\" cy=\"0\" r=\"3\"/><text class=\"lab rgt\" transform=\"translate(3 -7)\">12</text></g><path class=\"edge\" d=\"M 0 0 V -59.6006 H 39.6552\"/><circle class=\"sym\" cx=\"0\" cy=\"0\" r=\"3\"/><text class=\"lab lft\" transform=\"translate(-3 -7)\">20</text></g><circle class=\"sym\" cx=\"0\" cy=\"0\" r=\"3\"/><text class=\"lab\" transform=\"translate(0 -11)\">32</text></g></g></g><g class=\"tree t3\" transform=\"translate(615.862 0)\"><g class=\"plotbox\"><g class=\"c2 node n28 p0 root\" transform=\"translate(119.138 38.8578)\"><g class=\"a28 c2 node n17 p0\" transform=\"translate(39.6552 68.6453)\"><g class=\"a17 i2 leaf node n5 p0 sample\" transform=\"translate(-9.91379 13.8969)\"><path class=\"edge\" d=\"M 0 0 V -13.8969 H 9.91379\"/><rect class=\"sym\" height=\"6\" width=\"6\" x=\"-3\" y=\"-3\"/><text class=\"lab\" transform=\"translate(0 11)\">5</text></g><g class=\"a17 i3 leaf node n7 p0 sample\" transform=\"translate(9.91379 13.8969)\"><path class=\"edge\" d=\"M 0 0 V -13.8969 H -9.91379\"/><rect class=\"sym\" height=\"6\" width=\"6\" x=\"-3\" y=\"-3\"/><text class=\"lab\" transform=\"translate(0 11)\">7</text></g><path class=\"edge\" d=\"M 0 0 V -68.6453 H -39.6552\"/><circle class=\"sym\" cx=\"0\" cy=\"0\" r=\"3\"/><text class=\"lab rgt\" transform=\"translate(3 -7)\">17</text></g><g class=\"a28 c2 node n20 p0\" transform=\"translate(-39.6552 47.5427)\"><g class=\"a20 c2 node n9 p0\" transform=\"translate(-24.7845 34.7001)\"><g class=\"a9 i3 leaf node n6 p0 sample\" transform=\"translate(14.8707 0.299329)\"><path class=\"edge\" d=\"M 0 0 V -0.299329 H -14.8707\"/><rect class=\"sym\" height=\"6\" width=\"6\" x=\"-3\" y=\"-3\"/><text class=\"lab\" transform=\"translate(0 11)\">6</text></g><g class=\"a9 c2 node n8 p0\" transform=\"translate(-14.8707 0.145957)\"><g class=\"a8 i0 leaf node n0 p0 sample\" transform=\"translate(-9.91379 0.153372)\"><path class=\"edge\" d=\"M 0 0 V -0.153372 H 9.91379\"/><rect class=\"sym\" height=\"6\" width=\"6\" x=\"-3\" y=\"-3\"/><text class=\"lab\" transform=\"translate(0 11)\">0</text></g><g class=\"a8 i2 leaf node n4 p0 sample\" transform=\"translate(9.91379 0.153372)\"><path class=\"edge\" d=\"M 0 0 V -0.153372 H -9.91379\"/><rect class=\"sym\" height=\"6\" width=\"6\" x=\"-3\" y=\"-3\"/><text class=\"lab\" transform=\"translate(0 11)\">4</text></g><path class=\"edge\" d=\"M 0 0 V -0.145957 H 14.8707\"/><circle class=\"sym\" cx=\"0\" cy=\"0\" r=\"3\"/><text class=\"lab lft\" transform=\"translate(-3 -7)\">8</text></g><path class=\"edge\" d=\"M 0 0 V -34.7001 H 24.7845\"/><circle class=\"sym\" cx=\"0\" cy=\"0\" r=\"3\"/><text class=\"lab lft\" transform=\"translate(-3 -7)\">9</text></g><g class=\"a20 c2 node n12 p0\" transform=\"translate(24.7845 31.3711)\"><g class=\"a12 i0 leaf node n1 p0 sample\" transform=\"translate(-14.8707 3.6283)\"><path class=\"edge\" d=\"M 0 0 V -3.6283 H 14.8707\"/><rect class=\"sym\" height=\"6\" width=\"6\" x=\"-3\" y=\"-3\"/><text class=\"lab\" transform=\"translate(0 11)\">1</text></g><g class=\"a12 c2 node n10 p0\" transform=\"translate(14.8707 1.30452)\"><g class=\"a10 i1 leaf node n2 p0 sample\" transform=\"translate(-9.91379 2.32378)\"><path class=\"edge\" d=\"M 0 0 V -2.32378 H 9.91379\"/><rect class=\"sym\" height=\"6\" width=\"6\" x=\"-3\" y=\"-3\"/><text class=\"lab\" transform=\"translate(0 11)\">2</text></g><g class=\"a10 i1 leaf node n3 p0 sample\" transform=\"translate(9.91379 2.32378)\"><path class=\"edge\" d=\"M 0 0 V -2.32378 H -9.91379\"/><rect class=\"sym\" height=\"6\" width=\"6\" x=\"-3\" y=\"-3\"/><text class=\"lab\" transform=\"translate(0 11)\">3</text></g><path class=\"edge\" d=\"M 0 0 V -1.30452 H -14.8707\"/><circle class=\"sym\" cx=\"0\" cy=\"0\" r=\"3\"/><text class=\"lab rgt\" transform=\"translate(3 -7)\">10</text></g><path class=\"edge\" d=\"M 0 0 V -31.3711 H -24.7845\"/><circle class=\"sym\" cx=\"0\" cy=\"0\" r=\"3\"/><text class=\"lab rgt\" transform=\"translate(3 -7)\">12</text></g><path class=\"edge\" d=\"M 0 0 V -47.5427 H 39.6552\"/><circle class=\"sym\" cx=\"0\" cy=\"0\" r=\"3\"/><text class=\"lab lft\" transform=\"translate(-3 -7)\">20</text></g><circle class=\"sym\" cx=\"0\" cy=\"0\" r=\"3\"/><text class=\"lab\" transform=\"translate(0 -11)\">28</text></g></g></g><g class=\"tree t4\" transform=\"translate(814.483 0)\"><g class=\"plotbox\"><g class=\"c2 node n28 p0 root\" transform=\"translate(119.138 38.8578)\"><g class=\"a28 c2 node n17 p0\" transform=\"translate(39.6552 68.6453)\"><g class=\"a17 i2 leaf node n5 p0 sample\" transform=\"translate(-9.91379 13.8969)\"><path class=\"edge\" d=\"M 0 0 V -13.8969 H 9.91379\"/><rect class=\"sym\" height=\"6\" width=\"6\" x=\"-3\" y=\"-3\"/><text class=\"lab\" transform=\"translate(0 11)\">5</text></g><g class=\"a17 i3 leaf node n7 p0 sample\" transform=\"translate(9.91379 13.8969)\"><path class=\"edge\" d=\"M 0 0 V -13.8969 H -9.91379\"/><rect class=\"sym\" height=\"6\" width=\"6\" x=\"-3\" y=\"-3\"/><text class=\"lab\" transform=\"translate(0 11)\">7</text></g><path class=\"edge\" d=\"M 0 0 V -68.6453 H -39.6552\"/><circle class=\"sym\" cx=\"0\" cy=\"0\" r=\"3\"/><text class=\"lab rgt\" transform=\"translate(3 -7)\">17</text></g><g class=\"a28 c2 node n18 p0\" transform=\"translate(-39.6552 54.5477)\"><g class=\"a18 c2 node n9 p0\" transform=\"translate(-24.7845 27.6951)\"><g class=\"a9 i3 leaf node n6 p0 sample\" transform=\"translate(14.8707 0.299329)\"><path class=\"edge\" d=\"M 0 0 V -0.299329 H -14.8707\"/><rect class=\"sym\" height=\"6\" width=\"6\" x=\"-3\" y=\"-3\"/><text class=\"lab\" transform=\"translate(0 11)\">6</text></g><g class=\"a9 c2 node n8 p0\" transform=\"translate(-14.8707 0.145957)\"><g class=\"a8 i0 leaf node n0 p0 sample\" transform=\"translate(-9.91379 0.153372)\"><path class=\"edge\" d=\"M 0 0 V -0.153372 H 9.91379\"/><rect class=\"sym\" height=\"6\" width=\"6\" x=\"-3\" y=\"-3\"/><text class=\"lab\" transform=\"translate(0 11)\">0</text></g><g class=\"a8 i2 leaf node n4 p0 sample\" transform=\"translate(9.91379 0.153372)\"><path class=\"edge\" d=\"M 0 0 V -0.153372 H -9.91379\"/><rect class=\"sym\" height=\"6\" width=\"6\" x=\"-3\" y=\"-3\"/><text class=\"lab\" transform=\"translate(0 11)\">4</text></g><path class=\"edge\" d=\"M 0 0 V -0.145957 H 14.8707\"/><circle class=\"sym\" cx=\"0\" cy=\"0\" r=\"3\"/><text class=\"lab lft\" transform=\"translate(-3 -7)\">8</text></g><path class=\"edge\" d=\"M 0 0 V -27.6951 H 24.7845\"/><circle class=\"sym\" cx=\"0\" cy=\"0\" r=\"3\"/><text class=\"lab lft\" transform=\"translate(-3 -7)\">9</text></g><g class=\"a18 c2 node n12 p0\" transform=\"translate(24.7845 24.3661)\"><g class=\"a12 i0 leaf node n1 p0 sample\" transform=\"translate(-14.8707 3.6283)\"><path class=\"edge\" d=\"M 0 0 V -3.6283 H 14.8707\"/><rect class=\"sym\" height=\"6\" width=\"6\" x=\"-3\" y=\"-3\"/><text class=\"lab\" transform=\"translate(0 11)\">1</text></g><g class=\"a12 c2 node n10 p0\" transform=\"translate(14.8707 1.30452)\"><g class=\"a10 i1 leaf node n2 p0 sample\" transform=\"translate(-9.91379 2.32378)\"><path class=\"edge\" d=\"M 0 0 V -2.32378 H 9.91379\"/><rect class=\"sym\" height=\"6\" width=\"6\" x=\"-3\" y=\"-3\"/><text class=\"lab\" transform=\"translate(0 11)\">2</text></g><g class=\"a10 i1 leaf node n3 p0 sample\" transform=\"translate(9.91379 2.32378)\"><path class=\"edge\" d=\"M 0 0 V -2.32378 H -9.91379\"/><rect class=\"sym\" height=\"6\" width=\"6\" x=\"-3\" y=\"-3\"/><text class=\"lab\" transform=\"translate(0 11)\">3</text></g><path class=\"edge\" d=\"M 0 0 V -1.30452 H -14.8707\"/><circle class=\"sym\" cx=\"0\" cy=\"0\" r=\"3\"/><text class=\"lab rgt\" transform=\"translate(3 -7)\">10</text></g><path class=\"edge\" d=\"M 0 0 V -24.3661 H -24.7845\"/><circle class=\"sym\" cx=\"0\" cy=\"0\" r=\"3\"/><text class=\"lab rgt\" transform=\"translate(3 -7)\">12</text></g><path class=\"edge\" d=\"M 0 0 V -54.5477 H 39.6552\"/><circle class=\"sym\" cx=\"0\" cy=\"0\" r=\"3\"/><text class=\"lab lft\" transform=\"translate(-3 -7)\">18</text></g><circle class=\"sym\" cx=\"0\" cy=\"0\" r=\"3\"/><text class=\"lab\" transform=\"translate(0 -11)\">28</text></g></g></g><g class=\"tree t5\" transform=\"translate(1013.1 0)\"><g class=\"plotbox\"><g class=\"c2 node n26 p0 root\" transform=\"translate(119.138 41.0081)\"><g class=\"a26 c2 node n17 p0\" transform=\"translate(39.6552 66.495)\"><g class=\"a17 i2 leaf node n5 p0 sample\" transform=\"translate(-9.91379 13.8969)\"><path class=\"edge\" d=\"M 0 0 V -13.8969 H 9.91379\"/><rect class=\"sym\" height=\"6\" width=\"6\" x=\"-3\" y=\"-3\"/><text class=\"lab\" transform=\"translate(0 11)\">5</text></g><g class=\"a17 i3 leaf node n7 p0 sample\" transform=\"translate(9.91379 13.8969)\"><path class=\"edge\" d=\"M 0 0 V -13.8969 H -9.91379\"/><rect class=\"sym\" height=\"6\" width=\"6\" x=\"-3\" y=\"-3\"/><text class=\"lab\" transform=\"translate(0 11)\">7</text></g><path class=\"edge\" d=\"M 0 0 V -66.495 H -39.6552\"/><circle class=\"sym\" cx=\"0\" cy=\"0\" r=\"3\"/><text class=\"lab rgt\" transform=\"translate(3 -7)\">17</text></g><g class=\"a26 c2 node n18 p0\" transform=\"translate(-39.6552 52.3975)\"><g class=\"a18 c2 m4 node n9 p0 s4\" transform=\"translate(-24.7845 27.6951)\"><g class=\"a9 i3 leaf node n6 p0 sample\" transform=\"translate(14.8707 0.299329)\"><path class=\"edge\" d=\"M 0 0 V -0.299329 H -14.8707\"/><rect class=\"sym\" height=\"6\" width=\"6\" x=\"-3\" y=\"-3\"/><text class=\"lab\" transform=\"translate(0 11)\">6</text></g><g class=\"a9 c2 node n8 p0\" transform=\"translate(-14.8707 0.145957)\"><g class=\"a8 i0 leaf node n0 p0 sample\" transform=\"translate(-9.91379 0.153372)\"><path class=\"edge\" d=\"M 0 0 V -0.153372 H 9.91379\"/><rect class=\"sym\" height=\"6\" width=\"6\" x=\"-3\" y=\"-3\"/><text class=\"lab\" transform=\"translate(0 11)\">0</text></g><g class=\"a8 i2 leaf node n4 p0 sample\" transform=\"translate(9.91379 0.153372)\"><path class=\"edge\" d=\"M 0 0 V -0.153372 H -9.91379\"/><rect class=\"sym\" height=\"6\" width=\"6\" x=\"-3\" y=\"-3\"/><text class=\"lab\" transform=\"translate(0 11)\">4</text></g><path class=\"edge\" d=\"M 0 0 V -0.145957 H 14.8707\"/><circle class=\"sym\" cx=\"0\" cy=\"0\" r=\"3\"/><text class=\"lab lft\" transform=\"translate(-3 -7)\">8</text></g><path class=\"edge\" d=\"M 0 0 V -27.6951 H 24.7845\"/><g class=\"mut m4 s4\" transform=\"translate(0 -9.62395)\"><line x1=\"0\" x2=\"0\" y1=\"0\" y2=\"9.62395\"/><path class=\"sym\" d=\"M -3,-3 l 6,6 M -3,3 l 6,-6\"/><text class=\"lab lft\" transform=\"translate(-5 0)\">4</text></g><circle class=\"sym\" cx=\"0\" cy=\"0\" r=\"3\"/><text class=\"lab lft\" transform=\"translate(-3 -7)\">9</text></g><g class=\"a18 c2 node n12 p0\" transform=\"translate(24.7845 24.3661)\"><g class=\"a12 i0 leaf node n1 p0 sample\" transform=\"translate(-14.8707 3.6283)\"><path class=\"edge\" d=\"M 0 0 V -3.6283 H 14.8707\"/><rect class=\"sym\" height=\"6\" width=\"6\" x=\"-3\" y=\"-3\"/><text class=\"lab\" transform=\"translate(0 11)\">1</text></g><g class=\"a12 c2 node n10 p0\" transform=\"translate(14.8707 1.30452)\"><g class=\"a10 i1 leaf node n2 p0 sample\" transform=\"translate(-9.91379 2.32378)\"><path class=\"edge\" d=\"M 0 0 V -2.32378 H 9.91379\"/><rect class=\"sym\" height=\"6\" width=\"6\" x=\"-3\" y=\"-3\"/><text class=\"lab\" transform=\"translate(0 11)\">2</text></g><g class=\"a10 i1 leaf node n3 p0 sample\" transform=\"translate(9.91379 2.32378)\"><path class=\"edge\" d=\"M 0 0 V -2.32378 H -9.91379\"/><rect class=\"sym\" height=\"6\" width=\"6\" x=\"-3\" y=\"-3\"/><text class=\"lab\" transform=\"translate(0 11)\">3</text></g><path class=\"edge\" d=\"M 0 0 V -1.30452 H -14.8707\"/><circle class=\"sym\" cx=\"0\" cy=\"0\" r=\"3\"/><text class=\"lab rgt\" transform=\"translate(3 -7)\">10</text></g><path class=\"edge\" d=\"M 0 0 V -24.3661 H -24.7845\"/><circle class=\"sym\" cx=\"0\" cy=\"0\" r=\"3\"/><text class=\"lab rgt\" transform=\"translate(3 -7)\">12</text></g><path class=\"edge\" d=\"M 0 0 V -52.3975 H 39.6552\"/><circle class=\"sym\" cx=\"0\" cy=\"0\" r=\"3\"/><text class=\"lab lft\" transform=\"translate(-3 -7)\">18</text></g><circle class=\"sym\" cx=\"0\" cy=\"0\" r=\"3\"/><text class=\"lab\" transform=\"translate(0 -11)\">26</text></g></g></g><g class=\"tree t6\" transform=\"translate(1211.72 0)\"><g class=\"plotbox\"><g class=\"c2 node n26 p0 root\" transform=\"translate(141.444 41.0081)\"><g class=\"a26 i2 leaf node n5 p0 sample\" transform=\"translate(27.2629 80.3919)\"><path class=\"edge\" d=\"M 0 0 V -80.3919 H -27.2629\"/><rect class=\"sym\" height=\"6\" width=\"6\" x=\"-3\" y=\"-3\"/><text class=\"lab\" transform=\"translate(0 11)\">5</text></g><g class=\"a26 c2 node n20 p0\" transform=\"translate(-27.2629 45.3925)\"><g class=\"a20 i3 leaf node n7 p0 sample\" transform=\"translate(34.6983 34.9994)\"><path class=\"edge\" d=\"M 0 0 V -34.9994 H -34.6983\"/><rect class=\"sym\" height=\"6\" width=\"6\" x=\"-3\" y=\"-3\"/><text class=\"lab\" transform=\"translate(0 11)\">7</text></g><g class=\"a20 c2 node n18 p0\" transform=\"translate(-34.6983 7.00497)\"><g class=\"a18 c2 node n9 p0\" transform=\"translate(-24.7845 27.6951)\"><g class=\"a9 i3 leaf node n6 p0 sample\" transform=\"translate(14.8707 0.299329)\"><path class=\"edge\" d=\"M 0 0 V -0.299329 H -14.8707\"/><rect class=\"sym\" height=\"6\" width=\"6\" x=\"-3\" y=\"-3\"/><text class=\"lab\" transform=\"translate(0 11)\">6</text></g><g class=\"a9 c2 node n8 p0\" transform=\"translate(-14.8707 0.145957)\"><g class=\"a8 i0 leaf node n0 p0 sample\" transform=\"translate(-9.91379 0.153372)\"><path class=\"edge\" d=\"M 0 0 V -0.153372 H 9.91379\"/><rect class=\"sym\" height=\"6\" width=\"6\" x=\"-3\" y=\"-3\"/><text class=\"lab\" transform=\"translate(0 11)\">0</text></g><g class=\"a8 i2 leaf node n4 p0 sample\" transform=\"translate(9.91379 0.153372)\"><path class=\"edge\" d=\"M 0 0 V -0.153372 H -9.91379\"/><rect class=\"sym\" height=\"6\" width=\"6\" x=\"-3\" y=\"-3\"/><text class=\"lab\" transform=\"translate(0 11)\">4</text></g><path class=\"edge\" d=\"M 0 0 V -0.145957 H 14.8707\"/><circle class=\"sym\" cx=\"0\" cy=\"0\" r=\"3\"/><text class=\"lab lft\" transform=\"translate(-3 -7)\">8</text></g><path class=\"edge\" d=\"M 0 0 V -27.6951 H 24.7845\"/><circle class=\"sym\" cx=\"0\" cy=\"0\" r=\"3\"/><text class=\"lab lft\" transform=\"translate(-3 -7)\">9</text></g><g class=\"a18 c2 node n12 p0\" transform=\"translate(24.7845 24.3661)\"><g class=\"a12 i0 leaf node n1 p0 sample\" transform=\"translate(-14.8707 3.6283)\"><path class=\"edge\" d=\"M 0 0 V -3.6283 H 14.8707\"/><rect class=\"sym\" height=\"6\" width=\"6\" x=\"-3\" y=\"-3\"/><text class=\"lab\" transform=\"translate(0 11)\">1</text></g><g class=\"a12 c2 node n10 p0\" transform=\"translate(14.8707 1.30452)\"><g class=\"a10 i1 leaf node n2 p0 sample\" transform=\"translate(-9.91379 2.32378)\"><path class=\"edge\" d=\"M 0 0 V -2.32378 H 9.91379\"/><rect class=\"sym\" height=\"6\" width=\"6\" x=\"-3\" y=\"-3\"/><text class=\"lab\" transform=\"translate(0 11)\">2</text></g><g class=\"a10 i1 leaf node n3 p0 sample\" transform=\"translate(9.91379 2.32378)\"><path class=\"edge\" d=\"M 0 0 V -2.32378 H -9.91379\"/><rect class=\"sym\" height=\"6\" width=\"6\" x=\"-3\" y=\"-3\"/><text class=\"lab\" transform=\"translate(0 11)\">3</text></g><path class=\"edge\" d=\"M 0 0 V -1.30452 H -14.8707\"/><circle class=\"sym\" cx=\"0\" cy=\"0\" r=\"3\"/><text class=\"lab rgt\" transform=\"translate(3 -7)\">10</text></g><path class=\"edge\" d=\"M 0 0 V -24.3661 H -24.7845\"/><circle class=\"sym\" cx=\"0\" cy=\"0\" r=\"3\"/><text class=\"lab rgt\" transform=\"translate(3 -7)\">12</text></g><path class=\"edge\" d=\"M 0 0 V -7.00497 H 34.6983\"/><circle class=\"sym\" cx=\"0\" cy=\"0\" r=\"3\"/><text class=\"lab lft\" transform=\"translate(-3 -7)\">18</text></g><path class=\"edge\" d=\"M 0 0 V -45.3925 H 27.2629\"/><circle class=\"sym\" cx=\"0\" cy=\"0\" r=\"3\"/><text class=\"lab lft\" transform=\"translate(-3 -7)\">20</text></g><circle class=\"sym\" cx=\"0\" cy=\"0\" r=\"3\"/><text class=\"lab\" transform=\"translate(0 -11)\">26</text></g></g></g><g class=\"tree t7\" transform=\"translate(1410.34 0)\"><g class=\"plotbox\"><g class=\"c2 node n24 p0 root\" transform=\"translate(141.444 59.912)\"><g class=\"a24 i2 leaf node n5 p0 sample\" transform=\"translate(27.2629 61.488)\"><path class=\"edge\" d=\"M 0 0 V -61.488 H -27.2629\"/><rect class=\"sym\" height=\"6\" width=\"6\" x=\"-3\" y=\"-3\"/><text class=\"lab\" transform=\"translate(0 11)\">5</text></g><g class=\"a24 c2 node n20 p0\" transform=\"translate(-27.2629 26.4886)\"><g class=\"a20 i3 leaf node n7 p0 sample\" transform=\"translate(34.6983 34.9994)\"><path class=\"edge\" d=\"M 0 0 V -34.9994 H -34.6983\"/><rect class=\"sym\" height=\"6\" width=\"6\" x=\"-3\" y=\"-3\"/><text class=\"lab\" transform=\"translate(0 11)\">7</text></g><g class=\"a20 c2 node n18 p0\" transform=\"translate(-34.6983 7.00497)\"><g class=\"a18 c2 node n9 p0\" transform=\"translate(-24.7845 27.6951)\"><g class=\"a9 i3 leaf node n6 p0 sample\" transform=\"translate(14.8707 0.299329)\"><path class=\"edge\" d=\"M 0 0 V -0.299329 H -14.8707\"/><rect class=\"sym\" height=\"6\" width=\"6\" x=\"-3\" y=\"-3\"/><text class=\"lab\" transform=\"translate(0 11)\">6</text></g><g class=\"a9 c2 node n8 p0\" transform=\"translate(-14.8707 0.145957)\"><g class=\"a8 i0 leaf node n0 p0 sample\" transform=\"translate(-9.91379 0.153372)\"><path class=\"edge\" d=\"M 0 0 V -0.153372 H 9.91379\"/><rect class=\"sym\" height=\"6\" width=\"6\" x=\"-3\" y=\"-3\"/><text class=\"lab\" transform=\"translate(0 11)\">0</text></g><g class=\"a8 i2 leaf node n4 p0 sample\" transform=\"translate(9.91379 0.153372)\"><path class=\"edge\" d=\"M 0 0 V -0.153372 H -9.91379\"/><rect class=\"sym\" height=\"6\" width=\"6\" x=\"-3\" y=\"-3\"/><text class=\"lab\" transform=\"translate(0 11)\">4</text></g><path class=\"edge\" d=\"M 0 0 V -0.145957 H 14.8707\"/><circle class=\"sym\" cx=\"0\" cy=\"0\" r=\"3\"/><text class=\"lab lft\" transform=\"translate(-3 -7)\">8</text></g><path class=\"edge\" d=\"M 0 0 V -27.6951 H 24.7845\"/><circle class=\"sym\" cx=\"0\" cy=\"0\" r=\"3\"/><text class=\"lab lft\" transform=\"translate(-3 -7)\">9</text></g><g class=\"a18 c2 node n12 p0\" transform=\"translate(24.7845 24.3661)\"><g class=\"a12 i0 leaf node n1 p0 sample\" transform=\"translate(-14.8707 3.6283)\"><path class=\"edge\" d=\"M 0 0 V -3.6283 H 14.8707\"/><rect class=\"sym\" height=\"6\" width=\"6\" x=\"-3\" y=\"-3\"/><text class=\"lab\" transform=\"translate(0 11)\">1</text></g><g class=\"a12 c2 node n10 p0\" transform=\"translate(14.8707 1.30452)\"><g class=\"a10 i1 leaf node n2 p0 sample\" transform=\"translate(-9.91379 2.32378)\"><path class=\"edge\" d=\"M 0 0 V -2.32378 H 9.91379\"/><rect class=\"sym\" height=\"6\" width=\"6\" x=\"-3\" y=\"-3\"/><text class=\"lab\" transform=\"translate(0 11)\">2</text></g><g class=\"a10 i1 leaf node n3 p0 sample\" transform=\"translate(9.91379 2.32378)\"><path class=\"edge\" d=\"M 0 0 V -2.32378 H -9.91379\"/><rect class=\"sym\" height=\"6\" width=\"6\" x=\"-3\" y=\"-3\"/><text class=\"lab\" transform=\"translate(0 11)\">3</text></g><path class=\"edge\" d=\"M 0 0 V -1.30452 H -14.8707\"/><circle class=\"sym\" cx=\"0\" cy=\"0\" r=\"3\"/><text class=\"lab rgt\" transform=\"translate(3 -7)\">10</text></g><path class=\"edge\" d=\"M 0 0 V -24.3661 H -24.7845\"/><circle class=\"sym\" cx=\"0\" cy=\"0\" r=\"3\"/><text class=\"lab rgt\" transform=\"translate(3 -7)\">12</text></g><path class=\"edge\" d=\"M 0 0 V -7.00497 H 34.6983\"/><circle class=\"sym\" cx=\"0\" cy=\"0\" r=\"3\"/><text class=\"lab lft\" transform=\"translate(-3 -7)\">18</text></g><path class=\"edge\" d=\"M 0 0 V -26.4886 H 27.2629\"/><circle class=\"sym\" cx=\"0\" cy=\"0\" r=\"3\"/><text class=\"lab lft\" transform=\"translate(-3 -7)\">20</text></g><circle class=\"sym\" cx=\"0\" cy=\"0\" r=\"3\"/><text class=\"lab\" transform=\"translate(0 -11)\">24</text></g></g></g><g class=\"tree t8\" transform=\"translate(1608.97 0)\"><g class=\"plotbox\"><g class=\"c2 node n31 p0 root\" transform=\"translate(141.444 33.2987)\"><g class=\"a31 i2 leaf node n5 p0 sample\" transform=\"translate(27.2629 88.1013)\"><path class=\"edge\" d=\"M 0 0 V -88.1013 H -27.2629\"/><rect class=\"sym\" height=\"6\" width=\"6\" x=\"-3\" y=\"-3\"/><text class=\"lab\" transform=\"translate(0 11)\">5</text></g><g class=\"a31 c2 node n20 p0\" transform=\"translate(-27.2629 53.1019)\"><g class=\"a20 i3 leaf node n7 p0 sample\" transform=\"translate(34.6983 34.9994)\"><path class=\"edge\" d=\"M 0 0 V -34.9994 H -34.6983\"/><rect class=\"sym\" height=\"6\" width=\"6\" x=\"-3\" y=\"-3\"/><text class=\"lab\" transform=\"translate(0 11)\">7</text></g><g class=\"a20 c2 node n18 p0\" transform=\"translate(-34.6983 7.00497)\"><g class=\"a18 c2 node n9 p0\" transform=\"translate(-24.7845 27.6951)\"><g class=\"a9 i3 leaf node n6 p0 sample\" transform=\"translate(14.8707 0.299329)\"><path class=\"edge\" d=\"M 0 0 V -0.299329 H -14.8707\"/><rect class=\"sym\" height=\"6\" width=\"6\" x=\"-3\" y=\"-3\"/><text class=\"lab\" transform=\"translate(0 11)\">6</text></g><g class=\"a9 c2 node n8 p0\" transform=\"translate(-14.8707 0.145957)\"><g class=\"a8 i0 leaf node n0 p0 sample\" transform=\"translate(-9.91379 0.153372)\"><path class=\"edge\" d=\"M 0 0 V -0.153372 H 9.91379\"/><rect class=\"sym\" height=\"6\" width=\"6\" x=\"-3\" y=\"-3\"/><text class=\"lab\" transform=\"translate(0 11)\">0</text></g><g class=\"a8 i2 leaf node n4 p0 sample\" transform=\"translate(9.91379 0.153372)\"><path class=\"edge\" d=\"M 0 0 V -0.153372 H -9.91379\"/><rect class=\"sym\" height=\"6\" width=\"6\" x=\"-3\" y=\"-3\"/><text class=\"lab\" transform=\"translate(0 11)\">4</text></g><path class=\"edge\" d=\"M 0 0 V -0.145957 H 14.8707\"/><circle class=\"sym\" cx=\"0\" cy=\"0\" r=\"3\"/><text class=\"lab lft\" transform=\"translate(-3 -7)\">8</text></g><path class=\"edge\" d=\"M 0 0 V -27.6951 H 24.7845\"/><circle class=\"sym\" cx=\"0\" cy=\"0\" r=\"3\"/><text class=\"lab lft\" transform=\"translate(-3 -7)\">9</text></g><g class=\"a18 c2 node n12 p0\" transform=\"translate(24.7845 24.3661)\"><g class=\"a12 i0 leaf node n1 p0 sample\" transform=\"translate(-14.8707 3.6283)\"><path class=\"edge\" d=\"M 0 0 V -3.6283 H 14.8707\"/><rect class=\"sym\" height=\"6\" width=\"6\" x=\"-3\" y=\"-3\"/><text class=\"lab\" transform=\"translate(0 11)\">1</text></g><g class=\"a12 c2 node n10 p0\" transform=\"translate(14.8707 1.30452)\"><g class=\"a10 i1 leaf node n2 p0 sample\" transform=\"translate(-9.91379 2.32378)\"><path class=\"edge\" d=\"M 0 0 V -2.32378 H 9.91379\"/><rect class=\"sym\" height=\"6\" width=\"6\" x=\"-3\" y=\"-3\"/><text class=\"lab\" transform=\"translate(0 11)\">2</text></g><g class=\"a10 i1 leaf node n3 p0 sample\" transform=\"translate(9.91379 2.32378)\"><path class=\"edge\" d=\"M 0 0 V -2.32378 H -9.91379\"/><rect class=\"sym\" height=\"6\" width=\"6\" x=\"-3\" y=\"-3\"/><text class=\"lab\" transform=\"translate(0 11)\">3</text></g><path class=\"edge\" d=\"M 0 0 V -1.30452 H -14.8707\"/><circle class=\"sym\" cx=\"0\" cy=\"0\" r=\"3\"/><text class=\"lab rgt\" transform=\"translate(3 -7)\">10</text></g><path class=\"edge\" d=\"M 0 0 V -24.3661 H -24.7845\"/><circle class=\"sym\" cx=\"0\" cy=\"0\" r=\"3\"/><text class=\"lab rgt\" transform=\"translate(3 -7)\">12</text></g><path class=\"edge\" d=\"M 0 0 V -7.00497 H 34.6983\"/><circle class=\"sym\" cx=\"0\" cy=\"0\" r=\"3\"/><text class=\"lab lft\" transform=\"translate(-3 -7)\">18</text></g><path class=\"edge\" d=\"M 0 0 V -53.1019 H 27.2629\"/><circle class=\"sym\" cx=\"0\" cy=\"0\" r=\"3\"/><text class=\"lab lft\" transform=\"translate(-3 -7)\">20</text></g><circle class=\"sym\" cx=\"0\" cy=\"0\" r=\"3\"/><text class=\"lab\" transform=\"translate(0 -11)\">31</text></g></g></g><g class=\"tree t9\" transform=\"translate(1807.59 0)\"><g class=\"plotbox\"><g class=\"c2 node n25 p0 root\" transform=\"translate(141.444 58.2122)\"><g class=\"a25 i2 leaf node n5 p0 sample\" transform=\"translate(27.2629 63.1878)\"><path class=\"edge\" d=\"M 0 0 V -63.1878 H -27.2629\"/><rect class=\"sym\" height=\"6\" width=\"6\" x=\"-3\" y=\"-3\"/><text class=\"lab\" transform=\"translate(0 11)\">5</text></g><g class=\"a25 c2 node n20 p0\" transform=\"translate(-27.2629 28.1884)\"><g class=\"a20 i3 leaf node n7 p0 sample\" transform=\"translate(34.6983 34.9994)\"><path class=\"edge\" d=\"M 0 0 V -34.9994 H -34.6983\"/><rect class=\"sym\" height=\"6\" width=\"6\" x=\"-3\" y=\"-3\"/><text class=\"lab\" transform=\"translate(0 11)\">7</text></g><g class=\"a20 c2 node n18 p0\" transform=\"translate(-34.6983 7.00497)\"><g class=\"a18 c2 node n9 p0\" transform=\"translate(-24.7845 27.6951)\"><g class=\"a9 i3 leaf node n6 p0 sample\" transform=\"translate(14.8707 0.299329)\"><path class=\"edge\" d=\"M 0 0 V -0.299329 H -14.8707\"/><rect class=\"sym\" height=\"6\" width=\"6\" x=\"-3\" y=\"-3\"/><text class=\"lab\" transform=\"translate(0 11)\">6</text></g><g class=\"a9 c2 node n8 p0\" transform=\"translate(-14.8707 0.145957)\"><g class=\"a8 i0 leaf node n0 p0 sample\" transform=\"translate(-9.91379 0.153372)\"><path class=\"edge\" d=\"M 0 0 V -0.153372 H 9.91379\"/><rect class=\"sym\" height=\"6\" width=\"6\" x=\"-3\" y=\"-3\"/><text class=\"lab\" transform=\"translate(0 11)\">0</text></g><g class=\"a8 i2 leaf node n4 p0 sample\" transform=\"translate(9.91379 0.153372)\"><path class=\"edge\" d=\"M 0 0 V -0.153372 H -9.91379\"/><rect class=\"sym\" height=\"6\" width=\"6\" x=\"-3\" y=\"-3\"/><text class=\"lab\" transform=\"translate(0 11)\">4</text></g><path class=\"edge\" d=\"M 0 0 V -0.145957 H 14.8707\"/><circle class=\"sym\" cx=\"0\" cy=\"0\" r=\"3\"/><text class=\"lab lft\" transform=\"translate(-3 -7)\">8</text></g><path class=\"edge\" d=\"M 0 0 V -27.6951 H 24.7845\"/><circle class=\"sym\" cx=\"0\" cy=\"0\" r=\"3\"/><text class=\"lab lft\" transform=\"translate(-3 -7)\">9</text></g><g class=\"a18 c2 node n12 p0\" transform=\"translate(24.7845 24.3661)\"><g class=\"a12 i0 leaf node n1 p0 sample\" transform=\"translate(-14.8707 3.6283)\"><path class=\"edge\" d=\"M 0 0 V -3.6283 H 14.8707\"/><rect class=\"sym\" height=\"6\" width=\"6\" x=\"-3\" y=\"-3\"/><text class=\"lab\" transform=\"translate(0 11)\">1</text></g><g class=\"a12 c2 node n10 p0\" transform=\"translate(14.8707 1.30452)\"><g class=\"a10 i1 leaf node n2 p0 sample\" transform=\"translate(-9.91379 2.32378)\"><path class=\"edge\" d=\"M 0 0 V -2.32378 H 9.91379\"/><rect class=\"sym\" height=\"6\" width=\"6\" x=\"-3\" y=\"-3\"/><text class=\"lab\" transform=\"translate(0 11)\">2</text></g><g class=\"a10 i1 leaf node n3 p0 sample\" transform=\"translate(9.91379 2.32378)\"><path class=\"edge\" d=\"M 0 0 V -2.32378 H -9.91379\"/><rect class=\"sym\" height=\"6\" width=\"6\" x=\"-3\" y=\"-3\"/><text class=\"lab\" transform=\"translate(0 11)\">3</text></g><path class=\"edge\" d=\"M 0 0 V -1.30452 H -14.8707\"/><circle class=\"sym\" cx=\"0\" cy=\"0\" r=\"3\"/><text class=\"lab rgt\" transform=\"translate(3 -7)\">10</text></g><path class=\"edge\" d=\"M 0 0 V -24.3661 H -24.7845\"/><circle class=\"sym\" cx=\"0\" cy=\"0\" r=\"3\"/><text class=\"lab rgt\" transform=\"translate(3 -7)\">12</text></g><path class=\"edge\" d=\"M 0 0 V -7.00497 H 34.6983\"/><circle class=\"sym\" cx=\"0\" cy=\"0\" r=\"3\"/><text class=\"lab lft\" transform=\"translate(-3 -7)\">18</text></g><path class=\"edge\" d=\"M 0 0 V -28.1884 H 27.2629\"/><circle class=\"sym\" cx=\"0\" cy=\"0\" r=\"3\"/><text class=\"lab lft\" transform=\"translate(-3 -7)\">20</text></g><circle class=\"sym\" cx=\"0\" cy=\"0\" r=\"3\"/><text class=\"lab\" transform=\"translate(0 -11)\">25</text></g></g></g><g class=\"tree t10\" transform=\"translate(2006.21 0)\"><g class=\"plotbox\"><g class=\"c2 node n25 p0 root\" transform=\"translate(138.346 58.2122)\"><g class=\"a25 i2 leaf node n5 p0 sample\" transform=\"translate(30.361 63.1878)\"><path class=\"edge\" d=\"M 0 0 V -63.1878 H -30.361\"/><rect class=\"sym\" height=\"6\" width=\"6\" x=\"-3\" y=\"-3\"/><text class=\"lab\" transform=\"translate(0 11)\">5</text></g><g class=\"a25 c2 node n20 p0\" transform=\"translate(-30.361 28.1884)\"><g class=\"a20 c2 node n18 p0\" transform=\"translate(-30.9806 7.00497)\"><g class=\"a18 c2 node n9 p0\" transform=\"translate(-22.306 27.6951)\"><g class=\"a9 i3 leaf node n6 p0 sample\" transform=\"translate(14.8707 0.299329)\"><path class=\"edge\" d=\"M 0 0 V -0.299329 H -14.8707\"/><rect class=\"sym\" height=\"6\" width=\"6\" x=\"-3\" y=\"-3\"/><text class=\"lab\" transform=\"translate(0 11)\">6</text></g><g class=\"a9 c2 node n8 p0\" transform=\"translate(-14.8707 0.145957)\"><g class=\"a8 i0 leaf node n0 p0 sample\" transform=\"translate(-9.91379 0.153372)\"><path class=\"edge\" d=\"M 0 0 V -0.153372 H 9.91379\"/><rect class=\"sym\" height=\"6\" width=\"6\" x=\"-3\" y=\"-3\"/><text class=\"lab\" transform=\"translate(0 11)\">0</text></g><g class=\"a8 i2 leaf node n4 p0 sample\" transform=\"translate(9.91379 0.153372)\"><path class=\"edge\" d=\"M 0 0 V -0.153372 H -9.91379\"/><rect class=\"sym\" height=\"6\" width=\"6\" x=\"-3\" y=\"-3\"/><text class=\"lab\" transform=\"translate(0 11)\">4</text></g><path class=\"edge\" d=\"M 0 0 V -0.145957 H 14.8707\"/><circle class=\"sym\" cx=\"0\" cy=\"0\" r=\"3\"/><text class=\"lab lft\" transform=\"translate(-3 -7)\">8</text></g><path class=\"edge\" d=\"M 0 0 V -27.6951 H 22.306\"/><circle class=\"sym\" cx=\"0\" cy=\"0\" r=\"3\"/><text class=\"lab lft\" transform=\"translate(-3 -7)\">9</text></g><g class=\"a18 c2 node n12 p0\" transform=\"translate(22.306 24.3661)\"><g class=\"a12 i0 leaf node n1 p0 sample\" transform=\"translate(-9.91379 3.6283)\"><path class=\"edge\" d=\"M 0 0 V -3.6283 H 9.91379\"/><rect class=\"sym\" height=\"6\" width=\"6\" x=\"-3\" y=\"-3\"/><text class=\"lab\" transform=\"translate(0 11)\">1</text></g><g class=\"a12 i1 leaf node n2 p0 sample\" transform=\"translate(9.91379 3.6283)\"><path class=\"edge\" d=\"M 0 0 V -3.6283 H -9.91379\"/><rect class=\"sym\" height=\"6\" width=\"6\" x=\"-3\" y=\"-3\"/><text class=\"lab\" transform=\"translate(0 11)\">2</text></g><path class=\"edge\" d=\"M 0 0 V -24.3661 H -22.306\"/><circle class=\"sym\" cx=\"0\" cy=\"0\" r=\"3\"/><text class=\"lab rgt\" transform=\"translate(3 -7)\">12</text></g><path class=\"edge\" d=\"M 0 0 V -7.00497 H 30.9806\"/><circle class=\"sym\" cx=\"0\" cy=\"0\" r=\"3\"/><text class=\"lab lft\" transform=\"translate(-3 -7)\">18</text></g><g class=\"a20 c2 m5 node n13 p0 s5\" transform=\"translate(30.9806 30.8774)\"><g class=\"a13 i1 leaf node n3 p0 sample\" transform=\"translate(-9.91379 4.12203)\"><path class=\"edge\" d=\"M 0 0 V -4.12203 H 9.91379\"/><rect class=\"sym\" height=\"6\" width=\"6\" x=\"-3\" y=\"-3\"/><text class=\"lab\" transform=\"translate(0 11)\">3</text></g><g class=\"a13 i3 leaf node n7 p0 sample\" transform=\"translate(9.91379 4.12203)\"><path class=\"edge\" d=\"M 0 0 V -4.12203 H -9.91379\"/><rect class=\"sym\" height=\"6\" width=\"6\" x=\"-3\" y=\"-3\"/><text class=\"lab\" transform=\"translate(0 11)\">7</text></g><path class=\"edge\" d=\"M 0 0 V -30.8774 H -30.9806\"/><g class=\"mut m5 s5\" transform=\"translate(0 -7.63158)\"><line x1=\"0\" x2=\"0\" y1=\"0\" y2=\"7.63158\"/><path class=\"sym\" d=\"M -3,-3 l 6,6 M -3,3 l 6,-6\"/><text class=\"lab rgt\" transform=\"translate(5 0)\">5</text></g><circle class=\"sym\" cx=\"0\" cy=\"0\" r=\"3\"/><text class=\"lab rgt\" transform=\"translate(3 -7)\">13</text></g><path class=\"edge\" d=\"M 0 0 V -28.1884 H 30.361\"/><circle class=\"sym\" cx=\"0\" cy=\"0\" r=\"3\"/><text class=\"lab lft\" transform=\"translate(-3 -7)\">20</text></g><circle class=\"sym\" cx=\"0\" cy=\"0\" r=\"3\"/><text class=\"lab\" transform=\"translate(0 -11)\">25</text></g></g></g><g class=\"tree t11\" transform=\"translate(2204.83 0)\"><g class=\"plotbox\"><g class=\"c2 node n25 p0 root\" transform=\"translate(115.42 58.2122)\"><g class=\"a25 c2 node n16 p0\" transform=\"translate(38.4159 52.644)\"><g class=\"a16 i2 leaf node n5 p0 sample\" transform=\"translate(14.8707 10.5438)\"><path class=\"edge\" d=\"M 0 0 V -10.5438 H -14.8707\"/><rect class=\"sym\" height=\"6\" width=\"6\" x=\"-3\" y=\"-3\"/><text class=\"lab\" transform=\"translate(0 11)\">5</text></g><g class=\"a16 c2 node n13 p0\" transform=\"translate(-14.8707 6.42177)\"><g class=\"a13 i1 leaf node n3 p0 sample\" transform=\"translate(-9.91379 4.12203)\"><path class=\"edge\" d=\"M 0 0 V -4.12203 H 9.91379\"/><rect class=\"sym\" height=\"6\" width=\"6\" x=\"-3\" y=\"-3\"/><text class=\"lab\" transform=\"translate(0 11)\">3</text></g><g class=\"a13 i3 leaf node n7 p0 sample\" transform=\"translate(9.91379 4.12203)\"><path class=\"edge\" d=\"M 0 0 V -4.12203 H -9.91379\"/><rect class=\"sym\" height=\"6\" width=\"6\" x=\"-3\" y=\"-3\"/><text class=\"lab\" transform=\"translate(0 11)\">7</text></g><path class=\"edge\" d=\"M 0 0 V -6.42177 H 14.8707\"/><circle class=\"sym\" cx=\"0\" cy=\"0\" r=\"3\"/><text class=\"lab lft\" transform=\"translate(-3 -7)\">13</text></g><path class=\"edge\" d=\"M 0 0 V -52.644 H -38.4159\"/><circle class=\"sym\" cx=\"0\" cy=\"0\" r=\"3\"/><text class=\"lab rgt\" transform=\"translate(3 -7)\">16</text></g><g class=\"a25 c2 node n18 p0\" transform=\"translate(-38.4159 35.1933)\"><g class=\"a18 c2 node n9 p0\" transform=\"translate(-22.306 27.6951)\"><g class=\"a9 i3 leaf node n6 p0 sample\" transform=\"translate(14.8707 0.299329)\"><path class=\"edge\" d=\"M 0 0 V -0.299329 H -14.8707\"/><rect class=\"sym\" height=\"6\" width=\"6\" x=\"-3\" y=\"-3\"/><text class=\"lab\" transform=\"translate(0 11)\">6</text></g><g class=\"a9 c2 node n8 p0\" transform=\"translate(-14.8707 0.145957)\"><g class=\"a8 i0 leaf node n0 p0 sample\" transform=\"translate(-9.91379 0.153372)\"><path class=\"edge\" d=\"M 0 0 V -0.153372 H 9.91379\"/><rect class=\"sym\" height=\"6\" width=\"6\" x=\"-3\" y=\"-3\"/><text class=\"lab\" transform=\"translate(0 11)\">0</text></g><g class=\"a8 i2 leaf node n4 p0 sample\" transform=\"translate(9.91379 0.153372)\"><path class=\"edge\" d=\"M 0 0 V -0.153372 H -9.91379\"/><rect class=\"sym\" height=\"6\" width=\"6\" x=\"-3\" y=\"-3\"/><text class=\"lab\" transform=\"translate(0 11)\">4</text></g><path class=\"edge\" d=\"M 0 0 V -0.145957 H 14.8707\"/><circle class=\"sym\" cx=\"0\" cy=\"0\" r=\"3\"/><text class=\"lab lft\" transform=\"translate(-3 -7)\">8</text></g><path class=\"edge\" d=\"M 0 0 V -27.6951 H 22.306\"/><circle class=\"sym\" cx=\"0\" cy=\"0\" r=\"3\"/><text class=\"lab lft\" transform=\"translate(-3 -7)\">9</text></g><g class=\"a18 c2 node n12 p0\" transform=\"translate(22.306 24.3661)\"><g class=\"a12 i0 leaf node n1 p0 sample\" transform=\"translate(-9.91379 3.6283)\"><path class=\"edge\" d=\"M 0 0 V -3.6283 H 9.91379\"/><rect class=\"sym\" height=\"6\" width=\"6\" x=\"-3\" y=\"-3\"/><text class=\"lab\" transform=\"translate(0 11)\">1</text></g><g class=\"a12 i1 leaf node n2 p0 sample\" transform=\"translate(9.91379 3.6283)\"><path class=\"edge\" d=\"M 0 0 V -3.6283 H -9.91379\"/><rect class=\"sym\" height=\"6\" width=\"6\" x=\"-3\" y=\"-3\"/><text class=\"lab\" transform=\"translate(0 11)\">2</text></g><path class=\"edge\" d=\"M 0 0 V -24.3661 H -22.306\"/><circle class=\"sym\" cx=\"0\" cy=\"0\" r=\"3\"/><text class=\"lab rgt\" transform=\"translate(3 -7)\">12</text></g><path class=\"edge\" d=\"M 0 0 V -35.1933 H 38.4159\"/><circle class=\"sym\" cx=\"0\" cy=\"0\" r=\"3\"/><text class=\"lab lft\" transform=\"translate(-3 -7)\">18</text></g><circle class=\"sym\" cx=\"0\" cy=\"0\" r=\"3\"/><text class=\"lab\" transform=\"translate(0 -11)\">25</text></g></g></g><g class=\"tree t12\" transform=\"translate(2403.45 0)\"><g class=\"plotbox\"><g class=\"c2 node n31 p0 root\" transform=\"translate(115.42 33.2987)\"><g class=\"a31 c2 node n16 p0\" transform=\"translate(38.4159 77.5575)\"><g class=\"a16 i2 leaf node n5 p0 sample\" transform=\"translate(14.8707 10.5438)\"><path class=\"edge\" d=\"M 0 0 V -10.5438 H -14.8707\"/><rect class=\"sym\" height=\"6\" width=\"6\" x=\"-3\" y=\"-3\"/><text class=\"lab\" transform=\"translate(0 11)\">5</text></g><g class=\"a16 c2 node n13 p0\" transform=\"translate(-14.8707 6.42177)\"><g class=\"a13 i1 leaf node n3 p0 sample\" transform=\"translate(-9.91379 4.12203)\"><path class=\"edge\" d=\"M 0 0 V -4.12203 H 9.91379\"/><rect class=\"sym\" height=\"6\" width=\"6\" x=\"-3\" y=\"-3\"/><text class=\"lab\" transform=\"translate(0 11)\">3</text></g><g class=\"a13 i3 leaf node n7 p0 sample\" transform=\"translate(9.91379 4.12203)\"><path class=\"edge\" d=\"M 0 0 V -4.12203 H -9.91379\"/><rect class=\"sym\" height=\"6\" width=\"6\" x=\"-3\" y=\"-3\"/><text class=\"lab\" transform=\"translate(0 11)\">7</text></g><path class=\"edge\" d=\"M 0 0 V -6.42177 H 14.8707\"/><circle class=\"sym\" cx=\"0\" cy=\"0\" r=\"3\"/><text class=\"lab lft\" transform=\"translate(-3 -7)\">13</text></g><path class=\"edge\" d=\"M 0 0 V -77.5575 H -38.4159\"/><circle class=\"sym\" cx=\"0\" cy=\"0\" r=\"3\"/><text class=\"lab rgt\" transform=\"translate(3 -7)\">16</text></g><g class=\"a31 c2 node n18 p0\" transform=\"translate(-38.4159 60.1068)\"><g class=\"a18 c2 node n9 p0\" transform=\"translate(-22.306 27.6951)\"><g class=\"a9 i3 leaf node n6 p0 sample\" transform=\"translate(14.8707 0.299329)\"><path class=\"edge\" d=\"M 0 0 V -0.299329 H -14.8707\"/><rect class=\"sym\" height=\"6\" width=\"6\" x=\"-3\" y=\"-3\"/><text class=\"lab\" transform=\"translate(0 11)\">6</text></g><g class=\"a9 c2 node n8 p0\" transform=\"translate(-14.8707 0.145957)\"><g class=\"a8 i0 leaf node n0 p0 sample\" transform=\"translate(-9.91379 0.153372)\"><path class=\"edge\" d=\"M 0 0 V -0.153372 H 9.91379\"/><rect class=\"sym\" height=\"6\" width=\"6\" x=\"-3\" y=\"-3\"/><text class=\"lab\" transform=\"translate(0 11)\">0</text></g><g class=\"a8 i2 leaf node n4 p0 sample\" transform=\"translate(9.91379 0.153372)\"><path class=\"edge\" d=\"M 0 0 V -0.153372 H -9.91379\"/><rect class=\"sym\" height=\"6\" width=\"6\" x=\"-3\" y=\"-3\"/><text class=\"lab\" transform=\"translate(0 11)\">4</text></g><path class=\"edge\" d=\"M 0 0 V -0.145957 H 14.8707\"/><circle class=\"sym\" cx=\"0\" cy=\"0\" r=\"3\"/><text class=\"lab lft\" transform=\"translate(-3 -7)\">8</text></g><path class=\"edge\" d=\"M 0 0 V -27.6951 H 22.306\"/><circle class=\"sym\" cx=\"0\" cy=\"0\" r=\"3\"/><text class=\"lab lft\" transform=\"translate(-3 -7)\">9</text></g><g class=\"a18 c2 node n12 p0\" transform=\"translate(22.306 24.3661)\"><g class=\"a12 i0 leaf node n1 p0 sample\" transform=\"translate(-9.91379 3.6283)\"><path class=\"edge\" d=\"M 0 0 V -3.6283 H 9.91379\"/><rect class=\"sym\" height=\"6\" width=\"6\" x=\"-3\" y=\"-3\"/><text class=\"lab\" transform=\"translate(0 11)\">1</text></g><g class=\"a12 i1 leaf node n2 p0 sample\" transform=\"translate(9.91379 3.6283)\"><path class=\"edge\" d=\"M 0 0 V -3.6283 H -9.91379\"/><rect class=\"sym\" height=\"6\" width=\"6\" x=\"-3\" y=\"-3\"/><text class=\"lab\" transform=\"translate(0 11)\">2</text></g><path class=\"edge\" d=\"M 0 0 V -24.3661 H -22.306\"/><circle class=\"sym\" cx=\"0\" cy=\"0\" r=\"3\"/><text class=\"lab rgt\" transform=\"translate(3 -7)\">12</text></g><path class=\"edge\" d=\"M 0 0 V -60.1068 H 38.4159\"/><circle class=\"sym\" cx=\"0\" cy=\"0\" r=\"3\"/><text class=\"lab lft\" transform=\"translate(-3 -7)\">18</text></g><circle class=\"sym\" cx=\"0\" cy=\"0\" r=\"3\"/><text class=\"lab\" transform=\"translate(0 -11)\">31</text></g></g></g><g class=\"tree t13\" transform=\"translate(2602.07 0)\"><g class=\"plotbox\"><g class=\"c2 node n25 p0 root\" transform=\"translate(115.42 58.2122)\"><g class=\"a25 c2 m6 node n16 p0 s6\" transform=\"translate(38.4159 52.644)\"><g class=\"a16 i2 leaf node n5 p0 sample\" transform=\"translate(14.8707 10.5438)\"><path class=\"edge\" d=\"M 0 0 V -10.5438 H -14.8707\"/><rect class=\"sym\" height=\"6\" width=\"6\" x=\"-3\" y=\"-3\"/><text class=\"lab\" transform=\"translate(0 11)\">5</text></g><g class=\"a16 c2 node n13 p0\" transform=\"translate(-14.8707 6.42177)\"><g class=\"a13 i1 leaf node n3 p0 sample\" transform=\"translate(-9.91379 4.12203)\"><path class=\"edge\" d=\"M 0 0 V -4.12203 H 9.91379\"/><rect class=\"sym\" height=\"6\" width=\"6\" x=\"-3\" y=\"-3\"/><text class=\"lab\" transform=\"translate(0 11)\">3</text></g><g class=\"a13 i3 leaf node n7 p0 sample\" transform=\"translate(9.91379 4.12203)\"><path class=\"edge\" d=\"M 0 0 V -4.12203 H -9.91379\"/><rect class=\"sym\" height=\"6\" width=\"6\" x=\"-3\" y=\"-3\"/><text class=\"lab\" transform=\"translate(0 11)\">7</text></g><path class=\"edge\" d=\"M 0 0 V -6.42177 H 14.8707\"/><circle class=\"sym\" cx=\"0\" cy=\"0\" r=\"3\"/><text class=\"lab lft\" transform=\"translate(-3 -7)\">13</text></g><path class=\"edge\" d=\"M 0 0 V -52.644 H -38.4159\"/><g class=\"mut m6 s6\" transform=\"translate(0 -23.9083)\"><line x1=\"0\" x2=\"0\" y1=\"0\" y2=\"23.9083\"/><path class=\"sym\" d=\"M -3,-3 l 6,6 M -3,3 l 6,-6\"/><text class=\"lab rgt\" transform=\"translate(5 0)\">6</text></g><circle class=\"sym\" cx=\"0\" cy=\"0\" r=\"3\"/><text class=\"lab rgt\" transform=\"translate(3 -7)\">16</text></g><g class=\"a25 c2 node n18 p0\" transform=\"translate(-38.4159 35.1933)\"><g class=\"a18 c2 node n9 p0\" transform=\"translate(-22.306 27.6951)\"><g class=\"a9 i3 leaf node n6 p0 sample\" transform=\"translate(14.8707 0.299329)\"><path class=\"edge\" d=\"M 0 0 V -0.299329 H -14.8707\"/><rect class=\"sym\" height=\"6\" width=\"6\" x=\"-3\" y=\"-3\"/><text class=\"lab\" transform=\"translate(0 11)\">6</text></g><g class=\"a9 c2 node n8 p0\" transform=\"translate(-14.8707 0.145957)\"><g class=\"a8 i0 leaf node n0 p0 sample\" transform=\"translate(-9.91379 0.153372)\"><path class=\"edge\" d=\"M 0 0 V -0.153372 H 9.91379\"/><rect class=\"sym\" height=\"6\" width=\"6\" x=\"-3\" y=\"-3\"/><text class=\"lab\" transform=\"translate(0 11)\">0</text></g><g class=\"a8 i2 leaf node n4 p0 sample\" transform=\"translate(9.91379 0.153372)\"><path class=\"edge\" d=\"M 0 0 V -0.153372 H -9.91379\"/><rect class=\"sym\" height=\"6\" width=\"6\" x=\"-3\" y=\"-3\"/><text class=\"lab\" transform=\"translate(0 11)\">4</text></g><path class=\"edge\" d=\"M 0 0 V -0.145957 H 14.8707\"/><circle class=\"sym\" cx=\"0\" cy=\"0\" r=\"3\"/><text class=\"lab lft\" transform=\"translate(-3 -7)\">8</text></g><path class=\"edge\" d=\"M 0 0 V -27.6951 H 22.306\"/><circle class=\"sym\" cx=\"0\" cy=\"0\" r=\"3\"/><text class=\"lab lft\" transform=\"translate(-3 -7)\">9</text></g><g class=\"a18 c2 node n12 p0\" transform=\"translate(22.306 24.3661)\"><g class=\"a12 i0 leaf node n1 p0 sample\" transform=\"translate(-9.91379 3.6283)\"><path class=\"edge\" d=\"M 0 0 V -3.6283 H 9.91379\"/><rect class=\"sym\" height=\"6\" width=\"6\" x=\"-3\" y=\"-3\"/><text class=\"lab\" transform=\"translate(0 11)\">1</text></g><g class=\"a12 i1 leaf node n2 p0 sample\" transform=\"translate(9.91379 3.6283)\"><path class=\"edge\" d=\"M 0 0 V -3.6283 H -9.91379\"/><rect class=\"sym\" height=\"6\" width=\"6\" x=\"-3\" y=\"-3\"/><text class=\"lab\" transform=\"translate(0 11)\">2</text></g><path class=\"edge\" d=\"M 0 0 V -24.3661 H -22.306\"/><circle class=\"sym\" cx=\"0\" cy=\"0\" r=\"3\"/><text class=\"lab rgt\" transform=\"translate(3 -7)\">12</text></g><path class=\"edge\" d=\"M 0 0 V -35.1933 H 38.4159\"/><circle class=\"sym\" cx=\"0\" cy=\"0\" r=\"3\"/><text class=\"lab lft\" transform=\"translate(-3 -7)\">18</text></g><circle class=\"sym\" cx=\"0\" cy=\"0\" r=\"3\"/><text class=\"lab\" transform=\"translate(0 -11)\">25</text></g></g></g><g class=\"tree t14\" transform=\"translate(2800.69 0)\"><g class=\"plotbox\"><g class=\"c2 node n25 p0 root\" transform=\"translate(90.6358 58.2122)\"><g class=\"a25 c2 node n9 p0\" transform=\"translate(-35.9375 62.8885)\"><g class=\"a9 i3 leaf node n6 p0 sample\" transform=\"translate(14.8707 0.299329)\"><path class=\"edge\" d=\"M 0 0 V -0.299329 H -14.8707\"/><rect class=\"sym\" height=\"6\" width=\"6\" x=\"-3\" y=\"-3\"/><text class=\"lab\" transform=\"translate(0 11)\">6</text></g><g class=\"a9 c2 node n8 p0\" transform=\"translate(-14.8707 0.145957)\"><g class=\"a8 i0 leaf node n0 p0 sample\" transform=\"translate(-9.91379 0.153372)\"><path class=\"edge\" d=\"M 0 0 V -0.153372 H 9.91379\"/><rect class=\"sym\" height=\"6\" width=\"6\" x=\"-3\" y=\"-3\"/><text class=\"lab\" transform=\"translate(0 11)\">0</text></g><g class=\"a8 i2 leaf node n4 p0 sample\" transform=\"translate(9.91379 0.153372)\"><path class=\"edge\" d=\"M 0 0 V -0.153372 H -9.91379\"/><rect class=\"sym\" height=\"6\" width=\"6\" x=\"-3\" y=\"-3\"/><text class=\"lab\" transform=\"translate(0 11)\">4</text></g><path class=\"edge\" d=\"M 0 0 V -0.145957 H 14.8707\"/><circle class=\"sym\" cx=\"0\" cy=\"0\" r=\"3\"/><text class=\"lab lft\" transform=\"translate(-3 -7)\">8</text></g><path class=\"edge\" d=\"M 0 0 V -62.8885 H 35.9375\"/><circle class=\"sym\" cx=\"0\" cy=\"0\" r=\"3\"/><text class=\"lab lft\" transform=\"translate(-3 -7)\">9</text></g><g class=\"a25 c2 node n21 p0\" transform=\"translate(35.9375 26.4129)\"><g class=\"a21 c2 node n12 p0\" transform=\"translate(-27.2629 33.1466)\"><g class=\"a12 i0 leaf node n1 p0 sample\" transform=\"translate(-9.91379 3.6283)\"><path class=\"edge\" d=\"M 0 0 V -3.6283 H 9.91379\"/><rect class=\"sym\" height=\"6\" width=\"6\" x=\"-3\" y=\"-3\"/><text class=\"lab\" transform=\"translate(0 11)\">1</text></g><g class=\"a12 i1 leaf node n2 p0 sample\" transform=\"translate(9.91379 3.6283)\"><path class=\"edge\" d=\"M 0 0 V -3.6283 H -9.91379\"/><rect class=\"sym\" height=\"6\" width=\"6\" x=\"-3\" y=\"-3\"/><text class=\"lab\" transform=\"translate(0 11)\">2</text></g><path class=\"edge\" d=\"M 0 0 V -33.1466 H 27.2629\"/><circle class=\"sym\" cx=\"0\" cy=\"0\" r=\"3\"/><text class=\"lab lft\" transform=\"translate(-3 -7)\">12</text></g><g class=\"a21 c2 m7 node n16 p0 s7\" transform=\"translate(27.2629 26.2311)\"><g class=\"a16 i2 leaf node n5 p0 sample\" transform=\"translate(14.8707 10.5438)\"><path class=\"edge\" d=\"M 0 0 V -10.5438 H -14.8707\"/><rect class=\"sym\" height=\"6\" width=\"6\" x=\"-3\" y=\"-3\"/><text class=\"lab\" transform=\"translate(0 11)\">5</text></g><g class=\"a16 c2 node n13 p0\" transform=\"translate(-14.8707 6.42177)\"><g class=\"a13 i1 leaf node n3 p0 sample\" transform=\"translate(-9.91379 4.12203)\"><path class=\"edge\" d=\"M 0 0 V -4.12203 H 9.91379\"/><rect class=\"sym\" height=\"6\" width=\"6\" x=\"-3\" y=\"-3\"/><text class=\"lab\" transform=\"translate(0 11)\">3</text></g><g class=\"a13 i3 leaf node n7 p0 sample\" transform=\"translate(9.91379 4.12203)\"><path class=\"edge\" d=\"M 0 0 V -4.12203 H -9.91379\"/><rect class=\"sym\" height=\"6\" width=\"6\" x=\"-3\" y=\"-3\"/><text class=\"lab\" transform=\"translate(0 11)\">7</text></g><path class=\"edge\" d=\"M 0 0 V -6.42177 H 14.8707\"/><circle class=\"sym\" cx=\"0\" cy=\"0\" r=\"3\"/><text class=\"lab lft\" transform=\"translate(-3 -7)\">13</text></g><path class=\"edge\" d=\"M 0 0 V -26.2311 H -27.2629\"/><g class=\"mut m7 s7\" transform=\"translate(0 -11.1508)\"><line x1=\"0\" x2=\"0\" y1=\"0\" y2=\"11.1508\"/><path class=\"sym\" d=\"M -3,-3 l 6,6 M -3,3 l 6,-6\"/><text class=\"lab rgt\" transform=\"translate(5 0)\">7</text></g><circle class=\"sym\" cx=\"0\" cy=\"0\" r=\"3\"/><text class=\"lab rgt\" transform=\"translate(3 -7)\">16</text></g><path class=\"edge\" d=\"M 0 0 V -26.4129 H -35.9375\"/><circle class=\"sym\" cx=\"0\" cy=\"0\" r=\"3\"/><text class=\"lab rgt\" transform=\"translate(3 -7)\">21</text></g><circle class=\"sym\" cx=\"0\" cy=\"0\" r=\"3\"/><text class=\"lab\" transform=\"translate(0 -11)\">25</text></g></g></g><g class=\"tree t15\" transform=\"translate(2999.31 0)\"><g class=\"plotbox\"><g class=\"c2 node n25 p0 root\" transform=\"translate(90.6358 58.2122)\"><g class=\"a25 c2 node n9 p0\" transform=\"translate(-35.9375 62.8885)\"><g class=\"a9 i3 leaf node n6 p0 sample\" transform=\"translate(14.8707 0.299329)\"><path class=\"edge\" d=\"M 0 0 V -0.299329 H -14.8707\"/><rect class=\"sym\" height=\"6\" width=\"6\" x=\"-3\" y=\"-3\"/><text class=\"lab\" transform=\"translate(0 11)\">6</text></g><g class=\"a9 c2 node n8 p0\" transform=\"translate(-14.8707 0.145957)\"><g class=\"a8 i0 leaf node n0 p0 sample\" transform=\"translate(-9.91379 0.153372)\"><path class=\"edge\" d=\"M 0 0 V -0.153372 H 9.91379\"/><rect class=\"sym\" height=\"6\" width=\"6\" x=\"-3\" y=\"-3\"/><text class=\"lab\" transform=\"translate(0 11)\">0</text></g><g class=\"a8 i2 leaf node n4 p0 sample\" transform=\"translate(9.91379 0.153372)\"><path class=\"edge\" d=\"M 0 0 V -0.153372 H -9.91379\"/><rect class=\"sym\" height=\"6\" width=\"6\" x=\"-3\" y=\"-3\"/><text class=\"lab\" transform=\"translate(0 11)\">4</text></g><path class=\"edge\" d=\"M 0 0 V -0.145957 H 14.8707\"/><circle class=\"sym\" cx=\"0\" cy=\"0\" r=\"3\"/><text class=\"lab lft\" transform=\"translate(-3 -7)\">8</text></g><path class=\"edge\" d=\"M 0 0 V -62.8885 H 35.9375\"/><circle class=\"sym\" cx=\"0\" cy=\"0\" r=\"3\"/><text class=\"lab lft\" transform=\"translate(-3 -7)\">9</text></g><g class=\"a25 c2 node n22 p0\" transform=\"translate(35.9375 24.6908)\"><g class=\"a22 c2 node n12 p0\" transform=\"translate(-27.2629 34.8686)\"><g class=\"a12 i0 leaf node n1 p0 sample\" transform=\"translate(-9.91379 3.6283)\"><path class=\"edge\" d=\"M 0 0 V -3.6283 H 9.91379\"/><rect class=\"sym\" height=\"6\" width=\"6\" x=\"-3\" y=\"-3\"/><text class=\"lab\" transform=\"translate(0 11)\">1</text></g><g class=\"a12 i1 leaf node n2 p0 sample\" transform=\"translate(9.91379 3.6283)\"><path class=\"edge\" d=\"M 0 0 V -3.6283 H -9.91379\"/><rect class=\"sym\" height=\"6\" width=\"6\" x=\"-3\" y=\"-3\"/><text class=\"lab\" transform=\"translate(0 11)\">2</text></g><path class=\"edge\" d=\"M 0 0 V -34.8686 H 27.2629\"/><circle class=\"sym\" cx=\"0\" cy=\"0\" r=\"3\"/><text class=\"lab lft\" transform=\"translate(-3 -7)\">12</text></g><g class=\"a22 c2 node n16 p0\" transform=\"translate(27.2629 27.9531)\"><g class=\"a16 i2 leaf node n5 p0 sample\" transform=\"translate(14.8707 10.5438)\"><path class=\"edge\" d=\"M 0 0 V -10.5438 H -14.8707\"/><rect class=\"sym\" height=\"6\" width=\"6\" x=\"-3\" y=\"-3\"/><text class=\"lab\" transform=\"translate(0 11)\">5</text></g><g class=\"a16 c2 node n13 p0\" transform=\"translate(-14.8707 6.42177)\"><g class=\"a13 i1 leaf node n3 p0 sample\" transform=\"translate(-9.91379 4.12203)\"><path class=\"edge\" d=\"M 0 0 V -4.12203 H 9.91379\"/><rect class=\"sym\" height=\"6\" width=\"6\" x=\"-3\" y=\"-3\"/><text class=\"lab\" transform=\"translate(0 11)\">3</text></g><g class=\"a13 i3 leaf node n7 p0 sample\" transform=\"translate(9.91379 4.12203)\"><path class=\"edge\" d=\"M 0 0 V -4.12203 H -9.91379\"/><rect class=\"sym\" height=\"6\" width=\"6\" x=\"-3\" y=\"-3\"/><text class=\"lab\" transform=\"translate(0 11)\">7</text></g><path class=\"edge\" d=\"M 0 0 V -6.42177 H 14.8707\"/><circle class=\"sym\" cx=\"0\" cy=\"0\" r=\"3\"/><text class=\"lab lft\" transform=\"translate(-3 -7)\">13</text></g><path class=\"edge\" d=\"M 0 0 V -27.9531 H -27.2629\"/><circle class=\"sym\" cx=\"0\" cy=\"0\" r=\"3\"/><text class=\"lab rgt\" transform=\"translate(3 -7)\">16</text></g><path class=\"edge\" d=\"M 0 0 V -24.6908 H -35.9375\"/><circle class=\"sym\" cx=\"0\" cy=\"0\" r=\"3\"/><text class=\"lab rgt\" transform=\"translate(3 -7)\">22</text></g><circle class=\"sym\" cx=\"0\" cy=\"0\" r=\"3\"/><text class=\"lab\" transform=\"translate(0 -11)\">25</text></g></g></g><g class=\"tree t16\" transform=\"translate(3197.93 0)\"><g class=\"plotbox\"><g class=\"c2 node n25 p0 root\" transform=\"translate(115.42 58.2122)\"><g class=\"a25 c2 node n16 p0\" transform=\"translate(38.4159 52.644)\"><g class=\"a16 i2 leaf node n5 p0 sample\" transform=\"translate(14.8707 10.5438)\"><path class=\"edge\" d=\"M 0 0 V -10.5438 H -14.8707\"/><rect class=\"sym\" height=\"6\" width=\"6\" x=\"-3\" y=\"-3\"/><text class=\"lab\" transform=\"translate(0 11)\">5</text></g><g class=\"a16 c2 node n13 p0\" transform=\"translate(-14.8707 6.42177)\"><g class=\"a13 i1 leaf node n3 p0 sample\" transform=\"translate(-9.91379 4.12203)\"><path class=\"edge\" d=\"M 0 0 V -4.12203 H 9.91379\"/><rect class=\"sym\" height=\"6\" width=\"6\" x=\"-3\" y=\"-3\"/><text class=\"lab\" transform=\"translate(0 11)\">3</text></g><g class=\"a13 i3 leaf node n7 p0 sample\" transform=\"translate(9.91379 4.12203)\"><path class=\"edge\" d=\"M 0 0 V -4.12203 H -9.91379\"/><rect class=\"sym\" height=\"6\" width=\"6\" x=\"-3\" y=\"-3\"/><text class=\"lab\" transform=\"translate(0 11)\">7</text></g><path class=\"edge\" d=\"M 0 0 V -6.42177 H 14.8707\"/><circle class=\"sym\" cx=\"0\" cy=\"0\" r=\"3\"/><text class=\"lab lft\" transform=\"translate(-3 -7)\">13</text></g><path class=\"edge\" d=\"M 0 0 V -52.644 H -38.4159\"/><circle class=\"sym\" cx=\"0\" cy=\"0\" r=\"3\"/><text class=\"lab rgt\" transform=\"translate(3 -7)\">16</text></g><g class=\"a25 c2 node n23 p0\" transform=\"translate(-38.4159 24.009)\"><g class=\"a23 c2 node n9 p0\" transform=\"translate(-22.306 38.8794)\"><g class=\"a9 i3 leaf node n6 p0 sample\" transform=\"translate(14.8707 0.299329)\"><path class=\"edge\" d=\"M 0 0 V -0.299329 H -14.8707\"/><rect class=\"sym\" height=\"6\" width=\"6\" x=\"-3\" y=\"-3\"/><text class=\"lab\" transform=\"translate(0 11)\">6</text></g><g class=\"a9 c2 node n8 p0\" transform=\"translate(-14.8707 0.145957)\"><g class=\"a8 i0 leaf node n0 p0 sample\" transform=\"translate(-9.91379 0.153372)\"><path class=\"edge\" d=\"M 0 0 V -0.153372 H 9.91379\"/><rect class=\"sym\" height=\"6\" width=\"6\" x=\"-3\" y=\"-3\"/><text class=\"lab\" transform=\"translate(0 11)\">0</text></g><g class=\"a8 i2 leaf node n4 p0 sample\" transform=\"translate(9.91379 0.153372)\"><path class=\"edge\" d=\"M 0 0 V -0.153372 H -9.91379\"/><rect class=\"sym\" height=\"6\" width=\"6\" x=\"-3\" y=\"-3\"/><text class=\"lab\" transform=\"translate(0 11)\">4</text></g><path class=\"edge\" d=\"M 0 0 V -0.145957 H 14.8707\"/><circle class=\"sym\" cx=\"0\" cy=\"0\" r=\"3\"/><text class=\"lab lft\" transform=\"translate(-3 -7)\">8</text></g><path class=\"edge\" d=\"M 0 0 V -38.8794 H 22.306\"/><circle class=\"sym\" cx=\"0\" cy=\"0\" r=\"3\"/><text class=\"lab lft\" transform=\"translate(-3 -7)\">9</text></g><g class=\"a23 c2 node n12 p0\" transform=\"translate(22.306 35.5504)\"><g class=\"a12 i0 leaf node n1 p0 sample\" transform=\"translate(-9.91379 3.6283)\"><path class=\"edge\" d=\"M 0 0 V -3.6283 H 9.91379\"/><rect class=\"sym\" height=\"6\" width=\"6\" x=\"-3\" y=\"-3\"/><text class=\"lab\" transform=\"translate(0 11)\">1</text></g><g class=\"a12 i1 leaf node n2 p0 sample\" transform=\"translate(9.91379 3.6283)\"><path class=\"edge\" d=\"M 0 0 V -3.6283 H -9.91379\"/><rect class=\"sym\" height=\"6\" width=\"6\" x=\"-3\" y=\"-3\"/><text class=\"lab\" transform=\"translate(0 11)\">2</text></g><path class=\"edge\" d=\"M 0 0 V -35.5504 H -22.306\"/><circle class=\"sym\" cx=\"0\" cy=\"0\" r=\"3\"/><text class=\"lab rgt\" transform=\"translate(3 -7)\">12</text></g><path class=\"edge\" d=\"M 0 0 V -24.009 H 38.4159\"/><circle class=\"sym\" cx=\"0\" cy=\"0\" r=\"3\"/><text class=\"lab lft\" transform=\"translate(-3 -7)\">23</text></g><circle class=\"sym\" cx=\"0\" cy=\"0\" r=\"3\"/><text class=\"lab\" transform=\"translate(0 -11)\">25</text></g></g></g><g class=\"tree t17\" transform=\"translate(3396.55 0)\"><g class=\"plotbox\"><g class=\"c2 node n25 p0 root\" transform=\"translate(122.236 58.2122)\"><g class=\"a25 c2 node n16 p0\" transform=\"translate(31.6002 52.644)\"><g class=\"a16 i2 leaf node n5 p0 sample\" transform=\"translate(14.8707 10.5438)\"><path class=\"edge\" d=\"M 0 0 V -10.5438 H -14.8707\"/><rect class=\"sym\" height=\"6\" width=\"6\" x=\"-3\" y=\"-3\"/><text class=\"lab\" transform=\"translate(0 11)\">5</text></g><g class=\"a16 c2 node n13 p0\" transform=\"translate(-14.8707 6.42177)\"><g class=\"a13 i1 leaf node n3 p0 sample\" transform=\"translate(-9.91379 4.12203)\"><path class=\"edge\" d=\"M 0 0 V -4.12203 H 9.91379\"/><rect class=\"sym\" height=\"6\" width=\"6\" x=\"-3\" y=\"-3\"/><text class=\"lab\" transform=\"translate(0 11)\">3</text></g><g class=\"a13 i3 leaf node n7 p0 sample\" transform=\"translate(9.91379 4.12203)\"><path class=\"edge\" d=\"M 0 0 V -4.12203 H -9.91379\"/><rect class=\"sym\" height=\"6\" width=\"6\" x=\"-3\" y=\"-3\"/><text class=\"lab\" transform=\"translate(0 11)\">7</text></g><path class=\"edge\" d=\"M 0 0 V -6.42177 H 14.8707\"/><circle class=\"sym\" cx=\"0\" cy=\"0\" r=\"3\"/><text class=\"lab lft\" transform=\"translate(-3 -7)\">13</text></g><path class=\"edge\" d=\"M 0 0 V -52.644 H -31.6002\"/><circle class=\"sym\" cx=\"0\" cy=\"0\" r=\"3\"/><text class=\"lab rgt\" transform=\"translate(3 -7)\">16</text></g><g class=\"a25 c2 node n23 p0\" transform=\"translate(-31.6002 24.009)\"><g class=\"a23 i0 leaf node n1 p0 sample\" transform=\"translate(18.5884 39.1787)\"><path class=\"edge\" d=\"M 0 0 V -39.1787 H -18.5884\"/><rect class=\"sym\" height=\"6\" width=\"6\" x=\"-3\" y=\"-3\"/><text class=\"lab\" transform=\"translate(0 11)\">1</text></g><g class=\"a23 c2 node n14 p0\" transform=\"translate(-18.5884 33.7045)\"><g class=\"a14 i1 leaf node n2 p0 sample\" transform=\"translate(17.3491 5.47427)\"><path class=\"edge\" d=\"M 0 0 V -5.47427 H -17.3491\"/><rect class=\"sym\" height=\"6\" width=\"6\" x=\"-3\" y=\"-3\"/><text class=\"lab\" transform=\"translate(0 11)\">2</text></g><g class=\"a14 c2 node n9 p0\" transform=\"translate(-17.3491 5.17494)\"><g class=\"a9 i3 leaf node n6 p0 sample\" transform=\"translate(14.8707 0.299329)\"><path class=\"edge\" d=\"M 0 0 V -0.299329 H -14.8707\"/><rect class=\"sym\" height=\"6\" width=\"6\" x=\"-3\" y=\"-3\"/><text class=\"lab\" transform=\"translate(0 11)\">6</text></g><g class=\"a9 c2 node n8 p0\" transform=\"translate(-14.8707 0.145957)\"><g class=\"a8 i0 leaf node n0 p0 sample\" transform=\"translate(-9.91379 0.153372)\"><path class=\"edge\" d=\"M 0 0 V -0.153372 H 9.91379\"/><rect class=\"sym\" height=\"6\" width=\"6\" x=\"-3\" y=\"-3\"/><text class=\"lab\" transform=\"translate(0 11)\">0</text></g><g class=\"a8 i2 leaf node n4 p0 sample\" transform=\"translate(9.91379 0.153372)\"><path class=\"edge\" d=\"M 0 0 V -0.153372 H -9.91379\"/><rect class=\"sym\" height=\"6\" width=\"6\" x=\"-3\" y=\"-3\"/><text class=\"lab\" transform=\"translate(0 11)\">4</text></g><path class=\"edge\" d=\"M 0 0 V -0.145957 H 14.8707\"/><circle class=\"sym\" cx=\"0\" cy=\"0\" r=\"3\"/><text class=\"lab lft\" transform=\"translate(-3 -7)\">8</text></g><path class=\"edge\" d=\"M 0 0 V -5.17494 H 17.3491\"/><circle class=\"sym\" cx=\"0\" cy=\"0\" r=\"3\"/><text class=\"lab lft\" transform=\"translate(-3 -7)\">9</text></g><path class=\"edge\" d=\"M 0 0 V -33.7045 H 18.5884\"/><circle class=\"sym\" cx=\"0\" cy=\"0\" r=\"3\"/><text class=\"lab lft\" transform=\"translate(-3 -7)\">14</text></g><path class=\"edge\" d=\"M 0 0 V -24.009 H 31.6002\"/><circle class=\"sym\" cx=\"0\" cy=\"0\" r=\"3\"/><text class=\"lab lft\" transform=\"translate(-3 -7)\">23</text></g><circle class=\"sym\" cx=\"0\" cy=\"0\" r=\"3\"/><text class=\"lab\" transform=\"translate(0 -11)\">25</text></g></g></g><g class=\"tree t18\" transform=\"translate(3595.17 0)\"><g class=\"plotbox\"><g class=\"c2 node n25 p0 root\" transform=\"translate(122.236 58.2122)\"><g class=\"a25 c2 node n23 p0\" transform=\"translate(-31.6002 24.009)\"><g class=\"a23 i0 leaf node n1 p0 sample\" transform=\"translate(18.5884 39.1787)\"><path class=\"edge\" d=\"M 0 0 V -39.1787 H -18.5884\"/><rect class=\"sym\" height=\"6\" width=\"6\" x=\"-3\" y=\"-3\"/><text class=\"lab\" transform=\"translate(0 11)\">1</text></g><g class=\"a23 c2 node n14 p0\" transform=\"translate(-18.5884 33.7045)\"><g class=\"a14 i1 leaf node n2 p0 sample\" transform=\"translate(17.3491 5.47427)\"><path class=\"edge\" d=\"M 0 0 V -5.47427 H -17.3491\"/><rect class=\"sym\" height=\"6\" width=\"6\" x=\"-3\" y=\"-3\"/><text class=\"lab\" transform=\"translate(0 11)\">2</text></g><g class=\"a14 c2 m8 node n9 p0 s8\" transform=\"translate(-17.3491 5.17494)\"><g class=\"a9 i3 leaf node n6 p0 sample\" transform=\"translate(14.8707 0.299329)\"><path class=\"edge\" d=\"M 0 0 V -0.299329 H -14.8707\"/><rect class=\"sym\" height=\"6\" width=\"6\" x=\"-3\" y=\"-3\"/><text class=\"lab\" transform=\"translate(0 11)\">6</text></g><g class=\"a9 c2 node n8 p0\" transform=\"translate(-14.8707 0.145957)\"><g class=\"a8 i0 leaf node n0 p0 sample\" transform=\"translate(-9.91379 0.153372)\"><path class=\"edge\" d=\"M 0 0 V -0.153372 H 9.91379\"/><rect class=\"sym\" height=\"6\" width=\"6\" x=\"-3\" y=\"-3\"/><text class=\"lab\" transform=\"translate(0 11)\">0</text></g><g class=\"a8 i2 leaf node n4 p0 sample\" transform=\"translate(9.91379 0.153372)\"><path class=\"edge\" d=\"M 0 0 V -0.153372 H -9.91379\"/><rect class=\"sym\" height=\"6\" width=\"6\" x=\"-3\" y=\"-3\"/><text class=\"lab\" transform=\"translate(0 11)\">4</text></g><path class=\"edge\" d=\"M 0 0 V -0.145957 H 14.8707\"/><circle class=\"sym\" cx=\"0\" cy=\"0\" r=\"3\"/><text class=\"lab lft\" transform=\"translate(-3 -7)\">8</text></g><path class=\"edge\" d=\"M 0 0 V -5.17494 H 17.3491\"/><g class=\"mut m8 s8\" transform=\"translate(0 -4.50491)\"><line x1=\"0\" x2=\"0\" y1=\"0\" y2=\"4.50491\"/><path class=\"sym\" d=\"M -3,-3 l 6,6 M -3,3 l 6,-6\"/><text class=\"lab lft\" transform=\"translate(-5 0)\">8</text></g><circle class=\"sym\" cx=\"0\" cy=\"0\" r=\"3\"/><text class=\"lab lft\" transform=\"translate(-3 -7)\">9</text></g><path class=\"edge\" d=\"M 0 0 V -33.7045 H 18.5884\"/><circle class=\"sym\" cx=\"0\" cy=\"0\" r=\"3\"/><text class=\"lab lft\" transform=\"translate(-3 -7)\">14</text></g><path class=\"edge\" d=\"M 0 0 V -24.009 H 31.6002\"/><circle class=\"sym\" cx=\"0\" cy=\"0\" r=\"3\"/><text class=\"lab lft\" transform=\"translate(-3 -7)\">23</text></g><g class=\"a25 c2 node n15 p0\" transform=\"translate(31.6002 56.6516)\"><g class=\"a15 i2 leaf node n5 p0 sample\" transform=\"translate(14.8707 6.53616)\"><path class=\"edge\" d=\"M 0 0 V -6.53616 H -14.8707\"/><rect class=\"sym\" height=\"6\" width=\"6\" x=\"-3\" y=\"-3\"/><text class=\"lab\" transform=\"translate(0 11)\">5</text></g><g class=\"a15 c2 node n13 p0\" transform=\"translate(-14.8707 2.41413)\"><g class=\"a13 i1 leaf node n3 p0 sample\" transform=\"translate(-9.91379 4.12203)\"><path class=\"edge\" d=\"M 0 0 V -4.12203 H 9.91379\"/><rect class=\"sym\" height=\"6\" width=\"6\" x=\"-3\" y=\"-3\"/><text class=\"lab\" transform=\"translate(0 11)\">3</text></g><g class=\"a13 i3 leaf node n7 p0 sample\" transform=\"translate(9.91379 4.12203)\"><path class=\"edge\" d=\"M 0 0 V -4.12203 H -9.91379\"/><rect class=\"sym\" height=\"6\" width=\"6\" x=\"-3\" y=\"-3\"/><text class=\"lab\" transform=\"translate(0 11)\">7</text></g><path class=\"edge\" d=\"M 0 0 V -2.41413 H 14.8707\"/><circle class=\"sym\" cx=\"0\" cy=\"0\" r=\"3\"/><text class=\"lab lft\" transform=\"translate(-3 -7)\">13</text></g><path class=\"edge\" d=\"M 0 0 V -56.6516 H -31.6002\"/><circle class=\"sym\" cx=\"0\" cy=\"0\" r=\"3\"/><text class=\"lab rgt\" transform=\"translate(3 -7)\">15</text></g><circle class=\"sym\" cx=\"0\" cy=\"0\" r=\"3\"/><text class=\"lab\" transform=\"translate(0 -11)\">25</text></g></g></g><g class=\"tree t19\" transform=\"translate(3793.79 0)\"><g class=\"plotbox\"><g class=\"c2 node n31 p0 root\" transform=\"translate(135.867 33.2987)\"><g class=\"a31 i0 leaf node n1 p0 sample\" transform=\"translate(32.8394 88.1013)\"><path class=\"edge\" d=\"M 0 0 V -88.1013 H -32.8394\"/><rect class=\"sym\" height=\"6\" width=\"6\" x=\"-3\" y=\"-3\"/><text class=\"lab\" transform=\"translate(0 11)\">1</text></g><g class=\"a31 c2 node n25 p0\" transform=\"translate(-32.8394 24.9135)\"><g class=\"a25 c2 node n15 p0\" transform=\"translate(30.9806 56.6516)\"><g class=\"a15 i2 leaf node n5 p0 sample\" transform=\"translate(14.8707 6.53616)\"><path class=\"edge\" d=\"M 0 0 V -6.53616 H -14.8707\"/><rect class=\"sym\" height=\"6\" width=\"6\" x=\"-3\" y=\"-3\"/><text class=\"lab\" transform=\"translate(0 11)\">5</text></g><g class=\"a15 c2 node n13 p0\" transform=\"translate(-14.8707 2.41413)\"><g class=\"a13 i1 leaf node n3 p0 sample\" transform=\"translate(-9.91379 4.12203)\"><path class=\"edge\" d=\"M 0 0 V -4.12203 H 9.91379\"/><rect class=\"sym\" height=\"6\" width=\"6\" x=\"-3\" y=\"-3\"/><text class=\"lab\" transform=\"translate(0 11)\">3</text></g><g class=\"a13 i3 leaf node n7 p0 sample\" transform=\"translate(9.91379 4.12203)\"><path class=\"edge\" d=\"M 0 0 V -4.12203 H -9.91379\"/><rect class=\"sym\" height=\"6\" width=\"6\" x=\"-3\" y=\"-3\"/><text class=\"lab\" transform=\"translate(0 11)\">7</text></g><path class=\"edge\" d=\"M 0 0 V -2.41413 H 14.8707\"/><circle class=\"sym\" cx=\"0\" cy=\"0\" r=\"3\"/><text class=\"lab lft\" transform=\"translate(-3 -7)\">13</text></g><path class=\"edge\" d=\"M 0 0 V -56.6516 H -30.9806\"/><circle class=\"sym\" cx=\"0\" cy=\"0\" r=\"3\"/><text class=\"lab rgt\" transform=\"translate(3 -7)\">15</text></g><g class=\"a25 c2 node n14 p0\" transform=\"translate(-30.9806 57.7135)\"><g class=\"a14 i1 leaf node n2 p0 sample\" transform=\"translate(17.3491 5.47427)\"><path class=\"edge\" d=\"M 0 0 V -5.47427 H -17.3491\"/><rect class=\"sym\" height=\"6\" width=\"6\" x=\"-3\" y=\"-3\"/><text class=\"lab\" transform=\"translate(0 11)\">2</text></g><g class=\"a14 c2 node n9 p0\" transform=\"translate(-17.3491 5.17494)\"><g class=\"a9 i3 leaf node n6 p0 sample\" transform=\"translate(14.8707 0.299329)\"><path class=\"edge\" d=\"M 0 0 V -0.299329 H -14.8707\"/><rect class=\"sym\" height=\"6\" width=\"6\" x=\"-3\" y=\"-3\"/><text class=\"lab\" transform=\"translate(0 11)\">6</text></g><g class=\"a9 c2 node n8 p0\" transform=\"translate(-14.8707 0.145957)\"><g class=\"a8 i0 leaf node n0 p0 sample\" transform=\"translate(-9.91379 0.153372)\"><path class=\"edge\" d=\"M 0 0 V -0.153372 H 9.91379\"/><rect class=\"sym\" height=\"6\" width=\"6\" x=\"-3\" y=\"-3\"/><text class=\"lab\" transform=\"translate(0 11)\">0</text></g><g class=\"a8 i2 leaf node n4 p0 sample\" transform=\"translate(9.91379 0.153372)\"><path class=\"edge\" d=\"M 0 0 V -0.153372 H -9.91379\"/><rect class=\"sym\" height=\"6\" width=\"6\" x=\"-3\" y=\"-3\"/><text class=\"lab\" transform=\"translate(0 11)\">4</text></g><path class=\"edge\" d=\"M 0 0 V -0.145957 H 14.8707\"/><circle class=\"sym\" cx=\"0\" cy=\"0\" r=\"3\"/><text class=\"lab lft\" transform=\"translate(-3 -7)\">8</text></g><path class=\"edge\" d=\"M 0 0 V -5.17494 H 17.3491\"/><circle class=\"sym\" cx=\"0\" cy=\"0\" r=\"3\"/><text class=\"lab lft\" transform=\"translate(-3 -7)\">9</text></g><path class=\"edge\" d=\"M 0 0 V -57.7135 H 30.9806\"/><circle class=\"sym\" cx=\"0\" cy=\"0\" r=\"3\"/><text class=\"lab lft\" transform=\"translate(-3 -7)\">14</text></g><path class=\"edge\" d=\"M 0 0 V -24.9135 H 32.8394\"/><circle class=\"sym\" cx=\"0\" cy=\"0\" r=\"3\"/><text class=\"lab lft\" transform=\"translate(-3 -7)\">25</text></g><circle class=\"sym\" cx=\"0\" cy=\"0\" r=\"3\"/><text class=\"lab\" transform=\"translate(0 -11)\">31</text></g></g></g><g class=\"tree t20\" transform=\"translate(3992.41 0)\"><g class=\"plotbox\"><g class=\"c2 node n31 p0 root\" transform=\"translate(135.867 33.2987)\"><g class=\"a31 i0 leaf m9 node n1 p0 s9 sample\" transform=\"translate(32.8394 88.1013)\"><path class=\"edge\" d=\"M 0 0 V -88.1013 H -32.8394\"/><g class=\"mut m9 s9\" transform=\"translate(0 -73.3952)\"><line x1=\"0\" x2=\"0\" y1=\"0\" y2=\"73.3952\"/><path class=\"sym\" d=\"M -3,-3 l 6,6 M -3,3 l 6,-6\"/><text class=\"lab rgt\" transform=\"translate(5 0)\">9</text></g><rect class=\"sym\" height=\"6\" width=\"6\" x=\"-3\" y=\"-3\"/><text class=\"lab\" transform=\"translate(0 11)\">1</text></g><g class=\"a31 c2 node n19 p0\" transform=\"translate(-32.8394 55.0362)\"><g class=\"a19 c2 node n14 p0\" transform=\"translate(-30.9806 27.5908)\"><g class=\"a14 i1 leaf m10 node n2 p0 s10 sample\" transform=\"translate(17.3491 5.47427)\"><path class=\"edge\" d=\"M 0 0 V -5.47427 H -17.3491\"/><g class=\"mut m10 s10\" transform=\"translate(0 -3.92956)\"><line x1=\"0\" x2=\"0\" y1=\"0\" y2=\"3.92956\"/><path class=\"sym\" d=\"M -3,-3 l 6,6 M -3,3 l 6,-6\"/><text class=\"lab rgt\" transform=\"translate(5 0)\">10</text></g><rect class=\"sym\" height=\"6\" width=\"6\" x=\"-3\" y=\"-3\"/><text class=\"lab\" transform=\"translate(0 11)\">2</text></g><g class=\"a14 c2 node n9 p0\" transform=\"translate(-17.3491 5.17494)\"><g class=\"a9 i3 leaf node n6 p0 sample\" transform=\"translate(14.8707 0.299329)\"><path class=\"edge\" d=\"M 0 0 V -0.299329 H -14.8707\"/><rect class=\"sym\" height=\"6\" width=\"6\" x=\"-3\" y=\"-3\"/><text class=\"lab\" transform=\"translate(0 11)\">6</text></g><g class=\"a9 c2 node n8 p0\" transform=\"translate(-14.8707 0.145957)\"><g class=\"a8 i0 leaf node n0 p0 sample\" transform=\"translate(-9.91379 0.153372)\"><path class=\"edge\" d=\"M 0 0 V -0.153372 H 9.91379\"/><rect class=\"sym\" height=\"6\" width=\"6\" x=\"-3\" y=\"-3\"/><text class=\"lab\" transform=\"translate(0 11)\">0</text></g><g class=\"a8 i2 leaf node n4 p0 sample\" transform=\"translate(9.91379 0.153372)\"><path class=\"edge\" d=\"M 0 0 V -0.153372 H -9.91379\"/><rect class=\"sym\" height=\"6\" width=\"6\" x=\"-3\" y=\"-3\"/><text class=\"lab\" transform=\"translate(0 11)\">4</text></g><path class=\"edge\" d=\"M 0 0 V -0.145957 H 14.8707\"/><circle class=\"sym\" cx=\"0\" cy=\"0\" r=\"3\"/><text class=\"lab lft\" transform=\"translate(-3 -7)\">8</text></g><path class=\"edge\" d=\"M 0 0 V -5.17494 H 17.3491\"/><circle class=\"sym\" cx=\"0\" cy=\"0\" r=\"3\"/><text class=\"lab lft\" transform=\"translate(-3 -7)\">9</text></g><path class=\"edge\" d=\"M 0 0 V -27.5908 H 30.9806\"/><circle class=\"sym\" cx=\"0\" cy=\"0\" r=\"3\"/><text class=\"lab lft\" transform=\"translate(-3 -7)\">14</text></g><g class=\"a19 c2 node n15 p0\" transform=\"translate(30.9806 26.5289)\"><g class=\"a15 i2 leaf node n5 p0 sample\" transform=\"translate(14.8707 6.53616)\"><path class=\"edge\" d=\"M 0 0 V -6.53616 H -14.8707\"/><rect class=\"sym\" height=\"6\" width=\"6\" x=\"-3\" y=\"-3\"/><text class=\"lab\" transform=\"translate(0 11)\">5</text></g><g class=\"a15 c2 node n13 p0\" transform=\"translate(-14.8707 2.41413)\"><g class=\"a13 i1 leaf node n3 p0 sample\" transform=\"translate(-9.91379 4.12203)\"><path class=\"edge\" d=\"M 0 0 V -4.12203 H 9.91379\"/><rect class=\"sym\" height=\"6\" width=\"6\" x=\"-3\" y=\"-3\"/><text class=\"lab\" transform=\"translate(0 11)\">3</text></g><g class=\"a13 i3 leaf node n7 p0 sample\" transform=\"translate(9.91379 4.12203)\"><path class=\"edge\" d=\"M 0 0 V -4.12203 H -9.91379\"/><rect class=\"sym\" height=\"6\" width=\"6\" x=\"-3\" y=\"-3\"/><text class=\"lab\" transform=\"translate(0 11)\">7</text></g><path class=\"edge\" d=\"M 0 0 V -2.41413 H 14.8707\"/><circle class=\"sym\" cx=\"0\" cy=\"0\" r=\"3\"/><text class=\"lab lft\" transform=\"translate(-3 -7)\">13</text></g><path class=\"edge\" d=\"M 0 0 V -26.5289 H -30.9806\"/><circle class=\"sym\" cx=\"0\" cy=\"0\" r=\"3\"/><text class=\"lab rgt\" transform=\"translate(3 -7)\">15</text></g><path class=\"edge\" d=\"M 0 0 V -55.0362 H 32.8394\"/><circle class=\"sym\" cx=\"0\" cy=\"0\" r=\"3\"/><text class=\"lab lft\" transform=\"translate(-3 -7)\">19</text></g><circle class=\"sym\" cx=\"0\" cy=\"0\" r=\"3\"/><text class=\"lab\" transform=\"translate(0 -11)\">31</text></g></g></g><g class=\"tree t21\" transform=\"translate(4191.03 0)\"><g class=\"plotbox\"><g class=\"c2 node n29 p0 root\" transform=\"translate(135.867 38.1479)\"><g class=\"a29 i0 leaf node n1 p0 sample\" transform=\"translate(32.8394 83.2521)\"><path class=\"edge\" d=\"M 0 0 V -83.2521 H -32.8394\"/><rect class=\"sym\" height=\"6\" width=\"6\" x=\"-3\" y=\"-3\"/><text class=\"lab\" transform=\"translate(0 11)\">1</text></g><g class=\"a29 c2 node n19 p0\" transform=\"translate(-32.8394 50.187)\"><g class=\"a19 c2 node n14 p0\" transform=\"translate(-30.9806 27.5908)\"><g class=\"a14 i1 leaf node n2 p0 sample\" transform=\"translate(17.3491 5.47427)\"><path class=\"edge\" d=\"M 0 0 V -5.47427 H -17.3491\"/><rect class=\"sym\" height=\"6\" width=\"6\" x=\"-3\" y=\"-3\"/><text class=\"lab\" transform=\"translate(0 11)\">2</text></g><g class=\"a14 c2 node n9 p0\" transform=\"translate(-17.3491 5.17494)\"><g class=\"a9 i3 leaf node n6 p0 sample\" transform=\"translate(14.8707 0.299329)\"><path class=\"edge\" d=\"M 0 0 V -0.299329 H -14.8707\"/><rect class=\"sym\" height=\"6\" width=\"6\" x=\"-3\" y=\"-3\"/><text class=\"lab\" transform=\"translate(0 11)\">6</text></g><g class=\"a9 c2 node n8 p0\" transform=\"translate(-14.8707 0.145957)\"><g class=\"a8 i0 leaf node n0 p0 sample\" transform=\"translate(-9.91379 0.153372)\"><path class=\"edge\" d=\"M 0 0 V -0.153372 H 9.91379\"/><rect class=\"sym\" height=\"6\" width=\"6\" x=\"-3\" y=\"-3\"/><text class=\"lab\" transform=\"translate(0 11)\">0</text></g><g class=\"a8 i2 leaf node n4 p0 sample\" transform=\"translate(9.91379 0.153372)\"><path class=\"edge\" d=\"M 0 0 V -0.153372 H -9.91379\"/><rect class=\"sym\" height=\"6\" width=\"6\" x=\"-3\" y=\"-3\"/><text class=\"lab\" transform=\"translate(0 11)\">4</text></g><path class=\"edge\" d=\"M 0 0 V -0.145957 H 14.8707\"/><circle class=\"sym\" cx=\"0\" cy=\"0\" r=\"3\"/><text class=\"lab lft\" transform=\"translate(-3 -7)\">8</text></g><path class=\"edge\" d=\"M 0 0 V -5.17494 H 17.3491\"/><circle class=\"sym\" cx=\"0\" cy=\"0\" r=\"3\"/><text class=\"lab lft\" transform=\"translate(-3 -7)\">9</text></g><path class=\"edge\" d=\"M 0 0 V -27.5908 H 30.9806\"/><circle class=\"sym\" cx=\"0\" cy=\"0\" r=\"3\"/><text class=\"lab lft\" transform=\"translate(-3 -7)\">14</text></g><g class=\"a19 c2 m11 node n15 p0 s11\" transform=\"translate(30.9806 26.5289)\"><g class=\"a15 i2 leaf node n5 p0 sample\" transform=\"translate(14.8707 6.53616)\"><path class=\"edge\" d=\"M 0 0 V -6.53616 H -14.8707\"/><rect class=\"sym\" height=\"6\" width=\"6\" x=\"-3\" y=\"-3\"/><text class=\"lab\" transform=\"translate(0 11)\">5</text></g><g class=\"a15 c2 node n13 p0\" transform=\"translate(-14.8707 2.41413)\"><g class=\"a13 i1 leaf node n3 p0 sample\" transform=\"translate(-9.91379 4.12203)\"><path class=\"edge\" d=\"M 0 0 V -4.12203 H 9.91379\"/><rect class=\"sym\" height=\"6\" width=\"6\" x=\"-3\" y=\"-3\"/><text class=\"lab\" transform=\"translate(0 11)\">3</text></g><g class=\"a13 i3 leaf node n7 p0 sample\" transform=\"translate(9.91379 4.12203)\"><path class=\"edge\" d=\"M 0 0 V -4.12203 H -9.91379\"/><rect class=\"sym\" height=\"6\" width=\"6\" x=\"-3\" y=\"-3\"/><text class=\"lab\" transform=\"translate(0 11)\">7</text></g><path class=\"edge\" d=\"M 0 0 V -2.41413 H 14.8707\"/><circle class=\"sym\" cx=\"0\" cy=\"0\" r=\"3\"/><text class=\"lab lft\" transform=\"translate(-3 -7)\">13</text></g><path class=\"edge\" d=\"M 0 0 V -26.5289 H -30.9806\"/><g class=\"mut m11 s11\" transform=\"translate(0 -4.84652)\"><line x1=\"0\" x2=\"0\" y1=\"0\" y2=\"4.84652\"/><path class=\"sym\" d=\"M -3,-3 l 6,6 M -3,3 l 6,-6\"/><text class=\"lab rgt\" transform=\"translate(5 0)\">11</text></g><circle class=\"sym\" cx=\"0\" cy=\"0\" r=\"3\"/><text class=\"lab rgt\" transform=\"translate(3 -7)\">15</text></g><path class=\"edge\" d=\"M 0 0 V -50.187 H 32.8394\"/><circle class=\"sym\" cx=\"0\" cy=\"0\" r=\"3\"/><text class=\"lab lft\" transform=\"translate(-3 -7)\">19</text></g><circle class=\"sym\" cx=\"0\" cy=\"0\" r=\"3\"/><text class=\"lab\" transform=\"translate(0 -11)\">29</text></g></g></g><g class=\"tree t22\" transform=\"translate(4389.66 0)\"><g class=\"plotbox\"><g class=\"c2 node n31 p0 root\" transform=\"translate(135.867 33.2987)\"><g class=\"a31 i0 leaf node n1 p0 sample\" transform=\"translate(32.8394 88.1013)\"><path class=\"edge\" d=\"M 0 0 V -88.1013 H -32.8394\"/><rect class=\"sym\" height=\"6\" width=\"6\" x=\"-3\" y=\"-3\"/><text class=\"lab\" transform=\"translate(0 11)\">1</text></g><g class=\"a31 c2 node n19 p0\" transform=\"translate(-32.8394 55.0362)\"><g class=\"a19 c2 node n14 p0\" transform=\"translate(-30.9806 27.5908)\"><g class=\"a14 i1 leaf node n2 p0 sample\" transform=\"translate(17.3491 5.47427)\"><path class=\"edge\" d=\"M 0 0 V -5.47427 H -17.3491\"/><rect class=\"sym\" height=\"6\" width=\"6\" x=\"-3\" y=\"-3\"/><text class=\"lab\" transform=\"translate(0 11)\">2</text></g><g class=\"a14 c2 node n9 p0\" transform=\"translate(-17.3491 5.17494)\"><g class=\"a9 i3 leaf node n6 p0 sample\" transform=\"translate(14.8707 0.299329)\"><path class=\"edge\" d=\"M 0 0 V -0.299329 H -14.8707\"/><rect class=\"sym\" height=\"6\" width=\"6\" x=\"-3\" y=\"-3\"/><text class=\"lab\" transform=\"translate(0 11)\">6</text></g><g class=\"a9 c2 node n8 p0\" transform=\"translate(-14.8707 0.145957)\"><g class=\"a8 i0 leaf node n0 p0 sample\" transform=\"translate(-9.91379 0.153372)\"><path class=\"edge\" d=\"M 0 0 V -0.153372 H 9.91379\"/><rect class=\"sym\" height=\"6\" width=\"6\" x=\"-3\" y=\"-3\"/><text class=\"lab\" transform=\"translate(0 11)\">0</text></g><g class=\"a8 i2 leaf node n4 p0 sample\" transform=\"translate(9.91379 0.153372)\"><path class=\"edge\" d=\"M 0 0 V -0.153372 H -9.91379\"/><rect class=\"sym\" height=\"6\" width=\"6\" x=\"-3\" y=\"-3\"/><text class=\"lab\" transform=\"translate(0 11)\">4</text></g><path class=\"edge\" d=\"M 0 0 V -0.145957 H 14.8707\"/><circle class=\"sym\" cx=\"0\" cy=\"0\" r=\"3\"/><text class=\"lab lft\" transform=\"translate(-3 -7)\">8</text></g><path class=\"edge\" d=\"M 0 0 V -5.17494 H 17.3491\"/><circle class=\"sym\" cx=\"0\" cy=\"0\" r=\"3\"/><text class=\"lab lft\" transform=\"translate(-3 -7)\">9</text></g><path class=\"edge\" d=\"M 0 0 V -27.5908 H 30.9806\"/><circle class=\"sym\" cx=\"0\" cy=\"0\" r=\"3\"/><text class=\"lab lft\" transform=\"translate(-3 -7)\">14</text></g><g class=\"a19 c2 node n15 p0\" transform=\"translate(30.9806 26.5289)\"><g class=\"a15 i2 leaf node n5 p0 sample\" transform=\"translate(14.8707 6.53616)\"><path class=\"edge\" d=\"M 0 0 V -6.53616 H -14.8707\"/><rect class=\"sym\" height=\"6\" width=\"6\" x=\"-3\" y=\"-3\"/><text class=\"lab\" transform=\"translate(0 11)\">5</text></g><g class=\"a15 c2 node n13 p0\" transform=\"translate(-14.8707 2.41413)\"><g class=\"a13 i1 leaf node n3 p0 sample\" transform=\"translate(-9.91379 4.12203)\"><path class=\"edge\" d=\"M 0 0 V -4.12203 H 9.91379\"/><rect class=\"sym\" height=\"6\" width=\"6\" x=\"-3\" y=\"-3\"/><text class=\"lab\" transform=\"translate(0 11)\">3</text></g><g class=\"a13 i3 leaf node n7 p0 sample\" transform=\"translate(9.91379 4.12203)\"><path class=\"edge\" d=\"M 0 0 V -4.12203 H -9.91379\"/><rect class=\"sym\" height=\"6\" width=\"6\" x=\"-3\" y=\"-3\"/><text class=\"lab\" transform=\"translate(0 11)\">7</text></g><path class=\"edge\" d=\"M 0 0 V -2.41413 H 14.8707\"/><circle class=\"sym\" cx=\"0\" cy=\"0\" r=\"3\"/><text class=\"lab lft\" transform=\"translate(-3 -7)\">13</text></g><path class=\"edge\" d=\"M 0 0 V -26.5289 H -30.9806\"/><circle class=\"sym\" cx=\"0\" cy=\"0\" r=\"3\"/><text class=\"lab rgt\" transform=\"translate(3 -7)\">15</text></g><path class=\"edge\" d=\"M 0 0 V -55.0362 H 32.8394\"/><circle class=\"sym\" cx=\"0\" cy=\"0\" r=\"3\"/><text class=\"lab lft\" transform=\"translate(-3 -7)\">19</text></g><circle class=\"sym\" cx=\"0\" cy=\"0\" r=\"3\"/><text class=\"lab\" transform=\"translate(0 -11)\">31</text></g></g></g><g class=\"tree t23\" transform=\"translate(4588.28 0)\"><g class=\"plotbox\"><g class=\"c2 node n30 p0 root\" transform=\"translate(135.867 33.9795)\"><g class=\"a30 i0 leaf node n1 p0 sample\" transform=\"translate(32.8394 87.4205)\"><path class=\"edge\" d=\"M 0 0 V -87.4205 H -32.8394\"/><rect class=\"sym\" height=\"6\" width=\"6\" x=\"-3\" y=\"-3\"/><text class=\"lab\" transform=\"translate(0 11)\">1</text></g><g class=\"a30 c2 node n19 p0\" transform=\"translate(-32.8394 54.3554)\"><g class=\"a19 c2 node n14 p0\" transform=\"translate(-30.9806 27.5908)\"><g class=\"a14 i1 leaf node n2 p0 sample\" transform=\"translate(17.3491 5.47427)\"><path class=\"edge\" d=\"M 0 0 V -5.47427 H -17.3491\"/><rect class=\"sym\" height=\"6\" width=\"6\" x=\"-3\" y=\"-3\"/><text class=\"lab\" transform=\"translate(0 11)\">2</text></g><g class=\"a14 c2 node n9 p0\" transform=\"translate(-17.3491 5.17494)\"><g class=\"a9 i3 leaf node n6 p0 sample\" transform=\"translate(14.8707 0.299329)\"><path class=\"edge\" d=\"M 0 0 V -0.299329 H -14.8707\"/><rect class=\"sym\" height=\"6\" width=\"6\" x=\"-3\" y=\"-3\"/><text class=\"lab\" transform=\"translate(0 11)\">6</text></g><g class=\"a9 c2 node n8 p0\" transform=\"translate(-14.8707 0.145957)\"><g class=\"a8 i0 leaf node n0 p0 sample\" transform=\"translate(-9.91379 0.153372)\"><path class=\"edge\" d=\"M 0 0 V -0.153372 H 9.91379\"/><rect class=\"sym\" height=\"6\" width=\"6\" x=\"-3\" y=\"-3\"/><text class=\"lab\" transform=\"translate(0 11)\">0</text></g><g class=\"a8 i2 leaf node n4 p0 sample\" transform=\"translate(9.91379 0.153372)\"><path class=\"edge\" d=\"M 0 0 V -0.153372 H -9.91379\"/><rect class=\"sym\" height=\"6\" width=\"6\" x=\"-3\" y=\"-3\"/><text class=\"lab\" transform=\"translate(0 11)\">4</text></g><path class=\"edge\" d=\"M 0 0 V -0.145957 H 14.8707\"/><circle class=\"sym\" cx=\"0\" cy=\"0\" r=\"3\"/><text class=\"lab lft\" transform=\"translate(-3 -7)\">8</text></g><path class=\"edge\" d=\"M 0 0 V -5.17494 H 17.3491\"/><circle class=\"sym\" cx=\"0\" cy=\"0\" r=\"3\"/><text class=\"lab lft\" transform=\"translate(-3 -7)\">9</text></g><path class=\"edge\" d=\"M 0 0 V -27.5908 H 30.9806\"/><circle class=\"sym\" cx=\"0\" cy=\"0\" r=\"3\"/><text class=\"lab lft\" transform=\"translate(-3 -7)\">14</text></g><g class=\"a19 c2 node n15 p0\" transform=\"translate(30.9806 26.5289)\"><g class=\"a15 i2 leaf node n5 p0 sample\" transform=\"translate(14.8707 6.53616)\"><path class=\"edge\" d=\"M 0 0 V -6.53616 H -14.8707\"/><rect class=\"sym\" height=\"6\" width=\"6\" x=\"-3\" y=\"-3\"/><text class=\"lab\" transform=\"translate(0 11)\">5</text></g><g class=\"a15 c2 node n13 p0\" transform=\"translate(-14.8707 2.41413)\"><g class=\"a13 i1 leaf node n3 p0 sample\" transform=\"translate(-9.91379 4.12203)\"><path class=\"edge\" d=\"M 0 0 V -4.12203 H 9.91379\"/><rect class=\"sym\" height=\"6\" width=\"6\" x=\"-3\" y=\"-3\"/><text class=\"lab\" transform=\"translate(0 11)\">3</text></g><g class=\"a13 i3 leaf node n7 p0 sample\" transform=\"translate(9.91379 4.12203)\"><path class=\"edge\" d=\"M 0 0 V -4.12203 H -9.91379\"/><rect class=\"sym\" height=\"6\" width=\"6\" x=\"-3\" y=\"-3\"/><text class=\"lab\" transform=\"translate(0 11)\">7</text></g><path class=\"edge\" d=\"M 0 0 V -2.41413 H 14.8707\"/><circle class=\"sym\" cx=\"0\" cy=\"0\" r=\"3\"/><text class=\"lab lft\" transform=\"translate(-3 -7)\">13</text></g><path class=\"edge\" d=\"M 0 0 V -26.5289 H -30.9806\"/><circle class=\"sym\" cx=\"0\" cy=\"0\" r=\"3\"/><text class=\"lab rgt\" transform=\"translate(3 -7)\">15</text></g><path class=\"edge\" d=\"M 0 0 V -54.3554 H 32.8394\"/><circle class=\"sym\" cx=\"0\" cy=\"0\" r=\"3\"/><text class=\"lab lft\" transform=\"translate(-3 -7)\">19</text></g><circle class=\"sym\" cx=\"0\" cy=\"0\" r=\"3\"/><text class=\"lab\" transform=\"translate(0 -11)\">30</text></g></g></g><g class=\"tree t24\" transform=\"translate(4786.9 0)\"><g class=\"plotbox\"><g class=\"c2 node n29 p0 root\" transform=\"translate(135.867 38.1479)\"><g class=\"a29 i0 leaf node n1 p0 sample\" transform=\"translate(32.8394 83.2521)\"><path class=\"edge\" d=\"M 0 0 V -83.2521 H -32.8394\"/><rect class=\"sym\" height=\"6\" width=\"6\" x=\"-3\" y=\"-3\"/><text class=\"lab\" transform=\"translate(0 11)\">1</text></g><g class=\"a29 c2 node n19 p0\" transform=\"translate(-32.8394 50.187)\"><g class=\"a19 c2 m12 node n14 p0 s12\" transform=\"translate(-30.9806 27.5908)\"><g class=\"a14 i1 leaf node n2 p0 sample\" transform=\"translate(17.3491 5.47427)\"><path class=\"edge\" d=\"M 0 0 V -5.47427 H -17.3491\"/><rect class=\"sym\" height=\"6\" width=\"6\" x=\"-3\" y=\"-3\"/><text class=\"lab\" transform=\"translate(0 11)\">2</text></g><g class=\"a14 c2 node n9 p0\" transform=\"translate(-17.3491 5.17494)\"><g class=\"a9 i3 leaf node n6 p0 sample\" transform=\"translate(14.8707 0.299329)\"><path class=\"edge\" d=\"M 0 0 V -0.299329 H -14.8707\"/><rect class=\"sym\" height=\"6\" width=\"6\" x=\"-3\" y=\"-3\"/><text class=\"lab\" transform=\"translate(0 11)\">6</text></g><g class=\"a9 c2 node n8 p0\" transform=\"translate(-14.8707 0.145957)\"><g class=\"a8 i0 leaf node n0 p0 sample\" transform=\"translate(-9.91379 0.153372)\"><path class=\"edge\" d=\"M 0 0 V -0.153372 H 9.91379\"/><rect class=\"sym\" height=\"6\" width=\"6\" x=\"-3\" y=\"-3\"/><text class=\"lab\" transform=\"translate(0 11)\">0</text></g><g class=\"a8 i2 leaf node n4 p0 sample\" transform=\"translate(9.91379 0.153372)\"><path class=\"edge\" d=\"M 0 0 V -0.153372 H -9.91379\"/><rect class=\"sym\" height=\"6\" width=\"6\" x=\"-3\" y=\"-3\"/><text class=\"lab\" transform=\"translate(0 11)\">4</text></g><path class=\"edge\" d=\"M 0 0 V -0.145957 H 14.8707\"/><circle class=\"sym\" cx=\"0\" cy=\"0\" r=\"3\"/><text class=\"lab lft\" transform=\"translate(-3 -7)\">8</text></g><path class=\"edge\" d=\"M 0 0 V -5.17494 H 17.3491\"/><circle class=\"sym\" cx=\"0\" cy=\"0\" r=\"3\"/><text class=\"lab lft\" transform=\"translate(-3 -7)\">9</text></g><path class=\"edge\" d=\"M 0 0 V -27.5908 H 30.9806\"/><g class=\"mut m12 s12\" transform=\"translate(0 -11.1892)\"><line x1=\"0\" x2=\"0\" y1=\"0\" y2=\"11.1892\"/><path class=\"sym\" d=\"M -3,-3 l 6,6 M -3,3 l 6,-6\"/><text class=\"lab lft\" transform=\"translate(-5 0)\">12</text></g><circle class=\"sym\" cx=\"0\" cy=\"0\" r=\"3\"/><text class=\"lab lft\" transform=\"translate(-3 -7)\">14</text></g><g class=\"a19 c2 node n15 p0\" transform=\"translate(30.9806 26.5289)\"><g class=\"a15 i2 leaf node n5 p0 sample\" transform=\"translate(14.8707 6.53616)\"><path class=\"edge\" d=\"M 0 0 V -6.53616 H -14.8707\"/><rect class=\"sym\" height=\"6\" width=\"6\" x=\"-3\" y=\"-3\"/><text class=\"lab\" transform=\"translate(0 11)\">5</text></g><g class=\"a15 c2 node n13 p0\" transform=\"translate(-14.8707 2.41413)\"><g class=\"a13 i1 leaf node n3 p0 sample\" transform=\"translate(-9.91379 4.12203)\"><path class=\"edge\" d=\"M 0 0 V -4.12203 H 9.91379\"/><rect class=\"sym\" height=\"6\" width=\"6\" x=\"-3\" y=\"-3\"/><text class=\"lab\" transform=\"translate(0 11)\">3</text></g><g class=\"a13 i3 leaf node n7 p0 sample\" transform=\"translate(9.91379 4.12203)\"><path class=\"edge\" d=\"M 0 0 V -4.12203 H -9.91379\"/><rect class=\"sym\" height=\"6\" width=\"6\" x=\"-3\" y=\"-3\"/><text class=\"lab\" transform=\"translate(0 11)\">7</text></g><path class=\"edge\" d=\"M 0 0 V -2.41413 H 14.8707\"/><circle class=\"sym\" cx=\"0\" cy=\"0\" r=\"3\"/><text class=\"lab lft\" transform=\"translate(-3 -7)\">13</text></g><path class=\"edge\" d=\"M 0 0 V -26.5289 H -30.9806\"/><circle class=\"sym\" cx=\"0\" cy=\"0\" r=\"3\"/><text class=\"lab rgt\" transform=\"translate(3 -7)\">15</text></g><path class=\"edge\" d=\"M 0 0 V -50.187 H 32.8394\"/><circle class=\"sym\" cx=\"0\" cy=\"0\" r=\"3\"/><text class=\"lab lft\" transform=\"translate(-3 -7)\">19</text></g><circle class=\"sym\" cx=\"0\" cy=\"0\" r=\"3\"/><text class=\"lab\" transform=\"translate(0 -11)\">29</text></g></g></g><g class=\"tree t25\" transform=\"translate(4985.52 0)\"><g class=\"plotbox\"><g class=\"c2 node n29 p0 root\" transform=\"translate(135.867 38.1479)\"><g class=\"a29 i0 leaf node n1 p0 sample\" transform=\"translate(32.8394 83.2521)\"><path class=\"edge\" d=\"M 0 0 V -83.2521 H -32.8394\"/><rect class=\"sym\" height=\"6\" width=\"6\" x=\"-3\" y=\"-3\"/><text class=\"lab\" transform=\"translate(0 11)\">1</text></g><g class=\"a29 c2 node n20 p0\" transform=\"translate(-32.8394 48.2527)\"><g class=\"a20 c2 node n14 p0\" transform=\"translate(-30.9806 29.5251)\"><g class=\"a14 i1 leaf node n2 p0 sample\" transform=\"translate(17.3491 5.47427)\"><path class=\"edge\" d=\"M 0 0 V -5.47427 H -17.3491\"/><rect class=\"sym\" height=\"6\" width=\"6\" x=\"-3\" y=\"-3\"/><text class=\"lab\" transform=\"translate(0 11)\">2</text></g><g class=\"a14 c2 node n9 p0\" transform=\"translate(-17.3491 5.17494)\"><g class=\"a9 i3 leaf node n6 p0 sample\" transform=\"translate(14.8707 0.299329)\"><path class=\"edge\" d=\"M 0 0 V -0.299329 H -14.8707\"/><rect class=\"sym\" height=\"6\" width=\"6\" x=\"-3\" y=\"-3\"/><text class=\"lab\" transform=\"translate(0 11)\">6</text></g><g class=\"a9 c2 node n8 p0\" transform=\"translate(-14.8707 0.145957)\"><g class=\"a8 i0 leaf node n0 p0 sample\" transform=\"translate(-9.91379 0.153372)\"><path class=\"edge\" d=\"M 0 0 V -0.153372 H 9.91379\"/><rect class=\"sym\" height=\"6\" width=\"6\" x=\"-3\" y=\"-3\"/><text class=\"lab\" transform=\"translate(0 11)\">0</text></g><g class=\"a8 i2 leaf node n4 p0 sample\" transform=\"translate(9.91379 0.153372)\"><path class=\"edge\" d=\"M 0 0 V -0.153372 H -9.91379\"/><rect class=\"sym\" height=\"6\" width=\"6\" x=\"-3\" y=\"-3\"/><text class=\"lab\" transform=\"translate(0 11)\">4</text></g><path class=\"edge\" d=\"M 0 0 V -0.145957 H 14.8707\"/><circle class=\"sym\" cx=\"0\" cy=\"0\" r=\"3\"/><text class=\"lab lft\" transform=\"translate(-3 -7)\">8</text></g><path class=\"edge\" d=\"M 0 0 V -5.17494 H 17.3491\"/><circle class=\"sym\" cx=\"0\" cy=\"0\" r=\"3\"/><text class=\"lab lft\" transform=\"translate(-3 -7)\">9</text></g><path class=\"edge\" d=\"M 0 0 V -29.5251 H 30.9806\"/><circle class=\"sym\" cx=\"0\" cy=\"0\" r=\"3\"/><text class=\"lab lft\" transform=\"translate(-3 -7)\">14</text></g><g class=\"a20 c2 node n15 p0\" transform=\"translate(30.9806 28.4633)\"><g class=\"a15 i2 leaf node n5 p0 sample\" transform=\"translate(14.8707 6.53616)\"><path class=\"edge\" d=\"M 0 0 V -6.53616 H -14.8707\"/><rect class=\"sym\" height=\"6\" width=\"6\" x=\"-3\" y=\"-3\"/><text class=\"lab\" transform=\"translate(0 11)\">5</text></g><g class=\"a15 c2 node n13 p0\" transform=\"translate(-14.8707 2.41413)\"><g class=\"a13 i1 leaf node n3 p0 sample\" transform=\"translate(-9.91379 4.12203)\"><path class=\"edge\" d=\"M 0 0 V -4.12203 H 9.91379\"/><rect class=\"sym\" height=\"6\" width=\"6\" x=\"-3\" y=\"-3\"/><text class=\"lab\" transform=\"translate(0 11)\">3</text></g><g class=\"a13 i3 leaf node n7 p0 sample\" transform=\"translate(9.91379 4.12203)\"><path class=\"edge\" d=\"M 0 0 V -4.12203 H -9.91379\"/><rect class=\"sym\" height=\"6\" width=\"6\" x=\"-3\" y=\"-3\"/><text class=\"lab\" transform=\"translate(0 11)\">7</text></g><path class=\"edge\" d=\"M 0 0 V -2.41413 H 14.8707\"/><circle class=\"sym\" cx=\"0\" cy=\"0\" r=\"3\"/><text class=\"lab lft\" transform=\"translate(-3 -7)\">13</text></g><path class=\"edge\" d=\"M 0 0 V -28.4633 H -30.9806\"/><circle class=\"sym\" cx=\"0\" cy=\"0\" r=\"3\"/><text class=\"lab rgt\" transform=\"translate(3 -7)\">15</text></g><path class=\"edge\" d=\"M 0 0 V -48.2527 H 32.8394\"/><circle class=\"sym\" cx=\"0\" cy=\"0\" r=\"3\"/><text class=\"lab lft\" transform=\"translate(-3 -7)\">20</text></g><circle class=\"sym\" cx=\"0\" cy=\"0\" r=\"3\"/><text class=\"lab\" transform=\"translate(0 -11)\">29</text></g></g></g><g class=\"tree t26\" transform=\"translate(5184.14 0)\"><g class=\"plotbox\"><g class=\"c2 node n29 p0 root\" transform=\"translate(135.867 38.1479)\"><g class=\"a29 i0 leaf node n1 p0 sample\" transform=\"translate(32.8394 83.2521)\"><path class=\"edge\" d=\"M 0 0 V -83.2521 H -32.8394\"/><rect class=\"sym\" height=\"6\" width=\"6\" x=\"-3\" y=\"-3\"/><text class=\"lab\" transform=\"translate(0 11)\">1</text></g><g class=\"a29 c2 node n19 p0\" transform=\"translate(-32.8394 50.187)\"><g class=\"a19 c2 node n14 p0\" transform=\"translate(-30.9806 27.5908)\"><g class=\"a14 i1 leaf node n2 p0 sample\" transform=\"translate(17.3491 5.47427)\"><path class=\"edge\" d=\"M 0 0 V -5.47427 H -17.3491\"/><rect class=\"sym\" height=\"6\" width=\"6\" x=\"-3\" y=\"-3\"/><text class=\"lab\" transform=\"translate(0 11)\">2</text></g><g class=\"a14 c2 node n9 p0\" transform=\"translate(-17.3491 5.17494)\"><g class=\"a9 i3 leaf node n6 p0 sample\" transform=\"translate(14.8707 0.299329)\"><path class=\"edge\" d=\"M 0 0 V -0.299329 H -14.8707\"/><rect class=\"sym\" height=\"6\" width=\"6\" x=\"-3\" y=\"-3\"/><text class=\"lab\" transform=\"translate(0 11)\">6</text></g><g class=\"a9 c2 node n8 p0\" transform=\"translate(-14.8707 0.145957)\"><g class=\"a8 i0 leaf node n0 p0 sample\" transform=\"translate(-9.91379 0.153372)\"><path class=\"edge\" d=\"M 0 0 V -0.153372 H 9.91379\"/><rect class=\"sym\" height=\"6\" width=\"6\" x=\"-3\" y=\"-3\"/><text class=\"lab\" transform=\"translate(0 11)\">0</text></g><g class=\"a8 i2 leaf node n4 p0 sample\" transform=\"translate(9.91379 0.153372)\"><path class=\"edge\" d=\"M 0 0 V -0.153372 H -9.91379\"/><rect class=\"sym\" height=\"6\" width=\"6\" x=\"-3\" y=\"-3\"/><text class=\"lab\" transform=\"translate(0 11)\">4</text></g><path class=\"edge\" d=\"M 0 0 V -0.145957 H 14.8707\"/><circle class=\"sym\" cx=\"0\" cy=\"0\" r=\"3\"/><text class=\"lab lft\" transform=\"translate(-3 -7)\">8</text></g><path class=\"edge\" d=\"M 0 0 V -5.17494 H 17.3491\"/><circle class=\"sym\" cx=\"0\" cy=\"0\" r=\"3\"/><text class=\"lab lft\" transform=\"translate(-3 -7)\">9</text></g><path class=\"edge\" d=\"M 0 0 V -27.5908 H 30.9806\"/><circle class=\"sym\" cx=\"0\" cy=\"0\" r=\"3\"/><text class=\"lab lft\" transform=\"translate(-3 -7)\">14</text></g><g class=\"a19 c2 node n15 p0\" transform=\"translate(30.9806 26.5289)\"><g class=\"a15 i2 leaf node n5 p0 sample\" transform=\"translate(14.8707 6.53616)\"><path class=\"edge\" d=\"M 0 0 V -6.53616 H -14.8707\"/><rect class=\"sym\" height=\"6\" width=\"6\" x=\"-3\" y=\"-3\"/><text class=\"lab\" transform=\"translate(0 11)\">5</text></g><g class=\"a15 c2 node n13 p0\" transform=\"translate(-14.8707 2.41413)\"><g class=\"a13 i1 leaf node n3 p0 sample\" transform=\"translate(-9.91379 4.12203)\"><path class=\"edge\" d=\"M 0 0 V -4.12203 H 9.91379\"/><rect class=\"sym\" height=\"6\" width=\"6\" x=\"-3\" y=\"-3\"/><text class=\"lab\" transform=\"translate(0 11)\">3</text></g><g class=\"a13 i3 leaf node n7 p0 sample\" transform=\"translate(9.91379 4.12203)\"><path class=\"edge\" d=\"M 0 0 V -4.12203 H -9.91379\"/><rect class=\"sym\" height=\"6\" width=\"6\" x=\"-3\" y=\"-3\"/><text class=\"lab\" transform=\"translate(0 11)\">7</text></g><path class=\"edge\" d=\"M 0 0 V -2.41413 H 14.8707\"/><circle class=\"sym\" cx=\"0\" cy=\"0\" r=\"3\"/><text class=\"lab lft\" transform=\"translate(-3 -7)\">13</text></g><path class=\"edge\" d=\"M 0 0 V -26.5289 H -30.9806\"/><circle class=\"sym\" cx=\"0\" cy=\"0\" r=\"3\"/><text class=\"lab rgt\" transform=\"translate(3 -7)\">15</text></g><path class=\"edge\" d=\"M 0 0 V -50.187 H 32.8394\"/><circle class=\"sym\" cx=\"0\" cy=\"0\" r=\"3\"/><text class=\"lab lft\" transform=\"translate(-3 -7)\">19</text></g><circle class=\"sym\" cx=\"0\" cy=\"0\" r=\"3\"/><text class=\"lab\" transform=\"translate(0 -11)\">29</text></g></g></g><g class=\"tree t27\" transform=\"translate(5382.76 0)\"><g class=\"plotbox\"><g class=\"c2 node n29 p0 root\" transform=\"translate(141.754 38.1479)\"><g class=\"a29 i0 leaf node n1 p0 sample\" transform=\"translate(26.9531 83.2521)\"><path class=\"edge\" d=\"M 0 0 V -83.2521 H -26.9531\"/><rect class=\"sym\" height=\"6\" width=\"6\" x=\"-3\" y=\"-3\"/><text class=\"lab\" transform=\"translate(0 11)\">1</text></g><g class=\"a29 c2 node n19 p0\" transform=\"translate(-26.9531 50.187)\"><g class=\"a19 c2 node n14 p0\" transform=\"translate(-24.1649 27.5908)\"><g class=\"a14 i1 leaf node n2 p0 sample\" transform=\"translate(18.5884 5.47427)\"><path class=\"edge\" d=\"M 0 0 V -5.47427 H -18.5884\"/><rect class=\"sym\" height=\"6\" width=\"6\" x=\"-3\" y=\"-3\"/><text class=\"lab\" transform=\"translate(0 11)\">2</text></g><g class=\"a14 c2 node n11 p0\" transform=\"translate(-18.5884 3.00733)\"><g class=\"a11 i1 leaf node n3 p0 sample\" transform=\"translate(17.3491 2.46695)\"><path class=\"edge\" d=\"M 0 0 V -2.46695 H -17.3491\"/><rect class=\"sym\" height=\"6\" width=\"6\" x=\"-3\" y=\"-3\"/><text class=\"lab\" transform=\"translate(0 11)\">3</text></g><g class=\"a11 c2 node n9 p0\" transform=\"translate(-17.3491 2.16762)\"><g class=\"a9 i3 leaf node n6 p0 sample\" transform=\"translate(14.8707 0.299329)\"><path class=\"edge\" d=\"M 0 0 V -0.299329 H -14.8707\"/><rect class=\"sym\" height=\"6\" width=\"6\" x=\"-3\" y=\"-3\"/><text class=\"lab\" transform=\"translate(0 11)\">6</text></g><g class=\"a9 c2 node n8 p0\" transform=\"translate(-14.8707 0.145957)\"><g class=\"a8 i0 leaf node n0 p0 sample\" transform=\"translate(-9.91379 0.153372)\"><path class=\"edge\" d=\"M 0 0 V -0.153372 H 9.91379\"/><rect class=\"sym\" height=\"6\" width=\"6\" x=\"-3\" y=\"-3\"/><text class=\"lab\" transform=\"translate(0 11)\">0</text></g><g class=\"a8 i2 leaf node n4 p0 sample\" transform=\"translate(9.91379 0.153372)\"><path class=\"edge\" d=\"M 0 0 V -0.153372 H -9.91379\"/><rect class=\"sym\" height=\"6\" width=\"6\" x=\"-3\" y=\"-3\"/><text class=\"lab\" transform=\"translate(0 11)\">4</text></g><path class=\"edge\" d=\"M 0 0 V -0.145957 H 14.8707\"/><circle class=\"sym\" cx=\"0\" cy=\"0\" r=\"3\"/><text class=\"lab lft\" transform=\"translate(-3 -7)\">8</text></g><path class=\"edge\" d=\"M 0 0 V -2.16762 H 17.3491\"/><circle class=\"sym\" cx=\"0\" cy=\"0\" r=\"3\"/><text class=\"lab lft\" transform=\"translate(-3 -7)\">9</text></g><path class=\"edge\" d=\"M 0 0 V -3.00733 H 18.5884\"/><circle class=\"sym\" cx=\"0\" cy=\"0\" r=\"3\"/><text class=\"lab lft\" transform=\"translate(-3 -7)\">11</text></g><path class=\"edge\" d=\"M 0 0 V -27.5908 H 24.1649\"/><circle class=\"sym\" cx=\"0\" cy=\"0\" r=\"3\"/><text class=\"lab lft\" transform=\"translate(-3 -7)\">14</text></g><g class=\"a19 c2 node n15 p0\" transform=\"translate(24.1649 26.5289)\"><g class=\"a15 i2 leaf node n5 p0 sample\" transform=\"translate(-9.91379 6.53616)\"><path class=\"edge\" d=\"M 0 0 V -6.53616 H 9.91379\"/><rect class=\"sym\" height=\"6\" width=\"6\" x=\"-3\" y=\"-3\"/><text class=\"lab\" transform=\"translate(0 11)\">5</text></g><g class=\"a15 i3 leaf node n7 p0 sample\" transform=\"translate(9.91379 6.53616)\"><path class=\"edge\" d=\"M 0 0 V -6.53616 H -9.91379\"/><rect class=\"sym\" height=\"6\" width=\"6\" x=\"-3\" y=\"-3\"/><text class=\"lab\" transform=\"translate(0 11)\">7</text></g><path class=\"edge\" d=\"M 0 0 V -26.5289 H -24.1649\"/><circle class=\"sym\" cx=\"0\" cy=\"0\" r=\"3\"/><text class=\"lab rgt\" transform=\"translate(3 -7)\">15</text></g><path class=\"edge\" d=\"M 0 0 V -50.187 H 26.9531\"/><circle class=\"sym\" cx=\"0\" cy=\"0\" r=\"3\"/><text class=\"lab lft\" transform=\"translate(-3 -7)\">19</text></g><circle class=\"sym\" cx=\"0\" cy=\"0\" r=\"3\"/><text class=\"lab\" transform=\"translate(0 -11)\">29</text></g></g></g><g class=\"tree t28\" transform=\"translate(5581.38 0)\"><g class=\"plotbox\"><g class=\"c2 node n20 p0 root\" transform=\"translate(141.754 86.4006)\"><g class=\"a20 i0 leaf node n1 p0 sample\" transform=\"translate(26.9531 34.9994)\"><path class=\"edge\" d=\"M 0 0 V -34.9994 H -26.9531\"/><rect class=\"sym\" height=\"6\" width=\"6\" x=\"-3\" y=\"-3\"/><text class=\"lab\" transform=\"translate(0 11)\">1</text></g><g class=\"a20 c2 node n19 p0\" transform=\"translate(-26.9531 1.93434)\"><g class=\"a19 c2 m13 node n14 p0 s13\" transform=\"translate(-24.1649 27.5908)\"><g class=\"a14 i1 leaf node n2 p0 sample\" transform=\"translate(18.5884 5.47427)\"><path class=\"edge\" d=\"M 0 0 V -5.47427 H -18.5884\"/><rect class=\"sym\" height=\"6\" width=\"6\" x=\"-3\" y=\"-3\"/><text class=\"lab\" transform=\"translate(0 11)\">2</text></g><g class=\"a14 c2 node n11 p0\" transform=\"translate(-18.5884 3.00733)\"><g class=\"a11 i1 leaf node n3 p0 sample\" transform=\"translate(17.3491 2.46695)\"><path class=\"edge\" d=\"M 0 0 V -2.46695 H -17.3491\"/><rect class=\"sym\" height=\"6\" width=\"6\" x=\"-3\" y=\"-3\"/><text class=\"lab\" transform=\"translate(0 11)\">3</text></g><g class=\"a11 c2 node n9 p0\" transform=\"translate(-17.3491 2.16762)\"><g class=\"a9 i3 leaf node n6 p0 sample\" transform=\"translate(14.8707 0.299329)\"><path class=\"edge\" d=\"M 0 0 V -0.299329 H -14.8707\"/><rect class=\"sym\" height=\"6\" width=\"6\" x=\"-3\" y=\"-3\"/><text class=\"lab\" transform=\"translate(0 11)\">6</text></g><g class=\"a9 c2 node n8 p0\" transform=\"translate(-14.8707 0.145957)\"><g class=\"a8 i0 leaf node n0 p0 sample\" transform=\"translate(-9.91379 0.153372)\"><path class=\"edge\" d=\"M 0 0 V -0.153372 H 9.91379\"/><rect class=\"sym\" height=\"6\" width=\"6\" x=\"-3\" y=\"-3\"/><text class=\"lab\" transform=\"translate(0 11)\">0</text></g><g class=\"a8 i2 leaf node n4 p0 sample\" transform=\"translate(9.91379 0.153372)\"><path class=\"edge\" d=\"M 0 0 V -0.153372 H -9.91379\"/><rect class=\"sym\" height=\"6\" width=\"6\" x=\"-3\" y=\"-3\"/><text class=\"lab\" transform=\"translate(0 11)\">4</text></g><path class=\"edge\" d=\"M 0 0 V -0.145957 H 14.8707\"/><circle class=\"sym\" cx=\"0\" cy=\"0\" r=\"3\"/><text class=\"lab lft\" transform=\"translate(-3 -7)\">8</text></g><path class=\"edge\" d=\"M 0 0 V -2.16762 H 17.3491\"/><circle class=\"sym\" cx=\"0\" cy=\"0\" r=\"3\"/><text class=\"lab lft\" transform=\"translate(-3 -7)\">9</text></g><path class=\"edge\" d=\"M 0 0 V -3.00733 H 18.5884\"/><circle class=\"sym\" cx=\"0\" cy=\"0\" r=\"3\"/><text class=\"lab lft\" transform=\"translate(-3 -7)\">11</text></g><path class=\"edge\" d=\"M 0 0 V -27.5908 H 24.1649\"/><g class=\"mut m13 s13\" transform=\"translate(0 -3.86566)\"><line x1=\"0\" x2=\"0\" y1=\"0\" y2=\"3.86566\"/><path class=\"sym\" d=\"M -3,-3 l 6,6 M -3,3 l 6,-6\"/><text class=\"lab lft\" transform=\"translate(-5 0)\">13</text></g><circle class=\"sym\" cx=\"0\" cy=\"0\" r=\"3\"/><text class=\"lab lft\" transform=\"translate(-3 -7)\">14</text></g><g class=\"a19 c2 node n15 p0\" transform=\"translate(24.1649 26.5289)\"><g class=\"a15 i2 leaf node n5 p0 sample\" transform=\"translate(-9.91379 6.53616)\"><path class=\"edge\" d=\"M 0 0 V -6.53616 H 9.91379\"/><rect class=\"sym\" height=\"6\" width=\"6\" x=\"-3\" y=\"-3\"/><text class=\"lab\" transform=\"translate(0 11)\">5</text></g><g class=\"a15 i3 leaf node n7 p0 sample\" transform=\"translate(9.91379 6.53616)\"><path class=\"edge\" d=\"M 0 0 V -6.53616 H -9.91379\"/><rect class=\"sym\" height=\"6\" width=\"6\" x=\"-3\" y=\"-3\"/><text class=\"lab\" transform=\"translate(0 11)\">7</text></g><path class=\"edge\" d=\"M 0 0 V -26.5289 H -24.1649\"/><circle class=\"sym\" cx=\"0\" cy=\"0\" r=\"3\"/><text class=\"lab rgt\" transform=\"translate(3 -7)\">15</text></g><path class=\"edge\" d=\"M 0 0 V -1.93434 H 26.9531\"/><circle class=\"sym\" cx=\"0\" cy=\"0\" r=\"3\"/><text class=\"lab lft\" transform=\"translate(-3 -7)\">19</text></g><circle class=\"sym\" cx=\"0\" cy=\"0\" r=\"3\"/><text class=\"lab\" transform=\"translate(0 -11)\">20</text></g></g></g></g></g></svg>"
      ],
      "text/plain": [
       "<IPython.core.display.SVG object>"
      ]
     },
     "execution_count": 299,
     "metadata": {},
     "output_type": "execute_result"
    }
   ],
   "source": [
    "SVG(mts.draw_svg())"
   ]
  },
  {
   "cell_type": "code",
   "execution_count": 301,
   "id": "e4f06c3b",
   "metadata": {},
   "outputs": [
    {
     "name": "stdout",
     "output_type": "stream",
     "text": [
      "(17, 20, 1.1517383306611975, False)\n",
      "(17, 20, 1.122381958360217, False)\n",
      "(17, 20, 0.7976893131636449, False)\n",
      "(9, 12, 0.7767065075918385, False)\n",
      "(17, 18, 0.9605801039400272, False)\n",
      "(7, 18, 0.13368906132005526, False)\n",
      "(5, 20, 0.5835450883127145, False)\n",
      "(5, 20, 2.004709619002363, False)\n",
      "(5, 20, 0.5308356579963197, False)\n",
      "(3, 7, 0.11777427148663097, False)\n",
      "(5, 13, 0.20797640072201454, False)\n",
      "(16, 18, 1.7079041052680526, False)\n",
      "(16, 18, 0.5855129669842042, False)\n",
      "(12, 16, 0.4982728418555821, False)\n",
      "(12, 16, 1.0656502896241686, False)\n",
      "(9, 12, 1.0195532391625706, False)\n",
      "(2, 9, 0.13310242314984602, False)\n",
      "(5, 13, 0.37592985130949824, False)\n",
      "(1, 25, 13621.745481691658, True)\n",
      "(14, 15, 0.4682816426229395, False)\n",
      "(1, 19, 0.9118911385100124, False)\n",
      "(1, 19, 1.0966221271038485, False)\n",
      "(1, 19, 0.987630234790694, False)\n",
      "(1, 19, 0.9233122948116986, False)\n",
      "(14, 15, 1.072914311276289, False)\n",
      "(14, 15, 0.9320408810750661, False)\n",
      "(3, 9, 0.41886798759855476, False)\n",
      "(1, 19, 0.03854257346841605, False)\n"
     ]
    }
   ],
   "source": [
    "def diff_spr(t1, t2):\n",
    "    assert t1.num_samples() == t2.num_samples()\n",
    "    nodes = set(range(t1.num_samples()))\n",
    "    while nodes:\n",
    "        x = nodes.pop()\n",
    "        p1, p2 = [t.get_parent(x) for t in [t1, t2]]\n",
    "        if p1 != p2:\n",
    "            return x\n",
    "        if p1 != -1:\n",
    "            nodes.add(p1)\n",
    "            \n",
    "def find_spr(t1, t2):\n",
    "    start0 = diff_spr(t1, t2)\n",
    "    deleted = t1.parent(start0)\n",
    "    start1, = t1.siblings(start0)\n",
    "    # the recombination could have occured either on (start0, deleted) or (start1, deleted)\n",
    "    # to settle this, in t2, one of them will have the same grandparent and the other wont\n",
    "    gp = t1.parent(deleted)\n",
    "    gp0 = t2.parent(start0)\n",
    "    gp1 = t2.parent(start1)\n",
    "    start = start1 if gp0 == gp else start0\n",
    "    end, = t2.siblings(start)\n",
    "    if t1.parent(end) == tskit.NULL:\n",
    "        x = t2.time(t2.parent(end)) - t2.time(end)\n",
    "        root = True\n",
    "    else:\n",
    "        t0 = t1.time(t1.parent(end)) - t1.time(end)\n",
    "        t1 = t2.time(t2.parent(end)) - t2.time(end)\n",
    "        x = t1 / t0\n",
    "        root = False\n",
    "    return start, end, x, root\n",
    "\n",
    "for t1, t2 in it.pairwise(ts.aslist()):\n",
    "  print(find_spr(t1, t2))"
   ]
  },
  {
   "cell_type": "markdown",
   "id": "e13b18de",
   "metadata": {},
   "source": [
    "Make genotype matrix with a 100-site sliding window, except for when there is a recombination event within 100 sites (and then only take those sites of interest.)"
   ]
  },
  {
   "cell_type": "code",
   "execution_count": 302,
   "id": "5b50ee29",
   "metadata": {},
   "outputs": [],
   "source": [
    "# take a matrix of just the kept columns and expand with zeroes everywhere else for a fixed range of the full matrix.\n",
    "def restore_and_slice(X, start, end, kept_cols):\n",
    "  n = X.shape[0]\n",
    "  n_cols = int(end - start)\n",
    "\n",
    "  full_sub = nmp.zeros((n, n_cols))\n",
    "\n",
    "  for idx, col in enumerate(kept_cols):\n",
    "    if start <= col < end:\n",
    "      full_sub[:, col-start] = X[:, idx]\n",
    "\n",
    "  return full_sub\n",
    "\n",
    "# do this for the genotype matrix\n",
    "def make_genotype_windows(G, tree_num, breakpoints, mutation_sites):\n",
    "  start_site = breakpoints[tree_num+1]\n",
    "  end_site = breakpoints[tree_num + 2]\n",
    "\n",
    "  start_genotype = start_site\n",
    "  if end_site < (start_site + 100):\n",
    "    end_genotype = end_site\n",
    "  else:\n",
    "    end_genotype = start_site + 100\n",
    "  \n",
    "  G_sub = restore_and_slice(X=G, start = start_genotype, end = end_genotype, kept_cols=mutation_sites)\n",
    "  \n",
    "  return G_sub\n"
   ]
  },
  {
   "cell_type": "code",
   "execution_count": 303,
   "id": "4b9c1b26",
   "metadata": {},
   "outputs": [
    {
     "data": {
      "text/plain": [
       "(8, 100)"
      ]
     },
     "execution_count": 303,
     "metadata": {},
     "output_type": "execute_result"
    }
   ],
   "source": [
    "genotypes = make_genotype_windows(G = sparse_genotype, tree_num=0, breakpoints=breakpoints, mutation_sites=mutation_sites)\n",
    "genotypes.shape"
   ]
  },
  {
   "cell_type": "code",
   "execution_count": 304,
   "id": "b4edfca1",
   "metadata": {},
   "outputs": [
    {
     "data": {
      "text/plain": [
       "Array([[0., 0., 0., 0., 0., 0., 0., 0., 0., 0., 0., 0., 0., 0., 0., 0.,\n",
       "        0., 0., 0., 0., 0., 0., 0., 0., 0., 0., 0., 0., 0., 0., 0., 0.,\n",
       "        0., 0., 0., 0., 0., 0., 0., 0., 0., 0., 0., 0., 0., 0., 0., 0.,\n",
       "        0., 0., 0., 0., 0., 0., 0., 0., 0., 0., 0., 0., 0., 0., 0., 0.,\n",
       "        0., 0., 0., 0., 0., 0., 0., 0., 0., 0., 0., 0., 0., 0., 0., 0.,\n",
       "        0., 0., 0., 0., 0., 0., 0., 0., 0., 0., 0., 0., 0., 0., 0., 0.,\n",
       "        0., 0., 0., 0.],\n",
       "       [0., 0., 0., 0., 0., 0., 0., 0., 0., 0., 0., 0., 0., 0., 0., 0.,\n",
       "        0., 0., 0., 0., 0., 0., 0., 0., 0., 0., 0., 0., 0., 0., 0., 0.,\n",
       "        0., 0., 0., 0., 0., 0., 0., 0., 0., 0., 0., 0., 0., 0., 0., 0.,\n",
       "        0., 0., 0., 0., 0., 0., 0., 0., 0., 0., 0., 0., 0., 0., 0., 0.,\n",
       "        0., 0., 0., 0., 0., 0., 0., 0., 0., 0., 0., 0., 0., 0., 0., 0.,\n",
       "        0., 0., 0., 0., 0., 0., 0., 0., 0., 0., 0., 0., 0., 0., 0., 0.,\n",
       "        0., 0., 0., 0.],\n",
       "       [0., 0., 0., 0., 0., 0., 0., 0., 0., 0., 0., 0., 0., 0., 0., 0.,\n",
       "        0., 0., 0., 0., 0., 0., 0., 0., 0., 0., 0., 0., 0., 0., 0., 0.,\n",
       "        0., 0., 0., 0., 0., 0., 0., 0., 0., 0., 0., 0., 0., 0., 0., 0.,\n",
       "        0., 0., 0., 0., 0., 0., 0., 0., 0., 0., 0., 0., 0., 0., 0., 0.,\n",
       "        0., 0., 0., 0., 0., 0., 0., 0., 0., 0., 0., 0., 0., 0., 0., 0.,\n",
       "        0., 0., 0., 0., 0., 0., 0., 0., 0., 0., 0., 0., 0., 0., 0., 0.,\n",
       "        0., 0., 0., 0.],\n",
       "       [0., 0., 0., 0., 0., 0., 0., 0., 0., 0., 0., 0., 0., 0., 0., 0.,\n",
       "        0., 0., 0., 0., 0., 0., 0., 0., 0., 0., 0., 0., 0., 0., 0., 0.,\n",
       "        0., 0., 0., 0., 0., 0., 0., 0., 0., 0., 0., 0., 0., 0., 0., 0.,\n",
       "        0., 0., 0., 0., 0., 0., 0., 0., 0., 0., 0., 0., 0., 0., 0., 0.,\n",
       "        0., 0., 0., 0., 0., 0., 0., 0., 0., 0., 0., 0., 0., 0., 0., 0.,\n",
       "        0., 0., 0., 0., 0., 0., 0., 0., 0., 0., 0., 0., 0., 0., 0., 0.,\n",
       "        0., 0., 0., 0.],\n",
       "       [0., 0., 0., 0., 0., 0., 0., 0., 0., 0., 0., 0., 0., 0., 0., 0.,\n",
       "        0., 0., 0., 0., 0., 0., 0., 0., 0., 0., 0., 0., 0., 0., 0., 0.,\n",
       "        0., 0., 0., 0., 0., 0., 0., 0., 0., 0., 0., 0., 0., 0., 0., 0.,\n",
       "        0., 0., 0., 0., 0., 0., 0., 0., 0., 0., 0., 0., 0., 0., 0., 0.,\n",
       "        0., 0., 0., 0., 0., 0., 0., 0., 0., 0., 0., 0., 0., 0., 0., 0.,\n",
       "        0., 0., 0., 0., 0., 0., 0., 0., 0., 0., 0., 0., 0., 0., 0., 0.,\n",
       "        0., 0., 0., 0.],\n",
       "       [0., 0., 0., 0., 0., 0., 0., 0., 0., 0., 0., 0., 0., 0., 0., 0.,\n",
       "        0., 0., 0., 0., 0., 0., 0., 0., 0., 0., 0., 0., 0., 0., 0., 0.,\n",
       "        0., 0., 0., 0., 0., 0., 0., 0., 0., 0., 0., 0., 0., 0., 0., 0.,\n",
       "        0., 0., 0., 0., 0., 0., 0., 0., 0., 0., 0., 0., 0., 0., 0., 0.,\n",
       "        0., 0., 0., 0., 0., 0., 0., 0., 0., 0., 0., 0., 0., 0., 0., 0.,\n",
       "        0., 0., 0., 0., 0., 0., 0., 0., 0., 0., 0., 0., 0., 0., 0., 0.,\n",
       "        0., 0., 0., 0.],\n",
       "       [0., 0., 0., 0., 0., 0., 0., 0., 0., 0., 0., 0., 0., 0., 0., 0.,\n",
       "        0., 0., 0., 0., 0., 0., 0., 0., 0., 0., 0., 0., 0., 0., 0., 0.,\n",
       "        0., 0., 0., 0., 0., 0., 0., 0., 0., 0., 0., 0., 0., 0., 0., 0.,\n",
       "        0., 0., 0., 0., 0., 0., 0., 0., 0., 0., 0., 0., 0., 0., 0., 0.,\n",
       "        0., 0., 0., 0., 0., 0., 0., 0., 0., 0., 0., 0., 0., 0., 0., 0.,\n",
       "        0., 0., 0., 0., 0., 0., 0., 0., 0., 0., 0., 0., 0., 0., 0., 0.,\n",
       "        0., 0., 0., 0.],\n",
       "       [0., 0., 0., 0., 0., 0., 0., 0., 0., 0., 0., 0., 0., 0., 0., 0.,\n",
       "        0., 0., 0., 0., 0., 0., 0., 0., 0., 0., 0., 0., 0., 0., 0., 0.,\n",
       "        0., 0., 0., 0., 0., 0., 0., 0., 0., 0., 0., 0., 0., 0., 0., 0.,\n",
       "        0., 0., 0., 0., 0., 0., 0., 0., 0., 0., 0., 0., 0., 0., 0., 0.,\n",
       "        0., 0., 0., 0., 0., 0., 0., 0., 0., 0., 0., 0., 0., 0., 0., 0.,\n",
       "        0., 0., 0., 0., 0., 0., 0., 0., 0., 0., 0., 0., 0., 0., 0., 0.,\n",
       "        0., 0., 0., 0.]], dtype=float32)"
      ]
     },
     "execution_count": 304,
     "metadata": {},
     "output_type": "execute_result"
    }
   ],
   "source": [
    "genotypes"
   ]
  },
  {
   "cell_type": "code",
   "execution_count": 305,
   "id": "4daff30b",
   "metadata": {},
   "outputs": [],
   "source": [
    "class InitMLP:\n",
    "  def __init__(self, input_dim, hidden_dim, num_hidden, output_dim, key):\n",
    "    self.params = []\n",
    "    keys = jax.random.split(key, num_hidden + 1)\n",
    "\n",
    "    last_dim = input_dim\n",
    "    for i, k in enumerate(keys[: -1]):\n",
    "      W = jax.random.normal(k, (last_dim, hidden_dim)) / nmp.sqrt(last_dim)\n",
    "      b = jax.random.normal(k, hidden_dim) / nmp.sqrt(num_hidden)\n",
    "      self.params.append((W, b))\n",
    "      last_dim = hidden_dim\n",
    "    \n",
    "    W = jax.random.normal(keys[-1], (output_dim, last_dim)) / nmp.sqrt(output_dim)\n",
    "    b = jax.random.normal(keys[-1], output_dim)\n",
    "    self.params.append((W, b))\n",
    "  \n",
    "  def __call__(self, X):\n",
    "    h = X\n",
    "    for (W, b) in self.params[:-1]:\n",
    "      h = jax.nn.relu(h @ W + b)\n",
    "    W, b = self.params[-1]\n",
    "    return h @ W + b"
   ]
  },
  {
   "cell_type": "code",
   "execution_count": 306,
   "id": "0413a2ff",
   "metadata": {},
   "outputs": [],
   "source": [
    "key = jax.random.PRNGKey(1985)\n",
    "init_embedder = InitMLP(input_dim=100, hidden_dim=64, num_hidden=2, output_dim=64, key=key)\n"
   ]
  },
  {
   "cell_type": "code",
   "execution_count": 307,
   "id": "c75202bc",
   "metadata": {},
   "outputs": [
    {
     "data": {
      "text/plain": [
       "Array([[ 1.269521  , -0.7666042 , -0.11165268, -0.4375462 , -1.0406069 ,\n",
       "         0.84053797,  0.38978666, -1.3509793 ,  0.13618854, -1.1217561 ,\n",
       "        -0.42725176,  1.4763846 , -0.63571167,  0.01121454,  0.4267992 ,\n",
       "         0.73650795, -3.3260624 , -0.38266772, -1.369092  , -1.2791185 ,\n",
       "        -1.2535621 , -0.8992981 ,  0.4529702 , -0.97431636, -0.12345454,\n",
       "        -1.2945707 ,  2.5142713 ,  1.551631  ,  0.4743452 , -2.2104807 ,\n",
       "        -1.1619041 , -0.63516545,  1.088431  , -1.3457389 , -0.23364544,\n",
       "         2.1910763 ,  0.4504829 ,  4.115324  , -3.1442354 , -0.57707906,\n",
       "         0.3503601 , -0.66564953,  0.6040066 ,  1.7679443 ,  1.0190634 ,\n",
       "         0.3295908 , -0.15766335, -1.7723582 , -0.14468327, -0.6874583 ,\n",
       "        -0.09622662, -1.9166849 , -2.5416467 , -1.0736724 , -0.10105717,\n",
       "         1.6583202 ,  0.12741612, -0.6082331 ,  0.758513  , -0.5860486 ,\n",
       "         2.9077842 ,  0.5428597 ,  0.3896222 , -1.8905423 ],\n",
       "       [ 1.269521  , -0.7666042 , -0.11165268, -0.4375462 , -1.0406069 ,\n",
       "         0.84053797,  0.38978666, -1.3509793 ,  0.13618854, -1.1217561 ,\n",
       "        -0.42725176,  1.4763846 , -0.63571167,  0.01121454,  0.4267992 ,\n",
       "         0.73650795, -3.3260624 , -0.38266772, -1.369092  , -1.2791185 ,\n",
       "        -1.2535621 , -0.8992981 ,  0.4529702 , -0.97431636, -0.12345454,\n",
       "        -1.2945707 ,  2.5142713 ,  1.551631  ,  0.4743452 , -2.2104807 ,\n",
       "        -1.1619041 , -0.63516545,  1.088431  , -1.3457389 , -0.23364544,\n",
       "         2.1910763 ,  0.4504829 ,  4.115324  , -3.1442354 , -0.57707906,\n",
       "         0.3503601 , -0.66564953,  0.6040066 ,  1.7679443 ,  1.0190634 ,\n",
       "         0.3295908 , -0.15766335, -1.7723582 , -0.14468327, -0.6874583 ,\n",
       "        -0.09622662, -1.9166849 , -2.5416467 , -1.0736724 , -0.10105717,\n",
       "         1.6583202 ,  0.12741612, -0.6082331 ,  0.758513  , -0.5860486 ,\n",
       "         2.9077842 ,  0.5428597 ,  0.3896222 , -1.8905423 ],\n",
       "       [ 1.269521  , -0.7666042 , -0.11165268, -0.4375462 , -1.0406069 ,\n",
       "         0.84053797,  0.38978666, -1.3509793 ,  0.13618854, -1.1217561 ,\n",
       "        -0.42725176,  1.4763846 , -0.63571167,  0.01121454,  0.4267992 ,\n",
       "         0.73650795, -3.3260624 , -0.38266772, -1.369092  , -1.2791185 ,\n",
       "        -1.2535621 , -0.8992981 ,  0.4529702 , -0.97431636, -0.12345454,\n",
       "        -1.2945707 ,  2.5142713 ,  1.551631  ,  0.4743452 , -2.2104807 ,\n",
       "        -1.1619041 , -0.63516545,  1.088431  , -1.3457389 , -0.23364544,\n",
       "         2.1910763 ,  0.4504829 ,  4.115324  , -3.1442354 , -0.57707906,\n",
       "         0.3503601 , -0.66564953,  0.6040066 ,  1.7679443 ,  1.0190634 ,\n",
       "         0.3295908 , -0.15766335, -1.7723582 , -0.14468327, -0.6874583 ,\n",
       "        -0.09622662, -1.9166849 , -2.5416467 , -1.0736724 , -0.10105717,\n",
       "         1.6583202 ,  0.12741612, -0.6082331 ,  0.758513  , -0.5860486 ,\n",
       "         2.9077842 ,  0.5428597 ,  0.3896222 , -1.8905423 ],\n",
       "       [ 1.269521  , -0.7666042 , -0.11165268, -0.4375462 , -1.0406069 ,\n",
       "         0.84053797,  0.38978666, -1.3509793 ,  0.13618854, -1.1217561 ,\n",
       "        -0.42725176,  1.4763846 , -0.63571167,  0.01121454,  0.4267992 ,\n",
       "         0.73650795, -3.3260624 , -0.38266772, -1.369092  , -1.2791185 ,\n",
       "        -1.2535621 , -0.8992981 ,  0.4529702 , -0.97431636, -0.12345454,\n",
       "        -1.2945707 ,  2.5142713 ,  1.551631  ,  0.4743452 , -2.2104807 ,\n",
       "        -1.1619041 , -0.63516545,  1.088431  , -1.3457389 , -0.23364544,\n",
       "         2.1910763 ,  0.4504829 ,  4.115324  , -3.1442354 , -0.57707906,\n",
       "         0.3503601 , -0.66564953,  0.6040066 ,  1.7679443 ,  1.0190634 ,\n",
       "         0.3295908 , -0.15766335, -1.7723582 , -0.14468327, -0.6874583 ,\n",
       "        -0.09622662, -1.9166849 , -2.5416467 , -1.0736724 , -0.10105717,\n",
       "         1.6583202 ,  0.12741612, -0.6082331 ,  0.758513  , -0.5860486 ,\n",
       "         2.9077842 ,  0.5428597 ,  0.3896222 , -1.8905423 ],\n",
       "       [ 1.269521  , -0.7666042 , -0.11165268, -0.4375462 , -1.0406069 ,\n",
       "         0.84053797,  0.38978666, -1.3509793 ,  0.13618854, -1.1217561 ,\n",
       "        -0.42725176,  1.4763846 , -0.63571167,  0.01121454,  0.4267992 ,\n",
       "         0.73650795, -3.3260624 , -0.38266772, -1.369092  , -1.2791185 ,\n",
       "        -1.2535621 , -0.8992981 ,  0.4529702 , -0.97431636, -0.12345454,\n",
       "        -1.2945707 ,  2.5142713 ,  1.551631  ,  0.4743452 , -2.2104807 ,\n",
       "        -1.1619041 , -0.63516545,  1.088431  , -1.3457389 , -0.23364544,\n",
       "         2.1910763 ,  0.4504829 ,  4.115324  , -3.1442354 , -0.57707906,\n",
       "         0.3503601 , -0.66564953,  0.6040066 ,  1.7679443 ,  1.0190634 ,\n",
       "         0.3295908 , -0.15766335, -1.7723582 , -0.14468327, -0.6874583 ,\n",
       "        -0.09622662, -1.9166849 , -2.5416467 , -1.0736724 , -0.10105717,\n",
       "         1.6583202 ,  0.12741612, -0.6082331 ,  0.758513  , -0.5860486 ,\n",
       "         2.9077842 ,  0.5428597 ,  0.3896222 , -1.8905423 ],\n",
       "       [ 1.269521  , -0.7666042 , -0.11165268, -0.4375462 , -1.0406069 ,\n",
       "         0.84053797,  0.38978666, -1.3509793 ,  0.13618854, -1.1217561 ,\n",
       "        -0.42725176,  1.4763846 , -0.63571167,  0.01121454,  0.4267992 ,\n",
       "         0.73650795, -3.3260624 , -0.38266772, -1.369092  , -1.2791185 ,\n",
       "        -1.2535621 , -0.8992981 ,  0.4529702 , -0.97431636, -0.12345454,\n",
       "        -1.2945707 ,  2.5142713 ,  1.551631  ,  0.4743452 , -2.2104807 ,\n",
       "        -1.1619041 , -0.63516545,  1.088431  , -1.3457389 , -0.23364544,\n",
       "         2.1910763 ,  0.4504829 ,  4.115324  , -3.1442354 , -0.57707906,\n",
       "         0.3503601 , -0.66564953,  0.6040066 ,  1.7679443 ,  1.0190634 ,\n",
       "         0.3295908 , -0.15766335, -1.7723582 , -0.14468327, -0.6874583 ,\n",
       "        -0.09622662, -1.9166849 , -2.5416467 , -1.0736724 , -0.10105717,\n",
       "         1.6583202 ,  0.12741612, -0.6082331 ,  0.758513  , -0.5860486 ,\n",
       "         2.9077842 ,  0.5428597 ,  0.3896222 , -1.8905423 ],\n",
       "       [ 1.269521  , -0.7666042 , -0.11165268, -0.4375462 , -1.0406069 ,\n",
       "         0.84053797,  0.38978666, -1.3509793 ,  0.13618854, -1.1217561 ,\n",
       "        -0.42725176,  1.4763846 , -0.63571167,  0.01121454,  0.4267992 ,\n",
       "         0.73650795, -3.3260624 , -0.38266772, -1.369092  , -1.2791185 ,\n",
       "        -1.2535621 , -0.8992981 ,  0.4529702 , -0.97431636, -0.12345454,\n",
       "        -1.2945707 ,  2.5142713 ,  1.551631  ,  0.4743452 , -2.2104807 ,\n",
       "        -1.1619041 , -0.63516545,  1.088431  , -1.3457389 , -0.23364544,\n",
       "         2.1910763 ,  0.4504829 ,  4.115324  , -3.1442354 , -0.57707906,\n",
       "         0.3503601 , -0.66564953,  0.6040066 ,  1.7679443 ,  1.0190634 ,\n",
       "         0.3295908 , -0.15766335, -1.7723582 , -0.14468327, -0.6874583 ,\n",
       "        -0.09622662, -1.9166849 , -2.5416467 , -1.0736724 , -0.10105717,\n",
       "         1.6583202 ,  0.12741612, -0.6082331 ,  0.758513  , -0.5860486 ,\n",
       "         2.9077842 ,  0.5428597 ,  0.3896222 , -1.8905423 ],\n",
       "       [ 1.269521  , -0.7666042 , -0.11165268, -0.4375462 , -1.0406069 ,\n",
       "         0.84053797,  0.38978666, -1.3509793 ,  0.13618854, -1.1217561 ,\n",
       "        -0.42725176,  1.4763846 , -0.63571167,  0.01121454,  0.4267992 ,\n",
       "         0.73650795, -3.3260624 , -0.38266772, -1.369092  , -1.2791185 ,\n",
       "        -1.2535621 , -0.8992981 ,  0.4529702 , -0.97431636, -0.12345454,\n",
       "        -1.2945707 ,  2.5142713 ,  1.551631  ,  0.4743452 , -2.2104807 ,\n",
       "        -1.1619041 , -0.63516545,  1.088431  , -1.3457389 , -0.23364544,\n",
       "         2.1910763 ,  0.4504829 ,  4.115324  , -3.1442354 , -0.57707906,\n",
       "         0.3503601 , -0.66564953,  0.6040066 ,  1.7679443 ,  1.0190634 ,\n",
       "         0.3295908 , -0.15766335, -1.7723582 , -0.14468327, -0.6874583 ,\n",
       "        -0.09622662, -1.9166849 , -2.5416467 , -1.0736724 , -0.10105717,\n",
       "         1.6583202 ,  0.12741612, -0.6082331 ,  0.758513  , -0.5860486 ,\n",
       "         2.9077842 ,  0.5428597 ,  0.3896222 , -1.8905423 ]],      dtype=float32)"
      ]
     },
     "execution_count": 307,
     "metadata": {},
     "output_type": "execute_result"
    }
   ],
   "source": [
    "init_embeds = init_embedder(X = genotypes)\n",
    "init_embeds"
   ]
  },
  {
   "cell_type": "markdown",
   "id": "07950b41",
   "metadata": {},
   "source": [
    "Initialize full embeddings matrix for all nodes."
   ]
  },
  {
   "cell_type": "code",
   "execution_count": 308,
   "id": "682853a7",
   "metadata": {},
   "outputs": [
    {
     "data": {
      "text/plain": [
       "Array([[ 1.269521  , -0.7666042 , -0.11165268, ...,  0.5428597 ,\n",
       "         0.3896222 , -1.8905423 ],\n",
       "       [ 1.269521  , -0.7666042 , -0.11165268, ...,  0.5428597 ,\n",
       "         0.3896222 , -1.8905423 ],\n",
       "       [ 1.269521  , -0.7666042 , -0.11165268, ...,  0.5428597 ,\n",
       "         0.3896222 , -1.8905423 ],\n",
       "       ...,\n",
       "       [ 0.        ,  0.        ,  0.        , ...,  0.        ,\n",
       "         0.        ,  0.        ],\n",
       "       [ 0.        ,  0.        ,  0.        , ...,  0.        ,\n",
       "         0.        ,  0.        ],\n",
       "       [ 0.        ,  0.        ,  0.        , ...,  0.        ,\n",
       "         0.        ,  0.        ]], dtype=float32)"
      ]
     },
     "execution_count": 308,
     "metadata": {},
     "output_type": "execute_result"
    }
   ],
   "source": [
    "embeddings = nmp.zeros((N, 64))\n",
    "for i in range(init_embeds.shape[0]):\n",
    "  embeddings = embeddings.at[i].set(init_embeds[i])\n",
    "embeddings"
   ]
  },
  {
   "cell_type": "code",
   "execution_count": 309,
   "id": "00747644",
   "metadata": {},
   "outputs": [
    {
     "data": {
      "text/plain": [
       "Array([ 1.269521  , -0.7666042 , -0.11165268, -0.4375462 , -1.0406069 ,\n",
       "        0.84053797,  0.38978666, -1.3509793 ,  0.13618854, -1.1217561 ,\n",
       "       -0.42725176,  1.4763846 , -0.63571167,  0.01121454,  0.4267992 ,\n",
       "        0.73650795, -3.3260624 , -0.38266772, -1.369092  , -1.2791185 ,\n",
       "       -1.2535621 , -0.8992981 ,  0.4529702 , -0.97431636, -0.12345454,\n",
       "       -1.2945707 ,  2.5142713 ,  1.551631  ,  0.4743452 , -2.2104807 ,\n",
       "       -1.1619041 , -0.63516545,  1.088431  , -1.3457389 , -0.23364544,\n",
       "        2.1910763 ,  0.4504829 ,  4.115324  , -3.1442354 , -0.57707906,\n",
       "        0.3503601 , -0.66564953,  0.6040066 ,  1.7679443 ,  1.0190634 ,\n",
       "        0.3295908 , -0.15766335, -1.7723582 , -0.14468327, -0.6874583 ,\n",
       "       -0.09622662, -1.9166849 , -2.5416467 , -1.0736724 , -0.10105717,\n",
       "        1.6583202 ,  0.12741612, -0.6082331 ,  0.758513  , -0.5860486 ,\n",
       "        2.9077842 ,  0.5428597 ,  0.3896222 , -1.8905423 ], dtype=float32)"
      ]
     },
     "execution_count": 309,
     "metadata": {},
     "output_type": "execute_result"
    }
   ],
   "source": [
    "embeddings[4]"
   ]
  },
  {
   "cell_type": "code",
   "execution_count": 310,
   "id": "fcbaf1bc",
   "metadata": {},
   "outputs": [],
   "source": [
    "tree_post = list(tree.nodes(order = \"postorder\"))"
   ]
  },
  {
   "cell_type": "code",
   "execution_count": 311,
   "id": "9c3b5c5a",
   "metadata": {},
   "outputs": [],
   "source": [
    "for t in tree_post:\n",
    "  children = tree.children(u = t)\n",
    "  if children != ():\n",
    "    children_vectors = embeddings[nmp.array(children) - 1]\n",
    "    children_mean = nmp.mean(children_vectors, axis=0)\n",
    "    embeddings = embeddings.at[t - 1].set(children_mean)"
   ]
  },
  {
   "cell_type": "code",
   "execution_count": 313,
   "id": "1e7d261c",
   "metadata": {},
   "outputs": [],
   "source": [
    "# node_feats = jax.random.normal(key=key, shape = (28, 8))\n",
    "node_feats = embeddings"
   ]
  },
  {
   "cell_type": "code",
   "execution_count": 314,
   "id": "6b2ed508",
   "metadata": {},
   "outputs": [
    {
     "data": {
      "text/plain": [
       "(28, 64)"
      ]
     },
     "execution_count": 314,
     "metadata": {},
     "output_type": "execute_result"
    }
   ],
   "source": [
    "node_feats.shape"
   ]
  },
  {
   "cell_type": "code",
   "execution_count": 315,
   "id": "eea42590",
   "metadata": {},
   "outputs": [
    {
     "data": {
      "text/plain": [
       "Array([[17, 27],\n",
       "       [20, 27],\n",
       "       [ 5, 17],\n",
       "       [ 7, 17],\n",
       "       [ 9, 20],\n",
       "       [12, 20],\n",
       "       [ 6,  9],\n",
       "       [ 8,  9],\n",
       "       [ 0,  8],\n",
       "       [ 4,  8],\n",
       "       [ 1, 12],\n",
       "       [10, 12],\n",
       "       [ 2, 10],\n",
       "       [ 3, 10]], dtype=int32)"
      ]
     },
     "execution_count": 315,
     "metadata": {},
     "output_type": "execute_result"
    }
   ],
   "source": [
    "edges"
   ]
  },
  {
   "cell_type": "code",
   "execution_count": 317,
   "id": "69752c08",
   "metadata": {},
   "outputs": [],
   "source": [
    "class MLPMessageLayer(eqx.Module):\n",
    "  phi: eqx.nn.MLP\n",
    "  gamma: eqx.nn.MLP\n",
    "\n",
    "  def __init__(self, in_dim, hidden_dim = 64, *, key):\n",
    "    k1, k2 = jax.random.split(key)\n",
    "\n",
    "    self.phi = eqx.nn.MLP(\n",
    "      in_size=2 * in_dim, # (features of the node and its neighbor)\n",
    "      out_size= hidden_dim,\n",
    "      width_size= hidden_dim,\n",
    "      depth = 2,\n",
    "      activation=jax.nn.relu,\n",
    "      final_activation=jax.nn.relu,\n",
    "      key = k1\n",
    "    )\n",
    "\n",
    "    self.gamma = eqx.nn.MLP(\n",
    "      in_size=in_dim + hidden_dim,\n",
    "      out_size=hidden_dim,\n",
    "      width_size=hidden_dim,\n",
    "      depth=2,\n",
    "      activation=jax.nn.relu,\n",
    "      key=k2\n",
    "    )\n",
    "\n",
    "  def __call__(self, X, senders, receivers):\n",
    "    \"\"\"\n",
    "    X: [N, D] node features\n",
    "    senders: [E] edge source indices\n",
    "    receivers: [E] edge target indices\n",
    "    \"\"\"\n",
    "    # gather features\n",
    "    X_j = X[senders]\n",
    "    X_i = X[receivers]\n",
    "\n",
    "\n",
    "    m_ji = jax.vmap(self.phi)(nmp.concatenate([X_i, X_j], axis=-1))\n",
    "\n",
    "    # aggregate by mean\n",
    "    N = X.shape[0]\n",
    "    m_sum = jax.ops.segment_sum(m_ji, receivers, N)\n",
    "    deg = jax.ops.segment_sum(nmp.ones_like(receivers), receivers, N)\n",
    "    deg = nmp.maximum(deg, 1)[:, None]\n",
    "    m_i = m_sum / deg\n",
    "\n",
    "    return jax.vmap(self.gamma)(nmp.concatenate([X, m_i], axis=-1))"
   ]
  },
  {
   "cell_type": "code",
   "execution_count": 268,
   "id": "1b8cd5fc",
   "metadata": {},
   "outputs": [
    {
     "data": {
      "text/plain": [
       "(24, 64)"
      ]
     },
     "execution_count": 268,
     "metadata": {},
     "output_type": "execute_result"
    }
   ],
   "source": [
    "model = MLPMessageLayer(in_dim=64, hidden_dim=64, key = key)\n",
    "model(X = node_feats, senders=senders, receivers=receivers).shape"
   ]
  },
  {
   "cell_type": "code",
   "execution_count": 269,
   "id": "9e27ae75",
   "metadata": {},
   "outputs": [],
   "source": [
    "class MPNNEncoder(eqx.Module):\n",
    "  layers: list\n",
    "\n",
    "  def __init__(self, in_dim, hidden_dim, num_layers, *, key):\n",
    "    keys = jax.random.split(key, num_layers)\n",
    "    self.layers = [MLPMessageLayer(in_dim, hidden_dim, key=keys[0])]\n",
    "    for k in keys[1:]:\n",
    "      self.layers.append(MLPMessageLayer(hidden_dim, hidden_dim, key = k))\n",
    "  \n",
    "  def __call__(self, X, senders, receivers):\n",
    "    for layer in self.layers:\n",
    "      X = layer(X, senders, receivers)\n",
    "    return X"
   ]
  },
  {
   "cell_type": "code",
   "execution_count": 281,
   "id": "b968e7ac",
   "metadata": {},
   "outputs": [],
   "source": [
    "class SPRGPredictor(eqx.Module):\n",
    "  encoder: MPNNEncoder\n",
    "  head: eqx.nn.MLP\n",
    "\n",
    "  def __init__(self, in_dim, hidden_dim, num_layers, *, key):\n",
    "    k_enc, k_head = jax.random.split(key)\n",
    "    self.encoder = MPNNEncoder(in_dim, hidden_dim, num_layers, key = k_enc)\n",
    "    self.head = eqx.nn.MLP(\n",
    "      in_size = 2*hidden_dim,\n",
    "      out_size= 1, # this will be whole edge prediction, where it starts, where it ends. Right now, we are doing logit prediction for all possib  le edge starts, so the cardinality of this set will be E.\n",
    "      width_size=hidden_dim,\n",
    "      depth=2,\n",
    "      activation=jax.nn.relu,\n",
    "      key = k_head\n",
    "    )\n",
    "  \n",
    "  def __call__(self, X, senders, receivers):\n",
    "    H = self.encoder(X, senders, receivers)\n",
    "    h_i, h_j = H[receivers], H[senders]\n",
    "    logits = jax.vmap(self.head)(nmp.concatenate([h_i, h_j], axis=-1)).squeeze(-1)\n",
    "    return logits"
   ]
  },
  {
   "cell_type": "code",
   "execution_count": 282,
   "id": "1e47b034",
   "metadata": {},
   "outputs": [],
   "source": [
    "key = jax.random.PRNGKey(0)"
   ]
  },
  {
   "cell_type": "code",
   "execution_count": 284,
   "id": "5216ea33",
   "metadata": {},
   "outputs": [],
   "source": [
    "def nll(logits, target_edge_idx: int):\n",
    "    log_probs = logits - jax.nn.logsumexp(logits)     # log probabilites\n",
    "    return -log_probs[target_edge_idx] # minimize the negative log probability of the correct edge change == maximize predicted log probabiliy of the correct edge change"
   ]
  },
  {
   "cell_type": "code",
   "execution_count": 328,
   "id": "db39ac9f",
   "metadata": {},
   "outputs": [],
   "source": [
    "@eqx.filter_value_and_grad\n",
    "def loss_fn(model, X, senders, receivers, target):\n",
    "  logits = model(X, senders, receivers)\n",
    "  return nll(logits, target)\n",
    "\n",
    "@eqx.filter_jit\n",
    "def train_step(model, opt_state, X, senders, receivers, target, optim):\n",
    "  loss, grads = loss_fn(model, X, senders, receivers, target)\n",
    "  updates, opt_state = optim.update(grads, opt_state, params = eqx.filter(model, eqx.is_array))\n",
    "  model = eqx.apply_updates(model, updates)\n",
    "  return model, opt_state, loss\n",
    "\n",
    "def main():\n",
    "  model = SPRGPredictor(in_dim = node_feats.shape[1], hidden_dim=32, num_layers=3, key=key)\n",
    "  optim = optax.adam(1e-3)\n",
    "  target = 0\n",
    "  opt_state = optim.init(eqx.filter(model, eqx.is_array))\n",
    "  for step in range(301):\n",
    "    model, opt_state, loss = train_step(model, opt_state, node_feats, senders, receivers, target, optim)\n",
    "    if step % 50 == 0:\n",
    "      logits = model(node_feats, senders, receivers)\n",
    "      probs = jax.nn.softmax(logits)\n",
    "      print(f\"step {step:03d} | loss {loss:.4f} | top edge {nmp.argmax(probs)}\")\n",
    "  \n",
    "  logits = model(node_feats, senders, receivers)\n",
    "  probs = jax.nn.softmax(logits)\n",
    "  print(probs)"
   ]
  },
  {
   "cell_type": "code",
   "execution_count": 329,
   "id": "1562011d",
   "metadata": {},
   "outputs": [
    {
     "name": "stdout",
     "output_type": "stream",
     "text": [
      "step 000 | loss 2.6390 | top edge 11\n",
      "step 050 | loss 1.0761 | top edge 1\n",
      "step 100 | loss -0.0000 | top edge 0\n",
      "step 150 | loss -0.0000 | top edge 0\n",
      "step 200 | loss -0.0000 | top edge 0\n",
      "step 250 | loss -0.0000 | top edge 0\n",
      "step 300 | loss -0.0000 | top edge 0\n",
      "[1.0000000e+00 0.0000000e+00 0.0000000e+00 1.1958527e-08 0.0000000e+00\n",
      " 0.0000000e+00 0.0000000e+00 0.0000000e+00 0.0000000e+00 0.0000000e+00\n",
      " 0.0000000e+00 0.0000000e+00 0.0000000e+00 0.0000000e+00]\n"
     ]
    }
   ],
   "source": [
    "main()"
   ]
  },
  {
   "cell_type": "markdown",
   "id": "44b6a92a",
   "metadata": {},
   "source": [
    "### Message passing ARG main code (OLD BELOW THIS LINE)"
   ]
  },
  {
   "cell_type": "markdown",
   "id": "e1bb82c6",
   "metadata": {},
   "source": [
    "Define a single layer for a GCN."
   ]
  },
  {
   "cell_type": "code",
   "execution_count": 200,
   "id": "ece6ce4d",
   "metadata": {},
   "outputs": [],
   "source": [
    "class GCNLayer(eqx.Module):\n",
    "    w: nmp.ndarray\n",
    "    b: nmp.ndarray\n",
    "\n",
    "    def __init__(self, in_dim, out_dim, key):\n",
    "        wkey, bkey = jax.random.split(key)\n",
    "        self.w = jax.random.normal(wkey, (in_dim, out_dim))   \n",
    "        self.b = jax.random.normal(bkey, (out_dim,))\n",
    "\n",
    "    def __call__(self, X, A, eps=1e-8):\n",
    "       assert A.shape == (N, N), f\"A must be ({N},{N}), got {A.shape}\"\n",
    "\n",
    "       A_tilde = A + nmp.eye(N)\n",
    "\n",
    "       deg = A_tilde.sum(axis = 1)\n",
    "       deg_mat = nmp.diag(deg)\n",
    "       deg_mat_sqrt_inv = nmp.sqrt(nmp.linalg.inv(deg_mat))\n",
    "       total = deg_mat_sqrt_inv @ A_tilde @ deg_mat_sqrt_inv\n",
    "       H = total @ (X @ self.w + self.b)\n",
    "       return jax.nn.relu(H)"
   ]
  },
  {
   "cell_type": "markdown",
   "id": "ba9f1ed4",
   "metadata": {},
   "source": [
    "MLP testing (now deprecated to other files.)"
   ]
  },
  {
   "cell_type": "code",
   "execution_count": 201,
   "id": "6906d87c",
   "metadata": {},
   "outputs": [],
   "source": [
    "class GCNLayer(eqx.Module):\n",
    "    mlp: eqx.nn.MLP\n",
    "\n",
    "    def __init__(self, in_dim, out_dim, key):\n",
    "        self.mlp = eqx.nn.MLP(in_size=in_dim, out_size=out_dim, width_size=16, depth=1, key=key)\n",
    "\n",
    "    def __call__(self, X, A, eps=1e-8):\n",
    "       assert A.shape == (N, N), f\"A must be ({N},{N}), got {A.shape}\"\n",
    "\n",
    "       A_tilde = A + nmp.eye(N)\n",
    "\n",
    "       deg = A_tilde.sum(axis = 1)\n",
    "       deg_mat = nmp.diag(deg)\n",
    "       deg_mat_sqrt_inv = nmp.sqrt(nmp.linalg.inv(deg_mat))\n",
    "       total = deg_mat_sqrt_inv @ A_tilde @ deg_mat_sqrt_inv\n",
    "       H = total @ (X @ self.w + self.b)\n",
    "       return jax.nn.relu(H)"
   ]
  },
  {
   "cell_type": "markdown",
   "id": "3bd27a8a",
   "metadata": {},
   "source": [
    "Describe all the layers from the single layer"
   ]
  },
  {
   "cell_type": "code",
   "execution_count": 157,
   "id": "0e6437ca",
   "metadata": {},
   "outputs": [],
   "source": [
    "class GCNEncoder(eqx.Module):\n",
    "  layers: list\n",
    "\n",
    "  def __init__(self, in_dim, hidden_dim, num_layers, key):\n",
    "    keys = jax.random.split(key, num_layers)\n",
    "    self.layers = [GCNLayer(in_dim, hidden_dim, keys[0])]\n",
    "    for k in keys[1:]:\n",
    "      self.layers.append(GCNLayer(hidden_dim, hidden_dim, k))\n",
    "  \n",
    "  def __call__(self, X, A):\n",
    "    for layer in self.layers:\n",
    "      X = layer(X = X, A = A)\n",
    "    \n",
    "    return X"
   ]
  },
  {
   "cell_type": "code",
   "execution_count": 166,
   "id": "d24afe7e",
   "metadata": {},
   "outputs": [],
   "source": [
    "def main(X, A, edges, true_idx, hidden_dim = 8, num_layers = 2, key = key, learning_rate=3e-3, steps = 200):\n",
    "\n",
    "  model = GCNEncoder(in_dim=X.shape[1], hidden_dim=hidden_dim, num_layers=num_layers, key=key)\n",
    "\n",
    "  @eqx.filter_value_and_grad\n",
    "  def compute_loss(model, X, A, edges, true_idx):\n",
    "    embeddings = model(X = X, A = A)\n",
    "\n",
    "    u = embeddings[edges[:, 0]]\n",
    "    v = embeddings[edges[:, 1]]\n",
    "\n",
    "    logits = nmp.sum(u * v, axis=1)\n",
    "    jax.debug.print(\"logits = {}\", logits)\n",
    "\n",
    "    norm_u = nmp.linalg.norm(u, axis=1)\n",
    "    norm_v = nmp.linalg.norm(v, axis = 1)\n",
    "\n",
    "    sims = logits / (norm_u * norm_v)\n",
    "    # jax.debug.print(\"sims= {}\", sims)\n",
    "\n",
    "    log_probs = log_softmax(sims)\n",
    "\n",
    "    loss = -log_probs[true_idx]\n",
    "\n",
    "    return loss\n",
    "  \n",
    "  @eqx.filter_jit\n",
    "  def make_step(model, X, A, edges, true_idx, opt_state):\n",
    "    loss, grads = compute_loss(model, X = X, A = A, edges = edges, true_idx = true_idx)\n",
    "    updates, opt_state = optim.update(grads, opt_state)\n",
    "    model = eqx.apply_updates(model, updates)\n",
    "    return loss, model, opt_state\n",
    "  \n",
    "  optim = optax.adam(learning_rate=learning_rate)\n",
    "  opt_state = optim.init(model)\n",
    "\n",
    "  for step in range(steps):\n",
    "    loss, model, opt_state = make_step(model=model, X=X, A = A, opt_state = opt_state, true_idx=true_idx, edges=edges)\n",
    "\n",
    "    loss = loss.item()\n",
    "    print(f\"step={step}, loss={loss}\")\n",
    "\n"
   ]
  },
  {
   "cell_type": "code",
   "execution_count": 167,
   "id": "c1ff6dc1",
   "metadata": {},
   "outputs": [
    {
     "ename": "TypeError",
     "evalue": "zeros_like requires ndarray or scalar arguments, got <class 'jax._src.custom_derivatives.custom_jvp'> at position 0.",
     "output_type": "error",
     "traceback": [
      "\u001b[31m---------------------------------------------------------------------------\u001b[39m",
      "\u001b[31mTypeError\u001b[39m                                 Traceback (most recent call last)",
      "\u001b[36mCell\u001b[39m\u001b[36m \u001b[39m\u001b[32mIn[167]\u001b[39m\u001b[32m, line 1\u001b[39m\n\u001b[32m----> \u001b[39m\u001b[32m1\u001b[39m main(X = node_feats, A = A, hidden_dim=\u001b[32m8\u001b[39m, edges = edges, num_layers=\u001b[32m3\u001b[39m, key = key, true_idx=\u001b[32m0\u001b[39m, steps=\u001b[32m10000\u001b[39m)\n",
      "\u001b[36mCell\u001b[39m\u001b[36m \u001b[39m\u001b[32mIn[166]\u001b[39m\u001b[32m, line 35\u001b[39m, in \u001b[36mmain\u001b[39m\u001b[34m(X, A, edges, true_idx, hidden_dim, num_layers, key, learning_rate, steps)\u001b[39m\n\u001b[32m     32\u001b[39m   \u001b[38;5;28;01mreturn\u001b[39;00m loss, model, opt_state\n\u001b[32m     34\u001b[39m optim = optax.adam(learning_rate=learning_rate)\n\u001b[32m---> \u001b[39m\u001b[32m35\u001b[39m opt_state = optim.init(model)\n\u001b[32m     37\u001b[39m \u001b[38;5;28;01mfor\u001b[39;00m step \u001b[38;5;129;01min\u001b[39;00m \u001b[38;5;28mrange\u001b[39m(steps):\n\u001b[32m     38\u001b[39m   loss, model, opt_state = make_step(model=model, X=X, A = A, opt_state = opt_state, true_idx=true_idx, edges=edges)\n",
      "\u001b[36mFile \u001b[39m\u001b[32m~/anaconda3/envs/arg-gnn/lib/python3.11/site-packages/optax/transforms/_combining.py:78\u001b[39m, in \u001b[36mchain.<locals>.init_fn\u001b[39m\u001b[34m(params)\u001b[39m\n\u001b[32m     77\u001b[39m \u001b[38;5;28;01mdef\u001b[39;00m\u001b[38;5;250m \u001b[39m\u001b[34minit_fn\u001b[39m(params):\n\u001b[32m---> \u001b[39m\u001b[32m78\u001b[39m   \u001b[38;5;28;01mreturn\u001b[39;00m \u001b[38;5;28mtuple\u001b[39m(fn(params) \u001b[38;5;28;01mfor\u001b[39;00m fn \u001b[38;5;129;01min\u001b[39;00m init_fns)\n",
      "\u001b[36mFile \u001b[39m\u001b[32m~/anaconda3/envs/arg-gnn/lib/python3.11/site-packages/optax/transforms/_combining.py:78\u001b[39m, in \u001b[36m<genexpr>\u001b[39m\u001b[34m(.0)\u001b[39m\n\u001b[32m     77\u001b[39m \u001b[38;5;28;01mdef\u001b[39;00m\u001b[38;5;250m \u001b[39m\u001b[34minit_fn\u001b[39m(params):\n\u001b[32m---> \u001b[39m\u001b[32m78\u001b[39m   \u001b[38;5;28;01mreturn\u001b[39;00m \u001b[38;5;28mtuple\u001b[39m(fn(params) \u001b[38;5;28;01mfor\u001b[39;00m fn \u001b[38;5;129;01min\u001b[39;00m init_fns)\n",
      "\u001b[36mFile \u001b[39m\u001b[32m~/anaconda3/envs/arg-gnn/lib/python3.11/site-packages/optax/_src/transform.py:277\u001b[39m, in \u001b[36mscale_by_adam.<locals>.init_fn\u001b[39m\u001b[34m(params)\u001b[39m\n\u001b[32m    276\u001b[39m \u001b[38;5;28;01mdef\u001b[39;00m\u001b[38;5;250m \u001b[39m\u001b[34minit_fn\u001b[39m(params):\n\u001b[32m--> \u001b[39m\u001b[32m277\u001b[39m   mu = optax.tree.zeros_like(params, dtype=mu_dtype)  \u001b[38;5;66;03m# First moment\u001b[39;00m\n\u001b[32m    278\u001b[39m   nu = optax.tree.zeros_like(params)  \u001b[38;5;66;03m# Second moment\u001b[39;00m\n\u001b[32m    279\u001b[39m   \u001b[38;5;28;01mreturn\u001b[39;00m ScaleByAdamState(count=jnp.zeros([], jnp.int32), mu=mu, nu=nu)\n",
      "\u001b[36mFile \u001b[39m\u001b[32m~/anaconda3/envs/arg-gnn/lib/python3.11/site-packages/optax/tree_utils/_tree_math.py:271\u001b[39m, in \u001b[36mtree_zeros_like\u001b[39m\u001b[34m(tree, dtype)\u001b[39m\n\u001b[32m    258\u001b[39m \u001b[38;5;28;01mdef\u001b[39;00m\u001b[38;5;250m \u001b[39m\u001b[34mtree_zeros_like\u001b[39m(\n\u001b[32m    259\u001b[39m     tree: Any,\n\u001b[32m    260\u001b[39m     dtype: Optional[jax.typing.DTypeLike] = \u001b[38;5;28;01mNone\u001b[39;00m,\n\u001b[32m    261\u001b[39m ) -> Any:\n\u001b[32m    262\u001b[39m \u001b[38;5;250m  \u001b[39m\u001b[33;03m\"\"\"Creates an all-zeros tree with the same structure.\u001b[39;00m\n\u001b[32m    263\u001b[39m \n\u001b[32m    264\u001b[39m \u001b[33;03m  Args:\u001b[39;00m\n\u001b[32m   (...)\u001b[39m\u001b[32m    269\u001b[39m \u001b[33;03m    an all-zeros tree with the same structure as ``tree``.\u001b[39;00m\n\u001b[32m    270\u001b[39m \u001b[33;03m  \"\"\"\u001b[39;00m\n\u001b[32m--> \u001b[39m\u001b[32m271\u001b[39m   \u001b[38;5;28;01mreturn\u001b[39;00m jax.tree.map(\u001b[38;5;28;01mlambda\u001b[39;00m x: jnp.zeros_like(x, dtype=dtype), tree)\n",
      "\u001b[36mFile \u001b[39m\u001b[32m~/anaconda3/envs/arg-gnn/lib/python3.11/site-packages/jax/_src/tree.py:155\u001b[39m, in \u001b[36mmap\u001b[39m\u001b[34m(f, tree, is_leaf, *rest)\u001b[39m\n\u001b[32m    115\u001b[39m \u001b[38;5;28;01mdef\u001b[39;00m\u001b[38;5;250m \u001b[39m\u001b[34mmap\u001b[39m(f: Callable[..., Any],\n\u001b[32m    116\u001b[39m         tree: Any,\n\u001b[32m    117\u001b[39m         *rest: Any,\n\u001b[32m    118\u001b[39m         is_leaf: Callable[[Any], \u001b[38;5;28mbool\u001b[39m] | \u001b[38;5;28;01mNone\u001b[39;00m = \u001b[38;5;28;01mNone\u001b[39;00m) -> Any:\n\u001b[32m    119\u001b[39m \u001b[38;5;250m  \u001b[39m\u001b[33;03m\"\"\"Maps a multi-input function over pytree args to produce a new pytree.\u001b[39;00m\n\u001b[32m    120\u001b[39m \n\u001b[32m    121\u001b[39m \u001b[33;03m  Args:\u001b[39;00m\n\u001b[32m   (...)\u001b[39m\u001b[32m    153\u001b[39m \u001b[33;03m    - :func:`jax.tree.reduce`\u001b[39;00m\n\u001b[32m    154\u001b[39m \u001b[33;03m  \"\"\"\u001b[39;00m\n\u001b[32m--> \u001b[39m\u001b[32m155\u001b[39m   \u001b[38;5;28;01mreturn\u001b[39;00m tree_util.tree_map(f, tree, *rest, is_leaf=is_leaf)\n",
      "\u001b[36mFile \u001b[39m\u001b[32m~/anaconda3/envs/arg-gnn/lib/python3.11/site-packages/jax/_src/tree_util.py:361\u001b[39m, in \u001b[36mtree_map\u001b[39m\u001b[34m(f, tree, is_leaf, *rest)\u001b[39m\n\u001b[32m    359\u001b[39m leaves, treedef = tree_flatten(tree, is_leaf)\n\u001b[32m    360\u001b[39m all_leaves = [leaves] + [treedef.flatten_up_to(r) \u001b[38;5;28;01mfor\u001b[39;00m r \u001b[38;5;129;01min\u001b[39;00m rest]\n\u001b[32m--> \u001b[39m\u001b[32m361\u001b[39m \u001b[38;5;28;01mreturn\u001b[39;00m treedef.unflatten(f(*xs) \u001b[38;5;28;01mfor\u001b[39;00m xs \u001b[38;5;129;01min\u001b[39;00m \u001b[38;5;28mzip\u001b[39m(*all_leaves))\n",
      "\u001b[36mFile \u001b[39m\u001b[32m~/anaconda3/envs/arg-gnn/lib/python3.11/site-packages/jax/_src/tree_util.py:361\u001b[39m, in \u001b[36m<genexpr>\u001b[39m\u001b[34m(.0)\u001b[39m\n\u001b[32m    359\u001b[39m leaves, treedef = tree_flatten(tree, is_leaf)\n\u001b[32m    360\u001b[39m all_leaves = [leaves] + [treedef.flatten_up_to(r) \u001b[38;5;28;01mfor\u001b[39;00m r \u001b[38;5;129;01min\u001b[39;00m rest]\n\u001b[32m--> \u001b[39m\u001b[32m361\u001b[39m \u001b[38;5;28;01mreturn\u001b[39;00m treedef.unflatten(f(*xs) \u001b[38;5;28;01mfor\u001b[39;00m xs \u001b[38;5;129;01min\u001b[39;00m \u001b[38;5;28mzip\u001b[39m(*all_leaves))\n",
      "\u001b[36mFile \u001b[39m\u001b[32m~/anaconda3/envs/arg-gnn/lib/python3.11/site-packages/optax/tree_utils/_tree_math.py:271\u001b[39m, in \u001b[36mtree_zeros_like.<locals>.<lambda>\u001b[39m\u001b[34m(x)\u001b[39m\n\u001b[32m    258\u001b[39m \u001b[38;5;28;01mdef\u001b[39;00m\u001b[38;5;250m \u001b[39m\u001b[34mtree_zeros_like\u001b[39m(\n\u001b[32m    259\u001b[39m     tree: Any,\n\u001b[32m    260\u001b[39m     dtype: Optional[jax.typing.DTypeLike] = \u001b[38;5;28;01mNone\u001b[39;00m,\n\u001b[32m    261\u001b[39m ) -> Any:\n\u001b[32m    262\u001b[39m \u001b[38;5;250m  \u001b[39m\u001b[33;03m\"\"\"Creates an all-zeros tree with the same structure.\u001b[39;00m\n\u001b[32m    263\u001b[39m \n\u001b[32m    264\u001b[39m \u001b[33;03m  Args:\u001b[39;00m\n\u001b[32m   (...)\u001b[39m\u001b[32m    269\u001b[39m \u001b[33;03m    an all-zeros tree with the same structure as ``tree``.\u001b[39;00m\n\u001b[32m    270\u001b[39m \u001b[33;03m  \"\"\"\u001b[39;00m\n\u001b[32m--> \u001b[39m\u001b[32m271\u001b[39m   \u001b[38;5;28;01mreturn\u001b[39;00m jax.tree.map(\u001b[38;5;28;01mlambda\u001b[39;00m x: jnp.zeros_like(x, dtype=dtype), tree)\n",
      "\u001b[36mFile \u001b[39m\u001b[32m~/anaconda3/envs/arg-gnn/lib/python3.11/site-packages/jax/_src/numpy/array_creation.py:286\u001b[39m, in \u001b[36mzeros_like\u001b[39m\u001b[34m(a, dtype, shape, device)\u001b[39m\n\u001b[32m    284\u001b[39m   \u001b[38;5;28;01mif\u001b[39;00m \u001b[38;5;28mhasattr\u001b[39m(a, \u001b[33m'\u001b[39m\u001b[33m__jax_array__\u001b[39m\u001b[33m'\u001b[39m):\n\u001b[32m    285\u001b[39m     a = a.__jax_array__()\n\u001b[32m--> \u001b[39m\u001b[32m286\u001b[39m   util.check_arraylike(\u001b[33m\"\u001b[39m\u001b[33mzeros_like\u001b[39m\u001b[33m\"\u001b[39m, a)\n\u001b[32m    287\u001b[39m dtypes.check_user_dtype_supported(dtype, \u001b[33m\"\u001b[39m\u001b[33mzeros_like\u001b[39m\u001b[33m\"\u001b[39m)\n\u001b[32m    288\u001b[39m \u001b[38;5;28;01mif\u001b[39;00m shape \u001b[38;5;129;01mis\u001b[39;00m \u001b[38;5;129;01mnot\u001b[39;00m \u001b[38;5;28;01mNone\u001b[39;00m:\n",
      "\u001b[36mFile \u001b[39m\u001b[32m~/anaconda3/envs/arg-gnn/lib/python3.11/site-packages/jax/_src/numpy/util.py:182\u001b[39m, in \u001b[36mcheck_arraylike\u001b[39m\u001b[34m(fun_name, emit_warning, stacklevel, *args)\u001b[39m\n\u001b[32m    179\u001b[39m   warnings.warn(msg + \u001b[33m\"\u001b[39m\u001b[33m In a future JAX release this will be an error.\u001b[39m\u001b[33m\"\u001b[39m,\n\u001b[32m    180\u001b[39m                 category=\u001b[38;5;167;01mDeprecationWarning\u001b[39;00m, stacklevel=stacklevel)\n\u001b[32m    181\u001b[39m \u001b[38;5;28;01melse\u001b[39;00m:\n\u001b[32m--> \u001b[39m\u001b[32m182\u001b[39m   \u001b[38;5;28;01mraise\u001b[39;00m \u001b[38;5;167;01mTypeError\u001b[39;00m(msg.format(fun_name, \u001b[38;5;28mtype\u001b[39m(arg), pos))\n",
      "\u001b[31mTypeError\u001b[39m: zeros_like requires ndarray or scalar arguments, got <class 'jax._src.custom_derivatives.custom_jvp'> at position 0."
     ]
    }
   ],
   "source": [
    "main(X = node_feats, A = A, hidden_dim=8, edges = edges, num_layers=3, key = key, true_idx=0, steps=10000)"
   ]
  }
 ],
 "metadata": {
  "kernelspec": {
   "display_name": "arg-gnn",
   "language": "python",
   "name": "python3"
  },
  "language_info": {
   "codemirror_mode": {
    "name": "ipython",
    "version": 3
   },
   "file_extension": ".py",
   "mimetype": "text/x-python",
   "name": "python",
   "nbconvert_exporter": "python",
   "pygments_lexer": "ipython3",
   "version": "3.11.11"
  }
 },
 "nbformat": 4,
 "nbformat_minor": 5
}
