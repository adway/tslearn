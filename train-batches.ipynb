{
 "cells": [
  {
   "cell_type": "markdown",
   "id": "88fc7958",
   "metadata": {},
   "source": [
    "# Training with Data Augmentation (Batches)"
   ]
  },
  {
   "cell_type": "code",
   "execution_count": 40,
   "id": "c8fb5779",
   "metadata": {},
   "outputs": [],
   "source": [
    "import msprime\n",
    "from IPython.display import SVG, display\n",
    "import networkx as nx\n",
    "import jax\n",
    "import jax.numpy as nmp\n",
    "from jax.nn import log_softmax\n",
    "import equinox as eqx\n",
    "import itertools as it\n",
    "import optax\n",
    "import tskit\n",
    "import numpy as np\n",
    "from collections import defaultdict\n",
    "import bisect"
   ]
  },
  {
   "cell_type": "code",
   "execution_count": 41,
   "id": "b35ebbb0",
   "metadata": {},
   "outputs": [],
   "source": [
    "num_ts = 100\n",
    "key = jax.random.PRNGKey(0)"
   ]
  },
  {
   "cell_type": "code",
   "execution_count": 42,
   "id": "d02de749",
   "metadata": {},
   "outputs": [],
   "source": [
    "ts = msprime.sim_ancestry(\n",
    "        samples=4,\n",
    "        recombination_rate=1e-8,\n",
    "        sequence_length=20_000,\n",
    "        population_size=8_000)\n",
    "mts = msprime.sim_mutations(ts, rate = 1e-8)\n",
    "sparse_genotype = mts.genotype_matrix().T\n",
    "breakpoints = list(mts.breakpoints())\n",
    "mutation_sites = [site.position for site in mts.sites()]"
   ]
  },
  {
   "cell_type": "code",
   "execution_count": 43,
   "id": "f52f6f6e",
   "metadata": {},
   "outputs": [
    {
     "data": {
      "image/svg+xml": [
       "<svg xmlns=\"http://www.w3.org/2000/svg\" xmlns:ev=\"http://www.w3.org/2001/xml-events\" xmlns:xlink=\"http://www.w3.org/1999/xlink\" baseProfile=\"full\" height=\"200\" version=\"1.1\" width=\"2000\"><defs><style type=\"text/css\"><![CDATA[.background path {fill: #808080; fill-opacity: 0}.background path:nth-child(odd) {fill-opacity: .1}.x-regions rect {fill: yellow; stroke: black; opacity: 0.5}.axes {font-size: 14px}.x-axis .tick .lab {font-weight: bold; dominant-baseline: hanging}.axes, .tree {font-size: 14px; text-anchor: middle}.axes line, .edge {stroke: black; fill: none}.axes .ax-skip {stroke-dasharray: 4}.y-axis .grid {stroke: #FAFAFA}.node > .sym {fill: black; stroke: none}.site > .sym {stroke: black}.mut text {fill: red; font-style: italic}.mut.extra text {fill: hotpink}.mut line {fill: none; stroke: none}.mut .sym {fill: none; stroke: red}.mut.extra .sym {stroke: hotpink}.node .mut .sym {stroke-width: 1.5px}.tree text, .tree-sequence text {dominant-baseline: central}.plotbox .lab.lft {text-anchor: end}.plotbox .lab.rgt {text-anchor: start}.polytomy line {stroke: black; stroke-dasharray: 1px, 1px}.polytomy text {paint-order:stroke;stroke-width:0.3em;stroke:white}]]></style></defs><g class=\"tree-sequence\"><g class=\"background\"><path d=\"M20,0 l196,0 l0,138.2 l184.044,25 l0,5 l-380.044,0 l0,-5 l0,-25 l0,-138.2z\"/><path d=\"M216,0 l196,0 l0,138.2 l447.762,25 l0,5 l-459.718,0 l0,-5 l-184.044,-25 l0,-138.2z\"/><path d=\"M412,0 l196,0 l0,138.2 l339.962,25 l0,5 l-88.2,0 l0,-5 l-447.762,-25 l0,-138.2z\"/><path d=\"M608,0 l196,0 l0,138.2 l369.068,25 l0,5 l-225.106,0 l0,-5 l-339.962,-25 l0,-138.2z\"/><path d=\"M804,0 l196,0 l0,138.2 l200.508,25 l0,5 l-27.44,0 l0,-5 l-369.07,-25 l0,-138.2z\"/><path d=\"M1000,0 l196,0 l0,138.2 l180.614,25 l0,5 l-176.106,0 l0,-5 l-200.51,-25 l0,-138.2z\"/><path d=\"M1196,0 l196,0 l0,138.2 l151.998,25 l0,5 l-167.384,0 l0,-5 l-180.61,-25 l0,-138.2z\"/><path d=\"M1392,0 l196,0 l0,138.2 l-3.332,25 l0,5 l-40.67,0 l0,-5 l-152,-25 l0,-138.2z\"/><path d=\"M1588,0 l196,0 l0,138.2 l-10.29,25 l0,5 l-189.042,0 l0,-5 l3.33,-25 l0,-138.2z\"/><path d=\"M1784,0 l196,0 l0,138.2 l0,25 l0,5 l-206.29,0 l0,-5 l10.29,-25 l0,-138.2z\"/></g><g class=\"axes\"><g class=\"x-axis\"><g class=\"title\" transform=\"translate(1000 200)\"><text class=\"lab\" text-anchor=\"middle\" transform=\"translate(0 -11)\">Genome position</text></g><line class=\"ax-line\" x1=\"20\" x2=\"1980\" y1=\"163.2\" y2=\"163.2\"/><g class=\"ticks\"><g class=\"tick\" transform=\"translate(20 163.2)\"><line x1=\"0\" x2=\"0\" y1=\"0\" y2=\"5\"/><g transform=\"translate(0 6)\"><text class=\"lab\">0</text></g></g><g class=\"tick\" transform=\"translate(400.044 163.2)\"><line x1=\"0\" x2=\"0\" y1=\"0\" y2=\"5\"/><g transform=\"translate(0 6)\"><text class=\"lab\">3878</text></g></g><g class=\"tick\" transform=\"translate(859.762 163.2)\"><line x1=\"0\" x2=\"0\" y1=\"0\" y2=\"5\"/><g transform=\"translate(0 6)\"><text class=\"lab\">8569</text></g></g><g class=\"tick\" transform=\"translate(947.962 163.2)\"><line x1=\"0\" x2=\"0\" y1=\"0\" y2=\"5\"/><g transform=\"translate(0 6)\"><text class=\"lab\">9469</text></g></g><g class=\"tick\" transform=\"translate(1173.07 163.2)\"><line x1=\"0\" x2=\"0\" y1=\"0\" y2=\"5\"/><g transform=\"translate(0 6)\"><text class=\"lab\">11766</text></g></g><g class=\"tick\" transform=\"translate(1200.51 163.2)\"><line x1=\"0\" x2=\"0\" y1=\"0\" y2=\"5\"/><g transform=\"translate(0 6)\"><text class=\"lab\">12046</text></g></g><g class=\"tick\" transform=\"translate(1376.61 163.2)\"><line x1=\"0\" x2=\"0\" y1=\"0\" y2=\"5\"/><g transform=\"translate(0 6)\"><text class=\"lab\">13843</text></g></g><g class=\"tick\" transform=\"translate(1544 163.2)\"><line x1=\"0\" x2=\"0\" y1=\"0\" y2=\"5\"/><g transform=\"translate(0 6)\"><text class=\"lab\">15551</text></g></g><g class=\"tick\" transform=\"translate(1584.67 163.2)\"><line x1=\"0\" x2=\"0\" y1=\"0\" y2=\"5\"/><g transform=\"translate(0 6)\"><text class=\"lab\">15966</text></g></g><g class=\"tick\" transform=\"translate(1773.71 163.2)\"><line x1=\"0\" x2=\"0\" y1=\"0\" y2=\"5\"/><g transform=\"translate(0 6)\"><text class=\"lab\">17895</text></g></g><g class=\"tick\" transform=\"translate(1980 163.2)\"><line x1=\"0\" x2=\"0\" y1=\"0\" y2=\"5\"/><g transform=\"translate(0 6)\"><text class=\"lab\">20000</text></g></g></g><g class=\"site s0\" transform=\"translate(64.982 163.2)\"><line class=\"sym\" x1=\"0\" x2=\"0\" y1=\"0\" y2=\"-10\"/><g class=\"mut m0\"><polyline class=\"sym\" points=\"2.5,-6.5 0,-1.5 -2.5,-6.5\"/></g></g><g class=\"site s1\" transform=\"translate(683.656 163.2)\"><line class=\"sym\" x1=\"0\" x2=\"0\" y1=\"0\" y2=\"-10\"/><g class=\"mut m1\"><polyline class=\"sym\" points=\"2.5,-6.5 0,-1.5 -2.5,-6.5\"/></g></g><g class=\"site s2\" transform=\"translate(737.556 163.2)\"><line class=\"sym\" x1=\"0\" x2=\"0\" y1=\"0\" y2=\"-10\"/><g class=\"mut m2\"><polyline class=\"sym\" points=\"2.5,-6.5 0,-1.5 -2.5,-6.5\"/></g></g><g class=\"site s3\" transform=\"translate(762.35 163.2)\"><line class=\"sym\" x1=\"0\" x2=\"0\" y1=\"0\" y2=\"-10\"/><g class=\"mut m3\"><polyline class=\"sym\" points=\"2.5,-6.5 0,-1.5 -2.5,-6.5\"/></g></g><g class=\"site s4\" transform=\"translate(1021.76 163.2)\"><line class=\"sym\" x1=\"0\" x2=\"0\" y1=\"0\" y2=\"-10\"/><g class=\"mut m4\"><polyline class=\"sym\" points=\"2.5,-6.5 0,-1.5 -2.5,-6.5\"/></g></g><g class=\"site s5\" transform=\"translate(1399.25 163.2)\"><line class=\"sym\" x1=\"0\" x2=\"0\" y1=\"0\" y2=\"-10\"/><g class=\"mut m5\"><polyline class=\"sym\" points=\"2.5,-6.5 0,-1.5 -2.5,-6.5\"/></g></g><g class=\"site s6\" transform=\"translate(1725.1 163.2)\"><line class=\"sym\" x1=\"0\" x2=\"0\" y1=\"0\" y2=\"-10\"/><g class=\"mut m6\"><polyline class=\"sym\" points=\"2.5,-6.5 0,-1.5 -2.5,-6.5\"/></g></g></g></g><g class=\"plotbox trees\"><g class=\"tree t0\" transform=\"translate(20 0)\"><g class=\"plotbox\"><g class=\"c2 node n19 p0 root\" transform=\"translate(143.398 69.3771)\"><g class=\"a19 i2 leaf m0 node n4 p0 s0 sample\" transform=\"translate(22.8516 52.0229)\"><path class=\"edge\" d=\"M 0 0 V -52.0229 H -22.8516\"/><g class=\"mut m0 s0\" transform=\"translate(0 -12.1614)\"><line x1=\"0\" x2=\"0\" y1=\"0\" y2=\"12.1614\"/><path class=\"sym\" d=\"M -3,-3 l 6,6 M -3,3 l 6,-6\"/><text class=\"lab rgt\" transform=\"translate(5 0)\">0</text></g><rect class=\"sym\" height=\"6\" width=\"6\" x=\"-3\" y=\"-3\"/><text class=\"lab\" transform=\"translate(0 11)\">4</text></g><g class=\"a19 c2 node n16 p0\" transform=\"translate(-22.8516 44.7199)\"><g class=\"a16 i1 leaf node n2 p0 sample\" transform=\"translate(26.2031 7.303)\"><path class=\"edge\" d=\"M 0 0 V -7.303 H -26.2031\"/><rect class=\"sym\" height=\"6\" width=\"6\" x=\"-3\" y=\"-3\"/><text class=\"lab\" transform=\"translate(0 11)\">2</text></g><g class=\"a16 c2 node n14 p0\" transform=\"translate(-26.2031 4.70012)\"><g class=\"a14 i3 leaf node n7 p0 sample\" transform=\"translate(32.9062 2.60289)\"><path class=\"edge\" d=\"M 0 0 V -2.60289 H -32.9062\"/><rect class=\"sym\" height=\"6\" width=\"6\" x=\"-3\" y=\"-3\"/><text class=\"lab\" transform=\"translate(0 11)\">7</text></g><g class=\"a14 c2 node n13 p0\" transform=\"translate(-32.9062 0.774591)\"><g class=\"a13 c2 node n10 p0\" transform=\"translate(21.9375 0.962653)\"><g class=\"a10 i0 leaf node n1 p0 sample\" transform=\"translate(-14.625 0.865643)\"><path class=\"edge\" d=\"M 0 0 V -0.865643 H 14.625\"/><rect class=\"sym\" height=\"6\" width=\"6\" x=\"-3\" y=\"-3\"/><text class=\"lab\" transform=\"translate(0 11)\">1</text></g><g class=\"a10 c2 node n8 p0\" transform=\"translate(14.625 0.831138)\"><g class=\"a8 i2 leaf node n5 p0 sample\" transform=\"translate(-9.75 0.034505)\"><path class=\"edge\" d=\"M 0 0 V -0.034505 H 9.75\"/><rect class=\"sym\" height=\"6\" width=\"6\" x=\"-3\" y=\"-3\"/><text class=\"lab\" transform=\"translate(0 11)\">5</text></g><g class=\"a8 i3 leaf node n6 p0 sample\" transform=\"translate(9.75 0.034505)\"><path class=\"edge\" d=\"M 0 0 V -0.034505 H -9.75\"/><rect class=\"sym\" height=\"6\" width=\"6\" x=\"-3\" y=\"-3\"/><text class=\"lab\" transform=\"translate(0 11)\">6</text></g><path class=\"edge\" d=\"M 0 0 V -0.831138 H -14.625\"/><circle class=\"sym\" cx=\"0\" cy=\"0\" r=\"3\"/><text class=\"lab rgt\" transform=\"translate(3 -7)\">8</text></g><path class=\"edge\" d=\"M 0 0 V -0.962653 H -21.9375\"/><circle class=\"sym\" cx=\"0\" cy=\"0\" r=\"3\"/><text class=\"lab rgt\" transform=\"translate(3 -7)\">10</text></g><g class=\"a13 c2 node n11 p0\" transform=\"translate(-21.9375 0.789675)\"><g class=\"a11 i0 leaf node n0 p0 sample\" transform=\"translate(-9.75 1.03862)\"><path class=\"edge\" d=\"M 0 0 V -1.03862 H 9.75\"/><rect class=\"sym\" height=\"6\" width=\"6\" x=\"-3\" y=\"-3\"/><text class=\"lab\" transform=\"translate(0 11)\">0</text></g><g class=\"a11 i1 leaf node n3 p0 sample\" transform=\"translate(9.75 1.03862)\"><path class=\"edge\" d=\"M 0 0 V -1.03862 H -9.75\"/><rect class=\"sym\" height=\"6\" width=\"6\" x=\"-3\" y=\"-3\"/><text class=\"lab\" transform=\"translate(0 11)\">3</text></g><path class=\"edge\" d=\"M 0 0 V -0.789675 H 21.9375\"/><circle class=\"sym\" cx=\"0\" cy=\"0\" r=\"3\"/><text class=\"lab lft\" transform=\"translate(-3 -7)\">11</text></g><path class=\"edge\" d=\"M 0 0 V -0.774591 H 32.9062\"/><circle class=\"sym\" cx=\"0\" cy=\"0\" r=\"3\"/><text class=\"lab lft\" transform=\"translate(-3 -7)\">13</text></g><path class=\"edge\" d=\"M 0 0 V -4.70012 H 26.2031\"/><circle class=\"sym\" cx=\"0\" cy=\"0\" r=\"3\"/><text class=\"lab lft\" transform=\"translate(-3 -7)\">14</text></g><path class=\"edge\" d=\"M 0 0 V -44.7199 H 22.8516\"/><circle class=\"sym\" cx=\"0\" cy=\"0\" r=\"3\"/><text class=\"lab lft\" transform=\"translate(-3 -7)\">16</text></g><circle class=\"sym\" cx=\"0\" cy=\"0\" r=\"3\"/><text class=\"lab\" transform=\"translate(0 -11)\">19</text></g></g></g><g class=\"tree t1\" transform=\"translate(216 0)\"><g class=\"plotbox\"><g class=\"c2 node n19 p0 root\" transform=\"translate(139.438 69.3771)\"><g class=\"a19 i2 leaf m2 m3 node n4 p0 s2 s3 sample\" transform=\"translate(26.8125 52.0229)\"><path class=\"edge\" d=\"M 0 0 V -52.0229 H -26.8125\"/><g class=\"mut m2 s2\" transform=\"translate(0 -42.9859)\"><line x1=\"0\" x2=\"0\" y1=\"0\" y2=\"42.9859\"/><path class=\"sym\" d=\"M -3,-3 l 6,6 M -3,3 l 6,-6\"/><text class=\"lab rgt\" transform=\"translate(5 0)\">2</text></g><g class=\"mut m3 s3\" transform=\"translate(0 -20.6648)\"><line x1=\"0\" x2=\"0\" y1=\"0\" y2=\"20.6648\"/><path class=\"sym\" d=\"M -3,-3 l 6,6 M -3,3 l 6,-6\"/><text class=\"lab rgt\" transform=\"translate(5 0)\">3</text></g><rect class=\"sym\" height=\"6\" width=\"6\" x=\"-3\" y=\"-3\"/><text class=\"lab\" transform=\"translate(0 11)\">4</text></g><g class=\"a19 c2 m1 node n16 p0 s1\" transform=\"translate(-26.8125 44.7199)\"><g class=\"a16 i1 leaf node n2 p0 sample\" transform=\"translate(34.125 7.303)\"><path class=\"edge\" d=\"M 0 0 V -7.303 H -34.125\"/><rect class=\"sym\" height=\"6\" width=\"6\" x=\"-3\" y=\"-3\"/><text class=\"lab\" transform=\"translate(0 11)\">2</text></g><g class=\"a16 c2 node n13 p0\" transform=\"translate(-34.125 5.47471)\"><g class=\"a13 c2 node n10 p0\" transform=\"translate(24.375 0.962653)\"><g class=\"a10 i0 leaf node n1 p0 sample\" transform=\"translate(-14.625 0.865643)\"><path class=\"edge\" d=\"M 0 0 V -0.865643 H 14.625\"/><rect class=\"sym\" height=\"6\" width=\"6\" x=\"-3\" y=\"-3\"/><text class=\"lab\" transform=\"translate(0 11)\">1</text></g><g class=\"a10 c2 node n8 p0\" transform=\"translate(14.625 0.831138)\"><g class=\"a8 i2 leaf node n5 p0 sample\" transform=\"translate(-9.75 0.034505)\"><path class=\"edge\" d=\"M 0 0 V -0.034505 H 9.75\"/><rect class=\"sym\" height=\"6\" width=\"6\" x=\"-3\" y=\"-3\"/><text class=\"lab\" transform=\"translate(0 11)\">5</text></g><g class=\"a8 i3 leaf node n6 p0 sample\" transform=\"translate(9.75 0.034505)\"><path class=\"edge\" d=\"M 0 0 V -0.034505 H -9.75\"/><rect class=\"sym\" height=\"6\" width=\"6\" x=\"-3\" y=\"-3\"/><text class=\"lab\" transform=\"translate(0 11)\">6</text></g><path class=\"edge\" d=\"M 0 0 V -0.831138 H -14.625\"/><circle class=\"sym\" cx=\"0\" cy=\"0\" r=\"3\"/><text class=\"lab rgt\" transform=\"translate(3 -7)\">8</text></g><path class=\"edge\" d=\"M 0 0 V -0.962653 H -24.375\"/><circle class=\"sym\" cx=\"0\" cy=\"0\" r=\"3\"/><text class=\"lab rgt\" transform=\"translate(3 -7)\">10</text></g><g class=\"a13 c2 node n12 p0\" transform=\"translate(-24.375 0.275062)\"><g class=\"a12 i3 leaf node n7 p0 sample\" transform=\"translate(14.625 1.55323)\"><path class=\"edge\" d=\"M 0 0 V -1.55323 H -14.625\"/><rect class=\"sym\" height=\"6\" width=\"6\" x=\"-3\" y=\"-3\"/><text class=\"lab\" transform=\"translate(0 11)\">7</text></g><g class=\"a12 c2 node n11 p0\" transform=\"translate(-14.625 0.514613)\"><g class=\"a11 i0 leaf node n0 p0 sample\" transform=\"translate(-9.75 1.03862)\"><path class=\"edge\" d=\"M 0 0 V -1.03862 H 9.75\"/><rect class=\"sym\" height=\"6\" width=\"6\" x=\"-3\" y=\"-3\"/><text class=\"lab\" transform=\"translate(0 11)\">0</text></g><g class=\"a11 i1 leaf node n3 p0 sample\" transform=\"translate(9.75 1.03862)\"><path class=\"edge\" d=\"M 0 0 V -1.03862 H -9.75\"/><rect class=\"sym\" height=\"6\" width=\"6\" x=\"-3\" y=\"-3\"/><text class=\"lab\" transform=\"translate(0 11)\">3</text></g><path class=\"edge\" d=\"M 0 0 V -0.514613 H 14.625\"/><circle class=\"sym\" cx=\"0\" cy=\"0\" r=\"3\"/><text class=\"lab lft\" transform=\"translate(-3 -7)\">11</text></g><path class=\"edge\" d=\"M 0 0 V -0.275062 H 24.375\"/><circle class=\"sym\" cx=\"0\" cy=\"0\" r=\"3\"/><text class=\"lab lft\" transform=\"translate(-3 -7)\">12</text></g><path class=\"edge\" d=\"M 0 0 V -5.47471 H 34.125\"/><circle class=\"sym\" cx=\"0\" cy=\"0\" r=\"3\"/><text class=\"lab lft\" transform=\"translate(-3 -7)\">13</text></g><path class=\"edge\" d=\"M 0 0 V -44.7199 H 26.8125\"/><g class=\"mut m1 s1\" transform=\"translate(0 -28.0403)\"><line x1=\"0\" x2=\"0\" y1=\"0\" y2=\"28.0403\"/><path class=\"sym\" d=\"M -3,-3 l 6,6 M -3,3 l 6,-6\"/><text class=\"lab lft\" transform=\"translate(-5 0)\">1</text></g><circle class=\"sym\" cx=\"0\" cy=\"0\" r=\"3\"/><text class=\"lab lft\" transform=\"translate(-3 -7)\">16</text></g><circle class=\"sym\" cx=\"0\" cy=\"0\" r=\"3\"/><text class=\"lab\" transform=\"translate(0 -11)\">19</text></g></g></g><g class=\"tree t2\" transform=\"translate(412 0)\"><g class=\"plotbox\"><g class=\"c2 node n19 p0 root\" transform=\"translate(139.438 69.3771)\"><g class=\"a19 i1 leaf node n2 p0 sample\" transform=\"translate(26.8125 52.0229)\"><path class=\"edge\" d=\"M 0 0 V -52.0229 H -26.8125\"/><rect class=\"sym\" height=\"6\" width=\"6\" x=\"-3\" y=\"-3\"/><text class=\"lab\" transform=\"translate(0 11)\">2</text></g><g class=\"a19 c2 node n18 p0\" transform=\"translate(-26.8125 24.1279)\"><g class=\"a18 i2 leaf node n4 p0 sample\" transform=\"translate(34.125 27.895)\"><path class=\"edge\" d=\"M 0 0 V -27.895 H -34.125\"/><rect class=\"sym\" height=\"6\" width=\"6\" x=\"-3\" y=\"-3\"/><text class=\"lab\" transform=\"translate(0 11)\">4</text></g><g class=\"a18 c2 node n13 p0\" transform=\"translate(-34.125 26.0667)\"><g class=\"a13 c2 node n10 p0\" transform=\"translate(24.375 0.962653)\"><g class=\"a10 i0 leaf node n1 p0 sample\" transform=\"translate(-14.625 0.865643)\"><path class=\"edge\" d=\"M 0 0 V -0.865643 H 14.625\"/><rect class=\"sym\" height=\"6\" width=\"6\" x=\"-3\" y=\"-3\"/><text class=\"lab\" transform=\"translate(0 11)\">1</text></g><g class=\"a10 c2 node n8 p0\" transform=\"translate(14.625 0.831138)\"><g class=\"a8 i2 leaf node n5 p0 sample\" transform=\"translate(-9.75 0.034505)\"><path class=\"edge\" d=\"M 0 0 V -0.034505 H 9.75\"/><rect class=\"sym\" height=\"6\" width=\"6\" x=\"-3\" y=\"-3\"/><text class=\"lab\" transform=\"translate(0 11)\">5</text></g><g class=\"a8 i3 leaf node n6 p0 sample\" transform=\"translate(9.75 0.034505)\"><path class=\"edge\" d=\"M 0 0 V -0.034505 H -9.75\"/><rect class=\"sym\" height=\"6\" width=\"6\" x=\"-3\" y=\"-3\"/><text class=\"lab\" transform=\"translate(0 11)\">6</text></g><path class=\"edge\" d=\"M 0 0 V -0.831138 H -14.625\"/><circle class=\"sym\" cx=\"0\" cy=\"0\" r=\"3\"/><text class=\"lab rgt\" transform=\"translate(3 -7)\">8</text></g><path class=\"edge\" d=\"M 0 0 V -0.962653 H -24.375\"/><circle class=\"sym\" cx=\"0\" cy=\"0\" r=\"3\"/><text class=\"lab rgt\" transform=\"translate(3 -7)\">10</text></g><g class=\"a13 c2 node n12 p0\" transform=\"translate(-24.375 0.275062)\"><g class=\"a12 i3 leaf node n7 p0 sample\" transform=\"translate(14.625 1.55323)\"><path class=\"edge\" d=\"M 0 0 V -1.55323 H -14.625\"/><rect class=\"sym\" height=\"6\" width=\"6\" x=\"-3\" y=\"-3\"/><text class=\"lab\" transform=\"translate(0 11)\">7</text></g><g class=\"a12 c2 node n11 p0\" transform=\"translate(-14.625 0.514613)\"><g class=\"a11 i0 leaf node n0 p0 sample\" transform=\"translate(-9.75 1.03862)\"><path class=\"edge\" d=\"M 0 0 V -1.03862 H 9.75\"/><rect class=\"sym\" height=\"6\" width=\"6\" x=\"-3\" y=\"-3\"/><text class=\"lab\" transform=\"translate(0 11)\">0</text></g><g class=\"a11 i1 leaf node n3 p0 sample\" transform=\"translate(9.75 1.03862)\"><path class=\"edge\" d=\"M 0 0 V -1.03862 H -9.75\"/><rect class=\"sym\" height=\"6\" width=\"6\" x=\"-3\" y=\"-3\"/><text class=\"lab\" transform=\"translate(0 11)\">3</text></g><path class=\"edge\" d=\"M 0 0 V -0.514613 H 14.625\"/><circle class=\"sym\" cx=\"0\" cy=\"0\" r=\"3\"/><text class=\"lab lft\" transform=\"translate(-3 -7)\">11</text></g><path class=\"edge\" d=\"M 0 0 V -0.275062 H 24.375\"/><circle class=\"sym\" cx=\"0\" cy=\"0\" r=\"3\"/><text class=\"lab lft\" transform=\"translate(-3 -7)\">12</text></g><path class=\"edge\" d=\"M 0 0 V -26.0667 H 34.125\"/><circle class=\"sym\" cx=\"0\" cy=\"0\" r=\"3\"/><text class=\"lab lft\" transform=\"translate(-3 -7)\">13</text></g><path class=\"edge\" d=\"M 0 0 V -24.1279 H 26.8125\"/><circle class=\"sym\" cx=\"0\" cy=\"0\" r=\"3\"/><text class=\"lab lft\" transform=\"translate(-3 -7)\">18</text></g><circle class=\"sym\" cx=\"0\" cy=\"0\" r=\"3\"/><text class=\"lab\" transform=\"translate(0 -11)\">19</text></g></g></g><g class=\"tree t3\" transform=\"translate(608 0)\"><g class=\"plotbox\"><g class=\"c2 node n20 p0 root\" transform=\"translate(139.438 26.8)\"><g class=\"a20 i1 leaf node n2 p0 sample\" transform=\"translate(26.8125 94.6)\"><path class=\"edge\" d=\"M 0 0 V -94.6 H -26.8125\"/><rect class=\"sym\" height=\"6\" width=\"6\" x=\"-3\" y=\"-3\"/><text class=\"lab\" transform=\"translate(0 11)\">2</text></g><g class=\"a20 c2 m4 node n18 p0 s4\" transform=\"translate(-26.8125 66.705)\"><g class=\"a18 i2 leaf node n4 p0 sample\" transform=\"translate(34.125 27.895)\"><path class=\"edge\" d=\"M 0 0 V -27.895 H -34.125\"/><rect class=\"sym\" height=\"6\" width=\"6\" x=\"-3\" y=\"-3\"/><text class=\"lab\" transform=\"translate(0 11)\">4</text></g><g class=\"a18 c2 node n13 p0\" transform=\"translate(-34.125 26.0667)\"><g class=\"a13 c2 node n10 p0\" transform=\"translate(24.375 0.962653)\"><g class=\"a10 i0 leaf node n1 p0 sample\" transform=\"translate(-14.625 0.865643)\"><path class=\"edge\" d=\"M 0 0 V -0.865643 H 14.625\"/><rect class=\"sym\" height=\"6\" width=\"6\" x=\"-3\" y=\"-3\"/><text class=\"lab\" transform=\"translate(0 11)\">1</text></g><g class=\"a10 c2 node n8 p0\" transform=\"translate(14.625 0.831138)\"><g class=\"a8 i2 leaf node n5 p0 sample\" transform=\"translate(-9.75 0.034505)\"><path class=\"edge\" d=\"M 0 0 V -0.034505 H 9.75\"/><rect class=\"sym\" height=\"6\" width=\"6\" x=\"-3\" y=\"-3\"/><text class=\"lab\" transform=\"translate(0 11)\">5</text></g><g class=\"a8 i3 leaf node n6 p0 sample\" transform=\"translate(9.75 0.034505)\"><path class=\"edge\" d=\"M 0 0 V -0.034505 H -9.75\"/><rect class=\"sym\" height=\"6\" width=\"6\" x=\"-3\" y=\"-3\"/><text class=\"lab\" transform=\"translate(0 11)\">6</text></g><path class=\"edge\" d=\"M 0 0 V -0.831138 H -14.625\"/><circle class=\"sym\" cx=\"0\" cy=\"0\" r=\"3\"/><text class=\"lab rgt\" transform=\"translate(3 -7)\">8</text></g><path class=\"edge\" d=\"M 0 0 V -0.962653 H -24.375\"/><circle class=\"sym\" cx=\"0\" cy=\"0\" r=\"3\"/><text class=\"lab rgt\" transform=\"translate(3 -7)\">10</text></g><g class=\"a13 c2 node n12 p0\" transform=\"translate(-24.375 0.275062)\"><g class=\"a12 i3 leaf node n7 p0 sample\" transform=\"translate(14.625 1.55323)\"><path class=\"edge\" d=\"M 0 0 V -1.55323 H -14.625\"/><rect class=\"sym\" height=\"6\" width=\"6\" x=\"-3\" y=\"-3\"/><text class=\"lab\" transform=\"translate(0 11)\">7</text></g><g class=\"a12 c2 node n11 p0\" transform=\"translate(-14.625 0.514613)\"><g class=\"a11 i0 leaf node n0 p0 sample\" transform=\"translate(-9.75 1.03862)\"><path class=\"edge\" d=\"M 0 0 V -1.03862 H 9.75\"/><rect class=\"sym\" height=\"6\" width=\"6\" x=\"-3\" y=\"-3\"/><text class=\"lab\" transform=\"translate(0 11)\">0</text></g><g class=\"a11 i1 leaf node n3 p0 sample\" transform=\"translate(9.75 1.03862)\"><path class=\"edge\" d=\"M 0 0 V -1.03862 H -9.75\"/><rect class=\"sym\" height=\"6\" width=\"6\" x=\"-3\" y=\"-3\"/><text class=\"lab\" transform=\"translate(0 11)\">3</text></g><path class=\"edge\" d=\"M 0 0 V -0.514613 H 14.625\"/><circle class=\"sym\" cx=\"0\" cy=\"0\" r=\"3\"/><text class=\"lab lft\" transform=\"translate(-3 -7)\">11</text></g><path class=\"edge\" d=\"M 0 0 V -0.275062 H 24.375\"/><circle class=\"sym\" cx=\"0\" cy=\"0\" r=\"3\"/><text class=\"lab lft\" transform=\"translate(-3 -7)\">12</text></g><path class=\"edge\" d=\"M 0 0 V -26.0667 H 34.125\"/><circle class=\"sym\" cx=\"0\" cy=\"0\" r=\"3\"/><text class=\"lab lft\" transform=\"translate(-3 -7)\">13</text></g><path class=\"edge\" d=\"M 0 0 V -66.705 H 26.8125\"/><g class=\"mut m4 s4\" transform=\"translate(0 -21.6399)\"><line x1=\"0\" x2=\"0\" y1=\"0\" y2=\"21.6399\"/><path class=\"sym\" d=\"M -3,-3 l 6,6 M -3,3 l 6,-6\"/><text class=\"lab lft\" transform=\"translate(-5 0)\">4</text></g><circle class=\"sym\" cx=\"0\" cy=\"0\" r=\"3\"/><text class=\"lab lft\" transform=\"translate(-3 -7)\">18</text></g><circle class=\"sym\" cx=\"0\" cy=\"0\" r=\"3\"/><text class=\"lab\" transform=\"translate(0 -11)\">20</text></g></g></g><g class=\"tree t4\" transform=\"translate(804 0)\"><g class=\"plotbox\"><g class=\"c2 node n20 p0 root\" transform=\"translate(139.438 26.8)\"><g class=\"a20 i1 leaf node n2 p0 sample\" transform=\"translate(26.8125 94.6)\"><path class=\"edge\" d=\"M 0 0 V -94.6 H -26.8125\"/><rect class=\"sym\" height=\"6\" width=\"6\" x=\"-3\" y=\"-3\"/><text class=\"lab\" transform=\"translate(0 11)\">2</text></g><g class=\"a20 c2 node n17 p0\" transform=\"translate(-26.8125 77.0039)\"><g class=\"a17 i2 leaf node n4 p0 sample\" transform=\"translate(34.125 17.5961)\"><path class=\"edge\" d=\"M 0 0 V -17.5961 H -34.125\"/><rect class=\"sym\" height=\"6\" width=\"6\" x=\"-3\" y=\"-3\"/><text class=\"lab\" transform=\"translate(0 11)\">4</text></g><g class=\"a17 c2 node n13 p0\" transform=\"translate(-34.125 15.7678)\"><g class=\"a13 c2 node n10 p0\" transform=\"translate(24.375 0.962653)\"><g class=\"a10 i0 leaf node n1 p0 sample\" transform=\"translate(-14.625 0.865643)\"><path class=\"edge\" d=\"M 0 0 V -0.865643 H 14.625\"/><rect class=\"sym\" height=\"6\" width=\"6\" x=\"-3\" y=\"-3\"/><text class=\"lab\" transform=\"translate(0 11)\">1</text></g><g class=\"a10 c2 node n8 p0\" transform=\"translate(14.625 0.831138)\"><g class=\"a8 i2 leaf node n5 p0 sample\" transform=\"translate(-9.75 0.034505)\"><path class=\"edge\" d=\"M 0 0 V -0.034505 H 9.75\"/><rect class=\"sym\" height=\"6\" width=\"6\" x=\"-3\" y=\"-3\"/><text class=\"lab\" transform=\"translate(0 11)\">5</text></g><g class=\"a8 i3 leaf node n6 p0 sample\" transform=\"translate(9.75 0.034505)\"><path class=\"edge\" d=\"M 0 0 V -0.034505 H -9.75\"/><rect class=\"sym\" height=\"6\" width=\"6\" x=\"-3\" y=\"-3\"/><text class=\"lab\" transform=\"translate(0 11)\">6</text></g><path class=\"edge\" d=\"M 0 0 V -0.831138 H -14.625\"/><circle class=\"sym\" cx=\"0\" cy=\"0\" r=\"3\"/><text class=\"lab rgt\" transform=\"translate(3 -7)\">8</text></g><path class=\"edge\" d=\"M 0 0 V -0.962653 H -24.375\"/><circle class=\"sym\" cx=\"0\" cy=\"0\" r=\"3\"/><text class=\"lab rgt\" transform=\"translate(3 -7)\">10</text></g><g class=\"a13 c2 node n12 p0\" transform=\"translate(-24.375 0.275062)\"><g class=\"a12 i3 leaf node n7 p0 sample\" transform=\"translate(14.625 1.55323)\"><path class=\"edge\" d=\"M 0 0 V -1.55323 H -14.625\"/><rect class=\"sym\" height=\"6\" width=\"6\" x=\"-3\" y=\"-3\"/><text class=\"lab\" transform=\"translate(0 11)\">7</text></g><g class=\"a12 c2 node n11 p0\" transform=\"translate(-14.625 0.514613)\"><g class=\"a11 i0 leaf node n0 p0 sample\" transform=\"translate(-9.75 1.03862)\"><path class=\"edge\" d=\"M 0 0 V -1.03862 H 9.75\"/><rect class=\"sym\" height=\"6\" width=\"6\" x=\"-3\" y=\"-3\"/><text class=\"lab\" transform=\"translate(0 11)\">0</text></g><g class=\"a11 i1 leaf node n3 p0 sample\" transform=\"translate(9.75 1.03862)\"><path class=\"edge\" d=\"M 0 0 V -1.03862 H -9.75\"/><rect class=\"sym\" height=\"6\" width=\"6\" x=\"-3\" y=\"-3\"/><text class=\"lab\" transform=\"translate(0 11)\">3</text></g><path class=\"edge\" d=\"M 0 0 V -0.514613 H 14.625\"/><circle class=\"sym\" cx=\"0\" cy=\"0\" r=\"3\"/><text class=\"lab lft\" transform=\"translate(-3 -7)\">11</text></g><path class=\"edge\" d=\"M 0 0 V -0.275062 H 24.375\"/><circle class=\"sym\" cx=\"0\" cy=\"0\" r=\"3\"/><text class=\"lab lft\" transform=\"translate(-3 -7)\">12</text></g><path class=\"edge\" d=\"M 0 0 V -15.7678 H 34.125\"/><circle class=\"sym\" cx=\"0\" cy=\"0\" r=\"3\"/><text class=\"lab lft\" transform=\"translate(-3 -7)\">13</text></g><path class=\"edge\" d=\"M 0 0 V -77.0039 H 26.8125\"/><circle class=\"sym\" cx=\"0\" cy=\"0\" r=\"3\"/><text class=\"lab lft\" transform=\"translate(-3 -7)\">17</text></g><circle class=\"sym\" cx=\"0\" cy=\"0\" r=\"3\"/><text class=\"lab\" transform=\"translate(0 -11)\">20</text></g></g></g><g class=\"tree t5\" transform=\"translate(1000 0)\"><g class=\"plotbox\"><g class=\"c2 node n17 p0 root\" transform=\"translate(117.5 103.804)\"><g class=\"a17 c2 node n13 p0\" transform=\"translate(-39 15.7678)\"><g class=\"a13 c2 node n10 p0\" transform=\"translate(24.375 0.962653)\"><g class=\"a10 i0 leaf node n1 p0 sample\" transform=\"translate(-14.625 0.865643)\"><path class=\"edge\" d=\"M 0 0 V -0.865643 H 14.625\"/><rect class=\"sym\" height=\"6\" width=\"6\" x=\"-3\" y=\"-3\"/><text class=\"lab\" transform=\"translate(0 11)\">1</text></g><g class=\"a10 c2 node n8 p0\" transform=\"translate(14.625 0.831138)\"><g class=\"a8 i2 leaf node n5 p0 sample\" transform=\"translate(-9.75 0.034505)\"><path class=\"edge\" d=\"M 0 0 V -0.034505 H 9.75\"/><rect class=\"sym\" height=\"6\" width=\"6\" x=\"-3\" y=\"-3\"/><text class=\"lab\" transform=\"translate(0 11)\">5</text></g><g class=\"a8 i3 leaf node n6 p0 sample\" transform=\"translate(9.75 0.034505)\"><path class=\"edge\" d=\"M 0 0 V -0.034505 H -9.75\"/><rect class=\"sym\" height=\"6\" width=\"6\" x=\"-3\" y=\"-3\"/><text class=\"lab\" transform=\"translate(0 11)\">6</text></g><path class=\"edge\" d=\"M 0 0 V -0.831138 H -14.625\"/><circle class=\"sym\" cx=\"0\" cy=\"0\" r=\"3\"/><text class=\"lab rgt\" transform=\"translate(3 -7)\">8</text></g><path class=\"edge\" d=\"M 0 0 V -0.962653 H -24.375\"/><circle class=\"sym\" cx=\"0\" cy=\"0\" r=\"3\"/><text class=\"lab rgt\" transform=\"translate(3 -7)\">10</text></g><g class=\"a13 c2 node n12 p0\" transform=\"translate(-24.375 0.275062)\"><g class=\"a12 i3 leaf node n7 p0 sample\" transform=\"translate(14.625 1.55323)\"><path class=\"edge\" d=\"M 0 0 V -1.55323 H -14.625\"/><rect class=\"sym\" height=\"6\" width=\"6\" x=\"-3\" y=\"-3\"/><text class=\"lab\" transform=\"translate(0 11)\">7</text></g><g class=\"a12 c2 node n11 p0\" transform=\"translate(-14.625 0.514613)\"><g class=\"a11 i0 leaf node n0 p0 sample\" transform=\"translate(-9.75 1.03862)\"><path class=\"edge\" d=\"M 0 0 V -1.03862 H 9.75\"/><rect class=\"sym\" height=\"6\" width=\"6\" x=\"-3\" y=\"-3\"/><text class=\"lab\" transform=\"translate(0 11)\">0</text></g><g class=\"a11 i1 leaf node n3 p0 sample\" transform=\"translate(9.75 1.03862)\"><path class=\"edge\" d=\"M 0 0 V -1.03862 H -9.75\"/><rect class=\"sym\" height=\"6\" width=\"6\" x=\"-3\" y=\"-3\"/><text class=\"lab\" transform=\"translate(0 11)\">3</text></g><path class=\"edge\" d=\"M 0 0 V -0.514613 H 14.625\"/><circle class=\"sym\" cx=\"0\" cy=\"0\" r=\"3\"/><text class=\"lab lft\" transform=\"translate(-3 -7)\">11</text></g><path class=\"edge\" d=\"M 0 0 V -0.275062 H 24.375\"/><circle class=\"sym\" cx=\"0\" cy=\"0\" r=\"3\"/><text class=\"lab lft\" transform=\"translate(-3 -7)\">12</text></g><path class=\"edge\" d=\"M 0 0 V -15.7678 H 39\"/><circle class=\"sym\" cx=\"0\" cy=\"0\" r=\"3\"/><text class=\"lab lft\" transform=\"translate(-3 -7)\">13</text></g><g class=\"a17 c2 node n15 p0\" transform=\"translate(39 10.794)\"><g class=\"a15 i1 leaf node n2 p0 sample\" transform=\"translate(-9.75 6.80208)\"><path class=\"edge\" d=\"M 0 0 V -6.80208 H 9.75\"/><rect class=\"sym\" height=\"6\" width=\"6\" x=\"-3\" y=\"-3\"/><text class=\"lab\" transform=\"translate(0 11)\">2</text></g><g class=\"a15 i2 leaf node n4 p0 sample\" transform=\"translate(9.75 6.80208)\"><path class=\"edge\" d=\"M 0 0 V -6.80208 H -9.75\"/><rect class=\"sym\" height=\"6\" width=\"6\" x=\"-3\" y=\"-3\"/><text class=\"lab\" transform=\"translate(0 11)\">4</text></g><path class=\"edge\" d=\"M 0 0 V -10.794 H -39\"/><circle class=\"sym\" cx=\"0\" cy=\"0\" r=\"3\"/><text class=\"lab rgt\" transform=\"translate(3 -7)\">15</text></g><circle class=\"sym\" cx=\"0\" cy=\"0\" r=\"3\"/><text class=\"lab\" transform=\"translate(0 -11)\">17</text></g></g></g><g class=\"tree t6\" transform=\"translate(1196 0)\"><g class=\"plotbox\"><g class=\"c2 node n17 p0 root\" transform=\"translate(115.062 103.804)\"><g class=\"a17 c2 node n13 p0\" transform=\"translate(-41.4375 15.7678)\"><g class=\"a13 c2 m5 node n10 p0 s5\" transform=\"translate(29.25 0.962653)\"><g class=\"a10 i0 leaf node n1 p0 sample\" transform=\"translate(-14.625 0.865643)\"><path class=\"edge\" d=\"M 0 0 V -0.865643 H 14.625\"/><rect class=\"sym\" height=\"6\" width=\"6\" x=\"-3\" y=\"-3\"/><text class=\"lab\" transform=\"translate(0 11)\">1</text></g><g class=\"a10 c2 node n8 p0\" transform=\"translate(14.625 0.831138)\"><g class=\"a8 i2 leaf node n5 p0 sample\" transform=\"translate(-9.75 0.034505)\"><path class=\"edge\" d=\"M 0 0 V -0.034505 H 9.75\"/><rect class=\"sym\" height=\"6\" width=\"6\" x=\"-3\" y=\"-3\"/><text class=\"lab\" transform=\"translate(0 11)\">5</text></g><g class=\"a8 i3 leaf node n6 p0 sample\" transform=\"translate(9.75 0.034505)\"><path class=\"edge\" d=\"M 0 0 V -0.034505 H -9.75\"/><rect class=\"sym\" height=\"6\" width=\"6\" x=\"-3\" y=\"-3\"/><text class=\"lab\" transform=\"translate(0 11)\">6</text></g><path class=\"edge\" d=\"M 0 0 V -0.831138 H -14.625\"/><circle class=\"sym\" cx=\"0\" cy=\"0\" r=\"3\"/><text class=\"lab rgt\" transform=\"translate(3 -7)\">8</text></g><path class=\"edge\" d=\"M 0 0 V -0.962653 H -29.25\"/><g class=\"mut m5 s5\" transform=\"translate(0 -0.558808)\"><line x1=\"0\" x2=\"0\" y1=\"0\" y2=\"0.558808\"/><path class=\"sym\" d=\"M -3,-3 l 6,6 M -3,3 l 6,-6\"/><text class=\"lab rgt\" transform=\"translate(5 0)\">5</text></g><circle class=\"sym\" cx=\"0\" cy=\"0\" r=\"3\"/><text class=\"lab rgt\" transform=\"translate(3 -7)\">10</text></g><g class=\"a13 c2 node n11 p0\" transform=\"translate(-29.25 0.789675)\"><g class=\"a11 i0 leaf node n0 p0 sample\" transform=\"translate(-14.625 1.03862)\"><path class=\"edge\" d=\"M 0 0 V -1.03862 H 14.625\"/><rect class=\"sym\" height=\"6\" width=\"6\" x=\"-3\" y=\"-3\"/><text class=\"lab\" transform=\"translate(0 11)\">0</text></g><g class=\"a11 c2 node n9 p0\" transform=\"translate(14.625 0.896773)\"><g class=\"a9 i1 leaf node n3 p0 sample\" transform=\"translate(-9.75 0.141848)\"><path class=\"edge\" d=\"M 0 0 V -0.141848 H 9.75\"/><rect class=\"sym\" height=\"6\" width=\"6\" x=\"-3\" y=\"-3\"/><text class=\"lab\" transform=\"translate(0 11)\">3</text></g><g class=\"a9 i3 leaf node n7 p0 sample\" transform=\"translate(9.75 0.141848)\"><path class=\"edge\" d=\"M 0 0 V -0.141848 H -9.75\"/><rect class=\"sym\" height=\"6\" width=\"6\" x=\"-3\" y=\"-3\"/><text class=\"lab\" transform=\"translate(0 11)\">7</text></g><path class=\"edge\" d=\"M 0 0 V -0.896773 H -14.625\"/><circle class=\"sym\" cx=\"0\" cy=\"0\" r=\"3\"/><text class=\"lab rgt\" transform=\"translate(3 -7)\">9</text></g><path class=\"edge\" d=\"M 0 0 V -0.789675 H 29.25\"/><circle class=\"sym\" cx=\"0\" cy=\"0\" r=\"3\"/><text class=\"lab lft\" transform=\"translate(-3 -7)\">11</text></g><path class=\"edge\" d=\"M 0 0 V -15.7678 H 41.4375\"/><circle class=\"sym\" cx=\"0\" cy=\"0\" r=\"3\"/><text class=\"lab lft\" transform=\"translate(-3 -7)\">13</text></g><g class=\"a17 c2 node n15 p0\" transform=\"translate(41.4375 10.794)\"><g class=\"a15 i1 leaf node n2 p0 sample\" transform=\"translate(-9.75 6.80208)\"><path class=\"edge\" d=\"M 0 0 V -6.80208 H 9.75\"/><rect class=\"sym\" height=\"6\" width=\"6\" x=\"-3\" y=\"-3\"/><text class=\"lab\" transform=\"translate(0 11)\">2</text></g><g class=\"a15 i2 leaf node n4 p0 sample\" transform=\"translate(9.75 6.80208)\"><path class=\"edge\" d=\"M 0 0 V -6.80208 H -9.75\"/><rect class=\"sym\" height=\"6\" width=\"6\" x=\"-3\" y=\"-3\"/><text class=\"lab\" transform=\"translate(0 11)\">4</text></g><path class=\"edge\" d=\"M 0 0 V -10.794 H -41.4375\"/><circle class=\"sym\" cx=\"0\" cy=\"0\" r=\"3\"/><text class=\"lab rgt\" transform=\"translate(3 -7)\">15</text></g><circle class=\"sym\" cx=\"0\" cy=\"0\" r=\"3\"/><text class=\"lab\" transform=\"translate(0 -11)\">17</text></g></g></g><g class=\"tree t7\" transform=\"translate(1392 0)\"><g class=\"plotbox\"><g class=\"c2 node n19 p0 root\" transform=\"translate(115.062 69.3771)\"><g class=\"a19 c2 node n13 p0\" transform=\"translate(-41.4375 50.1946)\"><g class=\"a13 c2 node n10 p0\" transform=\"translate(29.25 0.962653)\"><g class=\"a10 i0 leaf node n1 p0 sample\" transform=\"translate(-14.625 0.865643)\"><path class=\"edge\" d=\"M 0 0 V -0.865643 H 14.625\"/><rect class=\"sym\" height=\"6\" width=\"6\" x=\"-3\" y=\"-3\"/><text class=\"lab\" transform=\"translate(0 11)\">1</text></g><g class=\"a10 c2 node n8 p0\" transform=\"translate(14.625 0.831138)\"><g class=\"a8 i2 leaf node n5 p0 sample\" transform=\"translate(-9.75 0.034505)\"><path class=\"edge\" d=\"M 0 0 V -0.034505 H 9.75\"/><rect class=\"sym\" height=\"6\" width=\"6\" x=\"-3\" y=\"-3\"/><text class=\"lab\" transform=\"translate(0 11)\">5</text></g><g class=\"a8 i3 leaf node n6 p0 sample\" transform=\"translate(9.75 0.034505)\"><path class=\"edge\" d=\"M 0 0 V -0.034505 H -9.75\"/><rect class=\"sym\" height=\"6\" width=\"6\" x=\"-3\" y=\"-3\"/><text class=\"lab\" transform=\"translate(0 11)\">6</text></g><path class=\"edge\" d=\"M 0 0 V -0.831138 H -14.625\"/><circle class=\"sym\" cx=\"0\" cy=\"0\" r=\"3\"/><text class=\"lab rgt\" transform=\"translate(3 -7)\">8</text></g><path class=\"edge\" d=\"M 0 0 V -0.962653 H -29.25\"/><circle class=\"sym\" cx=\"0\" cy=\"0\" r=\"3\"/><text class=\"lab rgt\" transform=\"translate(3 -7)\">10</text></g><g class=\"a13 c2 node n11 p0\" transform=\"translate(-29.25 0.789675)\"><g class=\"a11 i0 leaf node n0 p0 sample\" transform=\"translate(-14.625 1.03862)\"><path class=\"edge\" d=\"M 0 0 V -1.03862 H 14.625\"/><rect class=\"sym\" height=\"6\" width=\"6\" x=\"-3\" y=\"-3\"/><text class=\"lab\" transform=\"translate(0 11)\">0</text></g><g class=\"a11 c2 node n9 p0\" transform=\"translate(14.625 0.896773)\"><g class=\"a9 i1 leaf node n3 p0 sample\" transform=\"translate(-9.75 0.141848)\"><path class=\"edge\" d=\"M 0 0 V -0.141848 H 9.75\"/><rect class=\"sym\" height=\"6\" width=\"6\" x=\"-3\" y=\"-3\"/><text class=\"lab\" transform=\"translate(0 11)\">3</text></g><g class=\"a9 i3 leaf node n7 p0 sample\" transform=\"translate(9.75 0.141848)\"><path class=\"edge\" d=\"M 0 0 V -0.141848 H -9.75\"/><rect class=\"sym\" height=\"6\" width=\"6\" x=\"-3\" y=\"-3\"/><text class=\"lab\" transform=\"translate(0 11)\">7</text></g><path class=\"edge\" d=\"M 0 0 V -0.896773 H -14.625\"/><circle class=\"sym\" cx=\"0\" cy=\"0\" r=\"3\"/><text class=\"lab rgt\" transform=\"translate(3 -7)\">9</text></g><path class=\"edge\" d=\"M 0 0 V -0.789675 H 29.25\"/><circle class=\"sym\" cx=\"0\" cy=\"0\" r=\"3\"/><text class=\"lab lft\" transform=\"translate(-3 -7)\">11</text></g><path class=\"edge\" d=\"M 0 0 V -50.1946 H 41.4375\"/><circle class=\"sym\" cx=\"0\" cy=\"0\" r=\"3\"/><text class=\"lab lft\" transform=\"translate(-3 -7)\">13</text></g><g class=\"a19 c2 node n15 p0\" transform=\"translate(41.4375 45.2208)\"><g class=\"a15 i1 leaf node n2 p0 sample\" transform=\"translate(-9.75 6.80208)\"><path class=\"edge\" d=\"M 0 0 V -6.80208 H 9.75\"/><rect class=\"sym\" height=\"6\" width=\"6\" x=\"-3\" y=\"-3\"/><text class=\"lab\" transform=\"translate(0 11)\">2</text></g><g class=\"a15 i2 leaf node n4 p0 sample\" transform=\"translate(9.75 6.80208)\"><path class=\"edge\" d=\"M 0 0 V -6.80208 H -9.75\"/><rect class=\"sym\" height=\"6\" width=\"6\" x=\"-3\" y=\"-3\"/><text class=\"lab\" transform=\"translate(0 11)\">4</text></g><path class=\"edge\" d=\"M 0 0 V -45.2208 H -41.4375\"/><circle class=\"sym\" cx=\"0\" cy=\"0\" r=\"3\"/><text class=\"lab rgt\" transform=\"translate(3 -7)\">15</text></g><circle class=\"sym\" cx=\"0\" cy=\"0\" r=\"3\"/><text class=\"lab\" transform=\"translate(0 -11)\">19</text></g></g></g><g class=\"tree t8\" transform=\"translate(1588 0)\"><g class=\"plotbox\"><g class=\"c2 node n20 p0 root\" transform=\"translate(115.062 26.8)\"><g class=\"a20 c2 node n13 p0\" transform=\"translate(-41.4375 92.7717)\"><g class=\"a13 c2 node n10 p0\" transform=\"translate(29.25 0.962653)\"><g class=\"a10 i0 leaf node n1 p0 sample\" transform=\"translate(-14.625 0.865643)\"><path class=\"edge\" d=\"M 0 0 V -0.865643 H 14.625\"/><rect class=\"sym\" height=\"6\" width=\"6\" x=\"-3\" y=\"-3\"/><text class=\"lab\" transform=\"translate(0 11)\">1</text></g><g class=\"a10 c2 node n8 p0\" transform=\"translate(14.625 0.831138)\"><g class=\"a8 i2 leaf node n5 p0 sample\" transform=\"translate(-9.75 0.034505)\"><path class=\"edge\" d=\"M 0 0 V -0.034505 H 9.75\"/><rect class=\"sym\" height=\"6\" width=\"6\" x=\"-3\" y=\"-3\"/><text class=\"lab\" transform=\"translate(0 11)\">5</text></g><g class=\"a8 i3 leaf node n6 p0 sample\" transform=\"translate(9.75 0.034505)\"><path class=\"edge\" d=\"M 0 0 V -0.034505 H -9.75\"/><rect class=\"sym\" height=\"6\" width=\"6\" x=\"-3\" y=\"-3\"/><text class=\"lab\" transform=\"translate(0 11)\">6</text></g><path class=\"edge\" d=\"M 0 0 V -0.831138 H -14.625\"/><circle class=\"sym\" cx=\"0\" cy=\"0\" r=\"3\"/><text class=\"lab rgt\" transform=\"translate(3 -7)\">8</text></g><path class=\"edge\" d=\"M 0 0 V -0.962653 H -29.25\"/><circle class=\"sym\" cx=\"0\" cy=\"0\" r=\"3\"/><text class=\"lab rgt\" transform=\"translate(3 -7)\">10</text></g><g class=\"a13 c2 node n11 p0\" transform=\"translate(-29.25 0.789675)\"><g class=\"a11 i0 leaf node n0 p0 sample\" transform=\"translate(-14.625 1.03862)\"><path class=\"edge\" d=\"M 0 0 V -1.03862 H 14.625\"/><rect class=\"sym\" height=\"6\" width=\"6\" x=\"-3\" y=\"-3\"/><text class=\"lab\" transform=\"translate(0 11)\">0</text></g><g class=\"a11 c2 node n9 p0\" transform=\"translate(14.625 0.896773)\"><g class=\"a9 i1 leaf node n3 p0 sample\" transform=\"translate(-9.75 0.141848)\"><path class=\"edge\" d=\"M 0 0 V -0.141848 H 9.75\"/><rect class=\"sym\" height=\"6\" width=\"6\" x=\"-3\" y=\"-3\"/><text class=\"lab\" transform=\"translate(0 11)\">3</text></g><g class=\"a9 i3 leaf node n7 p0 sample\" transform=\"translate(9.75 0.141848)\"><path class=\"edge\" d=\"M 0 0 V -0.141848 H -9.75\"/><rect class=\"sym\" height=\"6\" width=\"6\" x=\"-3\" y=\"-3\"/><text class=\"lab\" transform=\"translate(0 11)\">7</text></g><path class=\"edge\" d=\"M 0 0 V -0.896773 H -14.625\"/><circle class=\"sym\" cx=\"0\" cy=\"0\" r=\"3\"/><text class=\"lab rgt\" transform=\"translate(3 -7)\">9</text></g><path class=\"edge\" d=\"M 0 0 V -0.789675 H 29.25\"/><circle class=\"sym\" cx=\"0\" cy=\"0\" r=\"3\"/><text class=\"lab lft\" transform=\"translate(-3 -7)\">11</text></g><path class=\"edge\" d=\"M 0 0 V -92.7717 H 41.4375\"/><circle class=\"sym\" cx=\"0\" cy=\"0\" r=\"3\"/><text class=\"lab lft\" transform=\"translate(-3 -7)\">13</text></g><g class=\"a20 c2 m6 node n15 p0 s6\" transform=\"translate(41.4375 87.7979)\"><g class=\"a15 i1 leaf node n2 p0 sample\" transform=\"translate(-9.75 6.80208)\"><path class=\"edge\" d=\"M 0 0 V -6.80208 H 9.75\"/><rect class=\"sym\" height=\"6\" width=\"6\" x=\"-3\" y=\"-3\"/><text class=\"lab\" transform=\"translate(0 11)\">2</text></g><g class=\"a15 i2 leaf node n4 p0 sample\" transform=\"translate(9.75 6.80208)\"><path class=\"edge\" d=\"M 0 0 V -6.80208 H -9.75\"/><rect class=\"sym\" height=\"6\" width=\"6\" x=\"-3\" y=\"-3\"/><text class=\"lab\" transform=\"translate(0 11)\">4</text></g><path class=\"edge\" d=\"M 0 0 V -87.7979 H -41.4375\"/><g class=\"mut m6 s6\" transform=\"translate(0 -87.5115)\"><line x1=\"0\" x2=\"0\" y1=\"0\" y2=\"87.5115\"/><path class=\"sym\" d=\"M -3,-3 l 6,6 M -3,3 l 6,-6\"/><text class=\"lab rgt\" transform=\"translate(5 0)\">6</text></g><circle class=\"sym\" cx=\"0\" cy=\"0\" r=\"3\"/><text class=\"lab rgt\" transform=\"translate(3 -7)\">15</text></g><circle class=\"sym\" cx=\"0\" cy=\"0\" r=\"3\"/><text class=\"lab\" transform=\"translate(0 -11)\">20</text></g></g></g><g class=\"tree t9\" transform=\"translate(1784 0)\"><g class=\"plotbox\"><g class=\"c2 node n17 p0 root\" transform=\"translate(115.062 103.804)\"><g class=\"a17 c2 node n13 p0\" transform=\"translate(-41.4375 15.7678)\"><g class=\"a13 c2 node n10 p0\" transform=\"translate(29.25 0.962653)\"><g class=\"a10 i0 leaf node n1 p0 sample\" transform=\"translate(-14.625 0.865643)\"><path class=\"edge\" d=\"M 0 0 V -0.865643 H 14.625\"/><rect class=\"sym\" height=\"6\" width=\"6\" x=\"-3\" y=\"-3\"/><text class=\"lab\" transform=\"translate(0 11)\">1</text></g><g class=\"a10 c2 node n8 p0\" transform=\"translate(14.625 0.831138)\"><g class=\"a8 i2 leaf node n5 p0 sample\" transform=\"translate(-9.75 0.034505)\"><path class=\"edge\" d=\"M 0 0 V -0.034505 H 9.75\"/><rect class=\"sym\" height=\"6\" width=\"6\" x=\"-3\" y=\"-3\"/><text class=\"lab\" transform=\"translate(0 11)\">5</text></g><g class=\"a8 i3 leaf node n6 p0 sample\" transform=\"translate(9.75 0.034505)\"><path class=\"edge\" d=\"M 0 0 V -0.034505 H -9.75\"/><rect class=\"sym\" height=\"6\" width=\"6\" x=\"-3\" y=\"-3\"/><text class=\"lab\" transform=\"translate(0 11)\">6</text></g><path class=\"edge\" d=\"M 0 0 V -0.831138 H -14.625\"/><circle class=\"sym\" cx=\"0\" cy=\"0\" r=\"3\"/><text class=\"lab rgt\" transform=\"translate(3 -7)\">8</text></g><path class=\"edge\" d=\"M 0 0 V -0.962653 H -29.25\"/><circle class=\"sym\" cx=\"0\" cy=\"0\" r=\"3\"/><text class=\"lab rgt\" transform=\"translate(3 -7)\">10</text></g><g class=\"a13 c2 node n11 p0\" transform=\"translate(-29.25 0.789675)\"><g class=\"a11 i0 leaf node n0 p0 sample\" transform=\"translate(-14.625 1.03862)\"><path class=\"edge\" d=\"M 0 0 V -1.03862 H 14.625\"/><rect class=\"sym\" height=\"6\" width=\"6\" x=\"-3\" y=\"-3\"/><text class=\"lab\" transform=\"translate(0 11)\">0</text></g><g class=\"a11 c2 node n9 p0\" transform=\"translate(14.625 0.896773)\"><g class=\"a9 i1 leaf node n3 p0 sample\" transform=\"translate(-9.75 0.141848)\"><path class=\"edge\" d=\"M 0 0 V -0.141848 H 9.75\"/><rect class=\"sym\" height=\"6\" width=\"6\" x=\"-3\" y=\"-3\"/><text class=\"lab\" transform=\"translate(0 11)\">3</text></g><g class=\"a9 i3 leaf node n7 p0 sample\" transform=\"translate(9.75 0.141848)\"><path class=\"edge\" d=\"M 0 0 V -0.141848 H -9.75\"/><rect class=\"sym\" height=\"6\" width=\"6\" x=\"-3\" y=\"-3\"/><text class=\"lab\" transform=\"translate(0 11)\">7</text></g><path class=\"edge\" d=\"M 0 0 V -0.896773 H -14.625\"/><circle class=\"sym\" cx=\"0\" cy=\"0\" r=\"3\"/><text class=\"lab rgt\" transform=\"translate(3 -7)\">9</text></g><path class=\"edge\" d=\"M 0 0 V -0.789675 H 29.25\"/><circle class=\"sym\" cx=\"0\" cy=\"0\" r=\"3\"/><text class=\"lab lft\" transform=\"translate(-3 -7)\">11</text></g><path class=\"edge\" d=\"M 0 0 V -15.7678 H 41.4375\"/><circle class=\"sym\" cx=\"0\" cy=\"0\" r=\"3\"/><text class=\"lab lft\" transform=\"translate(-3 -7)\">13</text></g><g class=\"a17 c2 node n15 p0\" transform=\"translate(41.4375 10.794)\"><g class=\"a15 i1 leaf node n2 p0 sample\" transform=\"translate(-9.75 6.80208)\"><path class=\"edge\" d=\"M 0 0 V -6.80208 H 9.75\"/><rect class=\"sym\" height=\"6\" width=\"6\" x=\"-3\" y=\"-3\"/><text class=\"lab\" transform=\"translate(0 11)\">2</text></g><g class=\"a15 i2 leaf node n4 p0 sample\" transform=\"translate(9.75 6.80208)\"><path class=\"edge\" d=\"M 0 0 V -6.80208 H -9.75\"/><rect class=\"sym\" height=\"6\" width=\"6\" x=\"-3\" y=\"-3\"/><text class=\"lab\" transform=\"translate(0 11)\">4</text></g><path class=\"edge\" d=\"M 0 0 V -10.794 H -41.4375\"/><circle class=\"sym\" cx=\"0\" cy=\"0\" r=\"3\"/><text class=\"lab rgt\" transform=\"translate(3 -7)\">15</text></g><circle class=\"sym\" cx=\"0\" cy=\"0\" r=\"3\"/><text class=\"lab\" transform=\"translate(0 -11)\">17</text></g></g></g></g></g></svg>"
      ],
      "text/plain": [
       "<IPython.core.display.SVG object>"
      ]
     },
     "execution_count": 43,
     "metadata": {},
     "output_type": "execute_result"
    }
   ],
   "source": [
    "SVG(mts.draw_svg())"
   ]
  },
  {
   "cell_type": "code",
   "execution_count": 44,
   "id": "8cf8c154",
   "metadata": {},
   "outputs": [],
   "source": [
    "dods = [tree.as_dict_of_dicts() for tree in ts.trees()]\n",
    "tree_graphs = [nx.Graph(dod) for dod in dods]\n",
    "edge_pairs = [list(tree_graph.edges) for tree_graph in tree_graphs]\n",
    "edge_pairs_backwards = [[(b, a) for (a, b) in sublist] for sublist in edge_pairs]\n",
    "senders = [np.array([a for (a, b) in sublist]) for sublist in edge_pairs_backwards]\n",
    "receivers = [np.array([b for (a, b) in sublist]) for sublist in edge_pairs_backwards]\n"
   ]
  },
  {
   "cell_type": "code",
   "execution_count": 45,
   "id": "4edbd1f3",
   "metadata": {},
   "outputs": [],
   "source": [
    "def diff_spr(t1, t2):\n",
    "    assert t1.num_samples() == t2.num_samples()\n",
    "    nodes = set(range(t1.num_samples()))\n",
    "    while nodes:\n",
    "        x = nodes.pop()\n",
    "        p1, p2 = [t.get_parent(x) for t in [t1, t2]]\n",
    "        if p1 != p2:\n",
    "            return x\n",
    "        if p1 != -1:\n",
    "            nodes.add(p1)\n",
    "            \n",
    "def find_spr(t1, t2):\n",
    "    start0 = diff_spr(t1, t2)\n",
    "    deleted = t1.parent(start0)\n",
    "    start1, = t1.siblings(start0)\n",
    "    # the recombination could have occured either on (start0, deleted) or (start1, deleted)\n",
    "    # to settle this, in t2, one of them will have the same grandparent and the other wont\n",
    "    gp = t1.parent(deleted)\n",
    "    gp0 = t2.parent(start0)\n",
    "    gp1 = t2.parent(start1)\n",
    "    start = start1 if gp0 == gp else start0\n",
    "    end, = t2.siblings(start)\n",
    "    if t1.parent(end) == tskit.NULL:\n",
    "        x = t2.time(t2.parent(end)) - t2.time(end)\n",
    "        root = True\n",
    "    else:\n",
    "        t0 = t1.time(t1.parent(end)) - t1.time(end)\n",
    "        t1 = t2.time(t2.parent(end)) - t2.time(end)\n",
    "        x = t1 / t0\n",
    "        root = False\n",
    "    return (start, deleted)"
   ]
  },
  {
   "cell_type": "code",
   "execution_count": 46,
   "id": "43b29da9",
   "metadata": {},
   "outputs": [],
   "source": [
    "true_edges = [find_spr(t1, t2) for t1, t2 in it.pairwise(ts.aslist())]\n",
    "true_edge_indices = [sublist.index(edge) for edge, sublist in zip(true_edges, edge_pairs_backwards)]"
   ]
  },
  {
   "cell_type": "code",
   "execution_count": 47,
   "id": "fca2da43",
   "metadata": {},
   "outputs": [
    {
     "data": {
      "text/plain": [
       "[4, 3, 0, 2, 0, 11, 0, 0, 0]"
      ]
     },
     "execution_count": 47,
     "metadata": {},
     "output_type": "execute_result"
    }
   ],
   "source": [
    "true_edge_indices"
   ]
  },
  {
   "cell_type": "code",
   "execution_count": 48,
   "id": "c5124599",
   "metadata": {},
   "outputs": [],
   "source": [
    "# take a matrix of just the kept columns and expand with zeroes everywhere else for a fixed range of the full matrix.\n",
    "def restore_and_slice(X, start, end, kept_cols):\n",
    "  n = X.shape[0]\n",
    "  n_cols = int(end - start)\n",
    "\n",
    "  full_sub = np.zeros((n, n_cols))\n",
    "\n",
    "  for idx, col in enumerate(kept_cols):\n",
    "    if start <= col < end:\n",
    "      full_sub[:, int(col-start)] = X[:, idx]\n",
    "\n",
    "  return full_sub\n",
    "\n",
    "# do this for the genotype matrix\n",
    "def make_genotype_windows(G, tree_num, breakpoints, mutation_sites):\n",
    "  start_site = breakpoints[tree_num+1]\n",
    "  end_site = breakpoints[tree_num + 2]\n",
    "\n",
    "  start_genotype = start_site\n",
    "  if end_site < (start_site + 100):\n",
    "    end_genotype = end_site\n",
    "  else:\n",
    "    end_genotype = start_site + 100\n",
    "  \n",
    "  G_sub = restore_and_slice(X=G, start = start_genotype, end = end_genotype, kept_cols=mutation_sites)\n",
    "  \n",
    "  return G_sub"
   ]
  },
  {
   "cell_type": "code",
   "execution_count": 49,
   "id": "97ff8f20",
   "metadata": {},
   "outputs": [],
   "source": [
    "genotypes = [\n",
    "    make_genotype_windows(\n",
    "        G=sparse_genotype,\n",
    "        tree_num=i,\n",
    "        breakpoints=breakpoints,\n",
    "        mutation_sites=mutation_sites\n",
    "    )\n",
    "    for i in range(len(breakpoints) - 2)  # number of trees\n",
    "]\n",
    "genotypes_compressed = [G.sum(axis = 1) for G in genotypes]"
   ]
  },
  {
   "cell_type": "code",
   "execution_count": 50,
   "id": "79ec3d71",
   "metadata": {},
   "outputs": [
    {
     "data": {
      "text/plain": [
       "[array([0., 0., 0., 0., 0., 0., 0., 0.]),\n",
       " array([0., 0., 0., 0., 0., 0., 0., 0.]),\n",
       " array([0., 0., 0., 0., 0., 0., 0., 0.]),\n",
       " array([0., 0., 0., 0., 0., 0., 0., 0.]),\n",
       " array([0., 0., 0., 0., 0., 0., 0., 0.]),\n",
       " array([0., 0., 0., 0., 0., 0., 0., 0.]),\n",
       " array([0., 0., 0., 0., 0., 0., 0., 0.]),\n",
       " array([0., 0., 0., 0., 0., 0., 0., 0.]),\n",
       " array([0., 0., 0., 0., 0., 0., 0., 0.])]"
      ]
     },
     "execution_count": 50,
     "metadata": {},
     "output_type": "execute_result"
    }
   ],
   "source": [
    "genotypes_compressed"
   ]
  },
  {
   "cell_type": "code",
   "execution_count": 51,
   "id": "dbbca8cf",
   "metadata": {},
   "outputs": [],
   "source": [
    "seg_sites_before_after = []\n",
    "for point in breakpoints[1:-1]:\n",
    "  idx = bisect.bisect_left(mutation_sites, point)\n",
    "  start = max(0, idx - 3)\n",
    "  end = min(len(mutation_sites), idx + 3)\n",
    "\n",
    "  sites = mutation_sites[start:end]\n",
    "  indicators = [mutation_sites.index(site) for site in sites]\n",
    "\n",
    "  pad_left = (3 - (idx - start)) if idx - start < 3 else 0\n",
    "  pad_right = (3 - (end - idx)) if end - idx < 3 else 0\n",
    "\n",
    "  geno_slice = sparse_genotype[:, indicators]\n",
    "\n",
    "  if pad_left > 0:\n",
    "        geno_slice = np.hstack([np.zeros((geno_slice.shape[0], pad_left)), geno_slice])\n",
    "  if pad_right > 0:\n",
    "        geno_slice = np.hstack([geno_slice, np.zeros((geno_slice.shape[0], pad_right))])\n",
    "\n",
    "  seg_sites_before_after.append(geno_slice)"
   ]
  },
  {
   "cell_type": "code",
   "execution_count": 52,
   "id": "d3c35944",
   "metadata": {},
   "outputs": [
    {
     "data": {
      "text/plain": [
       "[array([[0., 0., 0., 1., 0., 0., 0.],\n",
       "        [0., 0., 0., 1., 0., 0., 0.],\n",
       "        [0., 0., 0., 1., 0., 0., 0.],\n",
       "        [0., 0., 0., 1., 0., 0., 0.],\n",
       "        [0., 0., 1., 0., 1., 1., 0.],\n",
       "        [0., 0., 0., 1., 0., 0., 0.],\n",
       "        [0., 0., 0., 1., 0., 0., 0.],\n",
       "        [0., 0., 0., 1., 0., 0., 0.]]),\n",
       " array([[1., 0., 0., 1., 0., 0., 0.],\n",
       "        [1., 0., 0., 1., 1., 0., 0.],\n",
       "        [1., 0., 0., 0., 0., 1., 0.],\n",
       "        [1., 0., 0., 1., 0., 0., 0.],\n",
       "        [0., 1., 1., 1., 0., 1., 0.],\n",
       "        [1., 0., 0., 1., 1., 0., 0.],\n",
       "        [1., 0., 0., 1., 1., 0., 0.],\n",
       "        [1., 0., 0., 1., 0., 0., 0.]]),\n",
       " array([[1., 0., 0., 1., 0., 0., 0.],\n",
       "        [1., 0., 0., 1., 1., 0., 0.],\n",
       "        [1., 0., 0., 0., 0., 1., 0.],\n",
       "        [1., 0., 0., 1., 0., 0., 0.],\n",
       "        [0., 1., 1., 1., 0., 1., 0.],\n",
       "        [1., 0., 0., 1., 1., 0., 0.],\n",
       "        [1., 0., 0., 1., 1., 0., 0.],\n",
       "        [1., 0., 0., 1., 0., 0., 0.]]),\n",
       " array([[0., 0., 1., 0., 0., 0., 0.],\n",
       "        [0., 0., 1., 1., 0., 0., 0.],\n",
       "        [0., 0., 0., 0., 1., 0., 0.],\n",
       "        [0., 0., 1., 0., 0., 0., 0.],\n",
       "        [1., 1., 1., 0., 1., 0., 0.],\n",
       "        [0., 0., 1., 1., 0., 0., 0.],\n",
       "        [0., 0., 1., 1., 0., 0., 0.],\n",
       "        [0., 0., 1., 0., 0., 0., 0.]]),\n",
       " array([[0., 0., 1., 0., 0., 0., 0.],\n",
       "        [0., 0., 1., 1., 0., 0., 0.],\n",
       "        [0., 0., 0., 0., 1., 0., 0.],\n",
       "        [0., 0., 1., 0., 0., 0., 0.],\n",
       "        [1., 1., 1., 0., 1., 0., 0.],\n",
       "        [0., 0., 1., 1., 0., 0., 0.],\n",
       "        [0., 0., 1., 1., 0., 0., 0.],\n",
       "        [0., 0., 1., 0., 0., 0., 0.]]),\n",
       " array([[0., 0., 1., 0., 0., 0., 0.],\n",
       "        [0., 0., 1., 1., 0., 0., 0.],\n",
       "        [0., 0., 0., 0., 1., 0., 0.],\n",
       "        [0., 0., 1., 0., 0., 0., 0.],\n",
       "        [1., 1., 1., 0., 1., 0., 0.],\n",
       "        [0., 0., 1., 1., 0., 0., 0.],\n",
       "        [0., 0., 1., 1., 0., 0., 0.],\n",
       "        [0., 0., 1., 0., 0., 0., 0.]]),\n",
       " array([[0., 1., 0., 0., 0., 0., 0.],\n",
       "        [0., 1., 1., 0., 0., 0., 0.],\n",
       "        [0., 0., 0., 1., 0., 0., 0.],\n",
       "        [0., 1., 0., 0., 0., 0., 0.],\n",
       "        [1., 1., 0., 1., 0., 0., 0.],\n",
       "        [0., 1., 1., 0., 0., 0., 0.],\n",
       "        [0., 1., 1., 0., 0., 0., 0.],\n",
       "        [0., 1., 0., 0., 0., 0., 0.]]),\n",
       " array([[0., 1., 0., 0., 0., 0., 0.],\n",
       "        [0., 1., 1., 0., 0., 0., 0.],\n",
       "        [0., 0., 0., 1., 0., 0., 0.],\n",
       "        [0., 1., 0., 0., 0., 0., 0.],\n",
       "        [1., 1., 0., 1., 0., 0., 0.],\n",
       "        [0., 1., 1., 0., 0., 0., 0.],\n",
       "        [0., 1., 1., 0., 0., 0., 0.],\n",
       "        [0., 1., 0., 0., 0., 0., 0.]]),\n",
       " array([[1., 0., 0., 0., 0., 0., 0.],\n",
       "        [1., 1., 0., 0., 0., 0., 0.],\n",
       "        [0., 0., 1., 0., 0., 0., 0.],\n",
       "        [1., 0., 0., 0., 0., 0., 0.],\n",
       "        [1., 0., 1., 0., 0., 0., 0.],\n",
       "        [1., 1., 0., 0., 0., 0., 0.],\n",
       "        [1., 1., 0., 0., 0., 0., 0.],\n",
       "        [1., 0., 0., 0., 0., 0., 0.]])]"
      ]
     },
     "execution_count": 52,
     "metadata": {},
     "output_type": "execute_result"
    }
   ],
   "source": [
    "init_feats = [np.column_stack((M, v)) for M, v in zip(seg_sites_before_after, genotypes_compressed)]\n",
    "init_feats"
   ]
  },
  {
   "cell_type": "code",
   "execution_count": 53,
   "id": "a01e4ce7",
   "metadata": {},
   "outputs": [],
   "source": [
    "class InitMLP:\n",
    "  def __init__(self, input_dim, hidden_dim, num_hidden, output_dim, key):\n",
    "    self.params = []\n",
    "    keys = jax.random.split(key, num_hidden + 1)\n",
    "\n",
    "    last_dim = input_dim\n",
    "    for i, k in enumerate(keys[: -1]):\n",
    "      W = jax.random.normal(k, (last_dim, hidden_dim)) / nmp.sqrt(last_dim)\n",
    "      b = jax.random.normal(k, hidden_dim) / nmp.sqrt(num_hidden)\n",
    "      self.params.append((W, b))\n",
    "      last_dim = hidden_dim\n",
    "    \n",
    "    W = jax.random.normal(keys[-1], (output_dim, last_dim)) / nmp.sqrt(output_dim)\n",
    "    b = jax.random.normal(keys[-1], output_dim)\n",
    "    self.params.append((W, b))\n",
    "  \n",
    "  def __call__(self, X):\n",
    "    h = X\n",
    "    for (W, b) in self.params[:-1]:\n",
    "      h = jax.nn.relu(h @ W + b)\n",
    "    W, b = self.params[-1]\n",
    "    return h @ W + b\n",
    "\n",
    "key = jax.random.PRNGKey(1997)\n",
    "init_embedder = InitMLP(input_dim=7, hidden_dim=64, num_hidden=2, output_dim=64, key=key)"
   ]
  },
  {
   "cell_type": "code",
   "execution_count": 54,
   "id": "c25c6383",
   "metadata": {},
   "outputs": [],
   "source": [
    "init_embeds = []\n",
    "for G in init_feats:\n",
    "  x = nmp.array(G, dtype=nmp.float32)\n",
    "  z = init_embedder(x)\n",
    "  init_embeds.append(z)"
   ]
  },
  {
   "cell_type": "code",
   "execution_count": 55,
   "id": "3c0e9e59",
   "metadata": {},
   "outputs": [],
   "source": [
    "N = max([max(tree_graph.nodes) for tree_graph in tree_graphs]) + 1"
   ]
  },
  {
   "cell_type": "code",
   "execution_count": 56,
   "id": "a1181f25",
   "metadata": {},
   "outputs": [],
   "source": [
    "embeddings = []\n",
    "for G in init_embeds:\n",
    "  embeddings_add = np.zeros((N, 64))\n",
    "  embeddings_add[:init_embeds[0].shape[0], :] = G\n",
    "  embeddings.append(embeddings_add)"
   ]
  },
  {
   "cell_type": "code",
   "execution_count": 57,
   "id": "7c0aa319",
   "metadata": {},
   "outputs": [],
   "source": [
    "tree_posts = [list(tree.nodes(order = \"postorder\")) for tree in ts.aslist()][:-1]"
   ]
  },
  {
   "cell_type": "code",
   "execution_count": 58,
   "id": "dad509e6",
   "metadata": {},
   "outputs": [],
   "source": [
    "for tree, postorder, tree_embed in zip(ts.aslist()[:-1], tree_posts, embeddings):\n",
    "    for t in postorder:\n",
    "        children = tree.children(u=t)\n",
    "        if children != ():\n",
    "            children_vectors = tree_embed[np.array(children)]\n",
    "            children_mean = np.mean(children_vectors, axis=0)\n",
    "            tree_embed[t] = children_mean"
   ]
  },
  {
   "cell_type": "code",
   "execution_count": 59,
   "id": "5630a473",
   "metadata": {},
   "outputs": [],
   "source": [
    "class MLPMessageLayer(eqx.Module):\n",
    "  phi: eqx.nn.MLP\n",
    "  gamma: eqx.nn.MLP\n",
    "\n",
    "  def __init__(self, in_dim, hidden_dim = 64, *, key):\n",
    "    k1, k2 = jax.random.split(key)\n",
    "\n",
    "    self.phi = eqx.nn.MLP(\n",
    "      in_size=2 * in_dim, # (features of the node and its neighbor)\n",
    "      out_size= hidden_dim,\n",
    "      width_size= hidden_dim,\n",
    "      depth = 2,\n",
    "      activation=jax.nn.relu,\n",
    "      final_activation=jax.nn.relu,\n",
    "      key = k1\n",
    "    )\n",
    "\n",
    "    self.gamma = eqx.nn.MLP(\n",
    "      in_size=in_dim + hidden_dim,\n",
    "      out_size=hidden_dim,\n",
    "      width_size=hidden_dim,\n",
    "      depth=2,\n",
    "      activation=jax.nn.relu,\n",
    "      key=k2\n",
    "    )\n",
    "\n",
    "  def __call__(self, X, senders, receivers):\n",
    "    \"\"\"\n",
    "    X: [N, D] node features\n",
    "    senders: [E] edge source indices\n",
    "    receivers: [E] edge target indices\n",
    "    \"\"\"\n",
    "    # gather features\n",
    "    X_j = X[senders]\n",
    "    X_i = X[receivers]\n",
    "\n",
    "\n",
    "    m_ji = jax.vmap(self.phi)(nmp.concatenate([X_i, X_j], axis=-1))\n",
    "\n",
    "    # aggregate by mean\n",
    "    N = X.shape[0]\n",
    "    m_sum = jax.ops.segment_sum(m_ji, receivers, N)\n",
    "    deg = jax.ops.segment_sum(nmp.ones_like(receivers), receivers, N)\n",
    "    deg = nmp.maximum(deg, 1)[:, None]\n",
    "    m_i = m_sum / deg\n",
    "\n",
    "    return jax.vmap(self.gamma)(nmp.concatenate([X, m_i], axis=-1))\n",
    "\n",
    "class MPNNEncoder(eqx.Module):\n",
    "  layers: list\n",
    "\n",
    "  def __init__(self, in_dim, hidden_dim, num_layers, *, key):\n",
    "    keys = jax.random.split(key, num_layers)\n",
    "    self.layers = [MLPMessageLayer(in_dim, hidden_dim, key=keys[0])]\n",
    "    for k in keys[1:]:\n",
    "      self.layers.append(MLPMessageLayer(hidden_dim, hidden_dim, key = k))\n",
    "  \n",
    "  def __call__(self, X, senders, receivers):\n",
    "    for layer in self.layers:\n",
    "      X = layer(X, senders, receivers)\n",
    "    return X\n",
    "\n",
    "class SPRGPredictor(eqx.Module):\n",
    "  encoder: MPNNEncoder\n",
    "  head: eqx.nn.MLP\n",
    "\n",
    "  def __init__(self, in_dim, hidden_dim, num_layers, *, key):\n",
    "    k_enc, k_head = jax.random.split(key)\n",
    "    self.encoder = MPNNEncoder(in_dim, hidden_dim, num_layers, key = k_enc)\n",
    "    self.head = eqx.nn.MLP(\n",
    "      in_size = 2*hidden_dim,\n",
    "      out_size= 1, # this will be whole edge prediction, where it starts, where it ends. Right now, we are doing logit prediction for all possib  le edge starts, so the cardinality of this set will be E.\n",
    "      width_size=hidden_dim,\n",
    "      depth=2,\n",
    "      activation=jax.nn.relu,\n",
    "      key = k_head\n",
    "    )\n",
    "  \n",
    "  def __call__(self, X, senders, receivers):\n",
    "    H = self.encoder(X, senders, receivers)\n",
    "    # jax.debug.print(\"embeddigns = {}\", H)\n",
    "    h_i, h_j = H[receivers], H[senders]\n",
    "    logits = jax.vmap(self.head)(nmp.concatenate([h_i, h_j], axis=-1)).squeeze(-1)\n",
    "    return logits"
   ]
  },
  {
   "cell_type": "code",
   "execution_count": 60,
   "id": "b6d41bb4",
   "metadata": {},
   "outputs": [],
   "source": [
    "def nll(logits, target_edge_idx: int):\n",
    "    log_probs = logits - jax.nn.logsumexp(logits)     # log probabilites\n",
    "    return -log_probs[target_edge_idx] # minimize the negative log probability of the correct edge change == maximize predicted log probabiliy of the correct edge change"
   ]
  },
  {
   "cell_type": "code",
   "execution_count": 61,
   "id": "1fc33bea",
   "metadata": {},
   "outputs": [],
   "source": [
    "@eqx.filter_value_and_grad\n",
    "def loss_fn(model, X_batch, senders_batch, receivers_batch, targets_batch):\n",
    "  losses = []\n",
    "  for X, s, r, t in zip(X_batch, senders_batch, receivers_batch, targets_batch):\n",
    "    logits = model(X, s, r)\n",
    "    losses.append(nll(logits, t))\n",
    "  \n",
    "  return nmp.mean(nmp.stack(losses))\n",
    "\n",
    "@eqx.filter_jit\n",
    "def train_step(model, opt_state, X_batch, senders_batch, receivers_batch, targets_batch, optim):\n",
    "  loss, grads = loss_fn(model, X_batch, senders_batch, receivers_batch, targets_batch)\n",
    "  updates, opt_state = optim.update(grads, opt_state, params = eqx.filter(model, eqx.is_array))\n",
    "  model = eqx.apply_updates(model, updates)\n",
    "  \n",
    "  return model, opt_state, loss\n",
    "\n",
    "model = SPRGPredictor(in_dim=embeddings[0].shape[1], hidden_dim=32, num_layers=3, key=key)\n",
    "optim = optax.adam(1e-3)\n",
    "opt_state = optim.init(eqx.filter(model, eqx.is_array))"
   ]
  },
  {
   "cell_type": "code",
   "execution_count": 62,
   "id": "d66e8849",
   "metadata": {},
   "outputs": [
    {
     "name": "stdout",
     "output_type": "stream",
     "text": [
      "step 000 | loss 2.6391\n",
      "top edge (graph 0): 1\n",
      "step 050 | loss 2.3864\n",
      "top edge (graph 0): 0\n",
      "step 100 | loss 1.1864\n",
      "top edge (graph 0): 0\n",
      "step 150 | loss 1.0565\n",
      "top edge (graph 0): 0\n",
      "step 200 | loss 0.6228\n",
      "top edge (graph 0): 4\n",
      "step 250 | loss 0.4848\n",
      "top edge (graph 0): 4\n",
      "step 300 | loss 0.4747\n",
      "top edge (graph 0): 4\n"
     ]
    }
   ],
   "source": [
    "for step in range(301):\n",
    "  model, opt_state, loss = train_step(model, opt_state, embeddings, senders[:-1], receivers[:-1], true_edge_indices, optim)\n",
    "  if step % 50 == 0:\n",
    "    print(f\"step {step:03d} | loss {loss:.4f}\")\n",
    "    logits = model(embeddings[0], senders[0], receivers[0])\n",
    "    probs = jax.nn.softmax(logits)\n",
    "    print(f\"top edge (graph 0): {nmp.argmax(probs)}\")"
   ]
  },
  {
   "cell_type": "code",
   "execution_count": 63,
   "id": "003a9dec",
   "metadata": {},
   "outputs": [
    {
     "name": "stdout",
     "output_type": "stream",
     "text": [
      "graph 0: predicted edge index = 4\n",
      "graph 0: probs = [2.3046113e-03 0.0000000e+00 2.5324821e-01 0.0000000e+00 2.7187219e-01\n",
      " 0.0000000e+00 6.2253105e-40 1.4855039e-32 2.3642842e-01 3.2243482e-36\n",
      " 5.9036627e-02 5.9036627e-02 5.9036627e-02 5.9036627e-02]\n",
      "graph 1: predicted edge index = 3\n",
      "graph 1: probs = [1.0509065e-36 2.0796326e-03 1.6345776e-08 9.9792010e-01 9.9357420e-16\n",
      " 4.3694039e-34 7.1333605e-16 1.0131124e-23 1.4221943e-07 1.4221943e-07\n",
      " 2.8634242e-21 2.7388995e-32 2.2192557e-13 2.2192557e-13]\n",
      "graph 2: predicted edge index = 0\n",
      "graph 2: probs = [9.2142069e-01 1.6656358e-02 5.2569432e-40 6.1922379e-02 2.3566193e-15\n",
      " 1.0363616e-33 1.6919336e-15 2.4029614e-23 3.3732468e-07 3.3732468e-07\n",
      " 6.7916432e-21 6.4962872e-32 5.2637652e-13 5.2637652e-13]\n",
      "graph 3: predicted edge index = 2\n",
      "graph 3: probs = [3.8380590e-01 5.8294652e-32 4.9817675e-01 0.0000000e+00 0.0000000e+00\n",
      " 2.1262313e-22 2.3241486e-05 1.2611686e-44 6.1603191e-06 6.1603191e-06\n",
      " 1.0265608e-02 1.8420646e-24 5.3858113e-02 5.3858113e-02]\n",
      "graph 4: predicted edge index = 2\n",
      "graph 4: probs = [3.8380590e-01 5.8294652e-32 4.9817675e-01 0.0000000e+00 0.0000000e+00\n",
      " 2.1262313e-22 2.3241486e-05 1.2611686e-44 6.1603191e-06 6.1603191e-06\n",
      " 1.0265608e-02 1.8420646e-24 5.3858113e-02 5.3858113e-02]\n",
      "graph 5: predicted edge index = 10\n",
      "graph 5: probs = [0.0000000e+00 5.7499688e-07 0.0000000e+00 1.2565005e-21 1.3734600e-04\n",
      " 7.2867520e-44 3.6404523e-05 3.6404523e-05 6.0664810e-02 1.0885715e-23\n",
      " 3.1827554e-01 3.1827554e-01 2.9447553e-01 8.0979988e-03]\n",
      "graph 6: predicted edge index = 0\n",
      "graph 6: probs = [9.99999821e-01 0.00000000e+00 2.55093714e-24 4.04623854e-16\n",
      " 1.47704132e-14 2.36853613e-25 1.95249168e-08 1.95249168e-08\n",
      " 1.06714293e-14 6.93330077e-22 1.08137776e-07 1.08137776e-07\n",
      " 5.93073368e-09 1.67667048e-16]\n",
      "graph 7: predicted edge index = 0\n",
      "graph 7: probs = [9.99999821e-01 0.00000000e+00 2.55093714e-24 4.04623854e-16\n",
      " 1.47704132e-14 2.36853613e-25 1.95249168e-08 1.95249168e-08\n",
      " 1.06714293e-14 6.93330077e-22 1.08137776e-07 1.08137776e-07\n",
      " 5.93073368e-09 1.67667048e-16]\n",
      "graph 8: predicted edge index = 0\n",
      "graph 8: probs = [9.7191721e-01 2.8025969e-44 1.0492239e-17 4.5238831e-15 9.1679596e-16\n",
      " 4.8797039e-23 1.3316250e-07 1.3316250e-07 2.2846154e-09 2.6993933e-18\n",
      " 8.7831082e-04 8.7831082e-04 2.5537997e-02 7.8796665e-04]\n"
     ]
    }
   ],
   "source": [
    "for i, (X, s, r) in enumerate(zip(embeddings, senders[:-1], receivers[:-1])):\n",
    "    logits = model(X, s, r)\n",
    "    edge_idx = int(nmp.argmax(logits))\n",
    "    probs = np.exp(logits) / np.sum(np.exp(logits))\n",
    "    print(f\"graph {i}: predicted edge index = {edge_idx}\")\n",
    "    print(f\"graph {i}: probs = {probs}\")"
   ]
  },
  {
   "cell_type": "code",
   "execution_count": 64,
   "id": "6da6ea7d",
   "metadata": {},
   "outputs": [
    {
     "data": {
      "text/plain": [
       "[4, 3, 0, 2, 0, 11, 0, 0, 0]"
      ]
     },
     "execution_count": 64,
     "metadata": {},
     "output_type": "execute_result"
    }
   ],
   "source": [
    "true_edge_indices"
   ]
  }
 ],
 "metadata": {
  "kernelspec": {
   "display_name": "arg-gnn",
   "language": "python",
   "name": "python3"
  },
  "language_info": {
   "codemirror_mode": {
    "name": "ipython",
    "version": 3
   },
   "file_extension": ".py",
   "mimetype": "text/x-python",
   "name": "python",
   "nbconvert_exporter": "python",
   "pygments_lexer": "ipython3",
   "version": "3.11.11"
  }
 },
 "nbformat": 4,
 "nbformat_minor": 5
}
