{
 "cells": [
  {
   "cell_type": "code",
   "execution_count": 1,
   "id": "d7f90ee9",
   "metadata": {},
   "outputs": [],
   "source": [
    "import msprime\n",
    "from IPython.display import SVG, display\n",
    "import networkx as nx\n",
    "import jax\n",
    "import jax.numpy as nmp\n",
    "from jax.nn import log_softmax\n",
    "import equinox as eqx\n",
    "import itertools as it\n",
    "import optax\n",
    "import tskit\n",
    "import numpy as np\n",
    "from collections import defaultdict"
   ]
  }
 ],
 "metadata": {
  "kernelspec": {
   "display_name": "arg-gnn",
   "language": "python",
   "name": "python3"
  },
  "language_info": {
   "codemirror_mode": {
    "name": "ipython",
    "version": 3
   },
   "file_extension": ".py",
   "mimetype": "text/x-python",
   "name": "python",
   "nbconvert_exporter": "python",
   "pygments_lexer": "ipython3",
   "version": "3.11.11"
  }
 },
 "nbformat": 4,
 "nbformat_minor": 5
}
