{
 "cells": [
  {
   "cell_type": "code",
   "execution_count": 2,
   "id": "d7f90ee9",
   "metadata": {},
   "outputs": [],
   "source": [
    "import msprime\n",
    "from IPython.display import SVG, display\n",
    "import networkx as nx\n",
    "import jax\n",
    "import jax.numpy as nmp\n",
    "from jax.nn import log_softmax\n",
    "import equinox as eqx\n",
    "import itertools as it\n",
    "import optax\n",
    "import tskit\n",
    "import numpy as np\n",
    "from collections import defaultdict\n",
    "from functools import partial"
   ]
  },
  {
   "cell_type": "markdown",
   "id": "69693a48",
   "metadata": {},
   "source": [
    "Here, I play around a little bit with torch GNN trying to get a more sophisticated version of message passing to work."
   ]
  },
  {
   "cell_type": "code",
   "execution_count": 19,
   "id": "99046fde",
   "metadata": {},
   "outputs": [],
   "source": [
    "class MLPMessageLayer(eqx.Module):\n",
    "  phi: eqx.nn.MLP\n",
    "  gamma: eqx.nn.MLP\n",
    "\n",
    "  def __init__(self, in_dim, hidden_dim = 64, *, key):\n",
    "    k1, k2 = jax.random.split(key)\n",
    "\n",
    "    self.phi = eqx.nn.MLP(\n",
    "      in_size=2 * in_dim, # (features of the node and its neighbor)\n",
    "      out_size= hidden_dim,\n",
    "      width_size= hidden_dim,\n",
    "      depth = 2,\n",
    "      activation=jax.nn.relu,\n",
    "      final_activation=jax.nn.relu,\n",
    "      key = k1\n",
    "    )\n",
    "\n",
    "    self.gamma = eqx.nn.MLP(\n",
    "      in_size=in_dim + hidden_dim,\n",
    "      out_size=hidden_dim,\n",
    "      width_size=hidden_dim,\n",
    "      depth=2,\n",
    "      activation=jax.nn.relu,\n",
    "      final_activation=None,\n",
    "      key=k2\n",
    "    )\n",
    "\n",
    "  def __call__(self, X, senders, receivers):\n",
    "    \"\"\"\n",
    "    X: [N, D] node features\n",
    "    senders: [E] edge source indices\n",
    "    receivers: [E] edge target indices\n",
    "    \"\"\"\n",
    "    # gather features\n",
    "    X_j = X[senders]\n",
    "    X_i = X[receivers]\n",
    "\n",
    "    m_ji = self.phi(nmp.concatenate([X_i, X_j], axis=-1))\n",
    "\n",
    "    # aggregate by mean\n",
    "    N = X.shape[0]\n",
    "    m_sum = jax.ops.segment_sum(m_ji, receivers, N)\n",
    "    deg = jax.ops.segment_sum(nmp.ones_like(receivers), receivers, N)\n",
    "    deg = nmp.maximum(deg, 1)[:, None]\n",
    "    m_i = m_sum / deg\n",
    "\n",
    "    return self.gamma(nmp.concatenate([X, m_i], axis=-1))"
   ]
  },
  {
   "cell_type": "code",
   "execution_count": 25,
   "id": "42faf759",
   "metadata": {},
   "outputs": [],
   "source": [
    "class MPNNEncoder(eqx.Module):\n",
    "  layers: list\n",
    "\n",
    "  def __init__(self, in_dim, hidden_dim, num_layers, *, key):\n",
    "    keys = jax.random.split(key, num_layers)\n",
    "    self.layers = [MLPMessageLayer(in_dim, hidden_dim, key=keys[0])]\n",
    "    for k in keys[1:]:\n",
    "      self.layers.append(MLPMessageLayer(hidden_dim, hidden_dim, key = k))\n",
    "  \n",
    "  def __call__(self, X, senders, receivers):\n",
    "    for layer in self.layers:\n",
    "      X = layer(X, senders, receivers)\n",
    "    return X"
   ]
  },
  {
   "cell_type": "code",
   "execution_count": 26,
   "id": "c9546532",
   "metadata": {},
   "outputs": [],
   "source": [
    "class SPRGPredictor(eqx.Module):\n",
    "  encoder: MPNNEncoder\n",
    "  head: eqx.nn.MLP\n",
    "\n",
    "  def __init__(self, in_dim, hidden_dim, num_layers, *, key):\n",
    "    k_enc, k_head = jax.random.split(key)\n",
    "    self.encoder = MPNNEncoder(in_dim, hidden_dim, num_layers, key = k_enc)\n",
    "    self.head = eqx.nn.MLP(\n",
    "      in_size = 2*hidden_dim,\n",
    "      out_size= 1, # this will be whole edge prediction, where it starts, where it ends. Right now, we are doing logit prediction for all possib  le edge starts, so the cardinality of this set will be E.\n",
    "      width_size=hidden_dim,\n",
    "      depth=2,\n",
    "      activation=jax.nn.relu,\n",
    "      final_activation=None,\n",
    "      key = k_head\n",
    "    )\n",
    "  \n",
    "  def __call__(self, X, senders, receivers):\n",
    "    H = self.encoder(X, senders, receivers)\n",
    "    h_i, h_j = H[receivers], H[senders]\n",
    "    logits = self.head(nmp.concatenate([h_i, h_j], axis=-1)).squeeze(-1)\n",
    "    return logits"
   ]
  },
  {
   "cell_type": "code",
   "execution_count": 27,
   "id": "e17bdf45",
   "metadata": {},
   "outputs": [],
   "source": [
    "key = jax.random.PRNGKey(0)"
   ]
  },
  {
   "cell_type": "code",
   "execution_count": 29,
   "id": "3e3d5618",
   "metadata": {},
   "outputs": [
    {
     "ename": "NameError",
     "evalue": "name 'node_feats' is not defined",
     "output_type": "error",
     "traceback": [
      "\u001b[31m---------------------------------------------------------------------------\u001b[39m",
      "\u001b[31mNameError\u001b[39m                                 Traceback (most recent call last)",
      "\u001b[36mCell\u001b[39m\u001b[36m \u001b[39m\u001b[32mIn[29]\u001b[39m\u001b[32m, line 2\u001b[39m\n\u001b[32m      1\u001b[39m model = SPRGPredictor(in_dim=\u001b[32m100\u001b[39m, hidden_dim=\u001b[32m64\u001b[39m, num_layers=\u001b[32m8\u001b[39m, key=key)\n\u001b[32m----> \u001b[39m\u001b[32m2\u001b[39m model(X=node_feats)\n",
      "\u001b[31mNameError\u001b[39m: name 'node_feats' is not defined"
     ]
    }
   ],
   "source": [
    "model = SPRGPredictor(in_dim=100, hidden_dim=64, num_layers=8, key=key)\n",
    "model(X=node_feats)"
   ]
  },
  {
   "cell_type": "markdown",
   "id": "6855aa21",
   "metadata": {},
   "source": [
    "Training loops"
   ]
  },
  {
   "cell_type": "code",
   "execution_count": null,
   "id": "59453340",
   "metadata": {},
   "outputs": [],
   "source": [
    "@eqx.filter_value_and_grad\n",
    "def loss(model, X, senders, receivers, y):\n",
    "  logits = model(X, senders, receivers)\n",
    "  preds = nmp.argmax()"
   ]
  }
 ],
 "metadata": {
  "kernelspec": {
   "display_name": "arg-gnn",
   "language": "python",
   "name": "python3"
  },
  "language_info": {
   "codemirror_mode": {
    "name": "ipython",
    "version": 3
   },
   "file_extension": ".py",
   "mimetype": "text/x-python",
   "name": "python",
   "nbconvert_exporter": "python",
   "pygments_lexer": "ipython3",
   "version": "3.11.11"
  }
 },
 "nbformat": 4,
 "nbformat_minor": 5
}
