{
 "cells": [
  {
   "cell_type": "code",
   "execution_count": 168,
   "id": "6afa73a4",
   "metadata": {},
   "outputs": [],
   "source": [
    "import msprime\n",
    "from IPython.display import SVG, display\n",
    "import networkx as nx\n",
    "import jax\n",
    "import jax.numpy as nmp\n",
    "from jax.nn import log_softmax\n",
    "import equinox as eqx\n",
    "import itertools as it\n",
    "import optax\n",
    "import tskit\n",
    "import numpy as np\n",
    "from collections import defaultdict"
   ]
  },
  {
   "cell_type": "code",
   "execution_count": 189,
   "id": "2d86e3a0",
   "metadata": {},
   "outputs": [],
   "source": [
    "ts = msprime.sim_ancestry(\n",
    "        samples=4,\n",
    "        recombination_rate=1e-8,\n",
    "        sequence_length=20_000,\n",
    "        population_size=8_000)\n",
    "mts = msprime.sim_mutations(ts, rate = 1e-8)\n",
    "sparse_genotype = mts.genotype_matrix().T\n",
    "breakpoints = list(mts.breakpoints())\n",
    "mutation_sites = [site.position for site in mts.sites()]"
   ]
  },
  {
   "cell_type": "code",
   "execution_count": 203,
   "id": "454b0ebd",
   "metadata": {},
   "outputs": [
    {
     "data": {
      "text/plain": [
       "Array([25, 25, 15, 15,  9,  9,  8,  8, 23, 23, 10, 10, 13, 13], dtype=int32)"
      ]
     },
     "execution_count": 203,
     "metadata": {},
     "output_type": "execute_result"
    }
   ],
   "source": [
    "tree = ts.at_index(0)\n",
    "dod = tree.as_dict_of_dicts()\n",
    "tree_graph = nx.Graph(dod)\n",
    "edge_pairs = list(tree_graph.edges)\n",
    "edge_pairs_backwards = [t[::-1] for t in edge_pairs]\n",
    "senders, receivers = zip(*edge_pairs_backwards)\n",
    "senders = nmp.array(senders)\n",
    "receivers = nmp.array(receivers)\n",
    "N = max(list(tree_graph.nodes)) + 1\n",
    "receivers"
   ]
  },
  {
   "cell_type": "code",
   "execution_count": 191,
   "id": "326223ee",
   "metadata": {},
   "outputs": [],
   "source": [
    "A = nmp.zeros((N, N))\n",
    "A = A.at[senders, receivers].set(1)\n",
    "A = A.at[receivers, senders].set(1)"
   ]
  },
  {
   "cell_type": "code",
   "execution_count": 192,
   "id": "bac56fa6",
   "metadata": {},
   "outputs": [
    {
     "data": {
      "text/plain": [
       "Array([25, 25, 15, 15,  9,  9,  8,  8, 23, 23, 10, 10, 13, 13], dtype=int32)"
      ]
     },
     "execution_count": 192,
     "metadata": {},
     "output_type": "execute_result"
    }
   ],
   "source": [
    "edges = nmp.array(edge_pairs_backwards, dtype=nmp.int32)\n",
    "edges[:, 1]"
   ]
  },
  {
   "cell_type": "code",
   "execution_count": 193,
   "id": "cd25f77e",
   "metadata": {},
   "outputs": [
    {
     "data": {
      "image/svg+xml": [
       "<svg xmlns=\"http://www.w3.org/2000/svg\" xmlns:ev=\"http://www.w3.org/2001/xml-events\" xmlns:xlink=\"http://www.w3.org/1999/xlink\" baseProfile=\"full\" height=\"200\" version=\"1.1\" width=\"3400\"><defs><style type=\"text/css\"><![CDATA[.background path {fill: #808080; fill-opacity: 0}.background path:nth-child(odd) {fill-opacity: .1}.x-regions rect {fill: yellow; stroke: black; opacity: 0.5}.axes {font-size: 14px}.x-axis .tick .lab {font-weight: bold; dominant-baseline: hanging}.axes, .tree {font-size: 14px; text-anchor: middle}.axes line, .edge {stroke: black; fill: none}.axes .ax-skip {stroke-dasharray: 4}.y-axis .grid {stroke: #FAFAFA}.node > .sym {fill: black; stroke: none}.site > .sym {stroke: black}.mut text {fill: red; font-style: italic}.mut.extra text {fill: hotpink}.mut line {fill: none; stroke: none}.mut .sym {fill: none; stroke: red}.mut.extra .sym {stroke: hotpink}.node .mut .sym {stroke-width: 1.5px}.tree text, .tree-sequence text {dominant-baseline: central}.plotbox .lab.lft {text-anchor: end}.plotbox .lab.rgt {text-anchor: start}.polytomy line {stroke: black; stroke-dasharray: 1px, 1px}.polytomy text {paint-order:stroke;stroke-width:0.3em;stroke:white}]]></style></defs><g class=\"tree-sequence\"><g class=\"background\"><path d=\"M20,0 l197.647,0 l0,138.2 l0.592941,25 l0,5 l-198.24,0 l0,-5 l0,-25 l0,-138.2z\"/><path d=\"M217.647,0 l197.647,0 l0,138.2 l-24.6861,25 l0,5 l-172.368,0 l0,-5 l-0.593,-25 l0,-138.2z\"/><path d=\"M415.294,0 l197.647,0 l0,138.2 l-219.141,25 l0,5 l-3.192,0 l0,-5 l24.686,-25 l0,-138.2z\"/><path d=\"M612.941,0 l197.647,0 l0,138.2 l-272.14,25 l0,5 l-144.648,0 l0,-5 l219.141,-25 l0,-138.2z\"/><path d=\"M810.588,0 l197.647,0 l0,138.2 l-346.811,25 l0,5 l-122.976,0 l0,-5 l272.14,-25 l0,-138.2z\"/><path d=\"M1008.24,0 l197.647,0 l0,138.2 l-398.298,25 l0,5 l-146.16,0 l0,-5 l346.816,-25 l0,-138.2z\"/><path d=\"M1205.88,0 l197.647,0 l0,138.2 l-555.961,25 l0,5 l-39.984,0 l0,-5 l398.296,-25 l0,-138.2z\"/><path d=\"M1403.53,0 l197.647,0 l0,138.2 l-675.656,25 l0,5 l-77.952,0 l0,-5 l555.962,-25 l0,-138.2z\"/><path d=\"M1601.18,0 l197.647,0 l0,138.2 l-773.008,25 l0,5 l-100.296,0 l0,-5 l675.66,-25 l0,-138.2z\"/><path d=\"M1798.82,0 l197.647,0 l0,138.2 l-841.631,25 l0,5 l-129.024,0 l0,-5 l773,-25 l0,-138.2z\"/><path d=\"M1996.47,0 l197.647,0 l0,138.2 l-668.67,25 l0,5 l-370.608,0 l0,-5 l841.63,-25 l0,-138.2z\"/><path d=\"M2194.12,0 l197.647,0 l0,138.2 l-768.037,25 l0,5 l-98.28,0 l0,-5 l668.67,-25 l0,-138.2z\"/><path d=\"M2391.76,0 l197.647,0 l0,138.2 l-877.988,25 l0,5 l-87.696,0 l0,-5 l768.03,-25 l0,-138.2z\"/><path d=\"M2589.41,0 l197.647,0 l0,138.2 l-1023.89,25 l0,5 l-51.744,0 l0,-5 l877.99,-25 l0,-138.2z\"/><path d=\"M2787.06,0 l197.647,0 l0,138.2 l-758.362,25 l0,5 l-463.176,0 l0,-5 l1023.89,-25 l0,-138.2z\"/><path d=\"M2984.71,0 l197.647,0 l0,138.2 l-101.393,25 l0,5 l-854.616,0 l0,-5 l758.37,-25 l0,-138.2z\"/><path d=\"M3182.35,0 l197.647,0 l0,138.2 l0,25 l0,5 l-299.04,0 l0,-5 l101.39,-25 l0,-138.2z\"/></g><g class=\"axes\"><g class=\"x-axis\"><g class=\"title\" transform=\"translate(1700 200)\"><text class=\"lab\" text-anchor=\"middle\" transform=\"translate(0 -11)\">Genome position</text></g><line class=\"ax-line\" x1=\"20\" x2=\"3380\" y1=\"163.2\" y2=\"163.2\"/><g class=\"ticks\"><g class=\"tick\" transform=\"translate(20 163.2)\"><line x1=\"0\" x2=\"0\" y1=\"0\" y2=\"5\"/><g transform=\"translate(0 6)\"><text class=\"lab\">0</text></g></g><g class=\"tick\" transform=\"translate(218.24 163.2)\"><line x1=\"0\" x2=\"0\" y1=\"0\" y2=\"5\"/><g transform=\"translate(0 6)\"><text class=\"lab\">1180</text></g></g><g class=\"tick\" transform=\"translate(390.608 163.2)\"><line x1=\"0\" x2=\"0\" y1=\"0\" y2=\"5\"/><g transform=\"translate(0 6)\"><text class=\"lab\">2206</text></g></g><g class=\"tick\" transform=\"translate(393.8 163.2)\"><line x1=\"0\" x2=\"0\" y1=\"0\" y2=\"5\"/><g transform=\"translate(0 6)\"><text class=\"lab\">2225</text></g></g><g class=\"tick\" transform=\"translate(538.448 163.2)\"><line x1=\"0\" x2=\"0\" y1=\"0\" y2=\"5\"/><g transform=\"translate(0 6)\"><text class=\"lab\">3086</text></g></g><g class=\"tick\" transform=\"translate(661.424 163.2)\"><line x1=\"0\" x2=\"0\" y1=\"0\" y2=\"5\"/><g transform=\"translate(0 6)\"><text class=\"lab\">3818</text></g></g><g class=\"tick\" transform=\"translate(807.584 163.2)\"><line x1=\"0\" x2=\"0\" y1=\"0\" y2=\"5\"/><g transform=\"translate(0 6)\"><text class=\"lab\">4688</text></g></g><g class=\"tick\" transform=\"translate(847.568 163.2)\"><line x1=\"0\" x2=\"0\" y1=\"0\" y2=\"5\"/><g transform=\"translate(0 6)\"><text class=\"lab\">4926</text></g></g><g class=\"tick\" transform=\"translate(925.52 163.2)\"><line x1=\"0\" x2=\"0\" y1=\"0\" y2=\"5\"/><g transform=\"translate(0 6)\"><text class=\"lab\">5390</text></g></g><g class=\"tick\" transform=\"translate(1025.82 163.2)\"><line x1=\"0\" x2=\"0\" y1=\"0\" y2=\"5\"/><g transform=\"translate(0 6)\"><text class=\"lab\">5987</text></g></g><g class=\"tick\" transform=\"translate(1154.84 163.2)\"><line x1=\"0\" x2=\"0\" y1=\"0\" y2=\"5\"/><g transform=\"translate(0 6)\"><text class=\"lab\">6755</text></g></g><g class=\"tick\" transform=\"translate(1525.45 163.2)\"><line x1=\"0\" x2=\"0\" y1=\"0\" y2=\"5\"/><g transform=\"translate(0 6)\"><text class=\"lab\">8961</text></g></g><g class=\"tick\" transform=\"translate(1623.73 163.2)\"><line x1=\"0\" x2=\"0\" y1=\"0\" y2=\"5\"/><g transform=\"translate(0 6)\"><text class=\"lab\">9546</text></g></g><g class=\"tick\" transform=\"translate(1711.42 163.2)\"><line x1=\"0\" x2=\"0\" y1=\"0\" y2=\"5\"/><g transform=\"translate(0 6)\"><text class=\"lab\">10068</text></g></g><g class=\"tick\" transform=\"translate(1763.17 163.2)\"><line x1=\"0\" x2=\"0\" y1=\"0\" y2=\"5\"/><g transform=\"translate(0 6)\"><text class=\"lab\">10376</text></g></g><g class=\"tick\" transform=\"translate(2226.34 163.2)\"><line x1=\"0\" x2=\"0\" y1=\"0\" y2=\"5\"/><g transform=\"translate(0 6)\"><text class=\"lab\">13133</text></g></g><g class=\"tick\" transform=\"translate(3080.96 163.2)\"><line x1=\"0\" x2=\"0\" y1=\"0\" y2=\"5\"/><g transform=\"translate(0 6)\"><text class=\"lab\">18220</text></g></g><g class=\"tick\" transform=\"translate(3380 163.2)\"><line x1=\"0\" x2=\"0\" y1=\"0\" y2=\"5\"/><g transform=\"translate(0 6)\"><text class=\"lab\">20000</text></g></g></g><g class=\"site s0\" transform=\"translate(175.232 163.2)\"><line class=\"sym\" x1=\"0\" x2=\"0\" y1=\"0\" y2=\"-10\"/><g class=\"mut m0\"><polyline class=\"sym\" points=\"2.5,-6.5 0,-1.5 -2.5,-6.5\"/></g></g><g class=\"site s1\" transform=\"translate(470.576 163.2)\"><line class=\"sym\" x1=\"0\" x2=\"0\" y1=\"0\" y2=\"-10\"/><g class=\"mut m1\"><polyline class=\"sym\" points=\"2.5,-6.5 0,-1.5 -2.5,-6.5\"/></g></g><g class=\"site s2\" transform=\"translate(848.24 163.2)\"><line class=\"sym\" x1=\"0\" x2=\"0\" y1=\"0\" y2=\"-10\"/><g class=\"mut m2\"><polyline class=\"sym\" points=\"2.5,-6.5 0,-1.5 -2.5,-6.5\"/></g></g><g class=\"site s3\" transform=\"translate(862.52 163.2)\"><line class=\"sym\" x1=\"0\" x2=\"0\" y1=\"0\" y2=\"-10\"/><g class=\"mut m3\"><polyline class=\"sym\" points=\"2.5,-6.5 0,-1.5 -2.5,-6.5\"/></g></g><g class=\"site s4\" transform=\"translate(962.312 163.2)\"><line class=\"sym\" x1=\"0\" x2=\"0\" y1=\"0\" y2=\"-10\"/><g class=\"mut m4\"><polyline class=\"sym\" points=\"2.5,-6.5 0,-1.5 -2.5,-6.5\"/></g></g><g class=\"site s5\" transform=\"translate(1267.23 163.2)\"><line class=\"sym\" x1=\"0\" x2=\"0\" y1=\"0\" y2=\"-10\"/><g class=\"mut m5\"><polyline class=\"sym\" points=\"2.5,-6.5 0,-1.5 -2.5,-6.5\"/></g></g><g class=\"site s6\" transform=\"translate(1360.81 163.2)\"><line class=\"sym\" x1=\"0\" x2=\"0\" y1=\"0\" y2=\"-10\"/><g class=\"mut m6\"><polyline class=\"sym\" points=\"2.5,-6.5 0,-1.5 -2.5,-6.5\"/></g></g><g class=\"site s7\" transform=\"translate(1431.87 163.2)\"><line class=\"sym\" x1=\"0\" x2=\"0\" y1=\"0\" y2=\"-10\"/><g class=\"mut m7\"><polyline class=\"sym\" points=\"2.5,-6.5 0,-1.5 -2.5,-6.5\"/></g></g><g class=\"site s8\" transform=\"translate(1557.87 163.2)\"><line class=\"sym\" x1=\"0\" x2=\"0\" y1=\"0\" y2=\"-10\"/><g class=\"mut m8\"><polyline class=\"sym\" points=\"2.5,-6.5 0,-1.5 -2.5,-6.5\"/></g></g><g class=\"site s9\" transform=\"translate(1707.22 163.2)\"><line class=\"sym\" x1=\"0\" x2=\"0\" y1=\"0\" y2=\"-10\"/><g class=\"mut m9\"><polyline class=\"sym\" points=\"2.5,-6.5 0,-1.5 -2.5,-6.5\"/></g></g><g class=\"site s10\" transform=\"translate(1780.98 163.2)\"><line class=\"sym\" x1=\"0\" x2=\"0\" y1=\"0\" y2=\"-10\"/><g class=\"mut m10\"><polyline class=\"sym\" points=\"2.5,-6.5 0,-1.5 -2.5,-6.5\"/></g></g><g class=\"site s11\" transform=\"translate(1921.26 163.2)\"><line class=\"sym\" x1=\"0\" x2=\"0\" y1=\"0\" y2=\"-10\"/><g class=\"mut m11\"><polyline class=\"sym\" points=\"2.5,-6.5 0,-1.5 -2.5,-6.5\"/></g></g><g class=\"site s12\" transform=\"translate(2136.46 163.2)\"><line class=\"sym\" x1=\"0\" x2=\"0\" y1=\"0\" y2=\"-10\"/><g class=\"mut m12\"><polyline class=\"sym\" points=\"2.5,-6.5 0,-1.5 -2.5,-6.5\"/></g></g><g class=\"site s13\" transform=\"translate(2976.3 163.2)\"><line class=\"sym\" x1=\"0\" x2=\"0\" y1=\"0\" y2=\"-10\"/><g class=\"mut m13\"><polyline class=\"sym\" points=\"2.5,-6.5 0,-1.5 -2.5,-6.5\"/></g></g></g></g><g class=\"plotbox trees\"><g class=\"tree t0\" transform=\"translate(20 0)\"><g class=\"plotbox\"><g class=\"c2 node n25 p0 root\" transform=\"translate(95.1287 87.6129)\"><g class=\"a25 c2 node n15 p0\" transform=\"translate(35.7169 29.6485)\"><g class=\"a15 i0 leaf node n1 p0 sample\" transform=\"translate(-22.1691 4.13856)\"><path class=\"edge\" d=\"M 0 0 V -4.13856 H 22.1691\"/><rect class=\"sym\" height=\"6\" width=\"6\" x=\"-3\" y=\"-3\"/><text class=\"lab\" transform=\"translate(0 11)\">1</text></g><g class=\"a15 c2 m0 node n9 p0 s0\" transform=\"translate(22.1691 3.69518)\"><g class=\"a9 i1 leaf node n3 p0 sample\" transform=\"translate(14.7794 0.443375)\"><path class=\"edge\" d=\"M 0 0 V -0.443375 H -14.7794\"/><rect class=\"sym\" height=\"6\" width=\"6\" x=\"-3\" y=\"-3\"/><text class=\"lab\" transform=\"translate(0 11)\">3</text></g><g class=\"a9 c2 node n8 p0\" transform=\"translate(-14.7794 0.218794)\"><g class=\"a8 i1 leaf node n2 p0 sample\" transform=\"translate(-9.85294 0.224581)\"><path class=\"edge\" d=\"M 0 0 V -0.224581 H 9.85294\"/><rect class=\"sym\" height=\"6\" width=\"6\" x=\"-3\" y=\"-3\"/><text class=\"lab\" transform=\"translate(0 11)\">2</text></g><g class=\"a8 i2 leaf node n5 p0 sample\" transform=\"translate(9.85294 0.224581)\"><path class=\"edge\" d=\"M 0 0 V -0.224581 H -9.85294\"/><rect class=\"sym\" height=\"6\" width=\"6\" x=\"-3\" y=\"-3\"/><text class=\"lab\" transform=\"translate(0 11)\">5</text></g><path class=\"edge\" d=\"M 0 0 V -0.218794 H 14.7794\"/><circle class=\"sym\" cx=\"0\" cy=\"0\" r=\"3\"/><text class=\"lab lft\" transform=\"translate(-3 -7)\">8</text></g><path class=\"edge\" d=\"M 0 0 V -3.69518 H -22.1691\"/><g class=\"mut m0 s0\" transform=\"translate(0 -2.49296)\"><line x1=\"0\" x2=\"0\" y1=\"0\" y2=\"2.49296\"/><path class=\"sym\" d=\"M -3,-3 l 6,6 M -3,3 l 6,-6\"/><text class=\"lab rgt\" transform=\"translate(5 0)\">0</text></g><circle class=\"sym\" cx=\"0\" cy=\"0\" r=\"3\"/><text class=\"lab rgt\" transform=\"translate(3 -7)\">9</text></g><path class=\"edge\" d=\"M 0 0 V -29.6485 H -35.7169\"/><circle class=\"sym\" cx=\"0\" cy=\"0\" r=\"3\"/><text class=\"lab rgt\" transform=\"translate(3 -7)\">15</text></g><g class=\"a25 c2 node n23 p0\" transform=\"translate(-35.7169 13.0822)\"><g class=\"a23 c2 node n10 p0\" transform=\"translate(19.7059 19.7661)\"><g class=\"a10 i2 leaf node n4 p0 sample\" transform=\"translate(-9.85294 0.938754)\"><path class=\"edge\" d=\"M 0 0 V -0.938754 H 9.85294\"/><rect class=\"sym\" height=\"6\" width=\"6\" x=\"-3\" y=\"-3\"/><text class=\"lab\" transform=\"translate(0 11)\">4</text></g><g class=\"a10 i3 leaf node n6 p0 sample\" transform=\"translate(9.85294 0.938754)\"><path class=\"edge\" d=\"M 0 0 V -0.938754 H -9.85294\"/><rect class=\"sym\" height=\"6\" width=\"6\" x=\"-3\" y=\"-3\"/><text class=\"lab\" transform=\"translate(0 11)\">6</text></g><path class=\"edge\" d=\"M 0 0 V -19.7661 H -19.7059\"/><circle class=\"sym\" cx=\"0\" cy=\"0\" r=\"3\"/><text class=\"lab rgt\" transform=\"translate(3 -7)\">10</text></g><g class=\"a23 c2 node n13 p0\" transform=\"translate(-19.7059 18.3369)\"><g class=\"a13 i0 leaf node n0 p0 sample\" transform=\"translate(-9.85294 2.36803)\"><path class=\"edge\" d=\"M 0 0 V -2.36803 H 9.85294\"/><rect class=\"sym\" height=\"6\" width=\"6\" x=\"-3\" y=\"-3\"/><text class=\"lab\" transform=\"translate(0 11)\">0</text></g><g class=\"a13 i3 leaf node n7 p0 sample\" transform=\"translate(9.85294 2.36803)\"><path class=\"edge\" d=\"M 0 0 V -2.36803 H -9.85294\"/><rect class=\"sym\" height=\"6\" width=\"6\" x=\"-3\" y=\"-3\"/><text class=\"lab\" transform=\"translate(0 11)\">7</text></g><path class=\"edge\" d=\"M 0 0 V -18.3369 H 19.7059\"/><circle class=\"sym\" cx=\"0\" cy=\"0\" r=\"3\"/><text class=\"lab lft\" transform=\"translate(-3 -7)\">13</text></g><path class=\"edge\" d=\"M 0 0 V -13.0822 H 35.7169\"/><circle class=\"sym\" cx=\"0\" cy=\"0\" r=\"3\"/><text class=\"lab lft\" transform=\"translate(-3 -7)\">23</text></g><circle class=\"sym\" cx=\"0\" cy=\"0\" r=\"3\"/><text class=\"lab\" transform=\"translate(0 -11)\">25</text></g></g></g><g class=\"tree t1\" transform=\"translate(217.647 0)\"><g class=\"plotbox\"><g class=\"c2 node n23 p0 root\" transform=\"translate(82.1967 100.695)\"><g class=\"a23 c2 node n13 p0\" transform=\"translate(-42.4908 18.3369)\"><g class=\"a13 i0 leaf node n0 p0 sample\" transform=\"translate(-9.85294 2.36803)\"><path class=\"edge\" d=\"M 0 0 V -2.36803 H 9.85294\"/><rect class=\"sym\" height=\"6\" width=\"6\" x=\"-3\" y=\"-3\"/><text class=\"lab\" transform=\"translate(0 11)\">0</text></g><g class=\"a13 i3 leaf node n7 p0 sample\" transform=\"translate(9.85294 2.36803)\"><path class=\"edge\" d=\"M 0 0 V -2.36803 H -9.85294\"/><rect class=\"sym\" height=\"6\" width=\"6\" x=\"-3\" y=\"-3\"/><text class=\"lab\" transform=\"translate(0 11)\">7</text></g><path class=\"edge\" d=\"M 0 0 V -18.3369 H 42.4908\"/><circle class=\"sym\" cx=\"0\" cy=\"0\" r=\"3\"/><text class=\"lab lft\" transform=\"translate(-3 -7)\">13</text></g><g class=\"a23 c2 node n22 p0\" transform=\"translate(42.4908 0.056918)\"><g class=\"a22 c2 node n10 p0\" transform=\"translate(33.2537 19.7092)\"><g class=\"a10 i2 leaf node n4 p0 sample\" transform=\"translate(-9.85294 0.938754)\"><path class=\"edge\" d=\"M 0 0 V -0.938754 H 9.85294\"/><rect class=\"sym\" height=\"6\" width=\"6\" x=\"-3\" y=\"-3\"/><text class=\"lab\" transform=\"translate(0 11)\">4</text></g><g class=\"a10 i3 leaf node n6 p0 sample\" transform=\"translate(9.85294 0.938754)\"><path class=\"edge\" d=\"M 0 0 V -0.938754 H -9.85294\"/><rect class=\"sym\" height=\"6\" width=\"6\" x=\"-3\" y=\"-3\"/><text class=\"lab\" transform=\"translate(0 11)\">6</text></g><path class=\"edge\" d=\"M 0 0 V -19.7092 H -33.2537\"/><circle class=\"sym\" cx=\"0\" cy=\"0\" r=\"3\"/><text class=\"lab rgt\" transform=\"translate(3 -7)\">10</text></g><g class=\"a22 c2 node n15 p0\" transform=\"translate(-33.2537 16.5094)\"><g class=\"a15 i0 leaf node n1 p0 sample\" transform=\"translate(-22.1691 4.13856)\"><path class=\"edge\" d=\"M 0 0 V -4.13856 H 22.1691\"/><rect class=\"sym\" height=\"6\" width=\"6\" x=\"-3\" y=\"-3\"/><text class=\"lab\" transform=\"translate(0 11)\">1</text></g><g class=\"a15 c2 node n9 p0\" transform=\"translate(22.1691 3.69518)\"><g class=\"a9 i1 leaf node n3 p0 sample\" transform=\"translate(14.7794 0.443375)\"><path class=\"edge\" d=\"M 0 0 V -0.443375 H -14.7794\"/><rect class=\"sym\" height=\"6\" width=\"6\" x=\"-3\" y=\"-3\"/><text class=\"lab\" transform=\"translate(0 11)\">3</text></g><g class=\"a9 c2 node n8 p0\" transform=\"translate(-14.7794 0.218794)\"><g class=\"a8 i1 leaf node n2 p0 sample\" transform=\"translate(-9.85294 0.224581)\"><path class=\"edge\" d=\"M 0 0 V -0.224581 H 9.85294\"/><rect class=\"sym\" height=\"6\" width=\"6\" x=\"-3\" y=\"-3\"/><text class=\"lab\" transform=\"translate(0 11)\">2</text></g><g class=\"a8 i2 leaf node n5 p0 sample\" transform=\"translate(9.85294 0.224581)\"><path class=\"edge\" d=\"M 0 0 V -0.224581 H -9.85294\"/><rect class=\"sym\" height=\"6\" width=\"6\" x=\"-3\" y=\"-3\"/><text class=\"lab\" transform=\"translate(0 11)\">5</text></g><path class=\"edge\" d=\"M 0 0 V -0.218794 H 14.7794\"/><circle class=\"sym\" cx=\"0\" cy=\"0\" r=\"3\"/><text class=\"lab lft\" transform=\"translate(-3 -7)\">8</text></g><path class=\"edge\" d=\"M 0 0 V -3.69518 H -22.1691\"/><circle class=\"sym\" cx=\"0\" cy=\"0\" r=\"3\"/><text class=\"lab rgt\" transform=\"translate(3 -7)\">9</text></g><path class=\"edge\" d=\"M 0 0 V -16.5094 H 33.2537\"/><circle class=\"sym\" cx=\"0\" cy=\"0\" r=\"3\"/><text class=\"lab lft\" transform=\"translate(-3 -7)\">15</text></g><path class=\"edge\" d=\"M 0 0 V -0.056918 H -42.4908\"/><circle class=\"sym\" cx=\"0\" cy=\"0\" r=\"3\"/><text class=\"lab rgt\" transform=\"translate(3 -7)\">22</text></g><circle class=\"sym\" cx=\"0\" cy=\"0\" r=\"3\"/><text class=\"lab\" transform=\"translate(0 -11)\">23</text></g></g></g><g class=\"tree t2\" transform=\"translate(415.294 0)\"><g class=\"plotbox\"><g class=\"c2 node n23 p0 root\" transform=\"translate(82.1967 100.695)\"><g class=\"a23 c2 node n13 p0\" transform=\"translate(-42.4908 18.3369)\"><g class=\"a13 i0 leaf node n0 p0 sample\" transform=\"translate(-9.85294 2.36803)\"><path class=\"edge\" d=\"M 0 0 V -2.36803 H 9.85294\"/><rect class=\"sym\" height=\"6\" width=\"6\" x=\"-3\" y=\"-3\"/><text class=\"lab\" transform=\"translate(0 11)\">0</text></g><g class=\"a13 i3 leaf node n7 p0 sample\" transform=\"translate(9.85294 2.36803)\"><path class=\"edge\" d=\"M 0 0 V -2.36803 H -9.85294\"/><rect class=\"sym\" height=\"6\" width=\"6\" x=\"-3\" y=\"-3\"/><text class=\"lab\" transform=\"translate(0 11)\">7</text></g><path class=\"edge\" d=\"M 0 0 V -18.3369 H 42.4908\"/><circle class=\"sym\" cx=\"0\" cy=\"0\" r=\"3\"/><text class=\"lab lft\" transform=\"translate(-3 -7)\">13</text></g><g class=\"a23 c2 node n22 p0\" transform=\"translate(42.4908 0.056918)\"><g class=\"a22 c2 node n15 p0\" transform=\"translate(-33.2537 16.5094)\"><g class=\"a15 i0 leaf node n1 p0 sample\" transform=\"translate(-22.1691 4.13856)\"><path class=\"edge\" d=\"M 0 0 V -4.13856 H 22.1691\"/><rect class=\"sym\" height=\"6\" width=\"6\" x=\"-3\" y=\"-3\"/><text class=\"lab\" transform=\"translate(0 11)\">1</text></g><g class=\"a15 c2 node n9 p0\" transform=\"translate(22.1691 3.69518)\"><g class=\"a9 i1 leaf node n3 p0 sample\" transform=\"translate(14.7794 0.443375)\"><path class=\"edge\" d=\"M 0 0 V -0.443375 H -14.7794\"/><rect class=\"sym\" height=\"6\" width=\"6\" x=\"-3\" y=\"-3\"/><text class=\"lab\" transform=\"translate(0 11)\">3</text></g><g class=\"a9 c2 node n8 p0\" transform=\"translate(-14.7794 0.218794)\"><g class=\"a8 i1 leaf node n2 p0 sample\" transform=\"translate(-9.85294 0.224581)\"><path class=\"edge\" d=\"M 0 0 V -0.224581 H 9.85294\"/><rect class=\"sym\" height=\"6\" width=\"6\" x=\"-3\" y=\"-3\"/><text class=\"lab\" transform=\"translate(0 11)\">2</text></g><g class=\"a8 i2 leaf node n5 p0 sample\" transform=\"translate(9.85294 0.224581)\"><path class=\"edge\" d=\"M 0 0 V -0.224581 H -9.85294\"/><rect class=\"sym\" height=\"6\" width=\"6\" x=\"-3\" y=\"-3\"/><text class=\"lab\" transform=\"translate(0 11)\">5</text></g><path class=\"edge\" d=\"M 0 0 V -0.218794 H 14.7794\"/><circle class=\"sym\" cx=\"0\" cy=\"0\" r=\"3\"/><text class=\"lab lft\" transform=\"translate(-3 -7)\">8</text></g><path class=\"edge\" d=\"M 0 0 V -3.69518 H -22.1691\"/><circle class=\"sym\" cx=\"0\" cy=\"0\" r=\"3\"/><text class=\"lab rgt\" transform=\"translate(3 -7)\">9</text></g><path class=\"edge\" d=\"M 0 0 V -16.5094 H 33.2537\"/><circle class=\"sym\" cx=\"0\" cy=\"0\" r=\"3\"/><text class=\"lab lft\" transform=\"translate(-3 -7)\">15</text></g><g class=\"a22 c2 node n11 p0\" transform=\"translate(33.2537 18.8528)\"><g class=\"a11 i2 leaf node n4 p0 sample\" transform=\"translate(-9.85294 1.7952)\"><path class=\"edge\" d=\"M 0 0 V -1.7952 H 9.85294\"/><rect class=\"sym\" height=\"6\" width=\"6\" x=\"-3\" y=\"-3\"/><text class=\"lab\" transform=\"translate(0 11)\">4</text></g><g class=\"a11 i3 leaf node n6 p0 sample\" transform=\"translate(9.85294 1.7952)\"><path class=\"edge\" d=\"M 0 0 V -1.7952 H -9.85294\"/><rect class=\"sym\" height=\"6\" width=\"6\" x=\"-3\" y=\"-3\"/><text class=\"lab\" transform=\"translate(0 11)\">6</text></g><path class=\"edge\" d=\"M 0 0 V -18.8528 H -33.2537\"/><circle class=\"sym\" cx=\"0\" cy=\"0\" r=\"3\"/><text class=\"lab rgt\" transform=\"translate(3 -7)\">11</text></g><path class=\"edge\" d=\"M 0 0 V -0.056918 H -42.4908\"/><circle class=\"sym\" cx=\"0\" cy=\"0\" r=\"3\"/><text class=\"lab rgt\" transform=\"translate(3 -7)\">22</text></g><circle class=\"sym\" cx=\"0\" cy=\"0\" r=\"3\"/><text class=\"lab\" transform=\"translate(0 -11)\">23</text></g></g></g><g class=\"tree t3\" transform=\"translate(612.941 0)\"><g class=\"plotbox\"><g class=\"c2 node n22 p0 root\" transform=\"translate(111.756 100.752)\"><g class=\"a22 c2 m1 node n11 p0 s1\" transform=\"translate(46.1857 18.8528)\"><g class=\"a11 i2 leaf node n4 p0 sample\" transform=\"translate(-9.85294 1.7952)\"><path class=\"edge\" d=\"M 0 0 V -1.7952 H 9.85294\"/><rect class=\"sym\" height=\"6\" width=\"6\" x=\"-3\" y=\"-3\"/><text class=\"lab\" transform=\"translate(0 11)\">4</text></g><g class=\"a11 i3 leaf node n6 p0 sample\" transform=\"translate(9.85294 1.7952)\"><path class=\"edge\" d=\"M 0 0 V -1.7952 H -9.85294\"/><rect class=\"sym\" height=\"6\" width=\"6\" x=\"-3\" y=\"-3\"/><text class=\"lab\" transform=\"translate(0 11)\">6</text></g><path class=\"edge\" d=\"M 0 0 V -18.8528 H -46.1857\"/><g class=\"mut m1 s1\" transform=\"translate(0 -3.49682)\"><line x1=\"0\" x2=\"0\" y1=\"0\" y2=\"3.49682\"/><path class=\"sym\" d=\"M -3,-3 l 6,6 M -3,3 l 6,-6\"/><text class=\"lab rgt\" transform=\"translate(5 0)\">1</text></g><circle class=\"sym\" cx=\"0\" cy=\"0\" r=\"3\"/><text class=\"lab rgt\" transform=\"translate(3 -7)\">11</text></g><g class=\"a22 c2 node n19 p0\" transform=\"translate(-46.1857 7.04654)\"><g class=\"a19 c2 node n13 p0\" transform=\"translate(-25.864 11.2334)\"><g class=\"a13 i0 leaf node n0 p0 sample\" transform=\"translate(-9.85294 2.36803)\"><path class=\"edge\" d=\"M 0 0 V -2.36803 H 9.85294\"/><rect class=\"sym\" height=\"6\" width=\"6\" x=\"-3\" y=\"-3\"/><text class=\"lab\" transform=\"translate(0 11)\">0</text></g><g class=\"a13 i3 leaf node n7 p0 sample\" transform=\"translate(9.85294 2.36803)\"><path class=\"edge\" d=\"M 0 0 V -2.36803 H -9.85294\"/><rect class=\"sym\" height=\"6\" width=\"6\" x=\"-3\" y=\"-3\"/><text class=\"lab\" transform=\"translate(0 11)\">7</text></g><path class=\"edge\" d=\"M 0 0 V -11.2334 H 25.864\"/><circle class=\"sym\" cx=\"0\" cy=\"0\" r=\"3\"/><text class=\"lab lft\" transform=\"translate(-3 -7)\">13</text></g><g class=\"a19 c2 node n15 p0\" transform=\"translate(25.864 9.46287)\"><g class=\"a15 i0 leaf node n1 p0 sample\" transform=\"translate(-22.1691 4.13856)\"><path class=\"edge\" d=\"M 0 0 V -4.13856 H 22.1691\"/><rect class=\"sym\" height=\"6\" width=\"6\" x=\"-3\" y=\"-3\"/><text class=\"lab\" transform=\"translate(0 11)\">1</text></g><g class=\"a15 c2 node n9 p0\" transform=\"translate(22.1691 3.69518)\"><g class=\"a9 i1 leaf node n3 p0 sample\" transform=\"translate(14.7794 0.443375)\"><path class=\"edge\" d=\"M 0 0 V -0.443375 H -14.7794\"/><rect class=\"sym\" height=\"6\" width=\"6\" x=\"-3\" y=\"-3\"/><text class=\"lab\" transform=\"translate(0 11)\">3</text></g><g class=\"a9 c2 node n8 p0\" transform=\"translate(-14.7794 0.218794)\"><g class=\"a8 i1 leaf node n2 p0 sample\" transform=\"translate(-9.85294 0.224581)\"><path class=\"edge\" d=\"M 0 0 V -0.224581 H 9.85294\"/><rect class=\"sym\" height=\"6\" width=\"6\" x=\"-3\" y=\"-3\"/><text class=\"lab\" transform=\"translate(0 11)\">2</text></g><g class=\"a8 i2 leaf node n5 p0 sample\" transform=\"translate(9.85294 0.224581)\"><path class=\"edge\" d=\"M 0 0 V -0.224581 H -9.85294\"/><rect class=\"sym\" height=\"6\" width=\"6\" x=\"-3\" y=\"-3\"/><text class=\"lab\" transform=\"translate(0 11)\">5</text></g><path class=\"edge\" d=\"M 0 0 V -0.218794 H 14.7794\"/><circle class=\"sym\" cx=\"0\" cy=\"0\" r=\"3\"/><text class=\"lab lft\" transform=\"translate(-3 -7)\">8</text></g><path class=\"edge\" d=\"M 0 0 V -3.69518 H -22.1691\"/><circle class=\"sym\" cx=\"0\" cy=\"0\" r=\"3\"/><text class=\"lab rgt\" transform=\"translate(3 -7)\">9</text></g><path class=\"edge\" d=\"M 0 0 V -9.46287 H -25.864\"/><circle class=\"sym\" cx=\"0\" cy=\"0\" r=\"3\"/><text class=\"lab rgt\" transform=\"translate(3 -7)\">15</text></g><path class=\"edge\" d=\"M 0 0 V -7.04654 H 46.1857\"/><circle class=\"sym\" cx=\"0\" cy=\"0\" r=\"3\"/><text class=\"lab lft\" transform=\"translate(-3 -7)\">19</text></g><circle class=\"sym\" cx=\"0\" cy=\"0\" r=\"3\"/><text class=\"lab\" transform=\"translate(0 -11)\">22</text></g></g></g><g class=\"tree t4\" transform=\"translate(810.588 0)\"><g class=\"plotbox\"><g class=\"c2 node n25 p0 root\" transform=\"translate(111.756 87.6129)\"><g class=\"a25 c2 node n11 p0\" transform=\"translate(46.1857 31.9919)\"><g class=\"a11 i2 leaf node n4 p0 sample\" transform=\"translate(-9.85294 1.7952)\"><path class=\"edge\" d=\"M 0 0 V -1.7952 H 9.85294\"/><rect class=\"sym\" height=\"6\" width=\"6\" x=\"-3\" y=\"-3\"/><text class=\"lab\" transform=\"translate(0 11)\">4</text></g><g class=\"a11 i3 leaf node n6 p0 sample\" transform=\"translate(9.85294 1.7952)\"><path class=\"edge\" d=\"M 0 0 V -1.7952 H -9.85294\"/><rect class=\"sym\" height=\"6\" width=\"6\" x=\"-3\" y=\"-3\"/><text class=\"lab\" transform=\"translate(0 11)\">6</text></g><path class=\"edge\" d=\"M 0 0 V -31.9919 H -46.1857\"/><circle class=\"sym\" cx=\"0\" cy=\"0\" r=\"3\"/><text class=\"lab rgt\" transform=\"translate(3 -7)\">11</text></g><g class=\"a25 c2 node n19 p0\" transform=\"translate(-46.1857 20.1856)\"><g class=\"a19 c2 node n13 p0\" transform=\"translate(-25.864 11.2334)\"><g class=\"a13 i0 leaf node n0 p0 sample\" transform=\"translate(-9.85294 2.36803)\"><path class=\"edge\" d=\"M 0 0 V -2.36803 H 9.85294\"/><rect class=\"sym\" height=\"6\" width=\"6\" x=\"-3\" y=\"-3\"/><text class=\"lab\" transform=\"translate(0 11)\">0</text></g><g class=\"a13 i3 leaf node n7 p0 sample\" transform=\"translate(9.85294 2.36803)\"><path class=\"edge\" d=\"M 0 0 V -2.36803 H -9.85294\"/><rect class=\"sym\" height=\"6\" width=\"6\" x=\"-3\" y=\"-3\"/><text class=\"lab\" transform=\"translate(0 11)\">7</text></g><path class=\"edge\" d=\"M 0 0 V -11.2334 H 25.864\"/><circle class=\"sym\" cx=\"0\" cy=\"0\" r=\"3\"/><text class=\"lab lft\" transform=\"translate(-3 -7)\">13</text></g><g class=\"a19 c2 node n15 p0\" transform=\"translate(25.864 9.46287)\"><g class=\"a15 i0 leaf node n1 p0 sample\" transform=\"translate(-22.1691 4.13856)\"><path class=\"edge\" d=\"M 0 0 V -4.13856 H 22.1691\"/><rect class=\"sym\" height=\"6\" width=\"6\" x=\"-3\" y=\"-3\"/><text class=\"lab\" transform=\"translate(0 11)\">1</text></g><g class=\"a15 c2 node n9 p0\" transform=\"translate(22.1691 3.69518)\"><g class=\"a9 i1 leaf node n3 p0 sample\" transform=\"translate(14.7794 0.443375)\"><path class=\"edge\" d=\"M 0 0 V -0.443375 H -14.7794\"/><rect class=\"sym\" height=\"6\" width=\"6\" x=\"-3\" y=\"-3\"/><text class=\"lab\" transform=\"translate(0 11)\">3</text></g><g class=\"a9 c2 node n8 p0\" transform=\"translate(-14.7794 0.218794)\"><g class=\"a8 i1 leaf node n2 p0 sample\" transform=\"translate(-9.85294 0.224581)\"><path class=\"edge\" d=\"M 0 0 V -0.224581 H 9.85294\"/><rect class=\"sym\" height=\"6\" width=\"6\" x=\"-3\" y=\"-3\"/><text class=\"lab\" transform=\"translate(0 11)\">2</text></g><g class=\"a8 i2 leaf node n5 p0 sample\" transform=\"translate(9.85294 0.224581)\"><path class=\"edge\" d=\"M 0 0 V -0.224581 H -9.85294\"/><rect class=\"sym\" height=\"6\" width=\"6\" x=\"-3\" y=\"-3\"/><text class=\"lab\" transform=\"translate(0 11)\">5</text></g><path class=\"edge\" d=\"M 0 0 V -0.218794 H 14.7794\"/><circle class=\"sym\" cx=\"0\" cy=\"0\" r=\"3\"/><text class=\"lab lft\" transform=\"translate(-3 -7)\">8</text></g><path class=\"edge\" d=\"M 0 0 V -3.69518 H -22.1691\"/><circle class=\"sym\" cx=\"0\" cy=\"0\" r=\"3\"/><text class=\"lab rgt\" transform=\"translate(3 -7)\">9</text></g><path class=\"edge\" d=\"M 0 0 V -9.46287 H -25.864\"/><circle class=\"sym\" cx=\"0\" cy=\"0\" r=\"3\"/><text class=\"lab rgt\" transform=\"translate(3 -7)\">15</text></g><path class=\"edge\" d=\"M 0 0 V -20.1856 H 46.1857\"/><circle class=\"sym\" cx=\"0\" cy=\"0\" r=\"3\"/><text class=\"lab lft\" transform=\"translate(-3 -7)\">19</text></g><circle class=\"sym\" cx=\"0\" cy=\"0\" r=\"3\"/><text class=\"lab\" transform=\"translate(0 -11)\">25</text></g></g></g><g class=\"tree t5\" transform=\"translate(1008.24 0)\"><g class=\"plotbox\"><g class=\"c2 node n25 p0 root\" transform=\"translate(120.993 87.6129)\"><g class=\"a25 c2 node n11 p0\" transform=\"translate(36.9485 31.9919)\"><g class=\"a11 i2 leaf node n4 p0 sample\" transform=\"translate(-9.85294 1.7952)\"><path class=\"edge\" d=\"M 0 0 V -1.7952 H 9.85294\"/><rect class=\"sym\" height=\"6\" width=\"6\" x=\"-3\" y=\"-3\"/><text class=\"lab\" transform=\"translate(0 11)\">4</text></g><g class=\"a11 i3 leaf node n6 p0 sample\" transform=\"translate(9.85294 1.7952)\"><path class=\"edge\" d=\"M 0 0 V -1.7952 H -9.85294\"/><rect class=\"sym\" height=\"6\" width=\"6\" x=\"-3\" y=\"-3\"/><text class=\"lab\" transform=\"translate(0 11)\">6</text></g><path class=\"edge\" d=\"M 0 0 V -31.9919 H -36.9485\"/><circle class=\"sym\" cx=\"0\" cy=\"0\" r=\"3\"/><text class=\"lab rgt\" transform=\"translate(3 -7)\">11</text></g><g class=\"a25 c2 node n23 p0\" transform=\"translate(-36.9485 13.0822)\"><g class=\"a23 c2 node n9 p0\" transform=\"translate(29.5588 20.2615)\"><g class=\"a9 i1 leaf node n3 p0 sample\" transform=\"translate(14.7794 0.443375)\"><path class=\"edge\" d=\"M 0 0 V -0.443375 H -14.7794\"/><rect class=\"sym\" height=\"6\" width=\"6\" x=\"-3\" y=\"-3\"/><text class=\"lab\" transform=\"translate(0 11)\">3</text></g><g class=\"a9 c2 node n8 p0\" transform=\"translate(-14.7794 0.218794)\"><g class=\"a8 i1 leaf node n2 p0 sample\" transform=\"translate(-9.85294 0.224581)\"><path class=\"edge\" d=\"M 0 0 V -0.224581 H 9.85294\"/><rect class=\"sym\" height=\"6\" width=\"6\" x=\"-3\" y=\"-3\"/><text class=\"lab\" transform=\"translate(0 11)\">2</text></g><g class=\"a8 i2 leaf node n5 p0 sample\" transform=\"translate(9.85294 0.224581)\"><path class=\"edge\" d=\"M 0 0 V -0.224581 H -9.85294\"/><rect class=\"sym\" height=\"6\" width=\"6\" x=\"-3\" y=\"-3\"/><text class=\"lab\" transform=\"translate(0 11)\">5</text></g><path class=\"edge\" d=\"M 0 0 V -0.218794 H 14.7794\"/><circle class=\"sym\" cx=\"0\" cy=\"0\" r=\"3\"/><text class=\"lab lft\" transform=\"translate(-3 -7)\">8</text></g><path class=\"edge\" d=\"M 0 0 V -20.2615 H -29.5588\"/><circle class=\"sym\" cx=\"0\" cy=\"0\" r=\"3\"/><text class=\"lab rgt\" transform=\"translate(3 -7)\">9</text></g><g class=\"a23 c2 node n19 p0\" transform=\"translate(-29.5588 7.10346)\"><g class=\"a19 c2 node n13 p0\" transform=\"translate(-14.7794 11.2334)\"><g class=\"a13 i0 leaf node n0 p0 sample\" transform=\"translate(-9.85294 2.36803)\"><path class=\"edge\" d=\"M 0 0 V -2.36803 H 9.85294\"/><rect class=\"sym\" height=\"6\" width=\"6\" x=\"-3\" y=\"-3\"/><text class=\"lab\" transform=\"translate(0 11)\">0</text></g><g class=\"a13 i3 leaf node n7 p0 sample\" transform=\"translate(9.85294 2.36803)\"><path class=\"edge\" d=\"M 0 0 V -2.36803 H -9.85294\"/><rect class=\"sym\" height=\"6\" width=\"6\" x=\"-3\" y=\"-3\"/><text class=\"lab\" transform=\"translate(0 11)\">7</text></g><path class=\"edge\" d=\"M 0 0 V -11.2334 H 14.7794\"/><circle class=\"sym\" cx=\"0\" cy=\"0\" r=\"3\"/><text class=\"lab lft\" transform=\"translate(-3 -7)\">13</text></g><g class=\"a19 i0 leaf node n1 p0 sample\" transform=\"translate(14.7794 13.6014)\"><path class=\"edge\" d=\"M 0 0 V -13.6014 H -14.7794\"/><rect class=\"sym\" height=\"6\" width=\"6\" x=\"-3\" y=\"-3\"/><text class=\"lab\" transform=\"translate(0 11)\">1</text></g><path class=\"edge\" d=\"M 0 0 V -7.10346 H 29.5588\"/><circle class=\"sym\" cx=\"0\" cy=\"0\" r=\"3\"/><text class=\"lab lft\" transform=\"translate(-3 -7)\">19</text></g><path class=\"edge\" d=\"M 0 0 V -13.0822 H 36.9485\"/><circle class=\"sym\" cx=\"0\" cy=\"0\" r=\"3\"/><text class=\"lab lft\" transform=\"translate(-3 -7)\">23</text></g><circle class=\"sym\" cx=\"0\" cy=\"0\" r=\"3\"/><text class=\"lab\" transform=\"translate(0 -11)\">25</text></g></g></g><g class=\"tree t6\" transform=\"translate(1205.88 0)\"><g class=\"plotbox\"><g class=\"c2 node n27 p0 root\" transform=\"translate(120.993 26.8)\"><g class=\"a27 c2 node n11 p0\" transform=\"translate(36.9485 92.8048)\"><g class=\"a11 i2 leaf node n4 p0 sample\" transform=\"translate(-9.85294 1.7952)\"><path class=\"edge\" d=\"M 0 0 V -1.7952 H 9.85294\"/><rect class=\"sym\" height=\"6\" width=\"6\" x=\"-3\" y=\"-3\"/><text class=\"lab\" transform=\"translate(0 11)\">4</text></g><g class=\"a11 i3 leaf node n6 p0 sample\" transform=\"translate(9.85294 1.7952)\"><path class=\"edge\" d=\"M 0 0 V -1.7952 H -9.85294\"/><rect class=\"sym\" height=\"6\" width=\"6\" x=\"-3\" y=\"-3\"/><text class=\"lab\" transform=\"translate(0 11)\">6</text></g><path class=\"edge\" d=\"M 0 0 V -92.8048 H -36.9485\"/><circle class=\"sym\" cx=\"0\" cy=\"0\" r=\"3\"/><text class=\"lab rgt\" transform=\"translate(3 -7)\">11</text></g><g class=\"a27 c2 node n23 p0\" transform=\"translate(-36.9485 73.8951)\"><g class=\"a23 c2 node n9 p0\" transform=\"translate(29.5588 20.2615)\"><g class=\"a9 i1 leaf node n3 p0 sample\" transform=\"translate(14.7794 0.443375)\"><path class=\"edge\" d=\"M 0 0 V -0.443375 H -14.7794\"/><rect class=\"sym\" height=\"6\" width=\"6\" x=\"-3\" y=\"-3\"/><text class=\"lab\" transform=\"translate(0 11)\">3</text></g><g class=\"a9 c2 node n8 p0\" transform=\"translate(-14.7794 0.218794)\"><g class=\"a8 i1 leaf node n2 p0 sample\" transform=\"translate(-9.85294 0.224581)\"><path class=\"edge\" d=\"M 0 0 V -0.224581 H 9.85294\"/><rect class=\"sym\" height=\"6\" width=\"6\" x=\"-3\" y=\"-3\"/><text class=\"lab\" transform=\"translate(0 11)\">2</text></g><g class=\"a8 i2 leaf node n5 p0 sample\" transform=\"translate(9.85294 0.224581)\"><path class=\"edge\" d=\"M 0 0 V -0.224581 H -9.85294\"/><rect class=\"sym\" height=\"6\" width=\"6\" x=\"-3\" y=\"-3\"/><text class=\"lab\" transform=\"translate(0 11)\">5</text></g><path class=\"edge\" d=\"M 0 0 V -0.218794 H 14.7794\"/><circle class=\"sym\" cx=\"0\" cy=\"0\" r=\"3\"/><text class=\"lab lft\" transform=\"translate(-3 -7)\">8</text></g><path class=\"edge\" d=\"M 0 0 V -20.2615 H -29.5588\"/><circle class=\"sym\" cx=\"0\" cy=\"0\" r=\"3\"/><text class=\"lab rgt\" transform=\"translate(3 -7)\">9</text></g><g class=\"a23 c2 node n19 p0\" transform=\"translate(-29.5588 7.10346)\"><g class=\"a19 c2 node n13 p0\" transform=\"translate(-14.7794 11.2334)\"><g class=\"a13 i0 leaf node n0 p0 sample\" transform=\"translate(-9.85294 2.36803)\"><path class=\"edge\" d=\"M 0 0 V -2.36803 H 9.85294\"/><rect class=\"sym\" height=\"6\" width=\"6\" x=\"-3\" y=\"-3\"/><text class=\"lab\" transform=\"translate(0 11)\">0</text></g><g class=\"a13 i3 leaf node n7 p0 sample\" transform=\"translate(9.85294 2.36803)\"><path class=\"edge\" d=\"M 0 0 V -2.36803 H -9.85294\"/><rect class=\"sym\" height=\"6\" width=\"6\" x=\"-3\" y=\"-3\"/><text class=\"lab\" transform=\"translate(0 11)\">7</text></g><path class=\"edge\" d=\"M 0 0 V -11.2334 H 14.7794\"/><circle class=\"sym\" cx=\"0\" cy=\"0\" r=\"3\"/><text class=\"lab lft\" transform=\"translate(-3 -7)\">13</text></g><g class=\"a19 i0 leaf node n1 p0 sample\" transform=\"translate(14.7794 13.6014)\"><path class=\"edge\" d=\"M 0 0 V -13.6014 H -14.7794\"/><rect class=\"sym\" height=\"6\" width=\"6\" x=\"-3\" y=\"-3\"/><text class=\"lab\" transform=\"translate(0 11)\">1</text></g><path class=\"edge\" d=\"M 0 0 V -7.10346 H 29.5588\"/><circle class=\"sym\" cx=\"0\" cy=\"0\" r=\"3\"/><text class=\"lab lft\" transform=\"translate(-3 -7)\">19</text></g><path class=\"edge\" d=\"M 0 0 V -73.8951 H 36.9485\"/><circle class=\"sym\" cx=\"0\" cy=\"0\" r=\"3\"/><text class=\"lab lft\" transform=\"translate(-3 -7)\">23</text></g><circle class=\"sym\" cx=\"0\" cy=\"0\" r=\"3\"/><text class=\"lab\" transform=\"translate(0 -11)\">27</text></g></g></g><g class=\"tree t7\" transform=\"translate(1403.53 0)\"><g class=\"plotbox\"><g class=\"c2 node n26 p0 root\" transform=\"translate(120.993 84.0226)\"><g class=\"a26 c2 m2 node n11 p0 s2\" transform=\"translate(36.9485 35.5823)\"><g class=\"a11 i2 leaf node n4 p0 sample\" transform=\"translate(-9.85294 1.7952)\"><path class=\"edge\" d=\"M 0 0 V -1.7952 H 9.85294\"/><rect class=\"sym\" height=\"6\" width=\"6\" x=\"-3\" y=\"-3\"/><text class=\"lab\" transform=\"translate(0 11)\">4</text></g><g class=\"a11 i3 leaf node n6 p0 sample\" transform=\"translate(9.85294 1.7952)\"><path class=\"edge\" d=\"M 0 0 V -1.7952 H -9.85294\"/><rect class=\"sym\" height=\"6\" width=\"6\" x=\"-3\" y=\"-3\"/><text class=\"lab\" transform=\"translate(0 11)\">6</text></g><path class=\"edge\" d=\"M 0 0 V -35.5823 H -36.9485\"/><g class=\"mut m2 s2\" transform=\"translate(0 -26.2652)\"><line x1=\"0\" x2=\"0\" y1=\"0\" y2=\"26.2652\"/><path class=\"sym\" d=\"M -3,-3 l 6,6 M -3,3 l 6,-6\"/><text class=\"lab rgt\" transform=\"translate(5 0)\">2</text></g><circle class=\"sym\" cx=\"0\" cy=\"0\" r=\"3\"/><text class=\"lab rgt\" transform=\"translate(3 -7)\">11</text></g><g class=\"a26 c2 node n23 p0\" transform=\"translate(-36.9485 16.6726)\"><g class=\"a23 c2 node n9 p0\" transform=\"translate(29.5588 20.2615)\"><g class=\"a9 i1 leaf node n3 p0 sample\" transform=\"translate(14.7794 0.443375)\"><path class=\"edge\" d=\"M 0 0 V -0.443375 H -14.7794\"/><rect class=\"sym\" height=\"6\" width=\"6\" x=\"-3\" y=\"-3\"/><text class=\"lab\" transform=\"translate(0 11)\">3</text></g><g class=\"a9 c2 node n8 p0\" transform=\"translate(-14.7794 0.218794)\"><g class=\"a8 i1 leaf node n2 p0 sample\" transform=\"translate(-9.85294 0.224581)\"><path class=\"edge\" d=\"M 0 0 V -0.224581 H 9.85294\"/><rect class=\"sym\" height=\"6\" width=\"6\" x=\"-3\" y=\"-3\"/><text class=\"lab\" transform=\"translate(0 11)\">2</text></g><g class=\"a8 i2 leaf node n5 p0 sample\" transform=\"translate(9.85294 0.224581)\"><path class=\"edge\" d=\"M 0 0 V -0.224581 H -9.85294\"/><rect class=\"sym\" height=\"6\" width=\"6\" x=\"-3\" y=\"-3\"/><text class=\"lab\" transform=\"translate(0 11)\">5</text></g><path class=\"edge\" d=\"M 0 0 V -0.218794 H 14.7794\"/><circle class=\"sym\" cx=\"0\" cy=\"0\" r=\"3\"/><text class=\"lab lft\" transform=\"translate(-3 -7)\">8</text></g><path class=\"edge\" d=\"M 0 0 V -20.2615 H -29.5588\"/><circle class=\"sym\" cx=\"0\" cy=\"0\" r=\"3\"/><text class=\"lab rgt\" transform=\"translate(3 -7)\">9</text></g><g class=\"a23 c2 node n19 p0\" transform=\"translate(-29.5588 7.10346)\"><g class=\"a19 c2 m3 node n13 p0 s3\" transform=\"translate(-14.7794 11.2334)\"><g class=\"a13 i0 leaf node n0 p0 sample\" transform=\"translate(-9.85294 2.36803)\"><path class=\"edge\" d=\"M 0 0 V -2.36803 H 9.85294\"/><rect class=\"sym\" height=\"6\" width=\"6\" x=\"-3\" y=\"-3\"/><text class=\"lab\" transform=\"translate(0 11)\">0</text></g><g class=\"a13 i3 leaf node n7 p0 sample\" transform=\"translate(9.85294 2.36803)\"><path class=\"edge\" d=\"M 0 0 V -2.36803 H -9.85294\"/><rect class=\"sym\" height=\"6\" width=\"6\" x=\"-3\" y=\"-3\"/><text class=\"lab\" transform=\"translate(0 11)\">7</text></g><path class=\"edge\" d=\"M 0 0 V -11.2334 H 14.7794\"/><g class=\"mut m3 s3\" transform=\"translate(0 -1.63658)\"><line x1=\"0\" x2=\"0\" y1=\"0\" y2=\"1.63658\"/><path class=\"sym\" d=\"M -3,-3 l 6,6 M -3,3 l 6,-6\"/><text class=\"lab lft\" transform=\"translate(-5 0)\">3</text></g><circle class=\"sym\" cx=\"0\" cy=\"0\" r=\"3\"/><text class=\"lab lft\" transform=\"translate(-3 -7)\">13</text></g><g class=\"a19 i0 leaf node n1 p0 sample\" transform=\"translate(14.7794 13.6014)\"><path class=\"edge\" d=\"M 0 0 V -13.6014 H -14.7794\"/><rect class=\"sym\" height=\"6\" width=\"6\" x=\"-3\" y=\"-3\"/><text class=\"lab\" transform=\"translate(0 11)\">1</text></g><path class=\"edge\" d=\"M 0 0 V -7.10346 H 29.5588\"/><circle class=\"sym\" cx=\"0\" cy=\"0\" r=\"3\"/><text class=\"lab lft\" transform=\"translate(-3 -7)\">19</text></g><path class=\"edge\" d=\"M 0 0 V -16.6726 H 36.9485\"/><circle class=\"sym\" cx=\"0\" cy=\"0\" r=\"3\"/><text class=\"lab lft\" transform=\"translate(-3 -7)\">23</text></g><circle class=\"sym\" cx=\"0\" cy=\"0\" r=\"3\"/><text class=\"lab\" transform=\"translate(0 -11)\">26</text></g></g></g><g class=\"tree t8\" transform=\"translate(1601.18 0)\"><g class=\"plotbox\"><g class=\"c2 node n24 p0 root\" transform=\"translate(120.993 96.0321)\"><g class=\"a24 c2 node n11 p0\" transform=\"translate(36.9485 23.5727)\"><g class=\"a11 i2 leaf node n4 p0 sample\" transform=\"translate(-9.85294 1.7952)\"><path class=\"edge\" d=\"M 0 0 V -1.7952 H 9.85294\"/><rect class=\"sym\" height=\"6\" width=\"6\" x=\"-3\" y=\"-3\"/><text class=\"lab\" transform=\"translate(0 11)\">4</text></g><g class=\"a11 i3 leaf node n6 p0 sample\" transform=\"translate(9.85294 1.7952)\"><path class=\"edge\" d=\"M 0 0 V -1.7952 H -9.85294\"/><rect class=\"sym\" height=\"6\" width=\"6\" x=\"-3\" y=\"-3\"/><text class=\"lab\" transform=\"translate(0 11)\">6</text></g><path class=\"edge\" d=\"M 0 0 V -23.5727 H -36.9485\"/><circle class=\"sym\" cx=\"0\" cy=\"0\" r=\"3\"/><text class=\"lab rgt\" transform=\"translate(3 -7)\">11</text></g><g class=\"a24 c2 node n23 p0\" transform=\"translate(-36.9485 4.66299)\"><g class=\"a23 c2 node n9 p0\" transform=\"translate(29.5588 20.2615)\"><g class=\"a9 i1 leaf node n3 p0 sample\" transform=\"translate(14.7794 0.443375)\"><path class=\"edge\" d=\"M 0 0 V -0.443375 H -14.7794\"/><rect class=\"sym\" height=\"6\" width=\"6\" x=\"-3\" y=\"-3\"/><text class=\"lab\" transform=\"translate(0 11)\">3</text></g><g class=\"a9 c2 node n8 p0\" transform=\"translate(-14.7794 0.218794)\"><g class=\"a8 i1 leaf node n2 p0 sample\" transform=\"translate(-9.85294 0.224581)\"><path class=\"edge\" d=\"M 0 0 V -0.224581 H 9.85294\"/><rect class=\"sym\" height=\"6\" width=\"6\" x=\"-3\" y=\"-3\"/><text class=\"lab\" transform=\"translate(0 11)\">2</text></g><g class=\"a8 i2 leaf node n5 p0 sample\" transform=\"translate(9.85294 0.224581)\"><path class=\"edge\" d=\"M 0 0 V -0.224581 H -9.85294\"/><rect class=\"sym\" height=\"6\" width=\"6\" x=\"-3\" y=\"-3\"/><text class=\"lab\" transform=\"translate(0 11)\">5</text></g><path class=\"edge\" d=\"M 0 0 V -0.218794 H 14.7794\"/><circle class=\"sym\" cx=\"0\" cy=\"0\" r=\"3\"/><text class=\"lab lft\" transform=\"translate(-3 -7)\">8</text></g><path class=\"edge\" d=\"M 0 0 V -20.2615 H -29.5588\"/><circle class=\"sym\" cx=\"0\" cy=\"0\" r=\"3\"/><text class=\"lab rgt\" transform=\"translate(3 -7)\">9</text></g><g class=\"a23 c2 node n19 p0\" transform=\"translate(-29.5588 7.10346)\"><g class=\"a19 c2 node n13 p0\" transform=\"translate(-14.7794 11.2334)\"><g class=\"a13 i0 leaf node n0 p0 sample\" transform=\"translate(-9.85294 2.36803)\"><path class=\"edge\" d=\"M 0 0 V -2.36803 H 9.85294\"/><rect class=\"sym\" height=\"6\" width=\"6\" x=\"-3\" y=\"-3\"/><text class=\"lab\" transform=\"translate(0 11)\">0</text></g><g class=\"a13 i3 leaf node n7 p0 sample\" transform=\"translate(9.85294 2.36803)\"><path class=\"edge\" d=\"M 0 0 V -2.36803 H -9.85294\"/><rect class=\"sym\" height=\"6\" width=\"6\" x=\"-3\" y=\"-3\"/><text class=\"lab\" transform=\"translate(0 11)\">7</text></g><path class=\"edge\" d=\"M 0 0 V -11.2334 H 14.7794\"/><circle class=\"sym\" cx=\"0\" cy=\"0\" r=\"3\"/><text class=\"lab lft\" transform=\"translate(-3 -7)\">13</text></g><g class=\"a19 i0 leaf m4 node n1 p0 s4 sample\" transform=\"translate(14.7794 13.6014)\"><path class=\"edge\" d=\"M 0 0 V -13.6014 H -14.7794\"/><g class=\"mut m4 s4\" transform=\"translate(0 -1.37123)\"><line x1=\"0\" x2=\"0\" y1=\"0\" y2=\"1.37123\"/><path class=\"sym\" d=\"M -3,-3 l 6,6 M -3,3 l 6,-6\"/><text class=\"lab rgt\" transform=\"translate(5 0)\">4</text></g><rect class=\"sym\" height=\"6\" width=\"6\" x=\"-3\" y=\"-3\"/><text class=\"lab\" transform=\"translate(0 11)\">1</text></g><path class=\"edge\" d=\"M 0 0 V -7.10346 H 29.5588\"/><circle class=\"sym\" cx=\"0\" cy=\"0\" r=\"3\"/><text class=\"lab lft\" transform=\"translate(-3 -7)\">19</text></g><path class=\"edge\" d=\"M 0 0 V -4.66299 H 36.9485\"/><circle class=\"sym\" cx=\"0\" cy=\"0\" r=\"3\"/><text class=\"lab lft\" transform=\"translate(-3 -7)\">23</text></g><circle class=\"sym\" cx=\"0\" cy=\"0\" r=\"3\"/><text class=\"lab\" transform=\"translate(0 -11)\">24</text></g></g></g><g class=\"tree t9\" transform=\"translate(1798.82 0)\"><g class=\"plotbox\"><g class=\"c2 node n24 p0 root\" transform=\"translate(131.153 96.0321)\"><g class=\"a24 c2 node n11 p0\" transform=\"translate(26.7877 23.5727)\"><g class=\"a11 i2 leaf node n4 p0 sample\" transform=\"translate(-9.85294 1.7952)\"><path class=\"edge\" d=\"M 0 0 V -1.7952 H 9.85294\"/><rect class=\"sym\" height=\"6\" width=\"6\" x=\"-3\" y=\"-3\"/><text class=\"lab\" transform=\"translate(0 11)\">4</text></g><g class=\"a11 i3 leaf node n6 p0 sample\" transform=\"translate(9.85294 1.7952)\"><path class=\"edge\" d=\"M 0 0 V -1.7952 H -9.85294\"/><rect class=\"sym\" height=\"6\" width=\"6\" x=\"-3\" y=\"-3\"/><text class=\"lab\" transform=\"translate(0 11)\">6</text></g><path class=\"edge\" d=\"M 0 0 V -23.5727 H -26.7877\"/><circle class=\"sym\" cx=\"0\" cy=\"0\" r=\"3\"/><text class=\"lab rgt\" transform=\"translate(3 -7)\">11</text></g><g class=\"a24 c2 node n19 p0\" transform=\"translate(-26.7877 11.7664)\"><g class=\"a19 c2 node n13 p0\" transform=\"translate(-24.0165 11.2334)\"><g class=\"a13 i3 leaf node n7 p0 sample\" transform=\"translate(28.3272 2.36803)\"><path class=\"edge\" d=\"M 0 0 V -2.36803 H -28.3272\"/><rect class=\"sym\" height=\"6\" width=\"6\" x=\"-3\" y=\"-3\"/><text class=\"lab\" transform=\"translate(0 11)\">7</text></g><g class=\"a13 c2 node n12 p0\" transform=\"translate(-28.3272 0.23289)\"><g class=\"a12 i0 leaf node n0 p0 sample\" transform=\"translate(-22.1691 2.13514)\"><path class=\"edge\" d=\"M 0 0 V -2.13514 H 22.1691\"/><rect class=\"sym\" height=\"6\" width=\"6\" x=\"-3\" y=\"-3\"/><text class=\"lab\" transform=\"translate(0 11)\">0</text></g><g class=\"a12 c2 node n9 p0\" transform=\"translate(22.1691 1.69176)\"><g class=\"a9 i1 leaf node n3 p0 sample\" transform=\"translate(14.7794 0.443375)\"><path class=\"edge\" d=\"M 0 0 V -0.443375 H -14.7794\"/><rect class=\"sym\" height=\"6\" width=\"6\" x=\"-3\" y=\"-3\"/><text class=\"lab\" transform=\"translate(0 11)\">3</text></g><g class=\"a9 c2 node n8 p0\" transform=\"translate(-14.7794 0.218794)\"><g class=\"a8 i1 leaf node n2 p0 sample\" transform=\"translate(-9.85294 0.224581)\"><path class=\"edge\" d=\"M 0 0 V -0.224581 H 9.85294\"/><rect class=\"sym\" height=\"6\" width=\"6\" x=\"-3\" y=\"-3\"/><text class=\"lab\" transform=\"translate(0 11)\">2</text></g><g class=\"a8 i2 leaf node n5 p0 sample\" transform=\"translate(9.85294 0.224581)\"><path class=\"edge\" d=\"M 0 0 V -0.224581 H -9.85294\"/><rect class=\"sym\" height=\"6\" width=\"6\" x=\"-3\" y=\"-3\"/><text class=\"lab\" transform=\"translate(0 11)\">5</text></g><path class=\"edge\" d=\"M 0 0 V -0.218794 H 14.7794\"/><circle class=\"sym\" cx=\"0\" cy=\"0\" r=\"3\"/><text class=\"lab lft\" transform=\"translate(-3 -7)\">8</text></g><path class=\"edge\" d=\"M 0 0 V -1.69176 H -22.1691\"/><circle class=\"sym\" cx=\"0\" cy=\"0\" r=\"3\"/><text class=\"lab rgt\" transform=\"translate(3 -7)\">9</text></g><path class=\"edge\" d=\"M 0 0 V -0.23289 H 28.3272\"/><circle class=\"sym\" cx=\"0\" cy=\"0\" r=\"3\"/><text class=\"lab lft\" transform=\"translate(-3 -7)\">12</text></g><path class=\"edge\" d=\"M 0 0 V -11.2334 H 24.0165\"/><circle class=\"sym\" cx=\"0\" cy=\"0\" r=\"3\"/><text class=\"lab lft\" transform=\"translate(-3 -7)\">13</text></g><g class=\"a19 i0 leaf node n1 p0 sample\" transform=\"translate(24.0165 13.6014)\"><path class=\"edge\" d=\"M 0 0 V -13.6014 H -24.0165\"/><rect class=\"sym\" height=\"6\" width=\"6\" x=\"-3\" y=\"-3\"/><text class=\"lab\" transform=\"translate(0 11)\">1</text></g><path class=\"edge\" d=\"M 0 0 V -11.7664 H 26.7877\"/><circle class=\"sym\" cx=\"0\" cy=\"0\" r=\"3\"/><text class=\"lab lft\" transform=\"translate(-3 -7)\">19</text></g><circle class=\"sym\" cx=\"0\" cy=\"0\" r=\"3\"/><text class=\"lab\" transform=\"translate(0 -11)\">24</text></g></g></g><g class=\"tree t10\" transform=\"translate(1996.47 0)\"><g class=\"plotbox\"><g class=\"c2 node n24 p0 root\" transform=\"translate(131.153 96.0321)\"><g class=\"a24 c2 node n19 p0\" transform=\"translate(-26.7877 11.7664)\"><g class=\"a19 c2 node n13 p0\" transform=\"translate(-24.0165 11.2334)\"><g class=\"a13 i3 leaf node n7 p0 sample\" transform=\"translate(28.3272 2.36803)\"><path class=\"edge\" d=\"M 0 0 V -2.36803 H -28.3272\"/><rect class=\"sym\" height=\"6\" width=\"6\" x=\"-3\" y=\"-3\"/><text class=\"lab\" transform=\"translate(0 11)\">7</text></g><g class=\"a13 c2 node n12 p0\" transform=\"translate(-28.3272 0.23289)\"><g class=\"a12 i0 leaf m5 node n0 p0 s5 sample\" transform=\"translate(-22.1691 2.13514)\"><path class=\"edge\" d=\"M 0 0 V -2.13514 H 22.1691\"/><g class=\"mut m5 s5\" transform=\"translate(0 -0.788571)\"><line x1=\"0\" x2=\"0\" y1=\"0\" y2=\"0.788571\"/><path class=\"sym\" d=\"M -3,-3 l 6,6 M -3,3 l 6,-6\"/><text class=\"lab lft\" transform=\"translate(-5 0)\">5</text></g><rect class=\"sym\" height=\"6\" width=\"6\" x=\"-3\" y=\"-3\"/><text class=\"lab\" transform=\"translate(0 11)\">0</text></g><g class=\"a12 c2 node n9 p0\" transform=\"translate(22.1691 1.69176)\"><g class=\"a9 i1 leaf node n3 p0 sample\" transform=\"translate(14.7794 0.443375)\"><path class=\"edge\" d=\"M 0 0 V -0.443375 H -14.7794\"/><rect class=\"sym\" height=\"6\" width=\"6\" x=\"-3\" y=\"-3\"/><text class=\"lab\" transform=\"translate(0 11)\">3</text></g><g class=\"a9 c2 node n8 p0\" transform=\"translate(-14.7794 0.218794)\"><g class=\"a8 i1 leaf node n2 p0 sample\" transform=\"translate(-9.85294 0.224581)\"><path class=\"edge\" d=\"M 0 0 V -0.224581 H 9.85294\"/><rect class=\"sym\" height=\"6\" width=\"6\" x=\"-3\" y=\"-3\"/><text class=\"lab\" transform=\"translate(0 11)\">2</text></g><g class=\"a8 i2 leaf node n5 p0 sample\" transform=\"translate(9.85294 0.224581)\"><path class=\"edge\" d=\"M 0 0 V -0.224581 H -9.85294\"/><rect class=\"sym\" height=\"6\" width=\"6\" x=\"-3\" y=\"-3\"/><text class=\"lab\" transform=\"translate(0 11)\">5</text></g><path class=\"edge\" d=\"M 0 0 V -0.218794 H 14.7794\"/><circle class=\"sym\" cx=\"0\" cy=\"0\" r=\"3\"/><text class=\"lab lft\" transform=\"translate(-3 -7)\">8</text></g><path class=\"edge\" d=\"M 0 0 V -1.69176 H -22.1691\"/><circle class=\"sym\" cx=\"0\" cy=\"0\" r=\"3\"/><text class=\"lab rgt\" transform=\"translate(3 -7)\">9</text></g><path class=\"edge\" d=\"M 0 0 V -0.23289 H 28.3272\"/><circle class=\"sym\" cx=\"0\" cy=\"0\" r=\"3\"/><text class=\"lab lft\" transform=\"translate(-3 -7)\">12</text></g><path class=\"edge\" d=\"M 0 0 V -11.2334 H 24.0165\"/><circle class=\"sym\" cx=\"0\" cy=\"0\" r=\"3\"/><text class=\"lab lft\" transform=\"translate(-3 -7)\">13</text></g><g class=\"a19 i0 leaf m7 node n1 p0 s7 sample\" transform=\"translate(24.0165 13.6014)\"><path class=\"edge\" d=\"M 0 0 V -13.6014 H -24.0165\"/><g class=\"mut m7 s7\" transform=\"translate(0 -5.99196)\"><line x1=\"0\" x2=\"0\" y1=\"0\" y2=\"5.99196\"/><path class=\"sym\" d=\"M -3,-3 l 6,6 M -3,3 l 6,-6\"/><text class=\"lab rgt\" transform=\"translate(5 0)\">7</text></g><rect class=\"sym\" height=\"6\" width=\"6\" x=\"-3\" y=\"-3\"/><text class=\"lab\" transform=\"translate(0 11)\">1</text></g><path class=\"edge\" d=\"M 0 0 V -11.7664 H 26.7877\"/><circle class=\"sym\" cx=\"0\" cy=\"0\" r=\"3\"/><text class=\"lab lft\" transform=\"translate(-3 -7)\">19</text></g><g class=\"a24 c2 m6 node n14 p0 s6\" transform=\"translate(26.7877 22.9368)\"><g class=\"a14 i2 leaf node n4 p0 sample\" transform=\"translate(-9.85294 2.43112)\"><path class=\"edge\" d=\"M 0 0 V -2.43112 H 9.85294\"/><rect class=\"sym\" height=\"6\" width=\"6\" x=\"-3\" y=\"-3\"/><text class=\"lab\" transform=\"translate(0 11)\">4</text></g><g class=\"a14 i3 leaf node n6 p0 sample\" transform=\"translate(9.85294 2.43112)\"><path class=\"edge\" d=\"M 0 0 V -2.43112 H -9.85294\"/><rect class=\"sym\" height=\"6\" width=\"6\" x=\"-3\" y=\"-3\"/><text class=\"lab\" transform=\"translate(0 11)\">6</text></g><path class=\"edge\" d=\"M 0 0 V -22.9368 H -26.7877\"/><g class=\"mut m6 s6\" transform=\"translate(0 -0.55895)\"><line x1=\"0\" x2=\"0\" y1=\"0\" y2=\"0.55895\"/><path class=\"sym\" d=\"M -3,-3 l 6,6 M -3,3 l 6,-6\"/><text class=\"lab rgt\" transform=\"translate(5 0)\">6</text></g><circle class=\"sym\" cx=\"0\" cy=\"0\" r=\"3\"/><text class=\"lab rgt\" transform=\"translate(3 -7)\">14</text></g><circle class=\"sym\" cx=\"0\" cy=\"0\" r=\"3\"/><text class=\"lab\" transform=\"translate(0 -11)\">24</text></g></g></g><g class=\"tree t11\" transform=\"translate(2194.12 0)\"><g class=\"plotbox\"><g class=\"c2 node n24 p0 root\" transform=\"translate(131.153 96.0321)\"><g class=\"a24 c2 node n14 p0\" transform=\"translate(26.7877 22.9368)\"><g class=\"a14 i2 leaf node n4 p0 sample\" transform=\"translate(-9.85294 2.43112)\"><path class=\"edge\" d=\"M 0 0 V -2.43112 H 9.85294\"/><rect class=\"sym\" height=\"6\" width=\"6\" x=\"-3\" y=\"-3\"/><text class=\"lab\" transform=\"translate(0 11)\">4</text></g><g class=\"a14 i3 leaf node n6 p0 sample\" transform=\"translate(9.85294 2.43112)\"><path class=\"edge\" d=\"M 0 0 V -2.43112 H -9.85294\"/><rect class=\"sym\" height=\"6\" width=\"6\" x=\"-3\" y=\"-3\"/><text class=\"lab\" transform=\"translate(0 11)\">6</text></g><path class=\"edge\" d=\"M 0 0 V -22.9368 H -26.7877\"/><circle class=\"sym\" cx=\"0\" cy=\"0\" r=\"3\"/><text class=\"lab rgt\" transform=\"translate(3 -7)\">14</text></g><g class=\"a24 c2 node n23 p0\" transform=\"translate(-26.7877 4.66299)\"><g class=\"a23 i0 leaf m8 node n1 p0 s8 sample\" transform=\"translate(24.0165 20.7049)\"><path class=\"edge\" d=\"M 0 0 V -20.7049 H -24.0165\"/><g class=\"mut m8 s8\" transform=\"translate(0 -17.9296)\"><line x1=\"0\" x2=\"0\" y1=\"0\" y2=\"17.9296\"/><path class=\"sym\" d=\"M -3,-3 l 6,6 M -3,3 l 6,-6\"/><text class=\"lab rgt\" transform=\"translate(5 0)\">8</text></g><rect class=\"sym\" height=\"6\" width=\"6\" x=\"-3\" y=\"-3\"/><text class=\"lab\" transform=\"translate(0 11)\">1</text></g><g class=\"a23 c2 node n13 p0\" transform=\"translate(-24.0165 18.3369)\"><g class=\"a13 i3 leaf node n7 p0 sample\" transform=\"translate(28.3272 2.36803)\"><path class=\"edge\" d=\"M 0 0 V -2.36803 H -28.3272\"/><rect class=\"sym\" height=\"6\" width=\"6\" x=\"-3\" y=\"-3\"/><text class=\"lab\" transform=\"translate(0 11)\">7</text></g><g class=\"a13 c2 node n12 p0\" transform=\"translate(-28.3272 0.23289)\"><g class=\"a12 i0 leaf node n0 p0 sample\" transform=\"translate(-22.1691 2.13514)\"><path class=\"edge\" d=\"M 0 0 V -2.13514 H 22.1691\"/><rect class=\"sym\" height=\"6\" width=\"6\" x=\"-3\" y=\"-3\"/><text class=\"lab\" transform=\"translate(0 11)\">0</text></g><g class=\"a12 c2 node n9 p0\" transform=\"translate(22.1691 1.69176)\"><g class=\"a9 i1 leaf node n3 p0 sample\" transform=\"translate(14.7794 0.443375)\"><path class=\"edge\" d=\"M 0 0 V -0.443375 H -14.7794\"/><rect class=\"sym\" height=\"6\" width=\"6\" x=\"-3\" y=\"-3\"/><text class=\"lab\" transform=\"translate(0 11)\">3</text></g><g class=\"a9 c2 node n8 p0\" transform=\"translate(-14.7794 0.218794)\"><g class=\"a8 i1 leaf node n2 p0 sample\" transform=\"translate(-9.85294 0.224581)\"><path class=\"edge\" d=\"M 0 0 V -0.224581 H 9.85294\"/><rect class=\"sym\" height=\"6\" width=\"6\" x=\"-3\" y=\"-3\"/><text class=\"lab\" transform=\"translate(0 11)\">2</text></g><g class=\"a8 i2 leaf node n5 p0 sample\" transform=\"translate(9.85294 0.224581)\"><path class=\"edge\" d=\"M 0 0 V -0.224581 H -9.85294\"/><rect class=\"sym\" height=\"6\" width=\"6\" x=\"-3\" y=\"-3\"/><text class=\"lab\" transform=\"translate(0 11)\">5</text></g><path class=\"edge\" d=\"M 0 0 V -0.218794 H 14.7794\"/><circle class=\"sym\" cx=\"0\" cy=\"0\" r=\"3\"/><text class=\"lab lft\" transform=\"translate(-3 -7)\">8</text></g><path class=\"edge\" d=\"M 0 0 V -1.69176 H -22.1691\"/><circle class=\"sym\" cx=\"0\" cy=\"0\" r=\"3\"/><text class=\"lab rgt\" transform=\"translate(3 -7)\">9</text></g><path class=\"edge\" d=\"M 0 0 V -0.23289 H 28.3272\"/><circle class=\"sym\" cx=\"0\" cy=\"0\" r=\"3\"/><text class=\"lab lft\" transform=\"translate(-3 -7)\">12</text></g><path class=\"edge\" d=\"M 0 0 V -18.3369 H 24.0165\"/><circle class=\"sym\" cx=\"0\" cy=\"0\" r=\"3\"/><text class=\"lab lft\" transform=\"translate(-3 -7)\">13</text></g><path class=\"edge\" d=\"M 0 0 V -4.66299 H 26.7877\"/><circle class=\"sym\" cx=\"0\" cy=\"0\" r=\"3\"/><text class=\"lab lft\" transform=\"translate(-3 -7)\">23</text></g><circle class=\"sym\" cx=\"0\" cy=\"0\" r=\"3\"/><text class=\"lab\" transform=\"translate(0 -11)\">24</text></g></g></g><g class=\"tree t12\" transform=\"translate(2391.76 0)\"><g class=\"plotbox\"><g class=\"c2 node n24 p0 root\" transform=\"translate(111.756 96.0321)\"><g class=\"a24 c2 node n13 p0\" transform=\"translate(-31.4062 22.9998)\"><g class=\"a13 i3 leaf node n7 p0 sample\" transform=\"translate(28.3272 2.36803)\"><path class=\"edge\" d=\"M 0 0 V -2.36803 H -28.3272\"/><rect class=\"sym\" height=\"6\" width=\"6\" x=\"-3\" y=\"-3\"/><text class=\"lab\" transform=\"translate(0 11)\">7</text></g><g class=\"a13 c2 node n12 p0\" transform=\"translate(-28.3272 0.23289)\"><g class=\"a12 i0 leaf node n0 p0 sample\" transform=\"translate(-22.1691 2.13514)\"><path class=\"edge\" d=\"M 0 0 V -2.13514 H 22.1691\"/><rect class=\"sym\" height=\"6\" width=\"6\" x=\"-3\" y=\"-3\"/><text class=\"lab\" transform=\"translate(0 11)\">0</text></g><g class=\"a12 c2 node n9 p0\" transform=\"translate(22.1691 1.69176)\"><g class=\"a9 i1 leaf node n3 p0 sample\" transform=\"translate(14.7794 0.443375)\"><path class=\"edge\" d=\"M 0 0 V -0.443375 H -14.7794\"/><rect class=\"sym\" height=\"6\" width=\"6\" x=\"-3\" y=\"-3\"/><text class=\"lab\" transform=\"translate(0 11)\">3</text></g><g class=\"a9 c2 node n8 p0\" transform=\"translate(-14.7794 0.218794)\"><g class=\"a8 i1 leaf node n2 p0 sample\" transform=\"translate(-9.85294 0.224581)\"><path class=\"edge\" d=\"M 0 0 V -0.224581 H 9.85294\"/><rect class=\"sym\" height=\"6\" width=\"6\" x=\"-3\" y=\"-3\"/><text class=\"lab\" transform=\"translate(0 11)\">2</text></g><g class=\"a8 i2 leaf node n5 p0 sample\" transform=\"translate(9.85294 0.224581)\"><path class=\"edge\" d=\"M 0 0 V -0.224581 H -9.85294\"/><rect class=\"sym\" height=\"6\" width=\"6\" x=\"-3\" y=\"-3\"/><text class=\"lab\" transform=\"translate(0 11)\">5</text></g><path class=\"edge\" d=\"M 0 0 V -0.218794 H 14.7794\"/><circle class=\"sym\" cx=\"0\" cy=\"0\" r=\"3\"/><text class=\"lab lft\" transform=\"translate(-3 -7)\">8</text></g><path class=\"edge\" d=\"M 0 0 V -1.69176 H -22.1691\"/><circle class=\"sym\" cx=\"0\" cy=\"0\" r=\"3\"/><text class=\"lab rgt\" transform=\"translate(3 -7)\">9</text></g><path class=\"edge\" d=\"M 0 0 V -0.23289 H 28.3272\"/><circle class=\"sym\" cx=\"0\" cy=\"0\" r=\"3\"/><text class=\"lab lft\" transform=\"translate(-3 -7)\">12</text></g><path class=\"edge\" d=\"M 0 0 V -22.9998 H 31.4062\"/><circle class=\"sym\" cx=\"0\" cy=\"0\" r=\"3\"/><text class=\"lab lft\" transform=\"translate(-3 -7)\">13</text></g><g class=\"a24 c2 node n18 p0\" transform=\"translate(31.4063 12.1247)\"><g class=\"a18 i0 leaf m9 node n1 p0 s9 sample\" transform=\"translate(-14.7794 13.2432)\"><path class=\"edge\" d=\"M 0 0 V -13.2432 H 14.7794\"/><g class=\"mut m9 s9\" transform=\"translate(0 -4.55688)\"><line x1=\"0\" x2=\"0\" y1=\"0\" y2=\"4.55688\"/><path class=\"sym\" d=\"M -3,-3 l 6,6 M -3,3 l 6,-6\"/><text class=\"lab lft\" transform=\"translate(-5 0)\">9</text></g><rect class=\"sym\" height=\"6\" width=\"6\" x=\"-3\" y=\"-3\"/><text class=\"lab\" transform=\"translate(0 11)\">1</text></g><g class=\"a18 c2 node n14 p0\" transform=\"translate(14.7794 10.8121)\"><g class=\"a14 i2 leaf node n4 p0 sample\" transform=\"translate(-9.85294 2.43112)\"><path class=\"edge\" d=\"M 0 0 V -2.43112 H 9.85294\"/><rect class=\"sym\" height=\"6\" width=\"6\" x=\"-3\" y=\"-3\"/><text class=\"lab\" transform=\"translate(0 11)\">4</text></g><g class=\"a14 i3 leaf node n6 p0 sample\" transform=\"translate(9.85294 2.43112)\"><path class=\"edge\" d=\"M 0 0 V -2.43112 H -9.85294\"/><rect class=\"sym\" height=\"6\" width=\"6\" x=\"-3\" y=\"-3\"/><text class=\"lab\" transform=\"translate(0 11)\">6</text></g><path class=\"edge\" d=\"M 0 0 V -10.8121 H -14.7794\"/><circle class=\"sym\" cx=\"0\" cy=\"0\" r=\"3\"/><text class=\"lab rgt\" transform=\"translate(3 -7)\">14</text></g><path class=\"edge\" d=\"M 0 0 V -12.1247 H -31.4063\"/><circle class=\"sym\" cx=\"0\" cy=\"0\" r=\"3\"/><text class=\"lab rgt\" transform=\"translate(3 -7)\">18</text></g><circle class=\"sym\" cx=\"0\" cy=\"0\" r=\"3\"/><text class=\"lab\" transform=\"translate(0 -11)\">24</text></g></g></g><g class=\"tree t13\" transform=\"translate(2589.41 0)\"><g class=\"plotbox\"><g class=\"c2 node n24 p0 root\" transform=\"translate(79.1176 96.0321)\"><g class=\"a24 c2 node n13 p0\" transform=\"translate(-39.4118 22.9998)\"><g class=\"a13 i3 leaf node n7 p0 sample\" transform=\"translate(9.85294 2.36803)\"><path class=\"edge\" d=\"M 0 0 V -2.36803 H -9.85294\"/><rect class=\"sym\" height=\"6\" width=\"6\" x=\"-3\" y=\"-3\"/><text class=\"lab\" transform=\"translate(0 11)\">7</text></g><g class=\"a13 i0 leaf node n0 p0 sample\" transform=\"translate(-9.85294 2.36803)\"><path class=\"edge\" d=\"M 0 0 V -2.36803 H 9.85294\"/><rect class=\"sym\" height=\"6\" width=\"6\" x=\"-3\" y=\"-3\"/><text class=\"lab\" transform=\"translate(0 11)\">0</text></g><path class=\"edge\" d=\"M 0 0 V -22.9998 H 39.4118\"/><circle class=\"sym\" cx=\"0\" cy=\"0\" r=\"3\"/><text class=\"lab lft\" transform=\"translate(-3 -7)\">13</text></g><g class=\"a24 c2 node n21 p0\" transform=\"translate(39.4118 9.15117)\"><g class=\"a21 c2 node n9 p0\" transform=\"translate(34.4853 15.7733)\"><g class=\"a9 i1 leaf node n3 p0 sample\" transform=\"translate(14.7794 0.443375)\"><path class=\"edge\" d=\"M 0 0 V -0.443375 H -14.7794\"/><rect class=\"sym\" height=\"6\" width=\"6\" x=\"-3\" y=\"-3\"/><text class=\"lab\" transform=\"translate(0 11)\">3</text></g><g class=\"a9 c2 node n8 p0\" transform=\"translate(-14.7794 0.218794)\"><g class=\"a8 i1 leaf node n2 p0 sample\" transform=\"translate(-9.85294 0.224581)\"><path class=\"edge\" d=\"M 0 0 V -0.224581 H 9.85294\"/><rect class=\"sym\" height=\"6\" width=\"6\" x=\"-3\" y=\"-3\"/><text class=\"lab\" transform=\"translate(0 11)\">2</text></g><g class=\"a8 i2 leaf node n5 p0 sample\" transform=\"translate(9.85294 0.224581)\"><path class=\"edge\" d=\"M 0 0 V -0.224581 H -9.85294\"/><rect class=\"sym\" height=\"6\" width=\"6\" x=\"-3\" y=\"-3\"/><text class=\"lab\" transform=\"translate(0 11)\">5</text></g><path class=\"edge\" d=\"M 0 0 V -0.218794 H 14.7794\"/><circle class=\"sym\" cx=\"0\" cy=\"0\" r=\"3\"/><text class=\"lab lft\" transform=\"translate(-3 -7)\">8</text></g><path class=\"edge\" d=\"M 0 0 V -15.7733 H -34.4853\"/><circle class=\"sym\" cx=\"0\" cy=\"0\" r=\"3\"/><text class=\"lab rgt\" transform=\"translate(3 -7)\">9</text></g><g class=\"a21 c2 node n18 p0\" transform=\"translate(-34.4853 2.97352)\"><g class=\"a18 i0 leaf node n1 p0 sample\" transform=\"translate(-14.7794 13.2432)\"><path class=\"edge\" d=\"M 0 0 V -13.2432 H 14.7794\"/><rect class=\"sym\" height=\"6\" width=\"6\" x=\"-3\" y=\"-3\"/><text class=\"lab\" transform=\"translate(0 11)\">1</text></g><g class=\"a18 c2 node n14 p0\" transform=\"translate(14.7794 10.8121)\"><g class=\"a14 i2 leaf node n4 p0 sample\" transform=\"translate(-9.85294 2.43112)\"><path class=\"edge\" d=\"M 0 0 V -2.43112 H 9.85294\"/><rect class=\"sym\" height=\"6\" width=\"6\" x=\"-3\" y=\"-3\"/><text class=\"lab\" transform=\"translate(0 11)\">4</text></g><g class=\"a14 i3 leaf node n6 p0 sample\" transform=\"translate(9.85294 2.43112)\"><path class=\"edge\" d=\"M 0 0 V -2.43112 H -9.85294\"/><rect class=\"sym\" height=\"6\" width=\"6\" x=\"-3\" y=\"-3\"/><text class=\"lab\" transform=\"translate(0 11)\">6</text></g><path class=\"edge\" d=\"M 0 0 V -10.8121 H -14.7794\"/><circle class=\"sym\" cx=\"0\" cy=\"0\" r=\"3\"/><text class=\"lab rgt\" transform=\"translate(3 -7)\">14</text></g><path class=\"edge\" d=\"M 0 0 V -2.97352 H 34.4853\"/><circle class=\"sym\" cx=\"0\" cy=\"0\" r=\"3\"/><text class=\"lab lft\" transform=\"translate(-3 -7)\">18</text></g><path class=\"edge\" d=\"M 0 0 V -9.15117 H -39.4118\"/><circle class=\"sym\" cx=\"0\" cy=\"0\" r=\"3\"/><text class=\"lab rgt\" transform=\"translate(3 -7)\">21</text></g><circle class=\"sym\" cx=\"0\" cy=\"0\" r=\"3\"/><text class=\"lab\" transform=\"translate(0 -11)\">24</text></g></g></g><g class=\"tree t14\" transform=\"translate(2787.06 0)\"><g class=\"plotbox\"><g class=\"c2 node n21 p0 root\" transform=\"translate(107.445 105.183)\"><g class=\"a21 c2 node n9 p0\" transform=\"translate(45.5699 15.7733)\"><g class=\"a9 i1 leaf node n3 p0 sample\" transform=\"translate(14.7794 0.443375)\"><path class=\"edge\" d=\"M 0 0 V -0.443375 H -14.7794\"/><rect class=\"sym\" height=\"6\" width=\"6\" x=\"-3\" y=\"-3\"/><text class=\"lab\" transform=\"translate(0 11)\">3</text></g><g class=\"a9 c2 node n8 p0\" transform=\"translate(-14.7794 0.218794)\"><g class=\"a8 i1 leaf node n2 p0 sample\" transform=\"translate(-9.85294 0.224581)\"><path class=\"edge\" d=\"M 0 0 V -0.224581 H 9.85294\"/><rect class=\"sym\" height=\"6\" width=\"6\" x=\"-3\" y=\"-3\"/><text class=\"lab\" transform=\"translate(0 11)\">2</text></g><g class=\"a8 i2 leaf node n5 p0 sample\" transform=\"translate(9.85294 0.224581)\"><path class=\"edge\" d=\"M 0 0 V -0.224581 H -9.85294\"/><rect class=\"sym\" height=\"6\" width=\"6\" x=\"-3\" y=\"-3\"/><text class=\"lab\" transform=\"translate(0 11)\">5</text></g><path class=\"edge\" d=\"M 0 0 V -0.218794 H 14.7794\"/><circle class=\"sym\" cx=\"0\" cy=\"0\" r=\"3\"/><text class=\"lab lft\" transform=\"translate(-3 -7)\">8</text></g><path class=\"edge\" d=\"M 0 0 V -15.7733 H -45.5699\"/><circle class=\"sym\" cx=\"0\" cy=\"0\" r=\"3\"/><text class=\"lab rgt\" transform=\"translate(3 -7)\">9</text></g><g class=\"a21 c2 node n20 p0\" transform=\"translate(-45.5699 2.22531)\"><g class=\"a20 c2 m10 node n13 p0 s10\" transform=\"translate(-22.1691 11.6234)\"><g class=\"a13 i3 leaf node n7 p0 sample\" transform=\"translate(9.85294 2.36803)\"><path class=\"edge\" d=\"M 0 0 V -2.36803 H -9.85294\"/><rect class=\"sym\" height=\"6\" width=\"6\" x=\"-3\" y=\"-3\"/><text class=\"lab\" transform=\"translate(0 11)\">7</text></g><g class=\"a13 i0 leaf m11 node n0 p0 s11 sample\" transform=\"translate(-9.85294 2.36803)\"><path class=\"edge\" d=\"M 0 0 V -2.36803 H 9.85294\"/><g class=\"mut m11 s11\" transform=\"translate(0 -1.88803)\"><line x1=\"0\" x2=\"0\" y1=\"0\" y2=\"1.88803\"/><path class=\"sym\" d=\"M -3,-3 l 6,6 M -3,3 l 6,-6\"/><text class=\"lab lft\" transform=\"translate(-5 0)\">11</text></g><rect class=\"sym\" height=\"6\" width=\"6\" x=\"-3\" y=\"-3\"/><text class=\"lab\" transform=\"translate(0 11)\">0</text></g><path class=\"edge\" d=\"M 0 0 V -11.6234 H 22.1691\"/><g class=\"mut m10 s10\" transform=\"translate(0 -6.71193)\"><line x1=\"0\" x2=\"0\" y1=\"0\" y2=\"6.71193\"/><path class=\"sym\" d=\"M -3,-3 l 6,6 M -3,3 l 6,-6\"/><text class=\"lab lft\" transform=\"translate(-5 0)\">10</text></g><circle class=\"sym\" cx=\"0\" cy=\"0\" r=\"3\"/><text class=\"lab lft\" transform=\"translate(-3 -7)\">13</text></g><g class=\"a20 c2 node n18 p0\" transform=\"translate(22.1691 0.748209)\"><g class=\"a18 i0 leaf m12 node n1 p0 s12 sample\" transform=\"translate(-14.7794 13.2432)\"><path class=\"edge\" d=\"M 0 0 V -13.2432 H 14.7794\"/><g class=\"mut m12 s12\" transform=\"translate(0 -9.65402)\"><line x1=\"0\" x2=\"0\" y1=\"0\" y2=\"9.65402\"/><path class=\"sym\" d=\"M -3,-3 l 6,6 M -3,3 l 6,-6\"/><text class=\"lab lft\" transform=\"translate(-5 0)\">12</text></g><rect class=\"sym\" height=\"6\" width=\"6\" x=\"-3\" y=\"-3\"/><text class=\"lab\" transform=\"translate(0 11)\">1</text></g><g class=\"a18 c2 node n14 p0\" transform=\"translate(14.7794 10.8121)\"><g class=\"a14 i2 leaf node n4 p0 sample\" transform=\"translate(-9.85294 2.43112)\"><path class=\"edge\" d=\"M 0 0 V -2.43112 H 9.85294\"/><rect class=\"sym\" height=\"6\" width=\"6\" x=\"-3\" y=\"-3\"/><text class=\"lab\" transform=\"translate(0 11)\">4</text></g><g class=\"a14 i3 leaf node n6 p0 sample\" transform=\"translate(9.85294 2.43112)\"><path class=\"edge\" d=\"M 0 0 V -2.43112 H -9.85294\"/><rect class=\"sym\" height=\"6\" width=\"6\" x=\"-3\" y=\"-3\"/><text class=\"lab\" transform=\"translate(0 11)\">6</text></g><path class=\"edge\" d=\"M 0 0 V -10.8121 H -14.7794\"/><circle class=\"sym\" cx=\"0\" cy=\"0\" r=\"3\"/><text class=\"lab rgt\" transform=\"translate(3 -7)\">14</text></g><path class=\"edge\" d=\"M 0 0 V -0.748209 H -22.1691\"/><circle class=\"sym\" cx=\"0\" cy=\"0\" r=\"3\"/><text class=\"lab rgt\" transform=\"translate(3 -7)\">18</text></g><path class=\"edge\" d=\"M 0 0 V -2.22531 H 45.5699\"/><circle class=\"sym\" cx=\"0\" cy=\"0\" r=\"3\"/><text class=\"lab lft\" transform=\"translate(-3 -7)\">20</text></g><circle class=\"sym\" cx=\"0\" cy=\"0\" r=\"3\"/><text class=\"lab\" transform=\"translate(0 -11)\">21</text></g></g></g><g class=\"tree t15\" transform=\"translate(2984.71 0)\"><g class=\"plotbox\"><g class=\"c2 node n21 p0 root\" transform=\"translate(95.1287 105.183)\"><g class=\"a21 c2 node n20 p0\" transform=\"translate(-35.7169 2.22531)\"><g class=\"a20 c2 m13 node n13 p0 s13\" transform=\"translate(-19.7059 11.6234)\"><g class=\"a13 i3 leaf node n7 p0 sample\" transform=\"translate(9.85294 2.36803)\"><path class=\"edge\" d=\"M 0 0 V -2.36803 H -9.85294\"/><rect class=\"sym\" height=\"6\" width=\"6\" x=\"-3\" y=\"-3\"/><text class=\"lab\" transform=\"translate(0 11)\">7</text></g><g class=\"a13 i0 leaf node n0 p0 sample\" transform=\"translate(-9.85294 2.36803)\"><path class=\"edge\" d=\"M 0 0 V -2.36803 H 9.85294\"/><rect class=\"sym\" height=\"6\" width=\"6\" x=\"-3\" y=\"-3\"/><text class=\"lab\" transform=\"translate(0 11)\">0</text></g><path class=\"edge\" d=\"M 0 0 V -11.6234 H 19.7059\"/><g class=\"mut m13 s13\" transform=\"translate(0 -7.32037)\"><line x1=\"0\" x2=\"0\" y1=\"0\" y2=\"7.32037\"/><path class=\"sym\" d=\"M -3,-3 l 6,6 M -3,3 l 6,-6\"/><text class=\"lab lft\" transform=\"translate(-5 0)\">13</text></g><circle class=\"sym\" cx=\"0\" cy=\"0\" r=\"3\"/><text class=\"lab lft\" transform=\"translate(-3 -7)\">13</text></g><g class=\"a20 c2 node n14 p0\" transform=\"translate(19.7059 11.5603)\"><g class=\"a14 i2 leaf node n4 p0 sample\" transform=\"translate(-9.85294 2.43112)\"><path class=\"edge\" d=\"M 0 0 V -2.43112 H 9.85294\"/><rect class=\"sym\" height=\"6\" width=\"6\" x=\"-3\" y=\"-3\"/><text class=\"lab\" transform=\"translate(0 11)\">4</text></g><g class=\"a14 i3 leaf node n6 p0 sample\" transform=\"translate(9.85294 2.43112)\"><path class=\"edge\" d=\"M 0 0 V -2.43112 H -9.85294\"/><rect class=\"sym\" height=\"6\" width=\"6\" x=\"-3\" y=\"-3\"/><text class=\"lab\" transform=\"translate(0 11)\">6</text></g><path class=\"edge\" d=\"M 0 0 V -11.5603 H -19.7059\"/><circle class=\"sym\" cx=\"0\" cy=\"0\" r=\"3\"/><text class=\"lab rgt\" transform=\"translate(3 -7)\">14</text></g><path class=\"edge\" d=\"M 0 0 V -2.22531 H 35.7169\"/><circle class=\"sym\" cx=\"0\" cy=\"0\" r=\"3\"/><text class=\"lab lft\" transform=\"translate(-3 -7)\">20</text></g><g class=\"a21 c2 node n16 p0\" transform=\"translate(35.7169 10.1631)\"><g class=\"a16 i0 leaf node n1 p0 sample\" transform=\"translate(-22.1691 6.05356)\"><path class=\"edge\" d=\"M 0 0 V -6.05356 H 22.1691\"/><rect class=\"sym\" height=\"6\" width=\"6\" x=\"-3\" y=\"-3\"/><text class=\"lab\" transform=\"translate(0 11)\">1</text></g><g class=\"a16 c2 node n9 p0\" transform=\"translate(22.1691 5.61018)\"><g class=\"a9 i1 leaf node n3 p0 sample\" transform=\"translate(14.7794 0.443375)\"><path class=\"edge\" d=\"M 0 0 V -0.443375 H -14.7794\"/><rect class=\"sym\" height=\"6\" width=\"6\" x=\"-3\" y=\"-3\"/><text class=\"lab\" transform=\"translate(0 11)\">3</text></g><g class=\"a9 c2 node n8 p0\" transform=\"translate(-14.7794 0.218794)\"><g class=\"a8 i1 leaf node n2 p0 sample\" transform=\"translate(-9.85294 0.224581)\"><path class=\"edge\" d=\"M 0 0 V -0.224581 H 9.85294\"/><rect class=\"sym\" height=\"6\" width=\"6\" x=\"-3\" y=\"-3\"/><text class=\"lab\" transform=\"translate(0 11)\">2</text></g><g class=\"a8 i2 leaf node n5 p0 sample\" transform=\"translate(9.85294 0.224581)\"><path class=\"edge\" d=\"M 0 0 V -0.224581 H -9.85294\"/><rect class=\"sym\" height=\"6\" width=\"6\" x=\"-3\" y=\"-3\"/><text class=\"lab\" transform=\"translate(0 11)\">5</text></g><path class=\"edge\" d=\"M 0 0 V -0.218794 H 14.7794\"/><circle class=\"sym\" cx=\"0\" cy=\"0\" r=\"3\"/><text class=\"lab lft\" transform=\"translate(-3 -7)\">8</text></g><path class=\"edge\" d=\"M 0 0 V -5.61018 H -22.1691\"/><circle class=\"sym\" cx=\"0\" cy=\"0\" r=\"3\"/><text class=\"lab rgt\" transform=\"translate(3 -7)\">9</text></g><path class=\"edge\" d=\"M 0 0 V -10.1631 H -35.7169\"/><circle class=\"sym\" cx=\"0\" cy=\"0\" r=\"3\"/><text class=\"lab rgt\" transform=\"translate(3 -7)\">16</text></g><circle class=\"sym\" cx=\"0\" cy=\"0\" r=\"3\"/><text class=\"lab\" transform=\"translate(0 -11)\">21</text></g></g></g><g class=\"tree t16\" transform=\"translate(3182.35 0)\"><g class=\"plotbox\"><g class=\"c2 node n20 p0 root\" transform=\"translate(82.1967 107.409)\"><g class=\"a20 c2 node n13 p0\" transform=\"translate(-42.4908 11.6234)\"><g class=\"a13 i3 leaf node n7 p0 sample\" transform=\"translate(9.85294 2.36803)\"><path class=\"edge\" d=\"M 0 0 V -2.36803 H -9.85294\"/><rect class=\"sym\" height=\"6\" width=\"6\" x=\"-3\" y=\"-3\"/><text class=\"lab\" transform=\"translate(0 11)\">7</text></g><g class=\"a13 i0 leaf node n0 p0 sample\" transform=\"translate(-9.85294 2.36803)\"><path class=\"edge\" d=\"M 0 0 V -2.36803 H 9.85294\"/><rect class=\"sym\" height=\"6\" width=\"6\" x=\"-3\" y=\"-3\"/><text class=\"lab\" transform=\"translate(0 11)\">0</text></g><path class=\"edge\" d=\"M 0 0 V -11.6234 H 42.4908\"/><circle class=\"sym\" cx=\"0\" cy=\"0\" r=\"3\"/><text class=\"lab lft\" transform=\"translate(-3 -7)\">13</text></g><g class=\"a20 c2 node n17 p0\" transform=\"translate(42.4908 6.78911)\"><g class=\"a17 c2 node n14 p0\" transform=\"translate(33.2537 4.77116)\"><g class=\"a14 i2 leaf node n4 p0 sample\" transform=\"translate(-9.85294 2.43112)\"><path class=\"edge\" d=\"M 0 0 V -2.43112 H 9.85294\"/><rect class=\"sym\" height=\"6\" width=\"6\" x=\"-3\" y=\"-3\"/><text class=\"lab\" transform=\"translate(0 11)\">4</text></g><g class=\"a14 i3 leaf node n6 p0 sample\" transform=\"translate(9.85294 2.43112)\"><path class=\"edge\" d=\"M 0 0 V -2.43112 H -9.85294\"/><rect class=\"sym\" height=\"6\" width=\"6\" x=\"-3\" y=\"-3\"/><text class=\"lab\" transform=\"translate(0 11)\">6</text></g><path class=\"edge\" d=\"M 0 0 V -4.77116 H -33.2537\"/><circle class=\"sym\" cx=\"0\" cy=\"0\" r=\"3\"/><text class=\"lab rgt\" transform=\"translate(3 -7)\">14</text></g><g class=\"a17 c2 node n16 p0\" transform=\"translate(-33.2537 1.14872)\"><g class=\"a16 i0 leaf node n1 p0 sample\" transform=\"translate(-22.1691 6.05356)\"><path class=\"edge\" d=\"M 0 0 V -6.05356 H 22.1691\"/><rect class=\"sym\" height=\"6\" width=\"6\" x=\"-3\" y=\"-3\"/><text class=\"lab\" transform=\"translate(0 11)\">1</text></g><g class=\"a16 c2 node n9 p0\" transform=\"translate(22.1691 5.61018)\"><g class=\"a9 i1 leaf node n3 p0 sample\" transform=\"translate(14.7794 0.443375)\"><path class=\"edge\" d=\"M 0 0 V -0.443375 H -14.7794\"/><rect class=\"sym\" height=\"6\" width=\"6\" x=\"-3\" y=\"-3\"/><text class=\"lab\" transform=\"translate(0 11)\">3</text></g><g class=\"a9 c2 node n8 p0\" transform=\"translate(-14.7794 0.218794)\"><g class=\"a8 i1 leaf node n2 p0 sample\" transform=\"translate(-9.85294 0.224581)\"><path class=\"edge\" d=\"M 0 0 V -0.224581 H 9.85294\"/><rect class=\"sym\" height=\"6\" width=\"6\" x=\"-3\" y=\"-3\"/><text class=\"lab\" transform=\"translate(0 11)\">2</text></g><g class=\"a8 i2 leaf node n5 p0 sample\" transform=\"translate(9.85294 0.224581)\"><path class=\"edge\" d=\"M 0 0 V -0.224581 H -9.85294\"/><rect class=\"sym\" height=\"6\" width=\"6\" x=\"-3\" y=\"-3\"/><text class=\"lab\" transform=\"translate(0 11)\">5</text></g><path class=\"edge\" d=\"M 0 0 V -0.218794 H 14.7794\"/><circle class=\"sym\" cx=\"0\" cy=\"0\" r=\"3\"/><text class=\"lab lft\" transform=\"translate(-3 -7)\">8</text></g><path class=\"edge\" d=\"M 0 0 V -5.61018 H -22.1691\"/><circle class=\"sym\" cx=\"0\" cy=\"0\" r=\"3\"/><text class=\"lab rgt\" transform=\"translate(3 -7)\">9</text></g><path class=\"edge\" d=\"M 0 0 V -1.14872 H 33.2537\"/><circle class=\"sym\" cx=\"0\" cy=\"0\" r=\"3\"/><text class=\"lab lft\" transform=\"translate(-3 -7)\">16</text></g><path class=\"edge\" d=\"M 0 0 V -6.78911 H -42.4908\"/><circle class=\"sym\" cx=\"0\" cy=\"0\" r=\"3\"/><text class=\"lab rgt\" transform=\"translate(3 -7)\">17</text></g><circle class=\"sym\" cx=\"0\" cy=\"0\" r=\"3\"/><text class=\"lab\" transform=\"translate(0 -11)\">20</text></g></g></g></g></g></svg>"
      ],
      "text/plain": [
       "<IPython.core.display.SVG object>"
      ]
     },
     "execution_count": 193,
     "metadata": {},
     "output_type": "execute_result"
    }
   ],
   "source": [
    "SVG(mts.draw_svg())"
   ]
  },
  {
   "cell_type": "code",
   "execution_count": 194,
   "id": "e4f06c3b",
   "metadata": {},
   "outputs": [
    {
     "name": "stdout",
     "output_type": "stream",
     "text": [
      "(10, 15, 0.5568379366833888, False)\n",
      "(4, 6, 1.912317413443647, False)\n",
      "(13, 15, 0.573180325219919, False)\n",
      "(11, 19, 2.864615669839096, False)\n",
      "(9, 19, 0.35190669445381384, False)\n",
      "(11, 23, 5.648534075341655, False)\n",
      "(11, 23, 0.2256246438435653, False)\n",
      "(11, 23, 0.27968030148548656, False)\n",
      "(0, 9, 0.08349628901428174, False)\n",
      "(4, 6, 1.3542383146181, False)\n",
      "(1, 13, 1.632351516111279, False)\n",
      "(1, 14, 0.4713858851322593, False)\n",
      "(9, 18, 0.24524521524272097, False)\n",
      "(13, 18, 0.2516237291252545, False)\n",
      "(1, 9, 0.3556751561616046, False)\n",
      "(14, 16, 0.11302836575381264, False)\n"
     ]
    }
   ],
   "source": [
    "def diff_spr(t1, t2):\n",
    "    assert t1.num_samples() == t2.num_samples()\n",
    "    nodes = set(range(t1.num_samples()))\n",
    "    while nodes:\n",
    "        x = nodes.pop()\n",
    "        p1, p2 = [t.get_parent(x) for t in [t1, t2]]\n",
    "        if p1 != p2:\n",
    "            return x\n",
    "        if p1 != -1:\n",
    "            nodes.add(p1)\n",
    "            \n",
    "def find_spr(t1, t2):\n",
    "    start0 = diff_spr(t1, t2)\n",
    "    deleted = t1.parent(start0)\n",
    "    start1, = t1.siblings(start0)\n",
    "    # the recombination could have occured either on (start0, deleted) or (start1, deleted)\n",
    "    # to settle this, in t2, one of them will have the same grandparent and the other wont\n",
    "    gp = t1.parent(deleted)\n",
    "    gp0 = t2.parent(start0)\n",
    "    gp1 = t2.parent(start1)\n",
    "    start = start1 if gp0 == gp else start0\n",
    "    end, = t2.siblings(start)\n",
    "    if t1.parent(end) == tskit.NULL:\n",
    "        x = t2.time(t2.parent(end)) - t2.time(end)\n",
    "        root = True\n",
    "    else:\n",
    "        t0 = t1.time(t1.parent(end)) - t1.time(end)\n",
    "        t1 = t2.time(t2.parent(end)) - t2.time(end)\n",
    "        x = t1 / t0\n",
    "        root = False\n",
    "    return start, end, x, root\n",
    "\n",
    "for t1, t2 in it.pairwise(ts.aslist()):\n",
    "  print(find_spr(t1, t2))"
   ]
  },
  {
   "cell_type": "markdown",
   "id": "e13b18de",
   "metadata": {},
   "source": [
    "Make genotype matrix with a 100-site sliding window, except for when there is a recombination event within 100 sites (and then only take those sites of interest.)"
   ]
  },
  {
   "cell_type": "code",
   "execution_count": 175,
   "id": "5b50ee29",
   "metadata": {},
   "outputs": [],
   "source": [
    "# take a matrix of just the kept columns and expand with zeroes everywhere else for a fixed range of the full matrix.\n",
    "def restore_and_slice(X, start, end, kept_cols):\n",
    "  n = X.shape[0]\n",
    "  n_cols = int(end - start)\n",
    "\n",
    "  full_sub = nmp.zeros((n, n_cols))\n",
    "\n",
    "  for idx, col in enumerate(kept_cols):\n",
    "    if start <= col < end:\n",
    "      full_sub[:, col-start] = X[:, idx]\n",
    "\n",
    "  return full_sub\n",
    "\n",
    "# do this for the genotype matrix\n",
    "def make_genotype_windows(G, tree_num, breakpoints, mutation_sites):\n",
    "  start_site = breakpoints[tree_num+1]\n",
    "  end_site = breakpoints[tree_num + 2]\n",
    "\n",
    "  start_genotype = start_site\n",
    "  if end_site < (start_site + 100):\n",
    "    end_genotype = end_site\n",
    "  else:\n",
    "    end_genotype = start_site + 100\n",
    "  \n",
    "  G_sub = restore_and_slice(X=G, start = start_genotype, end = end_genotype, kept_cols=mutation_sites)\n",
    "  \n",
    "  return G_sub\n"
   ]
  },
  {
   "cell_type": "code",
   "execution_count": 176,
   "id": "4b9c1b26",
   "metadata": {},
   "outputs": [
    {
     "data": {
      "text/plain": [
       "(8, 100)"
      ]
     },
     "execution_count": 176,
     "metadata": {},
     "output_type": "execute_result"
    }
   ],
   "source": [
    "genotypes = make_genotype_windows(G = sparse_genotype, tree_num=0, breakpoints=breakpoints, mutation_sites=mutation_sites)\n",
    "genotypes.shape"
   ]
  },
  {
   "cell_type": "code",
   "execution_count": 177,
   "id": "b4edfca1",
   "metadata": {},
   "outputs": [
    {
     "data": {
      "text/plain": [
       "Array([[0., 0., 0., 0., 0., 0., 0., 0., 0., 0., 0., 0., 0., 0., 0., 0.,\n",
       "        0., 0., 0., 0., 0., 0., 0., 0., 0., 0., 0., 0., 0., 0., 0., 0.,\n",
       "        0., 0., 0., 0., 0., 0., 0., 0., 0., 0., 0., 0., 0., 0., 0., 0.,\n",
       "        0., 0., 0., 0., 0., 0., 0., 0., 0., 0., 0., 0., 0., 0., 0., 0.,\n",
       "        0., 0., 0., 0., 0., 0., 0., 0., 0., 0., 0., 0., 0., 0., 0., 0.,\n",
       "        0., 0., 0., 0., 0., 0., 0., 0., 0., 0., 0., 0., 0., 0., 0., 0.,\n",
       "        0., 0., 0., 0.],\n",
       "       [0., 0., 0., 0., 0., 0., 0., 0., 0., 0., 0., 0., 0., 0., 0., 0.,\n",
       "        0., 0., 0., 0., 0., 0., 0., 0., 0., 0., 0., 0., 0., 0., 0., 0.,\n",
       "        0., 0., 0., 0., 0., 0., 0., 0., 0., 0., 0., 0., 0., 0., 0., 0.,\n",
       "        0., 0., 0., 0., 0., 0., 0., 0., 0., 0., 0., 0., 0., 0., 0., 0.,\n",
       "        0., 0., 0., 0., 0., 0., 0., 0., 0., 0., 0., 0., 0., 0., 0., 0.,\n",
       "        0., 0., 0., 0., 0., 0., 0., 0., 0., 0., 0., 0., 0., 0., 0., 0.,\n",
       "        0., 0., 0., 0.],\n",
       "       [0., 0., 0., 0., 0., 0., 0., 0., 0., 0., 0., 0., 0., 0., 0., 0.,\n",
       "        0., 0., 0., 0., 0., 0., 0., 0., 0., 0., 0., 0., 0., 0., 0., 0.,\n",
       "        0., 0., 0., 0., 0., 0., 0., 0., 0., 0., 0., 0., 0., 0., 0., 0.,\n",
       "        0., 0., 0., 0., 0., 0., 0., 0., 0., 0., 0., 0., 0., 0., 0., 0.,\n",
       "        0., 0., 0., 0., 0., 0., 0., 0., 0., 0., 0., 0., 0., 0., 0., 0.,\n",
       "        0., 0., 0., 0., 0., 0., 0., 0., 0., 0., 0., 0., 0., 0., 0., 0.,\n",
       "        0., 0., 0., 0.],\n",
       "       [0., 0., 0., 0., 0., 0., 0., 0., 0., 0., 0., 0., 0., 0., 0., 0.,\n",
       "        0., 0., 0., 0., 0., 0., 0., 0., 0., 0., 0., 0., 0., 0., 0., 0.,\n",
       "        0., 0., 0., 0., 0., 0., 0., 0., 0., 0., 0., 0., 0., 0., 0., 0.,\n",
       "        0., 0., 0., 0., 0., 0., 0., 0., 0., 0., 0., 0., 0., 0., 0., 0.,\n",
       "        0., 0., 0., 0., 0., 0., 0., 0., 0., 0., 0., 0., 0., 0., 0., 0.,\n",
       "        0., 0., 0., 0., 0., 0., 0., 0., 0., 0., 0., 0., 0., 0., 0., 0.,\n",
       "        0., 0., 0., 0.],\n",
       "       [0., 0., 0., 0., 0., 0., 0., 0., 0., 0., 0., 0., 0., 0., 0., 0.,\n",
       "        0., 0., 0., 0., 0., 0., 0., 0., 0., 0., 0., 0., 0., 0., 0., 0.,\n",
       "        0., 0., 0., 0., 0., 0., 0., 0., 0., 0., 0., 0., 0., 0., 0., 0.,\n",
       "        0., 0., 0., 0., 0., 0., 0., 0., 0., 0., 0., 0., 0., 0., 0., 0.,\n",
       "        0., 0., 0., 0., 0., 0., 0., 0., 0., 0., 0., 0., 0., 0., 0., 0.,\n",
       "        0., 0., 0., 0., 0., 0., 0., 0., 0., 0., 0., 0., 0., 0., 0., 0.,\n",
       "        0., 0., 0., 0.],\n",
       "       [0., 0., 0., 0., 0., 0., 0., 0., 0., 0., 0., 0., 0., 0., 0., 0.,\n",
       "        0., 0., 0., 0., 0., 0., 0., 0., 0., 0., 0., 0., 0., 0., 0., 0.,\n",
       "        0., 0., 0., 0., 0., 0., 0., 0., 0., 0., 0., 0., 0., 0., 0., 0.,\n",
       "        0., 0., 0., 0., 0., 0., 0., 0., 0., 0., 0., 0., 0., 0., 0., 0.,\n",
       "        0., 0., 0., 0., 0., 0., 0., 0., 0., 0., 0., 0., 0., 0., 0., 0.,\n",
       "        0., 0., 0., 0., 0., 0., 0., 0., 0., 0., 0., 0., 0., 0., 0., 0.,\n",
       "        0., 0., 0., 0.],\n",
       "       [0., 0., 0., 0., 0., 0., 0., 0., 0., 0., 0., 0., 0., 0., 0., 0.,\n",
       "        0., 0., 0., 0., 0., 0., 0., 0., 0., 0., 0., 0., 0., 0., 0., 0.,\n",
       "        0., 0., 0., 0., 0., 0., 0., 0., 0., 0., 0., 0., 0., 0., 0., 0.,\n",
       "        0., 0., 0., 0., 0., 0., 0., 0., 0., 0., 0., 0., 0., 0., 0., 0.,\n",
       "        0., 0., 0., 0., 0., 0., 0., 0., 0., 0., 0., 0., 0., 0., 0., 0.,\n",
       "        0., 0., 0., 0., 0., 0., 0., 0., 0., 0., 0., 0., 0., 0., 0., 0.,\n",
       "        0., 0., 0., 0.],\n",
       "       [0., 0., 0., 0., 0., 0., 0., 0., 0., 0., 0., 0., 0., 0., 0., 0.,\n",
       "        0., 0., 0., 0., 0., 0., 0., 0., 0., 0., 0., 0., 0., 0., 0., 0.,\n",
       "        0., 0., 0., 0., 0., 0., 0., 0., 0., 0., 0., 0., 0., 0., 0., 0.,\n",
       "        0., 0., 0., 0., 0., 0., 0., 0., 0., 0., 0., 0., 0., 0., 0., 0.,\n",
       "        0., 0., 0., 0., 0., 0., 0., 0., 0., 0., 0., 0., 0., 0., 0., 0.,\n",
       "        0., 0., 0., 0., 0., 0., 0., 0., 0., 0., 0., 0., 0., 0., 0., 0.,\n",
       "        0., 0., 0., 0.]], dtype=float32)"
      ]
     },
     "execution_count": 177,
     "metadata": {},
     "output_type": "execute_result"
    }
   ],
   "source": [
    "genotypes"
   ]
  },
  {
   "cell_type": "code",
   "execution_count": 178,
   "id": "4daff30b",
   "metadata": {},
   "outputs": [],
   "source": [
    "class InitMLP:\n",
    "  def __init__(self, input_dim, hidden_dim, num_hidden, output_dim, key):\n",
    "    self.params = []\n",
    "    keys = jax.random.split(key, num_hidden + 1)\n",
    "\n",
    "    last_dim = input_dim\n",
    "    for i, k in enumerate(keys[: -1]):\n",
    "      W = jax.random.normal(k, (last_dim, hidden_dim)) / nmp.sqrt(last_dim)\n",
    "      b = jax.random.normal(k, hidden_dim) / nmp.sqrt(num_hidden)\n",
    "      self.params.append((W, b))\n",
    "      last_dim = hidden_dim\n",
    "    \n",
    "    W = jax.random.normal(keys[-1], (output_dim, last_dim)) / nmp.sqrt(output_dim)\n",
    "    b = jax.random.normal(keys[-1], output_dim)\n",
    "    self.params.append((W, b))\n",
    "  \n",
    "  def __call__(self, X):\n",
    "    h = X\n",
    "    for (W, b) in self.params[:-1]:\n",
    "      h = jax.nn.relu(h @ W + b)\n",
    "    W, b = self.params[-1]\n",
    "    return h @ W + b"
   ]
  },
  {
   "cell_type": "code",
   "execution_count": 179,
   "id": "0413a2ff",
   "metadata": {},
   "outputs": [],
   "source": [
    "key = jax.random.PRNGKey(1985)\n",
    "init_embedder = InitMLP(input_dim=100, hidden_dim=64, num_hidden=2, output_dim=64, key=key)\n"
   ]
  },
  {
   "cell_type": "code",
   "execution_count": 180,
   "id": "c75202bc",
   "metadata": {},
   "outputs": [
    {
     "data": {
      "text/plain": [
       "Array([[ 1.269521  , -0.7666042 , -0.11165268, -0.4375462 , -1.0406069 ,\n",
       "         0.84053797,  0.38978666, -1.3509793 ,  0.13618854, -1.1217561 ,\n",
       "        -0.42725176,  1.4763846 , -0.63571167,  0.01121454,  0.4267992 ,\n",
       "         0.73650795, -3.3260624 , -0.38266772, -1.369092  , -1.2791185 ,\n",
       "        -1.2535621 , -0.8992981 ,  0.4529702 , -0.97431636, -0.12345454,\n",
       "        -1.2945707 ,  2.5142713 ,  1.551631  ,  0.4743452 , -2.2104807 ,\n",
       "        -1.1619041 , -0.63516545,  1.088431  , -1.3457389 , -0.23364544,\n",
       "         2.1910763 ,  0.4504829 ,  4.115324  , -3.1442354 , -0.57707906,\n",
       "         0.3503601 , -0.66564953,  0.6040066 ,  1.7679443 ,  1.0190634 ,\n",
       "         0.3295908 , -0.15766335, -1.7723582 , -0.14468327, -0.6874583 ,\n",
       "        -0.09622662, -1.9166849 , -2.5416467 , -1.0736724 , -0.10105717,\n",
       "         1.6583202 ,  0.12741612, -0.6082331 ,  0.758513  , -0.5860486 ,\n",
       "         2.9077842 ,  0.5428597 ,  0.3896222 , -1.8905423 ],\n",
       "       [ 1.269521  , -0.7666042 , -0.11165268, -0.4375462 , -1.0406069 ,\n",
       "         0.84053797,  0.38978666, -1.3509793 ,  0.13618854, -1.1217561 ,\n",
       "        -0.42725176,  1.4763846 , -0.63571167,  0.01121454,  0.4267992 ,\n",
       "         0.73650795, -3.3260624 , -0.38266772, -1.369092  , -1.2791185 ,\n",
       "        -1.2535621 , -0.8992981 ,  0.4529702 , -0.97431636, -0.12345454,\n",
       "        -1.2945707 ,  2.5142713 ,  1.551631  ,  0.4743452 , -2.2104807 ,\n",
       "        -1.1619041 , -0.63516545,  1.088431  , -1.3457389 , -0.23364544,\n",
       "         2.1910763 ,  0.4504829 ,  4.115324  , -3.1442354 , -0.57707906,\n",
       "         0.3503601 , -0.66564953,  0.6040066 ,  1.7679443 ,  1.0190634 ,\n",
       "         0.3295908 , -0.15766335, -1.7723582 , -0.14468327, -0.6874583 ,\n",
       "        -0.09622662, -1.9166849 , -2.5416467 , -1.0736724 , -0.10105717,\n",
       "         1.6583202 ,  0.12741612, -0.6082331 ,  0.758513  , -0.5860486 ,\n",
       "         2.9077842 ,  0.5428597 ,  0.3896222 , -1.8905423 ],\n",
       "       [ 1.269521  , -0.7666042 , -0.11165268, -0.4375462 , -1.0406069 ,\n",
       "         0.84053797,  0.38978666, -1.3509793 ,  0.13618854, -1.1217561 ,\n",
       "        -0.42725176,  1.4763846 , -0.63571167,  0.01121454,  0.4267992 ,\n",
       "         0.73650795, -3.3260624 , -0.38266772, -1.369092  , -1.2791185 ,\n",
       "        -1.2535621 , -0.8992981 ,  0.4529702 , -0.97431636, -0.12345454,\n",
       "        -1.2945707 ,  2.5142713 ,  1.551631  ,  0.4743452 , -2.2104807 ,\n",
       "        -1.1619041 , -0.63516545,  1.088431  , -1.3457389 , -0.23364544,\n",
       "         2.1910763 ,  0.4504829 ,  4.115324  , -3.1442354 , -0.57707906,\n",
       "         0.3503601 , -0.66564953,  0.6040066 ,  1.7679443 ,  1.0190634 ,\n",
       "         0.3295908 , -0.15766335, -1.7723582 , -0.14468327, -0.6874583 ,\n",
       "        -0.09622662, -1.9166849 , -2.5416467 , -1.0736724 , -0.10105717,\n",
       "         1.6583202 ,  0.12741612, -0.6082331 ,  0.758513  , -0.5860486 ,\n",
       "         2.9077842 ,  0.5428597 ,  0.3896222 , -1.8905423 ],\n",
       "       [ 1.269521  , -0.7666042 , -0.11165268, -0.4375462 , -1.0406069 ,\n",
       "         0.84053797,  0.38978666, -1.3509793 ,  0.13618854, -1.1217561 ,\n",
       "        -0.42725176,  1.4763846 , -0.63571167,  0.01121454,  0.4267992 ,\n",
       "         0.73650795, -3.3260624 , -0.38266772, -1.369092  , -1.2791185 ,\n",
       "        -1.2535621 , -0.8992981 ,  0.4529702 , -0.97431636, -0.12345454,\n",
       "        -1.2945707 ,  2.5142713 ,  1.551631  ,  0.4743452 , -2.2104807 ,\n",
       "        -1.1619041 , -0.63516545,  1.088431  , -1.3457389 , -0.23364544,\n",
       "         2.1910763 ,  0.4504829 ,  4.115324  , -3.1442354 , -0.57707906,\n",
       "         0.3503601 , -0.66564953,  0.6040066 ,  1.7679443 ,  1.0190634 ,\n",
       "         0.3295908 , -0.15766335, -1.7723582 , -0.14468327, -0.6874583 ,\n",
       "        -0.09622662, -1.9166849 , -2.5416467 , -1.0736724 , -0.10105717,\n",
       "         1.6583202 ,  0.12741612, -0.6082331 ,  0.758513  , -0.5860486 ,\n",
       "         2.9077842 ,  0.5428597 ,  0.3896222 , -1.8905423 ],\n",
       "       [ 1.269521  , -0.7666042 , -0.11165268, -0.4375462 , -1.0406069 ,\n",
       "         0.84053797,  0.38978666, -1.3509793 ,  0.13618854, -1.1217561 ,\n",
       "        -0.42725176,  1.4763846 , -0.63571167,  0.01121454,  0.4267992 ,\n",
       "         0.73650795, -3.3260624 , -0.38266772, -1.369092  , -1.2791185 ,\n",
       "        -1.2535621 , -0.8992981 ,  0.4529702 , -0.97431636, -0.12345454,\n",
       "        -1.2945707 ,  2.5142713 ,  1.551631  ,  0.4743452 , -2.2104807 ,\n",
       "        -1.1619041 , -0.63516545,  1.088431  , -1.3457389 , -0.23364544,\n",
       "         2.1910763 ,  0.4504829 ,  4.115324  , -3.1442354 , -0.57707906,\n",
       "         0.3503601 , -0.66564953,  0.6040066 ,  1.7679443 ,  1.0190634 ,\n",
       "         0.3295908 , -0.15766335, -1.7723582 , -0.14468327, -0.6874583 ,\n",
       "        -0.09622662, -1.9166849 , -2.5416467 , -1.0736724 , -0.10105717,\n",
       "         1.6583202 ,  0.12741612, -0.6082331 ,  0.758513  , -0.5860486 ,\n",
       "         2.9077842 ,  0.5428597 ,  0.3896222 , -1.8905423 ],\n",
       "       [ 1.269521  , -0.7666042 , -0.11165268, -0.4375462 , -1.0406069 ,\n",
       "         0.84053797,  0.38978666, -1.3509793 ,  0.13618854, -1.1217561 ,\n",
       "        -0.42725176,  1.4763846 , -0.63571167,  0.01121454,  0.4267992 ,\n",
       "         0.73650795, -3.3260624 , -0.38266772, -1.369092  , -1.2791185 ,\n",
       "        -1.2535621 , -0.8992981 ,  0.4529702 , -0.97431636, -0.12345454,\n",
       "        -1.2945707 ,  2.5142713 ,  1.551631  ,  0.4743452 , -2.2104807 ,\n",
       "        -1.1619041 , -0.63516545,  1.088431  , -1.3457389 , -0.23364544,\n",
       "         2.1910763 ,  0.4504829 ,  4.115324  , -3.1442354 , -0.57707906,\n",
       "         0.3503601 , -0.66564953,  0.6040066 ,  1.7679443 ,  1.0190634 ,\n",
       "         0.3295908 , -0.15766335, -1.7723582 , -0.14468327, -0.6874583 ,\n",
       "        -0.09622662, -1.9166849 , -2.5416467 , -1.0736724 , -0.10105717,\n",
       "         1.6583202 ,  0.12741612, -0.6082331 ,  0.758513  , -0.5860486 ,\n",
       "         2.9077842 ,  0.5428597 ,  0.3896222 , -1.8905423 ],\n",
       "       [ 1.269521  , -0.7666042 , -0.11165268, -0.4375462 , -1.0406069 ,\n",
       "         0.84053797,  0.38978666, -1.3509793 ,  0.13618854, -1.1217561 ,\n",
       "        -0.42725176,  1.4763846 , -0.63571167,  0.01121454,  0.4267992 ,\n",
       "         0.73650795, -3.3260624 , -0.38266772, -1.369092  , -1.2791185 ,\n",
       "        -1.2535621 , -0.8992981 ,  0.4529702 , -0.97431636, -0.12345454,\n",
       "        -1.2945707 ,  2.5142713 ,  1.551631  ,  0.4743452 , -2.2104807 ,\n",
       "        -1.1619041 , -0.63516545,  1.088431  , -1.3457389 , -0.23364544,\n",
       "         2.1910763 ,  0.4504829 ,  4.115324  , -3.1442354 , -0.57707906,\n",
       "         0.3503601 , -0.66564953,  0.6040066 ,  1.7679443 ,  1.0190634 ,\n",
       "         0.3295908 , -0.15766335, -1.7723582 , -0.14468327, -0.6874583 ,\n",
       "        -0.09622662, -1.9166849 , -2.5416467 , -1.0736724 , -0.10105717,\n",
       "         1.6583202 ,  0.12741612, -0.6082331 ,  0.758513  , -0.5860486 ,\n",
       "         2.9077842 ,  0.5428597 ,  0.3896222 , -1.8905423 ],\n",
       "       [ 1.269521  , -0.7666042 , -0.11165268, -0.4375462 , -1.0406069 ,\n",
       "         0.84053797,  0.38978666, -1.3509793 ,  0.13618854, -1.1217561 ,\n",
       "        -0.42725176,  1.4763846 , -0.63571167,  0.01121454,  0.4267992 ,\n",
       "         0.73650795, -3.3260624 , -0.38266772, -1.369092  , -1.2791185 ,\n",
       "        -1.2535621 , -0.8992981 ,  0.4529702 , -0.97431636, -0.12345454,\n",
       "        -1.2945707 ,  2.5142713 ,  1.551631  ,  0.4743452 , -2.2104807 ,\n",
       "        -1.1619041 , -0.63516545,  1.088431  , -1.3457389 , -0.23364544,\n",
       "         2.1910763 ,  0.4504829 ,  4.115324  , -3.1442354 , -0.57707906,\n",
       "         0.3503601 , -0.66564953,  0.6040066 ,  1.7679443 ,  1.0190634 ,\n",
       "         0.3295908 , -0.15766335, -1.7723582 , -0.14468327, -0.6874583 ,\n",
       "        -0.09622662, -1.9166849 , -2.5416467 , -1.0736724 , -0.10105717,\n",
       "         1.6583202 ,  0.12741612, -0.6082331 ,  0.758513  , -0.5860486 ,\n",
       "         2.9077842 ,  0.5428597 ,  0.3896222 , -1.8905423 ]],      dtype=float32)"
      ]
     },
     "execution_count": 180,
     "metadata": {},
     "output_type": "execute_result"
    }
   ],
   "source": [
    "init_embeds = init_embedder(X = genotypes)\n",
    "init_embeds"
   ]
  },
  {
   "cell_type": "markdown",
   "id": "07950b41",
   "metadata": {},
   "source": [
    "Initialize full embeddings matrix for all nodes."
   ]
  },
  {
   "cell_type": "code",
   "execution_count": 181,
   "id": "682853a7",
   "metadata": {},
   "outputs": [
    {
     "data": {
      "text/plain": [
       "Array([[ 1.269521  , -0.7666042 , -0.11165268, ...,  0.5428597 ,\n",
       "         0.3896222 , -1.8905423 ],\n",
       "       [ 1.269521  , -0.7666042 , -0.11165268, ...,  0.5428597 ,\n",
       "         0.3896222 , -1.8905423 ],\n",
       "       [ 1.269521  , -0.7666042 , -0.11165268, ...,  0.5428597 ,\n",
       "         0.3896222 , -1.8905423 ],\n",
       "       ...,\n",
       "       [ 0.        ,  0.        ,  0.        , ...,  0.        ,\n",
       "         0.        ,  0.        ],\n",
       "       [ 0.        ,  0.        ,  0.        , ...,  0.        ,\n",
       "         0.        ,  0.        ],\n",
       "       [ 0.        ,  0.        ,  0.        , ...,  0.        ,\n",
       "         0.        ,  0.        ]], dtype=float32)"
      ]
     },
     "execution_count": 181,
     "metadata": {},
     "output_type": "execute_result"
    }
   ],
   "source": [
    "embeddings = nmp.zeros((N, 64))\n",
    "for i in range(init_embeds.shape[0]):\n",
    "  embeddings = embeddings.at[i].set(init_embeds[i])\n",
    "embeddings"
   ]
  },
  {
   "cell_type": "code",
   "execution_count": 182,
   "id": "00747644",
   "metadata": {},
   "outputs": [
    {
     "data": {
      "text/plain": [
       "Array([ 1.269521  , -0.7666042 , -0.11165268, -0.4375462 , -1.0406069 ,\n",
       "        0.84053797,  0.38978666, -1.3509793 ,  0.13618854, -1.1217561 ,\n",
       "       -0.42725176,  1.4763846 , -0.63571167,  0.01121454,  0.4267992 ,\n",
       "        0.73650795, -3.3260624 , -0.38266772, -1.369092  , -1.2791185 ,\n",
       "       -1.2535621 , -0.8992981 ,  0.4529702 , -0.97431636, -0.12345454,\n",
       "       -1.2945707 ,  2.5142713 ,  1.551631  ,  0.4743452 , -2.2104807 ,\n",
       "       -1.1619041 , -0.63516545,  1.088431  , -1.3457389 , -0.23364544,\n",
       "        2.1910763 ,  0.4504829 ,  4.115324  , -3.1442354 , -0.57707906,\n",
       "        0.3503601 , -0.66564953,  0.6040066 ,  1.7679443 ,  1.0190634 ,\n",
       "        0.3295908 , -0.15766335, -1.7723582 , -0.14468327, -0.6874583 ,\n",
       "       -0.09622662, -1.9166849 , -2.5416467 , -1.0736724 , -0.10105717,\n",
       "        1.6583202 ,  0.12741612, -0.6082331 ,  0.758513  , -0.5860486 ,\n",
       "        2.9077842 ,  0.5428597 ,  0.3896222 , -1.8905423 ], dtype=float32)"
      ]
     },
     "execution_count": 182,
     "metadata": {},
     "output_type": "execute_result"
    }
   ],
   "source": [
    "embeddings[4]"
   ]
  },
  {
   "cell_type": "code",
   "execution_count": 183,
   "id": "fcbaf1bc",
   "metadata": {},
   "outputs": [],
   "source": [
    "tree_post = list(tree.nodes(order = \"postorder\"))"
   ]
  },
  {
   "cell_type": "code",
   "execution_count": 184,
   "id": "9c3b5c5a",
   "metadata": {},
   "outputs": [],
   "source": [
    "for t in tree_post:\n",
    "  children = tree.children(u = t)\n",
    "  if children != ():\n",
    "    children_vectors = embeddings[nmp.array(children) - 1]\n",
    "    children_mean = nmp.mean(children_vectors, axis=0)\n",
    "    embeddings = embeddings.at[t - 1].set(children_mean)"
   ]
  },
  {
   "cell_type": "code",
   "execution_count": 209,
   "id": "1e7d261c",
   "metadata": {},
   "outputs": [],
   "source": [
    "# node_feats = jax.random.normal(key=key, shape = (28, 8))\n",
    "node_feats = embeddings"
   ]
  },
  {
   "cell_type": "code",
   "execution_count": 210,
   "id": "6b2ed508",
   "metadata": {},
   "outputs": [
    {
     "data": {
      "text/plain": [
       "Array([[ 1.269521  , -0.7666042 , -0.11165268, ...,  0.5428597 ,\n",
       "         0.3896222 , -1.8905423 ],\n",
       "       [ 1.269521  , -0.7666042 , -0.11165268, ...,  0.5428597 ,\n",
       "         0.3896222 , -1.8905423 ],\n",
       "       [ 1.269521  , -0.7666042 , -0.11165268, ...,  0.5428597 ,\n",
       "         0.3896222 , -1.8905423 ],\n",
       "       ...,\n",
       "       [ 0.        ,  0.        ,  0.        , ...,  0.        ,\n",
       "         0.        ,  0.        ],\n",
       "       [ 1.2298485 , -0.74264777, -0.10816354, ...,  0.5258953 ,\n",
       "         0.37744653, -1.8314629 ],\n",
       "       [ 0.        ,  0.        ,  0.        , ...,  0.        ,\n",
       "         0.        ,  0.        ]], dtype=float32)"
      ]
     },
     "execution_count": 210,
     "metadata": {},
     "output_type": "execute_result"
    }
   ],
   "source": [
    "node_feats"
   ]
  },
  {
   "cell_type": "code",
   "execution_count": 195,
   "id": "eea42590",
   "metadata": {},
   "outputs": [
    {
     "data": {
      "text/plain": [
       "Array([[15, 25],\n",
       "       [23, 25],\n",
       "       [ 1, 15],\n",
       "       [ 9, 15],\n",
       "       [ 3,  9],\n",
       "       [ 8,  9],\n",
       "       [ 2,  8],\n",
       "       [ 5,  8],\n",
       "       [10, 23],\n",
       "       [13, 23],\n",
       "       [ 4, 10],\n",
       "       [ 6, 10],\n",
       "       [ 0, 13],\n",
       "       [ 7, 13]], dtype=int32)"
      ]
     },
     "execution_count": 195,
     "metadata": {},
     "output_type": "execute_result"
    }
   ],
   "source": [
    "edges"
   ]
  },
  {
   "cell_type": "code",
   "execution_count": 204,
   "id": "69752c08",
   "metadata": {},
   "outputs": [],
   "source": [
    "class MLPMessageLayer(eqx.Module):\n",
    "  phi: eqx.nn.MLP\n",
    "  gamma: eqx.nn.MLP\n",
    "\n",
    "  def __init__(self, in_dim, hidden_dim = 64, *, key):\n",
    "    k1, k2 = jax.random.split(key)\n",
    "\n",
    "    self.phi = eqx.nn.MLP(\n",
    "      in_size=2 * in_dim, # (features of the node and its neighbor)\n",
    "      out_size= hidden_dim,\n",
    "      width_size= hidden_dim,\n",
    "      depth = 2,\n",
    "      activation=jax.nn.relu,\n",
    "      final_activation=jax.nn.relu,\n",
    "      key = k1\n",
    "    )\n",
    "\n",
    "    self.gamma = eqx.nn.MLP(\n",
    "      in_size=in_dim + hidden_dim,\n",
    "      out_size=hidden_dim,\n",
    "      width_size=hidden_dim,\n",
    "      depth=2,\n",
    "      activation=jax.nn.relu,\n",
    "      final_activation=None,\n",
    "      key=k2\n",
    "    )\n",
    "\n",
    "  def __call__(self, X, senders, receivers):\n",
    "    \"\"\"\n",
    "    X: [N, D] node features\n",
    "    senders: [E] edge source indices\n",
    "    receivers: [E] edge target indices\n",
    "    \"\"\"\n",
    "    # gather features\n",
    "    X_j = X[senders]\n",
    "    X_i = X[receivers]\n",
    "\n",
    "    m_ji = self.phi(nmp.concatenate([X_i, X_j], axis=-1))\n",
    "\n",
    "    # aggregate by mean\n",
    "    N = X.shape[0]\n",
    "    m_sum = jax.ops.segment_sum(m_ji, receivers, N)\n",
    "    deg = jax.ops.segment_sum(nmp.ones_like(receivers), receivers, N)\n",
    "    deg = nmp.maximum(deg, 1)[:, None]\n",
    "    m_i = m_sum / deg\n",
    "\n",
    "    return self.gamma(nmp.concatenate([X, m_i], axis=-1))"
   ]
  },
  {
   "cell_type": "code",
   "execution_count": 205,
   "id": "9e27ae75",
   "metadata": {},
   "outputs": [],
   "source": [
    "class MPNNEncoder(eqx.Module):\n",
    "  layers: list\n",
    "\n",
    "  def __init__(self, in_dim, hidden_dim, num_layers, *, key):\n",
    "    keys = jax.random.split(key, num_layers)\n",
    "    self.layers = [MLPMessageLayer(in_dim, hidden_dim, key=keys[0])]\n",
    "    for k in keys[1:]:\n",
    "      self.layers.append(MLPMessageLayer(hidden_dim, hidden_dim, key = k))\n",
    "  \n",
    "  def __call__(self, X, senders, receivers):\n",
    "    for layer in self.layers:\n",
    "      X = layer(X, senders, receivers)\n",
    "    return X"
   ]
  },
  {
   "cell_type": "code",
   "execution_count": 206,
   "id": "b968e7ac",
   "metadata": {},
   "outputs": [],
   "source": [
    "class SPRGPredictor(eqx.Module):\n",
    "  encoder: MPNNEncoder\n",
    "  head: eqx.nn.MLP\n",
    "\n",
    "  def __init__(self, in_dim, hidden_dim, num_layers, *, key):\n",
    "    k_enc, k_head = jax.random.split(key)\n",
    "    self.encoder = MPNNEncoder(in_dim, hidden_dim, num_layers, key = k_enc)\n",
    "    self.head = eqx.nn.MLP(\n",
    "      in_size = 2*hidden_dim,\n",
    "      out_size= 1, # this will be whole edge prediction, where it starts, where it ends. Right now, we are doing logit prediction for all possib  le edge starts, so the cardinality of this set will be E.\n",
    "      width_size=hidden_dim,\n",
    "      depth=2,\n",
    "      activation=jax.nn.relu,\n",
    "      final_activation=None,\n",
    "      key = k_head\n",
    "    )\n",
    "  \n",
    "  def __call__(self, X, senders, receivers):\n",
    "    H = self.encoder(X, senders, receivers)\n",
    "    h_i, h_j = H[receivers], H[senders]\n",
    "    logits = self.head(nmp.concatenate([h_i, h_j], axis=-1)).squeeze(-1)\n",
    "    return logits"
   ]
  },
  {
   "cell_type": "code",
   "execution_count": 207,
   "id": "1e47b034",
   "metadata": {},
   "outputs": [],
   "source": [
    "key = jax.random.PRNGKey(0)"
   ]
  },
  {
   "cell_type": "code",
   "execution_count": 211,
   "id": "ec1c7c4a",
   "metadata": {},
   "outputs": [
    {
     "ename": "TypeError",
     "evalue": "dot_general requires contracting dimensions to have the same shape, got (28,) and (14,).",
     "output_type": "error",
     "traceback": [
      "\u001b[31m---------------------------------------------------------------------------\u001b[39m",
      "\u001b[31mTypeError\u001b[39m                                 Traceback (most recent call last)",
      "\u001b[36mCell\u001b[39m\u001b[36m \u001b[39m\u001b[32mIn[211]\u001b[39m\u001b[32m, line 2\u001b[39m\n\u001b[32m      1\u001b[39m model = SPRGPredictor(in_dim=\u001b[32m14\u001b[39m, hidden_dim=\u001b[32m64\u001b[39m, num_layers=\u001b[32m8\u001b[39m, key=key)\n\u001b[32m----> \u001b[39m\u001b[32m2\u001b[39m model(X=node_feats, senders=senders, receivers=receivers)\n",
      "\u001b[36mCell\u001b[39m\u001b[36m \u001b[39m\u001b[32mIn[206]\u001b[39m\u001b[32m, line 19\u001b[39m, in \u001b[36mSPRGPredictor.__call__\u001b[39m\u001b[34m(self, X, senders, receivers)\u001b[39m\n\u001b[32m     18\u001b[39m \u001b[38;5;28;01mdef\u001b[39;00m\u001b[38;5;250m \u001b[39m\u001b[34m__call__\u001b[39m(\u001b[38;5;28mself\u001b[39m, X, senders, receivers):\n\u001b[32m---> \u001b[39m\u001b[32m19\u001b[39m   H = \u001b[38;5;28mself\u001b[39m.encoder(X, senders, receivers)\n\u001b[32m     20\u001b[39m   h_i, h_j = H[receivers], H[senders]\n\u001b[32m     21\u001b[39m   logits = \u001b[38;5;28mself\u001b[39m.head(nmp.concatenate([h_i, h_j], axis=-\u001b[32m1\u001b[39m)).squeeze(-\u001b[32m1\u001b[39m)\n",
      "\u001b[36mCell\u001b[39m\u001b[36m \u001b[39m\u001b[32mIn[205]\u001b[39m\u001b[32m, line 12\u001b[39m, in \u001b[36mMPNNEncoder.__call__\u001b[39m\u001b[34m(self, X, senders, receivers)\u001b[39m\n\u001b[32m     10\u001b[39m \u001b[38;5;28;01mdef\u001b[39;00m\u001b[38;5;250m \u001b[39m\u001b[34m__call__\u001b[39m(\u001b[38;5;28mself\u001b[39m, X, senders, receivers):\n\u001b[32m     11\u001b[39m   \u001b[38;5;28;01mfor\u001b[39;00m layer \u001b[38;5;129;01min\u001b[39;00m \u001b[38;5;28mself\u001b[39m.layers:\n\u001b[32m---> \u001b[39m\u001b[32m12\u001b[39m     X = layer(X, senders, receivers)\n\u001b[32m     13\u001b[39m   \u001b[38;5;28;01mreturn\u001b[39;00m X\n",
      "\u001b[36mCell\u001b[39m\u001b[36m \u001b[39m\u001b[32mIn[204]\u001b[39m\u001b[32m, line 38\u001b[39m, in \u001b[36mMLPMessageLayer.__call__\u001b[39m\u001b[34m(self, X, senders, receivers)\u001b[39m\n\u001b[32m     35\u001b[39m X_j = X[senders]\n\u001b[32m     36\u001b[39m X_i = X[receivers]\n\u001b[32m---> \u001b[39m\u001b[32m38\u001b[39m m_ji = \u001b[38;5;28mself\u001b[39m.phi(nmp.concatenate([X_i, X_j], axis=-\u001b[32m1\u001b[39m))\n\u001b[32m     40\u001b[39m \u001b[38;5;66;03m# aggregate by mean\u001b[39;00m\n\u001b[32m     41\u001b[39m N = X.shape[\u001b[32m0\u001b[39m]\n",
      "\u001b[36mFile \u001b[39m\u001b[32m~/anaconda3/envs/arg-gnn/lib/python3.11/contextlib.py:81\u001b[39m, in \u001b[36mContextDecorator.__call__.<locals>.inner\u001b[39m\u001b[34m(*args, **kwds)\u001b[39m\n\u001b[32m     78\u001b[39m \u001b[38;5;129m@wraps\u001b[39m(func)\n\u001b[32m     79\u001b[39m \u001b[38;5;28;01mdef\u001b[39;00m\u001b[38;5;250m \u001b[39m\u001b[34minner\u001b[39m(*args, **kwds):\n\u001b[32m     80\u001b[39m     \u001b[38;5;28;01mwith\u001b[39;00m \u001b[38;5;28mself\u001b[39m._recreate_cm():\n\u001b[32m---> \u001b[39m\u001b[32m81\u001b[39m         \u001b[38;5;28;01mreturn\u001b[39;00m func(*args, **kwds)\n",
      "\u001b[36mFile \u001b[39m\u001b[32m~/anaconda3/envs/arg-gnn/lib/python3.11/site-packages/equinox/nn/_mlp.py:140\u001b[39m, in \u001b[36mMLP.__call__\u001b[39m\u001b[34m(self, x, key)\u001b[39m\n\u001b[32m    128\u001b[39m \u001b[38;5;250m\u001b[39m\u001b[33;03m\"\"\"**Arguments:**\u001b[39;00m\n\u001b[32m    129\u001b[39m \n\u001b[32m    130\u001b[39m \u001b[33;03m- `x`: A JAX array with shape `(in_size,)`. (Or shape `()` if\u001b[39;00m\n\u001b[32m   (...)\u001b[39m\u001b[32m    137\u001b[39m \u001b[33;03mA JAX array with shape `(out_size,)`. (Or shape `()` if `out_size=\"scalar\"`.)\u001b[39;00m\n\u001b[32m    138\u001b[39m \u001b[33;03m\"\"\"\u001b[39;00m\n\u001b[32m    139\u001b[39m \u001b[38;5;28;01mfor\u001b[39;00m i, layer \u001b[38;5;129;01min\u001b[39;00m \u001b[38;5;28menumerate\u001b[39m(\u001b[38;5;28mself\u001b[39m.layers[:-\u001b[32m1\u001b[39m]):\n\u001b[32m--> \u001b[39m\u001b[32m140\u001b[39m     x = layer(x)\n\u001b[32m    141\u001b[39m     layer_activation = jtu.tree_map(\n\u001b[32m    142\u001b[39m         \u001b[38;5;28;01mlambda\u001b[39;00m x: x[i] \u001b[38;5;28;01mif\u001b[39;00m is_array(x) \u001b[38;5;28;01melse\u001b[39;00m x, \u001b[38;5;28mself\u001b[39m.activation\n\u001b[32m    143\u001b[39m     )\n\u001b[32m    144\u001b[39m     x = filter_vmap(\u001b[38;5;28;01mlambda\u001b[39;00m a, b: a(b))(layer_activation, x)\n",
      "\u001b[36mFile \u001b[39m\u001b[32m~/anaconda3/envs/arg-gnn/lib/python3.11/contextlib.py:81\u001b[39m, in \u001b[36mContextDecorator.__call__.<locals>.inner\u001b[39m\u001b[34m(*args, **kwds)\u001b[39m\n\u001b[32m     78\u001b[39m \u001b[38;5;129m@wraps\u001b[39m(func)\n\u001b[32m     79\u001b[39m \u001b[38;5;28;01mdef\u001b[39;00m\u001b[38;5;250m \u001b[39m\u001b[34minner\u001b[39m(*args, **kwds):\n\u001b[32m     80\u001b[39m     \u001b[38;5;28;01mwith\u001b[39;00m \u001b[38;5;28mself\u001b[39m._recreate_cm():\n\u001b[32m---> \u001b[39m\u001b[32m81\u001b[39m         \u001b[38;5;28;01mreturn\u001b[39;00m func(*args, **kwds)\n",
      "\u001b[36mFile \u001b[39m\u001b[32m~/anaconda3/envs/arg-gnn/lib/python3.11/site-packages/equinox/nn/_linear.py:97\u001b[39m, in \u001b[36mLinear.__call__\u001b[39m\u001b[34m(self, x, key)\u001b[39m\n\u001b[32m     95\u001b[39m         \u001b[38;5;28;01mraise\u001b[39;00m \u001b[38;5;167;01mValueError\u001b[39;00m(\u001b[33m\"\u001b[39m\u001b[33mx must have scalar shape\u001b[39m\u001b[33m\"\u001b[39m)\n\u001b[32m     96\u001b[39m     x = jnp.broadcast_to(x, (\u001b[32m1\u001b[39m,))\n\u001b[32m---> \u001b[39m\u001b[32m97\u001b[39m x = \u001b[38;5;28mself\u001b[39m.weight @ x\n\u001b[32m     98\u001b[39m \u001b[38;5;28;01mif\u001b[39;00m \u001b[38;5;28mself\u001b[39m.bias \u001b[38;5;129;01mis\u001b[39;00m \u001b[38;5;129;01mnot\u001b[39;00m \u001b[38;5;28;01mNone\u001b[39;00m:\n\u001b[32m     99\u001b[39m     x = x + \u001b[38;5;28mself\u001b[39m.bias\n",
      "\u001b[36mFile \u001b[39m\u001b[32m~/anaconda3/envs/arg-gnn/lib/python3.11/site-packages/jax/_src/numpy/array_methods.py:586\u001b[39m, in \u001b[36m_defer_to_unrecognized_arg.<locals>.deferring_binary_op\u001b[39m\u001b[34m(self, other)\u001b[39m\n\u001b[32m    584\u001b[39m args = (other, \u001b[38;5;28mself\u001b[39m) \u001b[38;5;28;01mif\u001b[39;00m swap \u001b[38;5;28;01melse\u001b[39;00m (\u001b[38;5;28mself\u001b[39m, other)\n\u001b[32m    585\u001b[39m \u001b[38;5;28;01mif\u001b[39;00m \u001b[38;5;28misinstance\u001b[39m(other, _accepted_binop_types):\n\u001b[32m--> \u001b[39m\u001b[32m586\u001b[39m   \u001b[38;5;28;01mreturn\u001b[39;00m binary_op(*args)\n\u001b[32m    587\u001b[39m \u001b[38;5;66;03m# Note: don't use isinstance here, because we don't want to raise for\u001b[39;00m\n\u001b[32m    588\u001b[39m \u001b[38;5;66;03m# subclasses, e.g. NamedTuple objects that may override operators.\u001b[39;00m\n\u001b[32m    589\u001b[39m \u001b[38;5;28;01mif\u001b[39;00m \u001b[38;5;28mtype\u001b[39m(other) \u001b[38;5;129;01min\u001b[39;00m _rejected_binop_types:\n",
      "    \u001b[31m[... skipping hidden 14 frame]\u001b[39m\n",
      "\u001b[36mFile \u001b[39m\u001b[32m~/anaconda3/envs/arg-gnn/lib/python3.11/site-packages/jax/_src/numpy/tensor_contractions.py:251\u001b[39m, in \u001b[36mmatmul\u001b[39m\u001b[34m(a, b, precision, preferred_element_type, out_sharding)\u001b[39m\n\u001b[32m    249\u001b[39m a = lax.squeeze(a, \u001b[38;5;28mtuple\u001b[39m(a_squeeze))\n\u001b[32m    250\u001b[39m b = lax.squeeze(b, \u001b[38;5;28mtuple\u001b[39m(b_squeeze))\n\u001b[32m--> \u001b[39m\u001b[32m251\u001b[39m out = lax.dot_general(\n\u001b[32m    252\u001b[39m   a, b, (((np.ndim(a) - \u001b[32m1\u001b[39m,), (np.ndim(b) - \u001b[32m1\u001b[39m - b_is_mat,)), (a_batch, b_batch)),\n\u001b[32m    253\u001b[39m   precision=precision, preferred_element_type=preferred_element_type,\n\u001b[32m    254\u001b[39m   out_sharding=out_sharding)\n\u001b[32m    255\u001b[39m result = lax.transpose(out, perm)\n\u001b[32m    256\u001b[39m \u001b[38;5;28;01mreturn\u001b[39;00m lax._convert_element_type(result, preferred_element_type, output_weak_type)\n",
      "    \u001b[31m[... skipping hidden 12 frame]\u001b[39m\n",
      "\u001b[36mFile \u001b[39m\u001b[32m~/anaconda3/envs/arg-gnn/lib/python3.11/site-packages/jax/_src/lax/lax.py:5206\u001b[39m, in \u001b[36m_dot_general_shape_rule\u001b[39m\u001b[34m(lhs, rhs, dimension_numbers, precision, preferred_element_type, out_sharding)\u001b[39m\n\u001b[32m   5203\u001b[39m \u001b[38;5;28;01mif\u001b[39;00m \u001b[38;5;129;01mnot\u001b[39;00m core.definitely_equal_shape(lhs_contracting_shape, rhs_contracting_shape):\n\u001b[32m   5204\u001b[39m   msg = (\u001b[33m\"\u001b[39m\u001b[33mdot_general requires contracting dimensions to have the same \u001b[39m\u001b[33m\"\u001b[39m\n\u001b[32m   5205\u001b[39m          \u001b[33m\"\u001b[39m\u001b[33mshape, got \u001b[39m\u001b[38;5;132;01m{}\u001b[39;00m\u001b[33m and \u001b[39m\u001b[38;5;132;01m{}\u001b[39;00m\u001b[33m.\u001b[39m\u001b[33m\"\u001b[39m)\n\u001b[32m-> \u001b[39m\u001b[32m5206\u001b[39m   \u001b[38;5;28;01mraise\u001b[39;00m \u001b[38;5;167;01mTypeError\u001b[39;00m(msg.format(lhs_contracting_shape, rhs_contracting_shape))\n\u001b[32m   5208\u001b[39m \u001b[38;5;28;01mreturn\u001b[39;00m _dot_general_shape_computation(lhs.shape, rhs.shape, dimension_numbers)\n",
      "\u001b[31mTypeError\u001b[39m: dot_general requires contracting dimensions to have the same shape, got (28,) and (14,)."
     ]
    }
   ],
   "source": [
    "model = SPRGPredictor(in_dim=14, hidden_dim=64, num_layers=8, key=key)\n",
    "model(X=node_feats, senders=senders, receivers=receivers)"
   ]
  },
  {
   "cell_type": "markdown",
   "id": "44b6a92a",
   "metadata": {},
   "source": [
    "## Message passing ARG main code (OLD BELOW THIS LINE)"
   ]
  },
  {
   "cell_type": "markdown",
   "id": "e1bb82c6",
   "metadata": {},
   "source": [
    "Define a single layer for a GCN."
   ]
  },
  {
   "cell_type": "code",
   "execution_count": 200,
   "id": "ece6ce4d",
   "metadata": {},
   "outputs": [],
   "source": [
    "class GCNLayer(eqx.Module):\n",
    "    w: nmp.ndarray\n",
    "    b: nmp.ndarray\n",
    "\n",
    "    def __init__(self, in_dim, out_dim, key):\n",
    "        wkey, bkey = jax.random.split(key)\n",
    "        self.w = jax.random.normal(wkey, (in_dim, out_dim))   \n",
    "        self.b = jax.random.normal(bkey, (out_dim,))\n",
    "\n",
    "    def __call__(self, X, A, eps=1e-8):\n",
    "       assert A.shape == (N, N), f\"A must be ({N},{N}), got {A.shape}\"\n",
    "\n",
    "       A_tilde = A + nmp.eye(N)\n",
    "\n",
    "       deg = A_tilde.sum(axis = 1)\n",
    "       deg_mat = nmp.diag(deg)\n",
    "       deg_mat_sqrt_inv = nmp.sqrt(nmp.linalg.inv(deg_mat))\n",
    "       total = deg_mat_sqrt_inv @ A_tilde @ deg_mat_sqrt_inv\n",
    "       H = total @ (X @ self.w + self.b)\n",
    "       return jax.nn.relu(H)"
   ]
  },
  {
   "cell_type": "markdown",
   "id": "ba9f1ed4",
   "metadata": {},
   "source": [
    "MLP testing (now deprecated to other files.)"
   ]
  },
  {
   "cell_type": "code",
   "execution_count": 201,
   "id": "6906d87c",
   "metadata": {},
   "outputs": [],
   "source": [
    "class GCNLayer(eqx.Module):\n",
    "    mlp: eqx.nn.MLP\n",
    "\n",
    "    def __init__(self, in_dim, out_dim, key):\n",
    "        self.mlp = eqx.nn.MLP(in_size=in_dim, out_size=out_dim, width_size=16, depth=1, key=key)\n",
    "\n",
    "    def __call__(self, X, A, eps=1e-8):\n",
    "       assert A.shape == (N, N), f\"A must be ({N},{N}), got {A.shape}\"\n",
    "\n",
    "       A_tilde = A + nmp.eye(N)\n",
    "\n",
    "       deg = A_tilde.sum(axis = 1)\n",
    "       deg_mat = nmp.diag(deg)\n",
    "       deg_mat_sqrt_inv = nmp.sqrt(nmp.linalg.inv(deg_mat))\n",
    "       total = deg_mat_sqrt_inv @ A_tilde @ deg_mat_sqrt_inv\n",
    "       H = total @ (X @ self.w + self.b)\n",
    "       return jax.nn.relu(H)"
   ]
  },
  {
   "cell_type": "markdown",
   "id": "3bd27a8a",
   "metadata": {},
   "source": [
    "Describe all the layers from the single layer"
   ]
  },
  {
   "cell_type": "code",
   "execution_count": 157,
   "id": "0e6437ca",
   "metadata": {},
   "outputs": [],
   "source": [
    "class GCNEncoder(eqx.Module):\n",
    "  layers: list\n",
    "\n",
    "  def __init__(self, in_dim, hidden_dim, num_layers, key):\n",
    "    keys = jax.random.split(key, num_layers)\n",
    "    self.layers = [GCNLayer(in_dim, hidden_dim, keys[0])]\n",
    "    for k in keys[1:]:\n",
    "      self.layers.append(GCNLayer(hidden_dim, hidden_dim, k))\n",
    "  \n",
    "  def __call__(self, X, A):\n",
    "    for layer in self.layers:\n",
    "      X = layer(X = X, A = A)\n",
    "    \n",
    "    return X"
   ]
  },
  {
   "cell_type": "code",
   "execution_count": 166,
   "id": "d24afe7e",
   "metadata": {},
   "outputs": [],
   "source": [
    "def main(X, A, edges, true_idx, hidden_dim = 8, num_layers = 2, key = key, learning_rate=3e-3, steps = 200):\n",
    "\n",
    "  model = GCNEncoder(in_dim=X.shape[1], hidden_dim=hidden_dim, num_layers=num_layers, key=key)\n",
    "\n",
    "  @eqx.filter_value_and_grad\n",
    "  def compute_loss(model, X, A, edges, true_idx):\n",
    "    embeddings = model(X = X, A = A)\n",
    "\n",
    "    u = embeddings[edges[:, 0]]\n",
    "    v = embeddings[edges[:, 1]]\n",
    "\n",
    "    logits = nmp.sum(u * v, axis=1)\n",
    "    jax.debug.print(\"logits = {}\", logits)\n",
    "\n",
    "    norm_u = nmp.linalg.norm(u, axis=1)\n",
    "    norm_v = nmp.linalg.norm(v, axis = 1)\n",
    "\n",
    "    sims = logits / (norm_u * norm_v)\n",
    "    # jax.debug.print(\"sims= {}\", sims)\n",
    "\n",
    "    log_probs = log_softmax(sims)\n",
    "\n",
    "    loss = -log_probs[true_idx]\n",
    "\n",
    "    return loss\n",
    "  \n",
    "  @eqx.filter_jit\n",
    "  def make_step(model, X, A, edges, true_idx, opt_state):\n",
    "    loss, grads = compute_loss(model, X = X, A = A, edges = edges, true_idx = true_idx)\n",
    "    updates, opt_state = optim.update(grads, opt_state)\n",
    "    model = eqx.apply_updates(model, updates)\n",
    "    return loss, model, opt_state\n",
    "  \n",
    "  optim = optax.adam(learning_rate=learning_rate)\n",
    "  opt_state = optim.init(model)\n",
    "\n",
    "  for step in range(steps):\n",
    "    loss, model, opt_state = make_step(model=model, X=X, A = A, opt_state = opt_state, true_idx=true_idx, edges=edges)\n",
    "\n",
    "    loss = loss.item()\n",
    "    print(f\"step={step}, loss={loss}\")\n",
    "\n"
   ]
  },
  {
   "cell_type": "code",
   "execution_count": 167,
   "id": "c1ff6dc1",
   "metadata": {},
   "outputs": [
    {
     "ename": "TypeError",
     "evalue": "zeros_like requires ndarray or scalar arguments, got <class 'jax._src.custom_derivatives.custom_jvp'> at position 0.",
     "output_type": "error",
     "traceback": [
      "\u001b[31m---------------------------------------------------------------------------\u001b[39m",
      "\u001b[31mTypeError\u001b[39m                                 Traceback (most recent call last)",
      "\u001b[36mCell\u001b[39m\u001b[36m \u001b[39m\u001b[32mIn[167]\u001b[39m\u001b[32m, line 1\u001b[39m\n\u001b[32m----> \u001b[39m\u001b[32m1\u001b[39m main(X = node_feats, A = A, hidden_dim=\u001b[32m8\u001b[39m, edges = edges, num_layers=\u001b[32m3\u001b[39m, key = key, true_idx=\u001b[32m0\u001b[39m, steps=\u001b[32m10000\u001b[39m)\n",
      "\u001b[36mCell\u001b[39m\u001b[36m \u001b[39m\u001b[32mIn[166]\u001b[39m\u001b[32m, line 35\u001b[39m, in \u001b[36mmain\u001b[39m\u001b[34m(X, A, edges, true_idx, hidden_dim, num_layers, key, learning_rate, steps)\u001b[39m\n\u001b[32m     32\u001b[39m   \u001b[38;5;28;01mreturn\u001b[39;00m loss, model, opt_state\n\u001b[32m     34\u001b[39m optim = optax.adam(learning_rate=learning_rate)\n\u001b[32m---> \u001b[39m\u001b[32m35\u001b[39m opt_state = optim.init(model)\n\u001b[32m     37\u001b[39m \u001b[38;5;28;01mfor\u001b[39;00m step \u001b[38;5;129;01min\u001b[39;00m \u001b[38;5;28mrange\u001b[39m(steps):\n\u001b[32m     38\u001b[39m   loss, model, opt_state = make_step(model=model, X=X, A = A, opt_state = opt_state, true_idx=true_idx, edges=edges)\n",
      "\u001b[36mFile \u001b[39m\u001b[32m~/anaconda3/envs/arg-gnn/lib/python3.11/site-packages/optax/transforms/_combining.py:78\u001b[39m, in \u001b[36mchain.<locals>.init_fn\u001b[39m\u001b[34m(params)\u001b[39m\n\u001b[32m     77\u001b[39m \u001b[38;5;28;01mdef\u001b[39;00m\u001b[38;5;250m \u001b[39m\u001b[34minit_fn\u001b[39m(params):\n\u001b[32m---> \u001b[39m\u001b[32m78\u001b[39m   \u001b[38;5;28;01mreturn\u001b[39;00m \u001b[38;5;28mtuple\u001b[39m(fn(params) \u001b[38;5;28;01mfor\u001b[39;00m fn \u001b[38;5;129;01min\u001b[39;00m init_fns)\n",
      "\u001b[36mFile \u001b[39m\u001b[32m~/anaconda3/envs/arg-gnn/lib/python3.11/site-packages/optax/transforms/_combining.py:78\u001b[39m, in \u001b[36m<genexpr>\u001b[39m\u001b[34m(.0)\u001b[39m\n\u001b[32m     77\u001b[39m \u001b[38;5;28;01mdef\u001b[39;00m\u001b[38;5;250m \u001b[39m\u001b[34minit_fn\u001b[39m(params):\n\u001b[32m---> \u001b[39m\u001b[32m78\u001b[39m   \u001b[38;5;28;01mreturn\u001b[39;00m \u001b[38;5;28mtuple\u001b[39m(fn(params) \u001b[38;5;28;01mfor\u001b[39;00m fn \u001b[38;5;129;01min\u001b[39;00m init_fns)\n",
      "\u001b[36mFile \u001b[39m\u001b[32m~/anaconda3/envs/arg-gnn/lib/python3.11/site-packages/optax/_src/transform.py:277\u001b[39m, in \u001b[36mscale_by_adam.<locals>.init_fn\u001b[39m\u001b[34m(params)\u001b[39m\n\u001b[32m    276\u001b[39m \u001b[38;5;28;01mdef\u001b[39;00m\u001b[38;5;250m \u001b[39m\u001b[34minit_fn\u001b[39m(params):\n\u001b[32m--> \u001b[39m\u001b[32m277\u001b[39m   mu = optax.tree.zeros_like(params, dtype=mu_dtype)  \u001b[38;5;66;03m# First moment\u001b[39;00m\n\u001b[32m    278\u001b[39m   nu = optax.tree.zeros_like(params)  \u001b[38;5;66;03m# Second moment\u001b[39;00m\n\u001b[32m    279\u001b[39m   \u001b[38;5;28;01mreturn\u001b[39;00m ScaleByAdamState(count=jnp.zeros([], jnp.int32), mu=mu, nu=nu)\n",
      "\u001b[36mFile \u001b[39m\u001b[32m~/anaconda3/envs/arg-gnn/lib/python3.11/site-packages/optax/tree_utils/_tree_math.py:271\u001b[39m, in \u001b[36mtree_zeros_like\u001b[39m\u001b[34m(tree, dtype)\u001b[39m\n\u001b[32m    258\u001b[39m \u001b[38;5;28;01mdef\u001b[39;00m\u001b[38;5;250m \u001b[39m\u001b[34mtree_zeros_like\u001b[39m(\n\u001b[32m    259\u001b[39m     tree: Any,\n\u001b[32m    260\u001b[39m     dtype: Optional[jax.typing.DTypeLike] = \u001b[38;5;28;01mNone\u001b[39;00m,\n\u001b[32m    261\u001b[39m ) -> Any:\n\u001b[32m    262\u001b[39m \u001b[38;5;250m  \u001b[39m\u001b[33;03m\"\"\"Creates an all-zeros tree with the same structure.\u001b[39;00m\n\u001b[32m    263\u001b[39m \n\u001b[32m    264\u001b[39m \u001b[33;03m  Args:\u001b[39;00m\n\u001b[32m   (...)\u001b[39m\u001b[32m    269\u001b[39m \u001b[33;03m    an all-zeros tree with the same structure as ``tree``.\u001b[39;00m\n\u001b[32m    270\u001b[39m \u001b[33;03m  \"\"\"\u001b[39;00m\n\u001b[32m--> \u001b[39m\u001b[32m271\u001b[39m   \u001b[38;5;28;01mreturn\u001b[39;00m jax.tree.map(\u001b[38;5;28;01mlambda\u001b[39;00m x: jnp.zeros_like(x, dtype=dtype), tree)\n",
      "\u001b[36mFile \u001b[39m\u001b[32m~/anaconda3/envs/arg-gnn/lib/python3.11/site-packages/jax/_src/tree.py:155\u001b[39m, in \u001b[36mmap\u001b[39m\u001b[34m(f, tree, is_leaf, *rest)\u001b[39m\n\u001b[32m    115\u001b[39m \u001b[38;5;28;01mdef\u001b[39;00m\u001b[38;5;250m \u001b[39m\u001b[34mmap\u001b[39m(f: Callable[..., Any],\n\u001b[32m    116\u001b[39m         tree: Any,\n\u001b[32m    117\u001b[39m         *rest: Any,\n\u001b[32m    118\u001b[39m         is_leaf: Callable[[Any], \u001b[38;5;28mbool\u001b[39m] | \u001b[38;5;28;01mNone\u001b[39;00m = \u001b[38;5;28;01mNone\u001b[39;00m) -> Any:\n\u001b[32m    119\u001b[39m \u001b[38;5;250m  \u001b[39m\u001b[33;03m\"\"\"Maps a multi-input function over pytree args to produce a new pytree.\u001b[39;00m\n\u001b[32m    120\u001b[39m \n\u001b[32m    121\u001b[39m \u001b[33;03m  Args:\u001b[39;00m\n\u001b[32m   (...)\u001b[39m\u001b[32m    153\u001b[39m \u001b[33;03m    - :func:`jax.tree.reduce`\u001b[39;00m\n\u001b[32m    154\u001b[39m \u001b[33;03m  \"\"\"\u001b[39;00m\n\u001b[32m--> \u001b[39m\u001b[32m155\u001b[39m   \u001b[38;5;28;01mreturn\u001b[39;00m tree_util.tree_map(f, tree, *rest, is_leaf=is_leaf)\n",
      "\u001b[36mFile \u001b[39m\u001b[32m~/anaconda3/envs/arg-gnn/lib/python3.11/site-packages/jax/_src/tree_util.py:361\u001b[39m, in \u001b[36mtree_map\u001b[39m\u001b[34m(f, tree, is_leaf, *rest)\u001b[39m\n\u001b[32m    359\u001b[39m leaves, treedef = tree_flatten(tree, is_leaf)\n\u001b[32m    360\u001b[39m all_leaves = [leaves] + [treedef.flatten_up_to(r) \u001b[38;5;28;01mfor\u001b[39;00m r \u001b[38;5;129;01min\u001b[39;00m rest]\n\u001b[32m--> \u001b[39m\u001b[32m361\u001b[39m \u001b[38;5;28;01mreturn\u001b[39;00m treedef.unflatten(f(*xs) \u001b[38;5;28;01mfor\u001b[39;00m xs \u001b[38;5;129;01min\u001b[39;00m \u001b[38;5;28mzip\u001b[39m(*all_leaves))\n",
      "\u001b[36mFile \u001b[39m\u001b[32m~/anaconda3/envs/arg-gnn/lib/python3.11/site-packages/jax/_src/tree_util.py:361\u001b[39m, in \u001b[36m<genexpr>\u001b[39m\u001b[34m(.0)\u001b[39m\n\u001b[32m    359\u001b[39m leaves, treedef = tree_flatten(tree, is_leaf)\n\u001b[32m    360\u001b[39m all_leaves = [leaves] + [treedef.flatten_up_to(r) \u001b[38;5;28;01mfor\u001b[39;00m r \u001b[38;5;129;01min\u001b[39;00m rest]\n\u001b[32m--> \u001b[39m\u001b[32m361\u001b[39m \u001b[38;5;28;01mreturn\u001b[39;00m treedef.unflatten(f(*xs) \u001b[38;5;28;01mfor\u001b[39;00m xs \u001b[38;5;129;01min\u001b[39;00m \u001b[38;5;28mzip\u001b[39m(*all_leaves))\n",
      "\u001b[36mFile \u001b[39m\u001b[32m~/anaconda3/envs/arg-gnn/lib/python3.11/site-packages/optax/tree_utils/_tree_math.py:271\u001b[39m, in \u001b[36mtree_zeros_like.<locals>.<lambda>\u001b[39m\u001b[34m(x)\u001b[39m\n\u001b[32m    258\u001b[39m \u001b[38;5;28;01mdef\u001b[39;00m\u001b[38;5;250m \u001b[39m\u001b[34mtree_zeros_like\u001b[39m(\n\u001b[32m    259\u001b[39m     tree: Any,\n\u001b[32m    260\u001b[39m     dtype: Optional[jax.typing.DTypeLike] = \u001b[38;5;28;01mNone\u001b[39;00m,\n\u001b[32m    261\u001b[39m ) -> Any:\n\u001b[32m    262\u001b[39m \u001b[38;5;250m  \u001b[39m\u001b[33;03m\"\"\"Creates an all-zeros tree with the same structure.\u001b[39;00m\n\u001b[32m    263\u001b[39m \n\u001b[32m    264\u001b[39m \u001b[33;03m  Args:\u001b[39;00m\n\u001b[32m   (...)\u001b[39m\u001b[32m    269\u001b[39m \u001b[33;03m    an all-zeros tree with the same structure as ``tree``.\u001b[39;00m\n\u001b[32m    270\u001b[39m \u001b[33;03m  \"\"\"\u001b[39;00m\n\u001b[32m--> \u001b[39m\u001b[32m271\u001b[39m   \u001b[38;5;28;01mreturn\u001b[39;00m jax.tree.map(\u001b[38;5;28;01mlambda\u001b[39;00m x: jnp.zeros_like(x, dtype=dtype), tree)\n",
      "\u001b[36mFile \u001b[39m\u001b[32m~/anaconda3/envs/arg-gnn/lib/python3.11/site-packages/jax/_src/numpy/array_creation.py:286\u001b[39m, in \u001b[36mzeros_like\u001b[39m\u001b[34m(a, dtype, shape, device)\u001b[39m\n\u001b[32m    284\u001b[39m   \u001b[38;5;28;01mif\u001b[39;00m \u001b[38;5;28mhasattr\u001b[39m(a, \u001b[33m'\u001b[39m\u001b[33m__jax_array__\u001b[39m\u001b[33m'\u001b[39m):\n\u001b[32m    285\u001b[39m     a = a.__jax_array__()\n\u001b[32m--> \u001b[39m\u001b[32m286\u001b[39m   util.check_arraylike(\u001b[33m\"\u001b[39m\u001b[33mzeros_like\u001b[39m\u001b[33m\"\u001b[39m, a)\n\u001b[32m    287\u001b[39m dtypes.check_user_dtype_supported(dtype, \u001b[33m\"\u001b[39m\u001b[33mzeros_like\u001b[39m\u001b[33m\"\u001b[39m)\n\u001b[32m    288\u001b[39m \u001b[38;5;28;01mif\u001b[39;00m shape \u001b[38;5;129;01mis\u001b[39;00m \u001b[38;5;129;01mnot\u001b[39;00m \u001b[38;5;28;01mNone\u001b[39;00m:\n",
      "\u001b[36mFile \u001b[39m\u001b[32m~/anaconda3/envs/arg-gnn/lib/python3.11/site-packages/jax/_src/numpy/util.py:182\u001b[39m, in \u001b[36mcheck_arraylike\u001b[39m\u001b[34m(fun_name, emit_warning, stacklevel, *args)\u001b[39m\n\u001b[32m    179\u001b[39m   warnings.warn(msg + \u001b[33m\"\u001b[39m\u001b[33m In a future JAX release this will be an error.\u001b[39m\u001b[33m\"\u001b[39m,\n\u001b[32m    180\u001b[39m                 category=\u001b[38;5;167;01mDeprecationWarning\u001b[39;00m, stacklevel=stacklevel)\n\u001b[32m    181\u001b[39m \u001b[38;5;28;01melse\u001b[39;00m:\n\u001b[32m--> \u001b[39m\u001b[32m182\u001b[39m   \u001b[38;5;28;01mraise\u001b[39;00m \u001b[38;5;167;01mTypeError\u001b[39;00m(msg.format(fun_name, \u001b[38;5;28mtype\u001b[39m(arg), pos))\n",
      "\u001b[31mTypeError\u001b[39m: zeros_like requires ndarray or scalar arguments, got <class 'jax._src.custom_derivatives.custom_jvp'> at position 0."
     ]
    }
   ],
   "source": [
    "main(X = node_feats, A = A, hidden_dim=8, edges = edges, num_layers=3, key = key, true_idx=0, steps=10000)"
   ]
  }
 ],
 "metadata": {
  "kernelspec": {
   "display_name": "arg-gnn",
   "language": "python",
   "name": "python3"
  },
  "language_info": {
   "codemirror_mode": {
    "name": "ipython",
    "version": 3
   },
   "file_extension": ".py",
   "mimetype": "text/x-python",
   "name": "python",
   "nbconvert_exporter": "python",
   "pygments_lexer": "ipython3",
   "version": "3.11.11"
  }
 },
 "nbformat": 4,
 "nbformat_minor": 5
}
